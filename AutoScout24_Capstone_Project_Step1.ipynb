{
 "cells": [
  {
   "cell_type": "markdown",
   "metadata": {
    "id": "Bv1I7_aas1L3"
   },
   "source": [
    "___\n",
    "\n",
    "<p style=\"text-align: center;\"><img src=\"https://docs.google.com/uc?id=1lY0Uj5R04yMY3-ZppPWxqCr5pvBLYPnV\" class=\"img-fluid\" \n",
    "alt=\"CLRSWY\"></p>\n",
    "\n",
    "## <p style=\"background-color:#FDFEFE; font-family:newtimeroman; color:#9d4f8c; font-size:100%; text-align:center; border-radius:10px 10px;\">WAY TO REINVENT YOURSELF</p>"
   ]
  },
  {
   "cell_type": "markdown",
   "metadata": {
    "id": "Bkw3_pB0s1L-"
   },
   "source": [
    "<img src=https://i.ibb.co/wJW61Y2/Used-cars.jpg width=\"700\" height=\"200\">\n",
    "\n",
    "## <p style=\"background-color:#FDFEFE; font-family:newtimeroman; color:#060108; font-size:200%; text-align:center; border-radius:10px 10px;\">The Capstone Project of Data Analytics Module</p>\n",
    "\n",
    "## <p style=\"background-color:#FDFEFE; font-family:newtimeroman; color:#060108; font-size:150%; text-align:center; border-radius:10px 10px;\">Car Price Prediction EDA</p>"
   ]
  },
  {
   "cell_type": "markdown",
   "metadata": {
    "id": "Z_oWczxZs1MA"
   },
   "source": [
    "## Introduction\n",
    "Welcome to \"***AutoScout Data Analysis Project***\". This is the capstone project of ***Data Analysis*** Module. **Auto Scout** data which using for this project, scraped from the on-line car trading company in 2019, contains many features of 9 different car models. In this project, you will have the opportunity to apply many commonly used algorithms for Data Cleaning and Exploratory Data Analysis by using many Python libraries such as Numpy, Pandas, Matplotlib, Seaborn, Scipy you will analyze clean dataset.\n",
    "\n",
    "### Some Reminders on Exploratory data analysis (EDA)\n",
    "\n",
    "Exploratory data analysis (EDA) is an especially important activity in the routine of a data analyst or scientist. It enables an in depth understanding of the dataset, define or discard hypotheses and create predictive models on a solid basis. It uses data manipulation techniques and several statistical tools to describe and understand the relationship between variables and how these can impact business. By means of EDA, we can obtain meaningful insights that can impact analysis under the following questions (If a checklist is good enough for pilots to use every flight, it’s good enough for data scientists to use with every dataset).\n",
    "1. What question are you trying to solve (or prove wrong)?\n",
    "2. What kind of data do you have?\n",
    "3. What’s missing from the data?\n",
    "4. Where are the outliers?\n",
    "5. How can you add, change or remove features to get more out of your data?\n",
    "\n",
    "**``Exploratory data analysis (EDA)``** is often an **iterative brainstorming process** where you pose a question, review the data, and develop further questions to investigate before beginning model development work. The image below shows how the brainstorming phase is connected with that of understanding the variables and how this in turn is connected again with the brainstorming phase.<br>\n",
    "\n",
    "<img src=https://i.ibb.co/k0MC950/EDA-Process.png width=\"300\" height=\"100\">\n",
    "\n",
    "[Image Credit: Andrew D.](https://towardsdatascience.com/exploratory-data-analysis-in-python-a-step-by-step-process-d0dfa6bf94ee)\n",
    "\n",
    "**``In this context, the project consists of 3 parts in general:``**\n",
    "* **The first part** is related to 'Data Cleaning'. It deals with Incorrect Headers, Incorrect Format, Anomalies, and Dropping useless columns.\n",
    "* **The second part** is related to 'Filling Data', in other words 'Imputation'. It deals with Missing Values. Categorical to numeric transformation is done as well.\n",
    "* **The third part** is related to 'Handling Outliers of Data' via Visualization libraries. So, some insights will be extracted.\n",
    "\n",
    "**``NOTE:``**  However, you are free to create your own style. You do NOT have to stick to the steps above. We, the DA & DV instructors, recommend you study each part separately to create a source notebook for each part title for your further studies. "
   ]
  },
  {
   "cell_type": "markdown",
   "metadata": {
    "id": "vvgJ5KWTs1MB"
   },
   "source": [
    "# PART- 1 `( Data Cleaning )`"
   ]
  },
  {
   "cell_type": "code",
   "execution_count": 2,
   "metadata": {
    "ExecuteTime": {
     "end_time": "2022-08-02T18:55:32.779941Z",
     "start_time": "2022-08-02T18:55:23.579854Z"
    },
    "id": "Y13_gId7s1MC"
   },
   "outputs": [
    {
     "name": "stderr",
     "output_type": "stream",
     "text": [
      "C:\\Users\\hp\\anaconda3\\lib\\site-packages\\scipy\\__init__.py:146: UserWarning: A NumPy version >=1.16.5 and <1.23.0 is required for this version of SciPy (detected version 1.23.1\n",
      "  warnings.warn(f\"A NumPy version >={np_minversion} and <{np_maxversion}\"\n"
     ]
    }
   ],
   "source": [
    "import numpy as np\n",
    "import pandas as pd\n",
    "import seaborn as sns \n",
    "import matplotlib.pyplot as plt\n",
    "from skimpy import clean_columns\n",
    "\n",
    "import warnings\n",
    "warnings.filterwarnings(\"ignore\")\n",
    "warnings.warn(\"this will not show\")\n",
    "\n",
    "%matplotlib inline\n",
    "# %matplotlib notebook\n",
    "\n",
    "plt.rcParams[\"figure.figsize\"] = (10,6)\n",
    "# plt.rcParams['figure.dpi'] = 100\n",
    "\n",
    "sns.set_style(\"whitegrid\")\n",
    "pd.set_option('display.float_format', lambda x: '%.2f' % x)\n",
    "\n",
    "pd.options.display.max_rows = 100\n",
    "pd.options.display.max_columns = 100"
   ]
  },
  {
   "cell_type": "code",
   "execution_count": 3,
   "metadata": {
    "ExecuteTime": {
     "end_time": "2022-08-02T18:55:41.826240Z",
     "start_time": "2022-08-02T18:55:35.230250Z"
    }
   },
   "outputs": [],
   "source": [
    "df = pd.read_json(\"scout_car.json\", lines=True)"
   ]
  },
  {
   "cell_type": "code",
   "execution_count": 3,
   "metadata": {
    "ExecuteTime": {
     "end_time": "2022-08-02T06:21:11.966090Z",
     "start_time": "2022-08-02T06:21:11.688093Z"
    }
   },
   "outputs": [
    {
     "data": {
      "text/html": [
       "<div>\n",
       "<style scoped>\n",
       "    .dataframe tbody tr th:only-of-type {\n",
       "        vertical-align: middle;\n",
       "    }\n",
       "\n",
       "    .dataframe tbody tr th {\n",
       "        vertical-align: top;\n",
       "    }\n",
       "\n",
       "    .dataframe thead th {\n",
       "        text-align: right;\n",
       "    }\n",
       "</style>\n",
       "<table border=\"1\" class=\"dataframe\">\n",
       "  <thead>\n",
       "    <tr style=\"text-align: right;\">\n",
       "      <th></th>\n",
       "      <th>0</th>\n",
       "      <th>1</th>\n",
       "      <th>2</th>\n",
       "    </tr>\n",
       "  </thead>\n",
       "  <tbody>\n",
       "    <tr>\n",
       "      <th>url</th>\n",
       "      <td>https://www.autoscout24.com//offers/audi-a1-sp...</td>\n",
       "      <td>https://www.autoscout24.com//offers/audi-a1-1-...</td>\n",
       "      <td>https://www.autoscout24.com//offers/audi-a1-sp...</td>\n",
       "    </tr>\n",
       "    <tr>\n",
       "      <th>make_model</th>\n",
       "      <td>Audi A1</td>\n",
       "      <td>Audi A1</td>\n",
       "      <td>Audi A1</td>\n",
       "    </tr>\n",
       "    <tr>\n",
       "      <th>short_description</th>\n",
       "      <td>Sportback 1.4 TDI S-tronic Xenon Navi Klima</td>\n",
       "      <td>1.8 TFSI sport</td>\n",
       "      <td>Sportback 1.6 TDI S tronic Einparkhilfe plus+m...</td>\n",
       "    </tr>\n",
       "    <tr>\n",
       "      <th>body_type</th>\n",
       "      <td>Sedans</td>\n",
       "      <td>Sedans</td>\n",
       "      <td>Sedans</td>\n",
       "    </tr>\n",
       "    <tr>\n",
       "      <th>price</th>\n",
       "      <td>15770</td>\n",
       "      <td>14500</td>\n",
       "      <td>14640</td>\n",
       "    </tr>\n",
       "    <tr>\n",
       "      <th>vat</th>\n",
       "      <td>VAT deductible</td>\n",
       "      <td>Price negotiable</td>\n",
       "      <td>VAT deductible</td>\n",
       "    </tr>\n",
       "    <tr>\n",
       "      <th>km</th>\n",
       "      <td>56,013 km</td>\n",
       "      <td>80,000 km</td>\n",
       "      <td>83,450 km</td>\n",
       "    </tr>\n",
       "    <tr>\n",
       "      <th>registration</th>\n",
       "      <td>01/2016</td>\n",
       "      <td>03/2017</td>\n",
       "      <td>02/2016</td>\n",
       "    </tr>\n",
       "    <tr>\n",
       "      <th>prev_owner</th>\n",
       "      <td>2 previous owners</td>\n",
       "      <td>None</td>\n",
       "      <td>1 previous owner</td>\n",
       "    </tr>\n",
       "    <tr>\n",
       "      <th>kW</th>\n",
       "      <td>NaN</td>\n",
       "      <td>NaN</td>\n",
       "      <td>NaN</td>\n",
       "    </tr>\n",
       "    <tr>\n",
       "      <th>hp</th>\n",
       "      <td>66 kW</td>\n",
       "      <td>141 kW</td>\n",
       "      <td>85 kW</td>\n",
       "    </tr>\n",
       "    <tr>\n",
       "      <th>Type</th>\n",
       "      <td>[, Used, , Diesel (Particulate Filter)]</td>\n",
       "      <td>[, Used, , Gasoline]</td>\n",
       "      <td>[, Used, , Diesel (Particulate Filter)]</td>\n",
       "    </tr>\n",
       "    <tr>\n",
       "      <th>Previous Owners</th>\n",
       "      <td>\\n2\\n</td>\n",
       "      <td>NaN</td>\n",
       "      <td>\\n1\\n</td>\n",
       "    </tr>\n",
       "    <tr>\n",
       "      <th>Next Inspection</th>\n",
       "      <td>[\\n06/2021\\n, \\n99 g CO2/km (comb)\\n]</td>\n",
       "      <td>NaN</td>\n",
       "      <td>NaN</td>\n",
       "    </tr>\n",
       "    <tr>\n",
       "      <th>Inspection new</th>\n",
       "      <td>[\\nYes\\n, \\nEuro 6\\n]</td>\n",
       "      <td>NaN</td>\n",
       "      <td>NaN</td>\n",
       "    </tr>\n",
       "    <tr>\n",
       "      <th>Warranty</th>\n",
       "      <td>[\\n, \\n, \\n4 (Green)\\n]</td>\n",
       "      <td>NaN</td>\n",
       "      <td>[\\n, \\n, \\n99 g CO2/km (comb)\\n]</td>\n",
       "    </tr>\n",
       "    <tr>\n",
       "      <th>Full Service</th>\n",
       "      <td>[\\n, \\n]</td>\n",
       "      <td>NaN</td>\n",
       "      <td>NaN</td>\n",
       "    </tr>\n",
       "    <tr>\n",
       "      <th>Non-smoking Vehicle</th>\n",
       "      <td>[\\n, \\n]</td>\n",
       "      <td>NaN</td>\n",
       "      <td>NaN</td>\n",
       "    </tr>\n",
       "    <tr>\n",
       "      <th>null</th>\n",
       "      <td>[]</td>\n",
       "      <td>[]</td>\n",
       "      <td>[]</td>\n",
       "    </tr>\n",
       "    <tr>\n",
       "      <th>Make</th>\n",
       "      <td>\\nAudi\\n</td>\n",
       "      <td>\\nAudi\\n</td>\n",
       "      <td>\\nAudi\\n</td>\n",
       "    </tr>\n",
       "    <tr>\n",
       "      <th>Model</th>\n",
       "      <td>[\\n, A1, \\n]</td>\n",
       "      <td>[\\n, A1, \\n]</td>\n",
       "      <td>[\\n, A1, \\n]</td>\n",
       "    </tr>\n",
       "    <tr>\n",
       "      <th>Offer Number</th>\n",
       "      <td>[\\nLR-062483\\n]</td>\n",
       "      <td>NaN</td>\n",
       "      <td>[\\nAM-95365\\n]</td>\n",
       "    </tr>\n",
       "    <tr>\n",
       "      <th>First Registration</th>\n",
       "      <td>[\\n, 2016, \\n]</td>\n",
       "      <td>[\\n, 2017, \\n]</td>\n",
       "      <td>[\\n, 2016, \\n]</td>\n",
       "    </tr>\n",
       "    <tr>\n",
       "      <th>Body Color</th>\n",
       "      <td>[\\n, Black, \\n]</td>\n",
       "      <td>[\\n, Red, \\n]</td>\n",
       "      <td>[\\n, Black, \\n]</td>\n",
       "    </tr>\n",
       "    <tr>\n",
       "      <th>Paint Type</th>\n",
       "      <td>[\\nMetallic\\n]</td>\n",
       "      <td>NaN</td>\n",
       "      <td>[\\nMetallic\\n]</td>\n",
       "    </tr>\n",
       "    <tr>\n",
       "      <th>Body Color Original</th>\n",
       "      <td>[\\nMythosschwarz\\n]</td>\n",
       "      <td>NaN</td>\n",
       "      <td>[\\nmythosschwarz metallic\\n]</td>\n",
       "    </tr>\n",
       "    <tr>\n",
       "      <th>Upholstery</th>\n",
       "      <td>[\\nCloth, Black\\n]</td>\n",
       "      <td>[\\nCloth, Grey\\n]</td>\n",
       "      <td>[\\nCloth, Black\\n]</td>\n",
       "    </tr>\n",
       "    <tr>\n",
       "      <th>Body</th>\n",
       "      <td>[\\n, Sedans, \\n]</td>\n",
       "      <td>[\\n, Sedans, \\n]</td>\n",
       "      <td>[\\n, Sedans, \\n]</td>\n",
       "    </tr>\n",
       "    <tr>\n",
       "      <th>Nr. of Doors</th>\n",
       "      <td>[\\n5\\n]</td>\n",
       "      <td>[\\n3\\n]</td>\n",
       "      <td>[\\n4\\n]</td>\n",
       "    </tr>\n",
       "    <tr>\n",
       "      <th>Nr. of Seats</th>\n",
       "      <td>[\\n5\\n]</td>\n",
       "      <td>[\\n4\\n]</td>\n",
       "      <td>[\\n4\\n]</td>\n",
       "    </tr>\n",
       "    <tr>\n",
       "      <th>Model Code</th>\n",
       "      <td>[\\n0588/BDF\\n]</td>\n",
       "      <td>[\\n0588/BCY\\n]</td>\n",
       "      <td>NaN</td>\n",
       "    </tr>\n",
       "    <tr>\n",
       "      <th>Gearing Type</th>\n",
       "      <td>[\\n, Automatic, \\n]</td>\n",
       "      <td>[\\n, Automatic, \\n]</td>\n",
       "      <td>[\\n, Automatic, \\n]</td>\n",
       "    </tr>\n",
       "    <tr>\n",
       "      <th>Displacement</th>\n",
       "      <td>[\\n1,422 cc\\n]</td>\n",
       "      <td>[\\n1,798 cc\\n]</td>\n",
       "      <td>[\\n1,598 cc\\n]</td>\n",
       "    </tr>\n",
       "    <tr>\n",
       "      <th>Cylinders</th>\n",
       "      <td>[\\n3\\n]</td>\n",
       "      <td>[\\n4\\n]</td>\n",
       "      <td>NaN</td>\n",
       "    </tr>\n",
       "    <tr>\n",
       "      <th>Weight</th>\n",
       "      <td>[\\n1,220 kg\\n]</td>\n",
       "      <td>[\\n1,255 kg\\n]</td>\n",
       "      <td>NaN</td>\n",
       "    </tr>\n",
       "    <tr>\n",
       "      <th>Drive chain</th>\n",
       "      <td>[\\nfront\\n]</td>\n",
       "      <td>[\\nfront\\n]</td>\n",
       "      <td>[\\nfront\\n]</td>\n",
       "    </tr>\n",
       "    <tr>\n",
       "      <th>Fuel</th>\n",
       "      <td>[\\n, Diesel (Particulate Filter), \\n]</td>\n",
       "      <td>[\\n, Gasoline, \\n]</td>\n",
       "      <td>[\\n, Diesel (Particulate Filter), \\n]</td>\n",
       "    </tr>\n",
       "    <tr>\n",
       "      <th>Consumption</th>\n",
       "      <td>[[3.8 l/100 km (comb)], [4.3 l/100 km (city)],...</td>\n",
       "      <td>[[5.6 l/100 km (comb)], [7.1 l/100 km (city)],...</td>\n",
       "      <td>[[3.8 l/100 km (comb)], [4.4 l/100 km (city)],...</td>\n",
       "    </tr>\n",
       "    <tr>\n",
       "      <th>CO2 Emission</th>\n",
       "      <td>[\\n99 g CO2/km (comb)\\n]</td>\n",
       "      <td>[\\n129 g CO2/km (comb)\\n]</td>\n",
       "      <td>[\\n99 g CO2/km (comb)\\n]</td>\n",
       "    </tr>\n",
       "    <tr>\n",
       "      <th>Emission Class</th>\n",
       "      <td>[\\nEuro 6\\n]</td>\n",
       "      <td>[\\nEuro 6\\n]</td>\n",
       "      <td>[\\nEuro 6\\n]</td>\n",
       "    </tr>\n",
       "    <tr>\n",
       "      <th>\\nComfort &amp; Convenience\\n</th>\n",
       "      <td>[Air conditioning, Armrest, Automatic climate ...</td>\n",
       "      <td>[Air conditioning, Automatic climate control, ...</td>\n",
       "      <td>[Air conditioning, Cruise control, Electrical ...</td>\n",
       "    </tr>\n",
       "    <tr>\n",
       "      <th>\\nEntertainment &amp; Media\\n</th>\n",
       "      <td>[Bluetooth, Hands-free equipment, On-board com...</td>\n",
       "      <td>[Bluetooth, Hands-free equipment, On-board com...</td>\n",
       "      <td>[MP3, On-board computer]</td>\n",
       "    </tr>\n",
       "    <tr>\n",
       "      <th>\\nExtras\\n</th>\n",
       "      <td>[Alloy wheels, Catalytic Converter, Voice Cont...</td>\n",
       "      <td>[Alloy wheels, Sport seats, Sport suspension, ...</td>\n",
       "      <td>[Alloy wheels, Voice Control]</td>\n",
       "    </tr>\n",
       "    <tr>\n",
       "      <th>\\nSafety &amp; Security\\n</th>\n",
       "      <td>[ABS, Central door lock, Daytime running light...</td>\n",
       "      <td>[ABS, Central door lock, Central door lock wit...</td>\n",
       "      <td>[ABS, Central door lock, Daytime running light...</td>\n",
       "    </tr>\n",
       "    <tr>\n",
       "      <th>description</th>\n",
       "      <td>[\\n, Sicherheit:,  , Deaktivierung für Beifahr...</td>\n",
       "      <td>[\\nLangstreckenfahrzeug daher die hohe Kilomet...</td>\n",
       "      <td>[\\n, Fahrzeug-Nummer: AM-95365,  , Ehem. UPE 2...</td>\n",
       "    </tr>\n",
       "    <tr>\n",
       "      <th>Emission Label</th>\n",
       "      <td>NaN</td>\n",
       "      <td>[\\n4 (Green)\\n]</td>\n",
       "      <td>[\\n4 (Green)\\n]</td>\n",
       "    </tr>\n",
       "    <tr>\n",
       "      <th>Gears</th>\n",
       "      <td>NaN</td>\n",
       "      <td>[\\n7\\n]</td>\n",
       "      <td>NaN</td>\n",
       "    </tr>\n",
       "    <tr>\n",
       "      <th>Country version</th>\n",
       "      <td>NaN</td>\n",
       "      <td>NaN</td>\n",
       "      <td>NaN</td>\n",
       "    </tr>\n",
       "    <tr>\n",
       "      <th>Electricity consumption</th>\n",
       "      <td>NaN</td>\n",
       "      <td>NaN</td>\n",
       "      <td>NaN</td>\n",
       "    </tr>\n",
       "    <tr>\n",
       "      <th>Last Service Date</th>\n",
       "      <td>NaN</td>\n",
       "      <td>NaN</td>\n",
       "      <td>NaN</td>\n",
       "    </tr>\n",
       "    <tr>\n",
       "      <th>Other Fuel Types</th>\n",
       "      <td>NaN</td>\n",
       "      <td>NaN</td>\n",
       "      <td>NaN</td>\n",
       "    </tr>\n",
       "    <tr>\n",
       "      <th>Availability</th>\n",
       "      <td>NaN</td>\n",
       "      <td>NaN</td>\n",
       "      <td>NaN</td>\n",
       "    </tr>\n",
       "    <tr>\n",
       "      <th>Last Timing Belt Service Date</th>\n",
       "      <td>NaN</td>\n",
       "      <td>NaN</td>\n",
       "      <td>NaN</td>\n",
       "    </tr>\n",
       "    <tr>\n",
       "      <th>Available from</th>\n",
       "      <td>NaN</td>\n",
       "      <td>NaN</td>\n",
       "      <td>NaN</td>\n",
       "    </tr>\n",
       "  </tbody>\n",
       "</table>\n",
       "</div>"
      ],
      "text/plain": [
       "                                                                               0  \\\n",
       "url                            https://www.autoscout24.com//offers/audi-a1-sp...   \n",
       "make_model                                                               Audi A1   \n",
       "short_description                    Sportback 1.4 TDI S-tronic Xenon Navi Klima   \n",
       "body_type                                                                 Sedans   \n",
       "price                                                                      15770   \n",
       "vat                                                               VAT deductible   \n",
       "km                                                                     56,013 km   \n",
       "registration                                                             01/2016   \n",
       "prev_owner                                                     2 previous owners   \n",
       "kW                                                                           NaN   \n",
       "hp                                                                         66 kW   \n",
       "Type                                     [, Used, , Diesel (Particulate Filter)]   \n",
       "Previous Owners                                                            \\n2\\n   \n",
       "Next Inspection                            [\\n06/2021\\n, \\n99 g CO2/km (comb)\\n]   \n",
       "Inspection new                                             [\\nYes\\n, \\nEuro 6\\n]   \n",
       "Warranty                                                 [\\n, \\n, \\n4 (Green)\\n]   \n",
       "Full Service                                                            [\\n, \\n]   \n",
       "Non-smoking Vehicle                                                     [\\n, \\n]   \n",
       "null                                                                          []   \n",
       "Make                                                                    \\nAudi\\n   \n",
       "Model                                                               [\\n, A1, \\n]   \n",
       "Offer Number                                                     [\\nLR-062483\\n]   \n",
       "First Registration                                                [\\n, 2016, \\n]   \n",
       "Body Color                                                       [\\n, Black, \\n]   \n",
       "Paint Type                                                        [\\nMetallic\\n]   \n",
       "Body Color Original                                          [\\nMythosschwarz\\n]   \n",
       "Upholstery                                                    [\\nCloth, Black\\n]   \n",
       "Body                                                            [\\n, Sedans, \\n]   \n",
       "Nr. of Doors                                                             [\\n5\\n]   \n",
       "Nr. of Seats                                                             [\\n5\\n]   \n",
       "Model Code                                                        [\\n0588/BDF\\n]   \n",
       "Gearing Type                                                 [\\n, Automatic, \\n]   \n",
       "Displacement                                                      [\\n1,422 cc\\n]   \n",
       "Cylinders                                                                [\\n3\\n]   \n",
       "Weight                                                            [\\n1,220 kg\\n]   \n",
       "Drive chain                                                          [\\nfront\\n]   \n",
       "Fuel                                       [\\n, Diesel (Particulate Filter), \\n]   \n",
       "Consumption                    [[3.8 l/100 km (comb)], [4.3 l/100 km (city)],...   \n",
       "CO2 Emission                                            [\\n99 g CO2/km (comb)\\n]   \n",
       "Emission Class                                                      [\\nEuro 6\\n]   \n",
       "\\nComfort & Convenience\\n      [Air conditioning, Armrest, Automatic climate ...   \n",
       "\\nEntertainment & Media\\n      [Bluetooth, Hands-free equipment, On-board com...   \n",
       "\\nExtras\\n                     [Alloy wheels, Catalytic Converter, Voice Cont...   \n",
       "\\nSafety & Security\\n          [ABS, Central door lock, Daytime running light...   \n",
       "description                    [\\n, Sicherheit:,  , Deaktivierung für Beifahr...   \n",
       "Emission Label                                                               NaN   \n",
       "Gears                                                                        NaN   \n",
       "Country version                                                              NaN   \n",
       "Electricity consumption                                                      NaN   \n",
       "Last Service Date                                                            NaN   \n",
       "Other Fuel Types                                                             NaN   \n",
       "Availability                                                                 NaN   \n",
       "Last Timing Belt Service Date                                                NaN   \n",
       "Available from                                                               NaN   \n",
       "\n",
       "                                                                               1  \\\n",
       "url                            https://www.autoscout24.com//offers/audi-a1-1-...   \n",
       "make_model                                                               Audi A1   \n",
       "short_description                                                 1.8 TFSI sport   \n",
       "body_type                                                                 Sedans   \n",
       "price                                                                      14500   \n",
       "vat                                                             Price negotiable   \n",
       "km                                                                     80,000 km   \n",
       "registration                                                             03/2017   \n",
       "prev_owner                                                                  None   \n",
       "kW                                                                           NaN   \n",
       "hp                                                                        141 kW   \n",
       "Type                                                        [, Used, , Gasoline]   \n",
       "Previous Owners                                                              NaN   \n",
       "Next Inspection                                                              NaN   \n",
       "Inspection new                                                               NaN   \n",
       "Warranty                                                                     NaN   \n",
       "Full Service                                                                 NaN   \n",
       "Non-smoking Vehicle                                                          NaN   \n",
       "null                                                                          []   \n",
       "Make                                                                    \\nAudi\\n   \n",
       "Model                                                               [\\n, A1, \\n]   \n",
       "Offer Number                                                                 NaN   \n",
       "First Registration                                                [\\n, 2017, \\n]   \n",
       "Body Color                                                         [\\n, Red, \\n]   \n",
       "Paint Type                                                                   NaN   \n",
       "Body Color Original                                                          NaN   \n",
       "Upholstery                                                     [\\nCloth, Grey\\n]   \n",
       "Body                                                            [\\n, Sedans, \\n]   \n",
       "Nr. of Doors                                                             [\\n3\\n]   \n",
       "Nr. of Seats                                                             [\\n4\\n]   \n",
       "Model Code                                                        [\\n0588/BCY\\n]   \n",
       "Gearing Type                                                 [\\n, Automatic, \\n]   \n",
       "Displacement                                                      [\\n1,798 cc\\n]   \n",
       "Cylinders                                                                [\\n4\\n]   \n",
       "Weight                                                            [\\n1,255 kg\\n]   \n",
       "Drive chain                                                          [\\nfront\\n]   \n",
       "Fuel                                                          [\\n, Gasoline, \\n]   \n",
       "Consumption                    [[5.6 l/100 km (comb)], [7.1 l/100 km (city)],...   \n",
       "CO2 Emission                                           [\\n129 g CO2/km (comb)\\n]   \n",
       "Emission Class                                                      [\\nEuro 6\\n]   \n",
       "\\nComfort & Convenience\\n      [Air conditioning, Automatic climate control, ...   \n",
       "\\nEntertainment & Media\\n      [Bluetooth, Hands-free equipment, On-board com...   \n",
       "\\nExtras\\n                     [Alloy wheels, Sport seats, Sport suspension, ...   \n",
       "\\nSafety & Security\\n          [ABS, Central door lock, Central door lock wit...   \n",
       "description                    [\\nLangstreckenfahrzeug daher die hohe Kilomet...   \n",
       "Emission Label                                                   [\\n4 (Green)\\n]   \n",
       "Gears                                                                    [\\n7\\n]   \n",
       "Country version                                                              NaN   \n",
       "Electricity consumption                                                      NaN   \n",
       "Last Service Date                                                            NaN   \n",
       "Other Fuel Types                                                             NaN   \n",
       "Availability                                                                 NaN   \n",
       "Last Timing Belt Service Date                                                NaN   \n",
       "Available from                                                               NaN   \n",
       "\n",
       "                                                                               2  \n",
       "url                            https://www.autoscout24.com//offers/audi-a1-sp...  \n",
       "make_model                                                               Audi A1  \n",
       "short_description              Sportback 1.6 TDI S tronic Einparkhilfe plus+m...  \n",
       "body_type                                                                 Sedans  \n",
       "price                                                                      14640  \n",
       "vat                                                               VAT deductible  \n",
       "km                                                                     83,450 km  \n",
       "registration                                                             02/2016  \n",
       "prev_owner                                                      1 previous owner  \n",
       "kW                                                                           NaN  \n",
       "hp                                                                         85 kW  \n",
       "Type                                     [, Used, , Diesel (Particulate Filter)]  \n",
       "Previous Owners                                                            \\n1\\n  \n",
       "Next Inspection                                                              NaN  \n",
       "Inspection new                                                               NaN  \n",
       "Warranty                                        [\\n, \\n, \\n99 g CO2/km (comb)\\n]  \n",
       "Full Service                                                                 NaN  \n",
       "Non-smoking Vehicle                                                          NaN  \n",
       "null                                                                          []  \n",
       "Make                                                                    \\nAudi\\n  \n",
       "Model                                                               [\\n, A1, \\n]  \n",
       "Offer Number                                                      [\\nAM-95365\\n]  \n",
       "First Registration                                                [\\n, 2016, \\n]  \n",
       "Body Color                                                       [\\n, Black, \\n]  \n",
       "Paint Type                                                        [\\nMetallic\\n]  \n",
       "Body Color Original                                 [\\nmythosschwarz metallic\\n]  \n",
       "Upholstery                                                    [\\nCloth, Black\\n]  \n",
       "Body                                                            [\\n, Sedans, \\n]  \n",
       "Nr. of Doors                                                             [\\n4\\n]  \n",
       "Nr. of Seats                                                             [\\n4\\n]  \n",
       "Model Code                                                                   NaN  \n",
       "Gearing Type                                                 [\\n, Automatic, \\n]  \n",
       "Displacement                                                      [\\n1,598 cc\\n]  \n",
       "Cylinders                                                                    NaN  \n",
       "Weight                                                                       NaN  \n",
       "Drive chain                                                          [\\nfront\\n]  \n",
       "Fuel                                       [\\n, Diesel (Particulate Filter), \\n]  \n",
       "Consumption                    [[3.8 l/100 km (comb)], [4.4 l/100 km (city)],...  \n",
       "CO2 Emission                                            [\\n99 g CO2/km (comb)\\n]  \n",
       "Emission Class                                                      [\\nEuro 6\\n]  \n",
       "\\nComfort & Convenience\\n      [Air conditioning, Cruise control, Electrical ...  \n",
       "\\nEntertainment & Media\\n                               [MP3, On-board computer]  \n",
       "\\nExtras\\n                                         [Alloy wheels, Voice Control]  \n",
       "\\nSafety & Security\\n          [ABS, Central door lock, Daytime running light...  \n",
       "description                    [\\n, Fahrzeug-Nummer: AM-95365,  , Ehem. UPE 2...  \n",
       "Emission Label                                                   [\\n4 (Green)\\n]  \n",
       "Gears                                                                        NaN  \n",
       "Country version                                                              NaN  \n",
       "Electricity consumption                                                      NaN  \n",
       "Last Service Date                                                            NaN  \n",
       "Other Fuel Types                                                             NaN  \n",
       "Availability                                                                 NaN  \n",
       "Last Timing Belt Service Date                                                NaN  \n",
       "Available from                                                               NaN  "
      ]
     },
     "execution_count": 3,
     "metadata": {},
     "output_type": "execute_result"
    }
   ],
   "source": [
    "df.head(3).T"
   ]
  },
  {
   "cell_type": "code",
   "execution_count": 4,
   "metadata": {
    "ExecuteTime": {
     "end_time": "2022-08-02T06:21:37.766483Z",
     "start_time": "2022-08-02T06:21:37.356491Z"
    }
   },
   "outputs": [
    {
     "name": "stdout",
     "output_type": "stream",
     "text": [
      "<class 'pandas.core.frame.DataFrame'>\n",
      "RangeIndex: 15919 entries, 0 to 15918\n",
      "Data columns (total 54 columns):\n",
      " #   Column                         Non-Null Count  Dtype  \n",
      "---  ------                         --------------  -----  \n",
      " 0   url                            15919 non-null  object \n",
      " 1   make_model                     15919 non-null  object \n",
      " 2   short_description              15873 non-null  object \n",
      " 3   body_type                      15859 non-null  object \n",
      " 4   price                          15919 non-null  int64  \n",
      " 5   vat                            11406 non-null  object \n",
      " 6   km                             15919 non-null  object \n",
      " 7   registration                   15919 non-null  object \n",
      " 8   prev_owner                     9091 non-null   object \n",
      " 9   kW                             0 non-null      float64\n",
      " 10  hp                             15919 non-null  object \n",
      " 11  Type                           15917 non-null  object \n",
      " 12  Previous Owners                9279 non-null   object \n",
      " 13  Next Inspection                3535 non-null   object \n",
      " 14  Inspection new                 3932 non-null   object \n",
      " 15  Warranty                       10499 non-null  object \n",
      " 16  Full Service                   8215 non-null   object \n",
      " 17  Non-smoking Vehicle            7177 non-null   object \n",
      " 18  null                           15919 non-null  object \n",
      " 19  Make                           15919 non-null  object \n",
      " 20  Model                          15919 non-null  object \n",
      " 21  Offer Number                   12744 non-null  object \n",
      " 22  First Registration             14322 non-null  object \n",
      " 23  Body Color                     15322 non-null  object \n",
      " 24  Paint Type                     10147 non-null  object \n",
      " 25  Body Color Original            12160 non-null  object \n",
      " 26  Upholstery                     12199 non-null  object \n",
      " 27  Body                           15859 non-null  object \n",
      " 28  Nr. of Doors                   15707 non-null  object \n",
      " 29  Nr. of Seats                   14942 non-null  object \n",
      " 30  Model Code                     4978 non-null   object \n",
      " 31  Gearing Type                   15919 non-null  object \n",
      " 32  Displacement                   15423 non-null  object \n",
      " 33  Cylinders                      10239 non-null  object \n",
      " 34  Weight                         8945 non-null   object \n",
      " 35  Drive chain                    9061 non-null   object \n",
      " 36  Fuel                           15919 non-null  object \n",
      " 37  Consumption                    14013 non-null  object \n",
      " 38  CO2 Emission                   14111 non-null  object \n",
      " 39  Emission Class                 12898 non-null  object \n",
      " 40  \n",
      "Comfort & Convenience\n",
      "        14999 non-null  object \n",
      " 41  \n",
      "Entertainment & Media\n",
      "        14545 non-null  object \n",
      " 42  \n",
      "Extras\n",
      "                       12957 non-null  object \n",
      " 43  \n",
      "Safety & Security\n",
      "            14937 non-null  object \n",
      " 44  description                    15919 non-null  object \n",
      " 45  Emission Label                 3985 non-null   object \n",
      " 46  Gears                          11207 non-null  object \n",
      " 47  Country version                7586 non-null   object \n",
      " 48  Electricity consumption        137 non-null    object \n",
      " 49  Last Service Date              566 non-null    object \n",
      " 50  Other Fuel Types               880 non-null    object \n",
      " 51  Availability                   635 non-null    object \n",
      " 52  Last Timing Belt Service Date  16 non-null     object \n",
      " 53  Available from                 272 non-null    object \n",
      "dtypes: float64(1), int64(1), object(52)\n",
      "memory usage: 6.6+ MB\n"
     ]
    }
   ],
   "source": [
    "df.info()"
   ]
  },
  {
   "cell_type": "code",
   "execution_count": 5,
   "metadata": {
    "ExecuteTime": {
     "end_time": "2022-08-02T06:22:25.378491Z",
     "start_time": "2022-08-02T06:22:25.359489Z"
    }
   },
   "outputs": [
    {
     "data": {
      "text/plain": [
       "Index(['url', 'make_model', 'short_description', 'body_type', 'price', 'vat',\n",
       "       'km', 'registration', 'prev_owner', 'kW', 'hp', 'Type',\n",
       "       'Previous Owners', 'Next Inspection', 'Inspection new', 'Warranty',\n",
       "       'Full Service', 'Non-smoking Vehicle', 'null', 'Make', 'Model',\n",
       "       'Offer Number', 'First Registration', 'Body Color', 'Paint Type',\n",
       "       'Body Color Original', 'Upholstery', 'Body', 'Nr. of Doors',\n",
       "       'Nr. of Seats', 'Model Code', 'Gearing Type', 'Displacement',\n",
       "       'Cylinders', 'Weight', 'Drive chain', 'Fuel', 'Consumption',\n",
       "       'CO2 Emission', 'Emission Class', '\\nComfort & Convenience\\n',\n",
       "       '\\nEntertainment & Media\\n', '\\nExtras\\n', '\\nSafety & Security\\n',\n",
       "       'description', 'Emission Label', 'Gears', 'Country version',\n",
       "       'Electricity consumption', 'Last Service Date', 'Other Fuel Types',\n",
       "       'Availability', 'Last Timing Belt Service Date', 'Available from'],\n",
       "      dtype='object')"
      ]
     },
     "execution_count": 5,
     "metadata": {},
     "output_type": "execute_result"
    }
   ],
   "source": [
    "df.columns"
   ]
  },
  {
   "cell_type": "code",
   "execution_count": 6,
   "metadata": {
    "ExecuteTime": {
     "end_time": "2022-08-02T06:28:06.171393Z",
     "start_time": "2022-08-02T06:28:06.156393Z"
    }
   },
   "outputs": [],
   "source": [
    "from skimpy import clean_columns\n"
   ]
  },
  {
   "cell_type": "code",
   "execution_count": 7,
   "metadata": {
    "ExecuteTime": {
     "end_time": "2022-08-02T06:28:11.215402Z",
     "start_time": "2022-08-02T06:28:10.781391Z"
    }
   },
   "outputs": [
    {
     "data": {
      "text/html": [
       "<pre style=\"white-space:pre;overflow-x:auto;line-height:normal;font-family:Menlo,'DejaVu Sans Mono',consolas,'Courier New',monospace\"><span style=\"color: #008080; text-decoration-color: #008080; font-weight: bold\">42</span> column names have been cleaned\n",
       "</pre>\n"
      ],
      "text/plain": [
       "\u001b[1;36m42\u001b[0m column names have been cleaned\n"
      ]
     },
     "metadata": {},
     "output_type": "display_data"
    }
   ],
   "source": [
    "df = clean_columns(df)"
   ]
  },
  {
   "cell_type": "code",
   "execution_count": 9,
   "metadata": {
    "ExecuteTime": {
     "end_time": "2022-08-02T06:30:12.114506Z",
     "start_time": "2022-08-02T06:30:11.710506Z"
    }
   },
   "outputs": [
    {
     "name": "stdout",
     "output_type": "stream",
     "text": [
      "<class 'pandas.core.frame.DataFrame'>\n",
      "RangeIndex: 15919 entries, 0 to 15918\n",
      "Data columns (total 54 columns):\n",
      " #   Column                         Non-Null Count  Dtype  \n",
      "---  ------                         --------------  -----  \n",
      " 0   url                            15919 non-null  object \n",
      " 1   make_model                     15919 non-null  object \n",
      " 2   short_description              15873 non-null  object \n",
      " 3   body_type                      15859 non-null  object \n",
      " 4   price                          15919 non-null  int64  \n",
      " 5   vat                            11406 non-null  object \n",
      " 6   km                             15919 non-null  object \n",
      " 7   registration                   15919 non-null  object \n",
      " 8   prev_owner                     9091 non-null   object \n",
      " 9   k_w                            0 non-null      float64\n",
      " 10  hp                             15919 non-null  object \n",
      " 11  type                           15917 non-null  object \n",
      " 12  previous_owners                9279 non-null   object \n",
      " 13  next_inspection                3535 non-null   object \n",
      " 14  inspection_new                 3932 non-null   object \n",
      " 15  warranty                       10499 non-null  object \n",
      " 16  full_service                   8215 non-null   object \n",
      " 17  non_smoking_vehicle            7177 non-null   object \n",
      " 18  null                           15919 non-null  object \n",
      " 19  make                           15919 non-null  object \n",
      " 20  model                          15919 non-null  object \n",
      " 21  offer_number                   12744 non-null  object \n",
      " 22  first_registration             14322 non-null  object \n",
      " 23  body_color                     15322 non-null  object \n",
      " 24  paint_type                     10147 non-null  object \n",
      " 25  body_color_original            12160 non-null  object \n",
      " 26  upholstery                     12199 non-null  object \n",
      " 27  body                           15859 non-null  object \n",
      " 28  nr_of_doors                    15707 non-null  object \n",
      " 29  nr_of_seats                    14942 non-null  object \n",
      " 30  model_code                     4978 non-null   object \n",
      " 31  gearing_type                   15919 non-null  object \n",
      " 32  displacement                   15423 non-null  object \n",
      " 33  cylinders                      10239 non-null  object \n",
      " 34  weight                         8945 non-null   object \n",
      " 35  drive_chain                    9061 non-null   object \n",
      " 36  fuel                           15919 non-null  object \n",
      " 37  consumption                    14013 non-null  object \n",
      " 38  co_2_emission                  14111 non-null  object \n",
      " 39  emission_class                 12898 non-null  object \n",
      " 40  comfort_&_convenience          14999 non-null  object \n",
      " 41  entertainment_&_media          14545 non-null  object \n",
      " 42  extras                         12957 non-null  object \n",
      " 43  safety_&_security              14937 non-null  object \n",
      " 44  description                    15919 non-null  object \n",
      " 45  emission_label                 3985 non-null   object \n",
      " 46  gears                          11207 non-null  object \n",
      " 47  country_version                7586 non-null   object \n",
      " 48  electricity_consumption        137 non-null    object \n",
      " 49  last_service_date              566 non-null    object \n",
      " 50  other_fuel_types               880 non-null    object \n",
      " 51  availability                   635 non-null    object \n",
      " 52  last_timing_belt_service_date  16 non-null     object \n",
      " 53  available_from                 272 non-null    object \n",
      "dtypes: float64(1), int64(1), object(52)\n",
      "memory usage: 6.6+ MB\n"
     ]
    }
   ],
   "source": [
    "df.info()"
   ]
  },
  {
   "cell_type": "code",
   "execution_count": 50,
   "metadata": {
    "ExecuteTime": {
     "end_time": "2022-08-02T07:59:49.854184Z",
     "start_time": "2022-08-02T07:59:49.841186Z"
    }
   },
   "outputs": [],
   "source": [
    "df.rename(columns={'comfort_&_convenience':'comfort_convenience'}, inplace=True)"
   ]
  },
  {
   "cell_type": "code",
   "execution_count": 51,
   "metadata": {
    "ExecuteTime": {
     "end_time": "2022-08-02T08:00:40.796541Z",
     "start_time": "2022-08-02T08:00:40.774543Z"
    }
   },
   "outputs": [],
   "source": [
    "df.rename(columns={'entertainment_&_media':'entertainment_media'}, inplace=True)"
   ]
  },
  {
   "cell_type": "code",
   "execution_count": 52,
   "metadata": {
    "ExecuteTime": {
     "end_time": "2022-08-02T08:04:28.772313Z",
     "start_time": "2022-08-02T08:04:28.755312Z"
    }
   },
   "outputs": [],
   "source": [
    "df.rename(columns={'safety_&_security':'safety_security'}, inplace=True)"
   ]
  },
  {
   "cell_type": "code",
   "execution_count": 53,
   "metadata": {
    "ExecuteTime": {
     "end_time": "2022-08-02T08:04:32.264314Z",
     "start_time": "2022-08-02T08:04:32.236312Z"
    }
   },
   "outputs": [
    {
     "data": {
      "text/plain": [
       "(15919, 40)"
      ]
     },
     "execution_count": 53,
     "metadata": {},
     "output_type": "execute_result"
    }
   ],
   "source": [
    "df.shape"
   ]
  },
  {
   "cell_type": "code",
   "execution_count": 11,
   "metadata": {
    "ExecuteTime": {
     "end_time": "2022-08-02T06:31:24.002524Z",
     "start_time": "2022-08-02T06:31:23.444526Z"
    }
   },
   "outputs": [
    {
     "data": {
      "text/plain": [
       "url                                  0\n",
       "make_model                           0\n",
       "short_description                   46\n",
       "body_type                           60\n",
       "price                                0\n",
       "vat                               4513\n",
       "km                                   0\n",
       "registration                         0\n",
       "prev_owner                        6828\n",
       "k_w                              15919\n",
       "hp                                   0\n",
       "type                                 2\n",
       "previous_owners                   6640\n",
       "next_inspection                  12384\n",
       "inspection_new                   11987\n",
       "warranty                          5420\n",
       "full_service                      7704\n",
       "non_smoking_vehicle               8742\n",
       "null                                 0\n",
       "make                                 0\n",
       "model                                0\n",
       "offer_number                      3175\n",
       "first_registration                1597\n",
       "body_color                         597\n",
       "paint_type                        5772\n",
       "body_color_original               3759\n",
       "upholstery                        3720\n",
       "body                                60\n",
       "nr_of_doors                        212\n",
       "nr_of_seats                        977\n",
       "model_code                       10941\n",
       "gearing_type                         0\n",
       "displacement                       496\n",
       "cylinders                         5680\n",
       "weight                            6974\n",
       "drive_chain                       6858\n",
       "fuel                                 0\n",
       "consumption                       1906\n",
       "co_2_emission                     1808\n",
       "emission_class                    3021\n",
       "comfort_&_convenience              920\n",
       "entertainment_&_media             1374\n",
       "extras                            2962\n",
       "safety_&_security                  982\n",
       "description                          0\n",
       "emission_label                   11934\n",
       "gears                             4712\n",
       "country_version                   8333\n",
       "electricity_consumption          15782\n",
       "last_service_date                15353\n",
       "other_fuel_types                 15039\n",
       "availability                     15284\n",
       "last_timing_belt_service_date    15903\n",
       "available_from                   15647\n",
       "dtype: int64"
      ]
     },
     "execution_count": 11,
     "metadata": {},
     "output_type": "execute_result"
    }
   ],
   "source": [
    "df.isnull().sum()"
   ]
  },
  {
   "cell_type": "code",
   "execution_count": 12,
   "metadata": {
    "ExecuteTime": {
     "end_time": "2022-08-02T06:32:28.161063Z",
     "start_time": "2022-08-02T06:32:27.771062Z"
    }
   },
   "outputs": [
    {
     "data": {
      "text/plain": [
       "url                               0.00\n",
       "make_model                        0.00\n",
       "short_description                 0.29\n",
       "body_type                         0.38\n",
       "price                             0.00\n",
       "vat                              28.35\n",
       "km                                0.00\n",
       "registration                      0.00\n",
       "prev_owner                       42.89\n",
       "k_w                             100.00\n",
       "hp                                0.00\n",
       "type                              0.01\n",
       "previous_owners                  41.71\n",
       "next_inspection                  77.79\n",
       "inspection_new                   75.30\n",
       "warranty                         34.05\n",
       "full_service                     48.39\n",
       "non_smoking_vehicle              54.92\n",
       "null                              0.00\n",
       "make                              0.00\n",
       "model                             0.00\n",
       "offer_number                     19.94\n",
       "first_registration               10.03\n",
       "body_color                        3.75\n",
       "paint_type                       36.26\n",
       "body_color_original              23.61\n",
       "upholstery                       23.37\n",
       "body                              0.38\n",
       "nr_of_doors                       1.33\n",
       "nr_of_seats                       6.14\n",
       "model_code                       68.73\n",
       "gearing_type                      0.00\n",
       "displacement                      3.12\n",
       "cylinders                        35.68\n",
       "weight                           43.81\n",
       "drive_chain                      43.08\n",
       "fuel                              0.00\n",
       "consumption                      11.97\n",
       "co_2_emission                    11.36\n",
       "emission_class                   18.98\n",
       "comfort_&_convenience             5.78\n",
       "entertainment_&_media             8.63\n",
       "extras                           18.61\n",
       "safety_&_security                 6.17\n",
       "description                       0.00\n",
       "emission_label                   74.97\n",
       "gears                            29.60\n",
       "country_version                  52.35\n",
       "electricity_consumption          99.14\n",
       "last_service_date                96.44\n",
       "other_fuel_types                 94.47\n",
       "availability                     96.01\n",
       "last_timing_belt_service_date    99.90\n",
       "available_from                   98.29\n",
       "dtype: float64"
      ]
     },
     "execution_count": 12,
     "metadata": {},
     "output_type": "execute_result"
    }
   ],
   "source": [
    "df.isnull().sum()*100 / df.shape[0]"
   ]
  },
  {
   "cell_type": "code",
   "execution_count": 14,
   "metadata": {
    "ExecuteTime": {
     "end_time": "2022-08-02T06:36:05.632949Z",
     "start_time": "2022-08-02T06:36:05.352953Z"
    }
   },
   "outputs": [
    {
     "data": {
      "text/plain": [
       "k_w                             100.00\n",
       "last_timing_belt_service_date    99.90\n",
       "electricity_consumption          99.14\n",
       "available_from                   98.29\n",
       "last_service_date                96.44\n",
       "availability                     96.01\n",
       "other_fuel_types                 94.47\n",
       "next_inspection                  77.79\n",
       "inspection_new                   75.30\n",
       "emission_label                   74.97\n",
       "model_code                       68.73\n",
       "non_smoking_vehicle              54.92\n",
       "country_version                  52.35\n",
       "full_service                     48.39\n",
       "weight                           43.81\n",
       "drive_chain                      43.08\n",
       "prev_owner                       42.89\n",
       "previous_owners                  41.71\n",
       "paint_type                       36.26\n",
       "cylinders                        35.68\n",
       "warranty                         34.05\n",
       "gears                            29.60\n",
       "vat                              28.35\n",
       "body_color_original              23.61\n",
       "upholstery                       23.37\n",
       "offer_number                     19.94\n",
       "emission_class                   18.98\n",
       "extras                           18.61\n",
       "consumption                      11.97\n",
       "co_2_emission                    11.36\n",
       "first_registration               10.03\n",
       "entertainment_&_media             8.63\n",
       "safety_&_security                 6.17\n",
       "nr_of_seats                       6.14\n",
       "comfort_&_convenience             5.78\n",
       "body_color                        3.75\n",
       "displacement                      3.12\n",
       "nr_of_doors                       1.33\n",
       "body                              0.38\n",
       "body_type                         0.38\n",
       "short_description                 0.29\n",
       "type                              0.01\n",
       "fuel                              0.00\n",
       "gearing_type                      0.00\n",
       "make_model                        0.00\n",
       "model                             0.00\n",
       "make                              0.00\n",
       "description                       0.00\n",
       "null                              0.00\n",
       "hp                                0.00\n",
       "registration                      0.00\n",
       "km                                0.00\n",
       "price                             0.00\n",
       "url                               0.00\n",
       "dtype: float64"
      ]
     },
     "execution_count": 14,
     "metadata": {},
     "output_type": "execute_result"
    }
   ],
   "source": [
    "(df.isna().sum()*100 / len(df)).sort_values(ascending=False)"
   ]
  },
  {
   "cell_type": "code",
   "execution_count": 16,
   "metadata": {
    "ExecuteTime": {
     "end_time": "2022-08-02T06:42:11.135368Z",
     "start_time": "2022-08-02T06:42:11.111370Z"
    }
   },
   "outputs": [],
   "source": [
    "# Droping columns that have missing values more than a spesific %\n",
    "\n",
    "def df_nans(df, limit):\n",
    "    missing = df.isnull().sum()*100 / df.shape[0]\n",
    "    return missing.loc[lambda x : x >= limit]\n",
    "\n",
    "def column_nans(serial): # display percentage of nans in a Series\n",
    "    return serial.isnull().sum()*100 / serial.shape[0]"
   ]
  },
  {
   "cell_type": "code",
   "execution_count": 17,
   "metadata": {
    "ExecuteTime": {
     "end_time": "2022-08-02T06:42:24.773366Z",
     "start_time": "2022-08-02T06:42:24.459371Z"
    }
   },
   "outputs": [
    {
     "data": {
      "text/plain": [
       "k_w                             100.00\n",
       "electricity_consumption          99.14\n",
       "last_service_date                96.44\n",
       "other_fuel_types                 94.47\n",
       "availability                     96.01\n",
       "last_timing_belt_service_date    99.90\n",
       "available_from                   98.29\n",
       "dtype: float64"
      ]
     },
     "execution_count": 17,
     "metadata": {},
     "output_type": "execute_result"
    }
   ],
   "source": [
    "df_nans(df, 90)"
   ]
  },
  {
   "cell_type": "code",
   "execution_count": 19,
   "metadata": {
    "ExecuteTime": {
     "end_time": "2022-08-02T06:43:11.661370Z",
     "start_time": "2022-08-02T06:43:11.631372Z"
    }
   },
   "outputs": [
    {
     "data": {
      "text/plain": [
       "99.89949117406873"
      ]
     },
     "execution_count": 19,
     "metadata": {},
     "output_type": "execute_result"
    }
   ],
   "source": [
    "column_nans(df[\"last_timing_belt_service_date\"])"
   ]
  },
  {
   "cell_type": "code",
   "execution_count": 20,
   "metadata": {
    "ExecuteTime": {
     "end_time": "2022-08-02T06:45:03.663802Z",
     "start_time": "2022-08-02T06:45:03.322804Z"
    }
   },
   "outputs": [
    {
     "data": {
      "text/plain": [
       "Index(['k_w', 'electricity_consumption', 'last_service_date',\n",
       "       'other_fuel_types', 'availability', 'last_timing_belt_service_date',\n",
       "       'available_from'],\n",
       "      dtype='object')"
      ]
     },
     "execution_count": 20,
     "metadata": {},
     "output_type": "execute_result"
    }
   ],
   "source": [
    "columns_dropped = df_nans(df, 90).index\n",
    "columns_dropped"
   ]
  },
  {
   "cell_type": "code",
   "execution_count": 21,
   "metadata": {
    "ExecuteTime": {
     "end_time": "2022-08-02T06:46:00.263340Z",
     "start_time": "2022-08-02T06:46:00.169345Z"
    }
   },
   "outputs": [],
   "source": [
    "df.drop(columns_dropped, axis=1, inplace=True)"
   ]
  },
  {
   "cell_type": "code",
   "execution_count": 22,
   "metadata": {
    "ExecuteTime": {
     "end_time": "2022-08-02T06:46:17.788254Z",
     "start_time": "2022-08-02T06:46:17.620259Z"
    }
   },
   "outputs": [],
   "source": [
    "df.drop(\"null\", axis=1, inplace=True)"
   ]
  },
  {
   "cell_type": "markdown",
   "metadata": {},
   "source": [
    "**Above, we have checked % of the nulls in each column and we have excluded the columns which have nulls more than 90%**"
   ]
  },
  {
   "cell_type": "code",
   "execution_count": 276,
   "metadata": {
    "ExecuteTime": {
     "end_time": "2022-08-02T14:03:49.409211Z",
     "start_time": "2022-08-02T14:03:49.373212Z"
    }
   },
   "outputs": [],
   "source": [
    "def get_diff_category_column(Series:pd.Series, exclude=''',/\\n''', pattern=r'''[,\\n]| /''', strip='''\\n' \"!?|.,*+-_/]['''):\n",
    "    \"\"\"\n",
    "    exclude  - satırlar da kategori ayırım yerleri\n",
    "    pattern  - satırdaki veriyi ayırma regex\n",
    "    strip    - alakasız işaretleri kaldırma\n",
    "    \"\"\"\n",
    "    import re\n",
    "    column = Series.dropna().apply(str).str.strip(strip)\n",
    "    diff_value = list()\n",
    "    for row in column:\n",
    "        if not any(x in exclude for x in row) and row not in diff_value:\n",
    "            diff_value.append(row)\n",
    "        else:\n",
    "            for data in map(lambda x: x.strip(strip), filter(None, re.split(pattern, row))):\n",
    "                if data not in diff_value:\n",
    "                    diff_value.append(data)\n",
    "    return dict(enumerate(sorted(diff_value)))"
   ]
  },
  {
   "cell_type": "code",
   "execution_count": 353,
   "metadata": {
    "ExecuteTime": {
     "end_time": "2022-08-02T15:30:15.141827Z",
     "start_time": "2022-08-02T15:30:14.230808Z"
    }
   },
   "outputs": [
    {
     "data": {
      "text/html": [
       "<div>\n",
       "<style scoped>\n",
       "    .dataframe tbody tr th:only-of-type {\n",
       "        vertical-align: middle;\n",
       "    }\n",
       "\n",
       "    .dataframe tbody tr th {\n",
       "        vertical-align: top;\n",
       "    }\n",
       "\n",
       "    .dataframe thead th {\n",
       "        text-align: right;\n",
       "    }\n",
       "</style>\n",
       "<table border=\"1\" class=\"dataframe\">\n",
       "  <thead>\n",
       "    <tr style=\"text-align: right;\">\n",
       "      <th></th>\n",
       "      <th>make_model</th>\n",
       "      <th>body_type</th>\n",
       "      <th>price</th>\n",
       "      <th>vat</th>\n",
       "      <th>km</th>\n",
       "      <th>prev_owner</th>\n",
       "      <th>hp</th>\n",
       "      <th>type</th>\n",
       "      <th>previous_owners</th>\n",
       "      <th>warranty</th>\n",
       "      <th>body_color</th>\n",
       "      <th>paint_type</th>\n",
       "      <th>nr_of_doors</th>\n",
       "      <th>nr_of_seats</th>\n",
       "      <th>gearing_type</th>\n",
       "      <th>cylinders</th>\n",
       "      <th>drive_chain</th>\n",
       "      <th>fuel</th>\n",
       "      <th>emission_class</th>\n",
       "      <th>comfort_convenience</th>\n",
       "      <th>entertainment_media</th>\n",
       "      <th>extras</th>\n",
       "      <th>safety_security</th>\n",
       "      <th>gears</th>\n",
       "      <th>age</th>\n",
       "      <th>warranty_months</th>\n",
       "      <th>displacement_cc</th>\n",
       "      <th>weight_kg</th>\n",
       "      <th>upholstery_type</th>\n",
       "      <th>consumption_comb</th>\n",
       "      <th>co_2_emission_g_by_km</th>\n",
       "    </tr>\n",
       "  </thead>\n",
       "  <tbody>\n",
       "    <tr>\n",
       "      <th>0</th>\n",
       "      <td>Audi A1</td>\n",
       "      <td>Sedans</td>\n",
       "      <td>15770</td>\n",
       "      <td>VAT deductible</td>\n",
       "      <td>56013.00</td>\n",
       "      <td>2.00</td>\n",
       "      <td>66.00</td>\n",
       "      <td>Used</td>\n",
       "      <td>2.00</td>\n",
       "      <td>4 (Green)</td>\n",
       "      <td>Black</td>\n",
       "      <td>Metallic</td>\n",
       "      <td>5.00</td>\n",
       "      <td>5.00</td>\n",
       "      <td>Automatic</td>\n",
       "      <td>3</td>\n",
       "      <td>front</td>\n",
       "      <td>Diesel (Particulate Filter)</td>\n",
       "      <td>Euro 6</td>\n",
       "      <td>Air conditioning,Armrest,Automatic climate con...</td>\n",
       "      <td>Bluetooth,Hands-free equipment,On-board comput...</td>\n",
       "      <td>Alloy wheels,Catalytic Converter,Voice Control</td>\n",
       "      <td>ABS,Central door lock,Daytime running lights,D...</td>\n",
       "      <td>NaN</td>\n",
       "      <td>3.00</td>\n",
       "      <td>NaN</td>\n",
       "      <td>1422.00</td>\n",
       "      <td>1220.00</td>\n",
       "      <td>Cloth</td>\n",
       "      <td>3.80</td>\n",
       "      <td>99.00</td>\n",
       "    </tr>\n",
       "    <tr>\n",
       "      <th>1</th>\n",
       "      <td>Audi A1</td>\n",
       "      <td>Sedans</td>\n",
       "      <td>14500</td>\n",
       "      <td>Price negotiable</td>\n",
       "      <td>80000.00</td>\n",
       "      <td>NaN</td>\n",
       "      <td>141.00</td>\n",
       "      <td>Used</td>\n",
       "      <td>NaN</td>\n",
       "      <td>NaN</td>\n",
       "      <td>Red</td>\n",
       "      <td>NaN</td>\n",
       "      <td>3.00</td>\n",
       "      <td>4.00</td>\n",
       "      <td>Automatic</td>\n",
       "      <td>4</td>\n",
       "      <td>front</td>\n",
       "      <td>Gasoline</td>\n",
       "      <td>Euro 6</td>\n",
       "      <td>Air conditioning,Automatic climate control,Hil...</td>\n",
       "      <td>Bluetooth,Hands-free equipment,On-board comput...</td>\n",
       "      <td>Alloy wheels,Sport seats,Sport suspension,Voic...</td>\n",
       "      <td>ABS,Central door lock,Central door lock with r...</td>\n",
       "      <td>7</td>\n",
       "      <td>2.00</td>\n",
       "      <td>NaN</td>\n",
       "      <td>1798.00</td>\n",
       "      <td>1255.00</td>\n",
       "      <td>Cloth</td>\n",
       "      <td>5.60</td>\n",
       "      <td>129.00</td>\n",
       "    </tr>\n",
       "  </tbody>\n",
       "</table>\n",
       "</div>"
      ],
      "text/plain": [
       "  make_model body_type  price               vat       km  prev_owner     hp  \\\n",
       "0    Audi A1    Sedans  15770    VAT deductible 56013.00        2.00  66.00   \n",
       "1    Audi A1    Sedans  14500  Price negotiable 80000.00         NaN 141.00   \n",
       "\n",
       "   type  previous_owners   warranty body_color paint_type  nr_of_doors  \\\n",
       "0  Used             2.00  4 (Green)      Black   Metallic         5.00   \n",
       "1  Used              NaN        NaN        Red        NaN         3.00   \n",
       "\n",
       "   nr_of_seats gearing_type cylinders drive_chain  \\\n",
       "0         5.00    Automatic         3       front   \n",
       "1         4.00    Automatic         4       front   \n",
       "\n",
       "                          fuel emission_class  \\\n",
       "0  Diesel (Particulate Filter)         Euro 6   \n",
       "1                     Gasoline         Euro 6   \n",
       "\n",
       "                                 comfort_convenience  \\\n",
       "0  Air conditioning,Armrest,Automatic climate con...   \n",
       "1  Air conditioning,Automatic climate control,Hil...   \n",
       "\n",
       "                                 entertainment_media  \\\n",
       "0  Bluetooth,Hands-free equipment,On-board comput...   \n",
       "1  Bluetooth,Hands-free equipment,On-board comput...   \n",
       "\n",
       "                                              extras  \\\n",
       "0     Alloy wheels,Catalytic Converter,Voice Control   \n",
       "1  Alloy wheels,Sport seats,Sport suspension,Voic...   \n",
       "\n",
       "                                     safety_security gears  age  \\\n",
       "0  ABS,Central door lock,Daytime running lights,D...   NaN 3.00   \n",
       "1  ABS,Central door lock,Central door lock with r...     7 2.00   \n",
       "\n",
       "   warranty_months  displacement_cc  weight_kg upholstery_type  \\\n",
       "0              NaN          1422.00    1220.00           Cloth   \n",
       "1              NaN          1798.00    1255.00           Cloth   \n",
       "\n",
       "   consumption_comb  co_2_emission_g_by_km  \n",
       "0              3.80                  99.00  \n",
       "1              5.60                 129.00  "
      ]
     },
     "execution_count": 353,
     "metadata": {},
     "output_type": "execute_result"
    }
   ],
   "source": [
    "# Convert List type object to str type all Column(Liste türü nesnesini  tüm kolonlarda str türüne dönüştürün)\n",
    "df = df.applymap(lambda x: ','.join(map(str, x)) if isinstance(x, list) else x)\n",
    "df.head(2)"
   ]
  },
  {
   "cell_type": "code",
   "execution_count": 354,
   "metadata": {
    "ExecuteTime": {
     "end_time": "2022-08-02T15:31:19.232056Z",
     "start_time": "2022-08-02T15:31:18.537065Z"
    }
   },
   "outputs": [],
   "source": [
    "# Strip strange values apart from beginning and end\n",
    "df = df.applymap(lambda x: x.strip('''\\n' \".,-_/][''') if isinstance(x, str) else x)"
   ]
  },
  {
   "cell_type": "markdown",
   "metadata": {},
   "source": [
    "## Below, Let's examine and clean the columns one by one"
   ]
  },
  {
   "cell_type": "code",
   "execution_count": 23,
   "metadata": {
    "ExecuteTime": {
     "end_time": "2022-08-02T06:46:42.956344Z",
     "start_time": "2022-08-02T06:46:42.639351Z"
    }
   },
   "outputs": [
    {
     "name": "stdout",
     "output_type": "stream",
     "text": [
      "<class 'pandas.core.frame.DataFrame'>\n",
      "RangeIndex: 15919 entries, 0 to 15918\n",
      "Data columns (total 46 columns):\n",
      " #   Column                 Non-Null Count  Dtype \n",
      "---  ------                 --------------  ----- \n",
      " 0   url                    15919 non-null  object\n",
      " 1   make_model             15919 non-null  object\n",
      " 2   short_description      15873 non-null  object\n",
      " 3   body_type              15859 non-null  object\n",
      " 4   price                  15919 non-null  int64 \n",
      " 5   vat                    11406 non-null  object\n",
      " 6   km                     15919 non-null  object\n",
      " 7   registration           15919 non-null  object\n",
      " 8   prev_owner             9091 non-null   object\n",
      " 9   hp                     15919 non-null  object\n",
      " 10  type                   15917 non-null  object\n",
      " 11  previous_owners        9279 non-null   object\n",
      " 12  next_inspection        3535 non-null   object\n",
      " 13  inspection_new         3932 non-null   object\n",
      " 14  warranty               10499 non-null  object\n",
      " 15  full_service           8215 non-null   object\n",
      " 16  non_smoking_vehicle    7177 non-null   object\n",
      " 17  make                   15919 non-null  object\n",
      " 18  model                  15919 non-null  object\n",
      " 19  offer_number           12744 non-null  object\n",
      " 20  first_registration     14322 non-null  object\n",
      " 21  body_color             15322 non-null  object\n",
      " 22  paint_type             10147 non-null  object\n",
      " 23  body_color_original    12160 non-null  object\n",
      " 24  upholstery             12199 non-null  object\n",
      " 25  body                   15859 non-null  object\n",
      " 26  nr_of_doors            15707 non-null  object\n",
      " 27  nr_of_seats            14942 non-null  object\n",
      " 28  model_code             4978 non-null   object\n",
      " 29  gearing_type           15919 non-null  object\n",
      " 30  displacement           15423 non-null  object\n",
      " 31  cylinders              10239 non-null  object\n",
      " 32  weight                 8945 non-null   object\n",
      " 33  drive_chain            9061 non-null   object\n",
      " 34  fuel                   15919 non-null  object\n",
      " 35  consumption            14013 non-null  object\n",
      " 36  co_2_emission          14111 non-null  object\n",
      " 37  emission_class         12898 non-null  object\n",
      " 38  comfort_&_convenience  14999 non-null  object\n",
      " 39  entertainment_&_media  14545 non-null  object\n",
      " 40  extras                 12957 non-null  object\n",
      " 41  safety_&_security      14937 non-null  object\n",
      " 42  description            15919 non-null  object\n",
      " 43  emission_label         3985 non-null   object\n",
      " 44  gears                  11207 non-null  object\n",
      " 45  country_version        7586 non-null   object\n",
      "dtypes: int64(1), object(45)\n",
      "memory usage: 5.6+ MB\n"
     ]
    }
   ],
   "source": [
    "df.info()"
   ]
  },
  {
   "cell_type": "code",
   "execution_count": 27,
   "metadata": {
    "ExecuteTime": {
     "end_time": "2022-08-02T07:07:45.692666Z",
     "start_time": "2022-08-02T07:07:45.669672Z"
    }
   },
   "outputs": [
    {
     "data": {
      "text/plain": [
       "(15919, 45)"
      ]
     },
     "execution_count": 27,
     "metadata": {},
     "output_type": "execute_result"
    }
   ],
   "source": [
    "df.shape"
   ]
  },
  {
   "cell_type": "code",
   "execution_count": 121,
   "metadata": {
    "ExecuteTime": {
     "end_time": "2022-08-02T09:35:21.947887Z",
     "start_time": "2022-08-02T09:35:21.916891Z"
    }
   },
   "outputs": [],
   "source": [
    "def first_look(col):\n",
    "    print('column name : ', col)\n",
    "    print('--------------------------------')\n",
    "    print('Per_of_Nulls   : ', '%', round(df[col].isnull().sum() / df.shape[0]*100, 2))\n",
    "    print('Num_of_Nulls   : ', df[col].isnull().sum())\n",
    "    print('Num_of_Uniques : ', df[col].nunique())\n",
    "    print('Duplicates     : ', df.duplicated(subset = None, keep = 'first').sum(), end='\\n\\n')\n",
    "    print(df[col].value_counts(dropna = False).sort_index())\n",
    "    print('END*****************************', end='\\n\\n')"
   ]
  },
  {
   "cell_type": "code",
   "execution_count": 25,
   "metadata": {
    "ExecuteTime": {
     "end_time": "2022-08-02T07:02:13.795983Z",
     "start_time": "2022-08-02T07:02:13.677983Z"
    }
   },
   "outputs": [
    {
     "data": {
      "text/plain": [
       "https://www.autoscout24.com//offers/audi-a1-sportback-1-4-tdi-s-tronic-xenon-navi-klima-diesel-black-bdab349a-caa5-41b0-98eb-c1345b84445e                  1\n",
       "https://www.autoscout24.com//offers/opel-insignia-bus-inno-2-0-cdti-aut-navi-bi-xe-led-e6-diesel-black-8710b253-dd98-4ed0-9d46-cbad2d79532b                1\n",
       "https://www.autoscout24.com//offers/opel-insignia-sport-tourer-opel-sport-tourer-1-6-cdti-136-ch-a-c-diesel-silver-10b7463b-9f56-4348-af35-df3432b2b585    1\n",
       "https://www.autoscout24.com//offers/opel-insignia-2-0cdti-st-business-innovation-navi-bt-diesel-black-ba5a3368-dedc-4e51-9127-3976b26e93c2                 1\n",
       "https://www.autoscout24.com//offers/opel-insignia-sport-tourer-opel-sport-tourer-1-6-cdti-136-ch-a-c-diesel-silver-7b52f054-78d3-4d5e-9370-8a7d081d7edd    1\n",
       "                                                                                                                                                          ..\n",
       "https://www.autoscout24.com//offers/audi-a3-sb-30-1-6-tdi-business-116cv-s-tronic-diesel-black-cf50f7b1-4d7b-466f-93a2-4e11ec0b4107                        1\n",
       "https://www.autoscout24.com//offers/audi-a3-sb-30-1-6-tdi-business-116cv-s-tronic-diesel-grey-3f47eb34-15c4-4763-860d-78fcbbd2c9ff                         1\n",
       "https://www.autoscout24.com//offers/audi-a3-sb-30-1-6-tdi-business-116cv-s-tronic-diesel-silver-f7a4bc95-b2ef-4bac-9497-6bcbcd05db0b                       1\n",
       "https://www.autoscout24.com//offers/audi-a3-sb-30-1-6-tdi-business-116cv-s-tronic-diesel-silver-1c94c7a2-67b5-49ca-ae42-42a6800fb3f5                       1\n",
       "https://www.autoscout24.com//offers/renault-espace-initiale-paris-tce-225-edc-gpf-navi-shz-aux-gasoline-grey-0bd690d9-7e93-4cab-bc5a-9d5b63402481          1\n",
       "Name: url, Length: 15919, dtype: int64"
      ]
     },
     "execution_count": 25,
     "metadata": {},
     "output_type": "execute_result"
    }
   ],
   "source": [
    "df.url.value_counts(dropna=False)"
   ]
  },
  {
   "cell_type": "code",
   "execution_count": 26,
   "metadata": {
    "ExecuteTime": {
     "end_time": "2022-08-02T07:05:00.439577Z",
     "start_time": "2022-08-02T07:05:00.266579Z"
    }
   },
   "outputs": [],
   "source": [
    "# \"url\" contains some information but we do NOT need, because we can obtain from other features.\n",
    "\n",
    "df.drop(\"url\", axis=1, inplace=True)"
   ]
  },
  {
   "cell_type": "code",
   "execution_count": 29,
   "metadata": {
    "ExecuteTime": {
     "end_time": "2022-08-02T07:10:10.911796Z",
     "start_time": "2022-08-02T07:10:03.308965Z"
    }
   },
   "outputs": [],
   "source": [
    "# Convert List type object to str type all Column\n",
    "df = df.applymap(lambda x: ','.join(map(str, x)) if isinstance(x, list) else x)"
   ]
  },
  {
   "cell_type": "code",
   "execution_count": 66,
   "metadata": {
    "ExecuteTime": {
     "end_time": "2022-08-02T08:27:04.781749Z",
     "start_time": "2022-08-02T08:27:04.746751Z"
    }
   },
   "outputs": [],
   "source": [
    "def first_looking(col): # function for checking the columns\n",
    "    print(\"column name    : \", col)\n",
    "    print(\"--------------------------------\")\n",
    "    print(\"per_of_nulls   : \", \"%\", round(df[col].isnull().sum()*100 / df.shape[0], 2))\n",
    "    print(\"num_of_nulls   : \", df[col].isnull().sum())\n",
    "    print(\"num_of_uniques : \", df[col].nunique())\n",
    "    print(\"--------------------------------\")\n",
    "    print(df[col].value_counts(dropna = False))"
   ]
  },
  {
   "cell_type": "code",
   "execution_count": null,
   "metadata": {},
   "outputs": [],
   "source": []
  },
  {
   "cell_type": "markdown",
   "metadata": {},
   "source": [
    "##  'make', 'model' and 'make_model',"
   ]
  },
  {
   "cell_type": "code",
   "execution_count": 30,
   "metadata": {
    "ExecuteTime": {
     "end_time": "2022-08-02T07:10:14.476902Z",
     "start_time": "2022-08-02T07:10:14.389900Z"
    }
   },
   "outputs": [
    {
     "data": {
      "text/plain": [
       "make_model      make         model         \n",
       "Audi A3         \\nAudi\\n     \\n,A3,\\n          3097\n",
       "Audi A1         \\nAudi\\n     \\n,A1,\\n          2614\n",
       "Opel Insignia   \\nOpel\\n     \\n,Insignia,\\n    2598\n",
       "Opel Astra      \\nOpel\\n     \\n,Astra,\\n       2526\n",
       "Opel Corsa      \\nOpel\\n     \\n,Corsa,\\n       2219\n",
       "Renault Clio    \\nRenault\\n  \\n,Clio,\\n        1839\n",
       "Renault Espace  \\nRenault\\n  \\n,Espace,\\n       991\n",
       "Renault Duster  \\nRenault\\n  \\n,Duster,\\n        34\n",
       "Audi A2         \\nAudi\\n     \\n,A2,\\n             1\n",
       "dtype: int64"
      ]
     },
     "execution_count": 30,
     "metadata": {},
     "output_type": "execute_result"
    }
   ],
   "source": [
    "df[['make_model', 'make', 'model']].value_counts(dropna=False)"
   ]
  },
  {
   "cell_type": "markdown",
   "metadata": {},
   "source": [
    "**Since we have the same information, decided to drop the columns, \"make\" and \"model\".**"
   ]
  },
  {
   "cell_type": "code",
   "execution_count": 32,
   "metadata": {
    "ExecuteTime": {
     "end_time": "2022-08-02T07:15:15.492619Z",
     "start_time": "2022-08-02T07:15:15.315615Z"
    }
   },
   "outputs": [],
   "source": [
    "df.drop([\"make\", \"model\"], axis=1, inplace=True)"
   ]
  },
  {
   "cell_type": "markdown",
   "metadata": {
    "ExecuteTime": {
     "end_time": "2022-08-02T07:38:18.004662Z",
     "start_time": "2022-08-02T07:38:17.985653Z"
    }
   },
   "source": [
    "## 'short_description' and 'description'"
   ]
  },
  {
   "cell_type": "code",
   "execution_count": 33,
   "metadata": {
    "ExecuteTime": {
     "end_time": "2022-08-02T07:22:38.536597Z",
     "start_time": "2022-08-02T07:22:38.466596Z"
    }
   },
   "outputs": [
    {
     "data": {
      "text/plain": [
       "SPB 1.6 TDI 116 CV S tronic Sport                 64\n",
       "NaN                                               46\n",
       "1.4 66kW (90CV) Selective                         40\n",
       "MOVE KLIMA CD USB ALLWETTER BLUETOOTH             38\n",
       "SPB 30 TDI S tronic Business                      35\n",
       "                                                  ..\n",
       "K Sports Tourer Business **Navi*Voll**             1\n",
       "1.0 Turbo ecoFLEX Automatic Elective Park Navi     1\n",
       "1.6 CDTI Business *Navi*Automatik*Spurh.*          1\n",
       "1.6 136 CV Automatica Navi E 6 Garanzia Full       1\n",
       "TCe 225 EDC GPF LIM Deluxe Pano,RFK                1\n",
       "Name: short_description, Length: 10002, dtype: int64"
      ]
     },
     "execution_count": 33,
     "metadata": {},
     "output_type": "execute_result"
    }
   ],
   "source": [
    "df.short_description.value_counts(dropna=False)"
   ]
  },
  {
   "cell_type": "code",
   "execution_count": 36,
   "metadata": {
    "ExecuteTime": {
     "end_time": "2022-08-02T07:24:10.559254Z",
     "start_time": "2022-08-02T07:24:10.393257Z"
    }
   },
   "outputs": [
    {
     "data": {
      "text/plain": [
       "                                                                                                                                                                                                                                                                                                                                                                                                                                                                                                                                                                                                                                                                                                                                                                                                                                                                                                                                                                                                                                                                                                                                                                                                                                                                                                                                                                                                                                                                                                                                                                                                                                                                                                                                                                                                                                                                                                                                                                                                                                                                                                                                                                                                                                                                                                                                                                                                                                                                                                                                                                                                                                                               636\n",
       "\\n,\\n                                                                                                                                                                                                                                                                                                                                                                                                                                                                                                                                                                                                                                                                                                                                                                                                                                                                                                                                                                                                                                                                                                                                                                                                                                                                                                                                                                                                                                                                                                                                                                                                                                                                                                                                                                                                                                                                                                                                                                                                                                                                                                                                                                                                                                                                                                                                                                                                                                                                                                                                                                                                                                                           30\n",
       "\\n,Fahrzeugbeschreibung, Sichern Sie sich diesen Renault Clio 1.6 TCE Energy Sport Trophy zum Top-Preis inklusive dem ,AUTOHERO-RUNDUM-SORGLOS-PAKET, ,Infos:, 1.Hand, deutsche Auslieferung, Unfallfrei, scheckheftgepflegt, ,Highlights, ,Audio-Navigationssystem R-Link Evolution mit Touchscreen und Carminat TomTom, ,Sportsitze , ,Sportfahrwerk, ,Scheinwerfer Full-LED ,Komfort, ,Geschwindigkeits-Regelanlage (Tempomat) , ,Klimaanlage, ,Einparkhilfe hinten, ,Multifunktionslenkrad (Sport/Leder) mit Schaltwippen/-tasten , ,Fensterheber elektr. mit Impulsgeber links/rechts vorn, ,Zentralverriegelung / Startanlage Handsfree Entry & Drive , ,Berganfahr-Assistent (HSA) ,Multimedia, ,Audiosystem: Radio R & GO (Bluetooth, DAB-Tuner), ,Bordcomputer, ,Freisprecheinrichtung Bluetooth , ,USB-Anschluss inkl. AUX-IN-Anschluss (Plug & Music) ,Licht und Sicht, ,Außenspiegel elektr. verstell- und heizbar , ,Licht- und Regensensor , ,Tagfahrlicht LED , ,Nebelscheinwerfer LED , ,Coming-Home-Lichtfunktion , ,Heckleuchten LED ,Sicherheit, ,Isofix-Aufnahmen für Kindersitz , ,Seitenairbag vorn, ,Wegfahrsperre, ,Differentialsperre, ,Bremsassistent , ,Elektron. Stabilitäts-Programm (ESP), ,Anti-Blockier-System (ABS), ,Anti-Submarining-Airbag im Fond, ,Airbag Fahrer-/Beifahrerseite , ,Differentialsperre , ,Reifendruck-Kontrollsystem , ,Untersteuerungskontrolle (USC) , ,Antischlupfregelung (ASR) ,Weiteres, ,Start/Stop-Anlage , ,Servolenkung geschwindigkeitsabhängig, ,R.S. Drive (Fahrmodusschalter) , ,Gepäckraumabdeckung / Rollo , ,Heckdiffusor , ,LM-Felgen , ,Heckspoiler (Renault Sport) , ,Pedale Aluminium , ,Energierückgewinnung (Energy Smart Management) , ,Elektr. Bremskraftverteilung , ,Reifen-Reparaturkit , ,Sitzbezug / Polsterung: Stoff , Ihr ,AUTOHERO-RUNDUM-SORGLOS-PAKET, beinhaltet:,Kostenlose Lieferung in Ihre Nähe,Optische & technische Aufbereitung,Mindestens 12 Monate gültige HU und AU,1-Jahr-Premium-Garantie,Zulassung inklusive ,14-Tage-Rückgaberecht,Markenunabhängige Inzahlungnahme ,Individuelle Finanzierungen zu fairen Konditionen, ,HIER GEHT ES ZUR 360° - ANSICHT DES FAHRZEUGES:,:,https://www.autohero.com/de/renault-clio-1-6-tce-energy-renault-sport-trophy/id/f7ca29bf-e005-453f-bbc9-8c6fe892dec6/, ,Haftungsausschluss,:,Für Angaben vom Verkäufer, des Herstellers oder von Datenbankabfragen übernimmt Autohero keine Haftung. Änderungen, Zwischenverkauf und Irrtümer sind vorbehalten.\\n                                                                                                                                                           27\n",
       "\\nPosibilidad de prueba del vehículo hasta 5 días. Consultar condiciones. PVP para particulares. Varias unidades y colores disponibles. Precios publicados para vehículos industriales (furgonetas) válidos para compradores autónomos o empresas, consultar condiciones para particulares. Las imágenes y kilómetros pueden no corresponder con el modelo anunciado. Para confirmar póngase en contacto con nuestro departamento comercial. Consulta las excepcionales condiciones de financiación que tenemos disponibles. Precio de venta final IVA y gastos de transferencia incluidos. Horario de atención al cliente: Lunes a Viernes de 09:00 a 18:00.\\n                                                                                                                                                                                                                                                                                                                                                                                                                                                                                                                                                                                                                                                                                                                                                                                                                                                                                                                                                                                                                                                                                                                                                                                                                                                                                                                                                                                                                                                                                                                                                                                                                                                                                                                                                                                                                                                                                                                                                                                                 27\n",
       "\\nSichern Sie sich diesen RENAULT CLIO 1.2 LIMITED zum Top-Preis inklusive dem,AUTOHERO-RUNDUM-SORGLOS-PAKET, ,Infos:, 2.Hand, mindestens 12 Monate gültige HU und AU, deutsche Ausführung, unfallfrei , ,Highlights, ,Audio-Navigationssystem mit Touchscreen-Farbdisplay,Komfort, ,Klimaanlage , ,Multifunktionslenkrad in Leder , ,Berganfahr-Assistent (HSA), ,Fensterheber elektrisch vorn , ,Geschwindigkeits-Regelanlage (Tempomat) , ,Heckscheibe heizbar , ,Sitz vorn links höhenverstellbar, ,Sitz vorn rechts umklappbar , ,Stau-/Ablagefach im Laderaumboden , ,Zentralverriegelung mit Fernbedienung ,Multimedia, ,Radio R&GO, ,Bluetooth Freisprechanlage , ,USB-/AUX-Schnittstelle , ,Bordcomputer, ,Licht und Sicht, ,Tagfahrlicht LED , ,Außenspiegel elektrisch verstell- und heizbar,Sicherheit, ,Airbag für Fahrer und Beifahrer, ,Beifahrerairbag deaktivierbar , ,Seitenairbags vorn , ,Kopfairbagsystem, ,Anti-Blockier-System (ABS), ,Elektronische Bremskraftverteilung , ,Elektronische Stabilitäts-Programm (ESP) , ,Reifen-Reparaturkit , ,Reifendruck-Kontrollsystem , ,Untersteuerungskontrolle (USC) , ,ISOFIX Kindersitzverankerung ,Weiteres, ,Dachreling silber , ,Look-Paket Chrom (außen) , ,Look-Paket Grau (innen) , ,R&GO-Paket , ,Style-Paket , Ihr ,AUTOHERO-RUNDUM-SORGLOS-PAKET, beinhaltet:,Kostenlose Lieferung in Ihre Nähe,Optische & technische Aufbereitung,Mindestens 12 Monate gültige HU und AU,1-Jahr-Premium-Garantie,Zulassung inklusive ,14-Tage-Rückgaberecht,Markenunabhängige Inzahlungnahme ,Individuelle Finanzierungen zu fairen Konditionen, ,HIER GEHT ES ZUR 360° - ANSICHT DES FAHRZEUGES:,:,https://www.autohero.com/de/renault-clio-1-2-limited/id/30f99516-8785-47e7-a4a3-6cdac4d8e633/, ,Haftungsausschluss,:,Für Angaben vom Verkäufer, des Herstellers oder von Datenbankabfragen übernimmt Autohero keine Haftung. Änderungen, Zwischenverkauf und Irrtümer sind vorbehalten.\\n                                                                                                                                                                                                                                                                                                                                                                                                                                                                                                                                                                                                                                                                                                        27\n",
       "                                                                                                                                                                                                                                                                                                                                                                                                                                                                                                                                                                                                                                                                                                                                                                                                                                                                                                                                                                                                                                                                                                                                                                                                                                                                                                                                                                                                                                                                                                                                                                                                                                                                                                                                                                                                                                                                                                                                                                                                                                                                                                                                                                                                                                                                                                                                                                                                                                                                                                                                                                                                                                                              ... \n",
       "\\nPratica 67374,Airbag fullsize per conducente e passeggero, Alzacristalli elettrici ant. e post. con funzione attivaz. a pressione, Assetto dinamico, Audi drive select, Inserti in micrometallic argento, Kit riparazione pneumatici, Pacchetto di navigazione, Piano di copertura del vano bagagli estraibile, Presa AUX-IN, Proiettori allo Xenon Plus con reg. aut. prof. fari, Lavafari, Rivestimenti dei sedili in tessuto, Serbatoio AdBlue, Sistema controllo pressione pneumatici, Sistema di ancoraggio ISOFIX e 3° punto di ancoraggio Top Tether sui sedili post. laterali, Sistema di informazioni per il conducente con display monocromatico, Tappetini anteriori e posteriori, Versione Business, Volante sportivo multifunzionale in pelle 3 razze, ABS, EBV (Ripartitore elettronico della forza frenante), Airbag laterali anteriori integrati negli schienali dei sedili, Airbag per la testa, Airbag per le ginocchia (lato conducente), Appoggiatesta anteriori (2) e posteriori (3) regolabili, Radio MMI plus, Interfaccia Bluetooth, Appoggiabraccia centrale anteriore, Cambio manuale, Cerchi in lega 7 J x 16\" a 5 razze a stella, Chiusura centralizzata con telecomando, Regolatore di velocità, ESC - Sistema elettronico di controllo della stabilizzazione con bloccaggio trasversale elettronico, ASR - Dispositivo di controllo della trazione, EDS (Dispositivo antislittamento in partenza), Filtro anti particolato, Cinture di sicurezza con pretensionatore, Specchietti retrovisivi esterni riscaldabili e ripiegabili elettricamente, Schienale del sedile posteriore ribaltabile (divisibile in rapporto 40:60 o ribaltabile completam.), Sistema di ausilio al parcheggio posteriore, Servosterzo elettromeccanico, Tergilunotto\\n                                                                                                                                                                                                                                                                                                                                                                                                                                                                                                                                                                                                                                                                                                                                                                                                                                                                                  1\n",
       "\\n,Getriebe:, Schaltgetriebe,Technik:, Bordcomputer, Start-Stop-Automatik,Assistenten:, Regensensor, Lichtsensor, Berganfahrassistent,Komfort:, Servolenkung, Zentralverriegelung, Elektrischer Fensterheber, Sitzheizung, Elektrische Aussenspiegel, Teilbare Ruecksitzlehne, Tempomat, Park Distance Control, Multifunktionslenkrad, Innenspiegel autom. abblendbar, Mittelarmlehne, Innenraumfilter, Lenksaeule einstellbar, Sportsitze, Klimaautomatik-2-Zonen,Sicht:, Xenon Scheinwerfer, Colorverglasung, Scheinwerferreinigung, Aussenspiegel beheizbar, Privacyverglasung,Sicherheit:, ABS, Airbag, Beifahrer-Airbag, Wegfahrsperre, Seitenairbags, ESP, Antriebsschlupfregelung, Reifendruckkontrolle, Traktionskontrolle, Kopfairbag, Knieairbag, Kindersitzbefestigung, Pannenkit,Entertainment:, CD, Radio, AUX-In, USB-Anschluss, MP3, Bluetooth, Freisprecheinrichtung,Umwelt:, Grüne Umweltplakette, ,Energieeffizienzklasse B,Qualität:, Garantie, Scheckheftgepflegt, HUAU neu, Nichtraucherfahrzeug,Sonstiges:, Metallic, Alufelgen, Dachreling, Gepaeckraumabdeckung, Stossfaenger in Wagenfarbe, Sportfahrwerk,Weiteres:, Connectivity-Paket inkl. Bluetooth-Schnittstelle, Klimaautomatik 2-Zonen, Optik-Paket schwarz Audi exclusive, Einparkhilfe (APS), Verglasung hinten abgedunkelt, Sitzheizung vorn, Dachreling (Aluminium), Soundsystem DSP / Audi Sound-System, Ablage- und Gepäckraum-Paket, Audi music interface, Scheibenwaschdüsen heizbar, Vorbereitung Navigationssystem, Adaptives Bremslicht, Anfahr-Assistent (hold assist), Antriebsart: Frontantrieb, Audi Drive Select, Außenspiegel Wagenfarbe, Blinkleuchten LED in Außenspiegel integriert, Bremsanlage mit Rekuperation - Bremsenergierückgewinnung, Bremsassistent, Dachspoiler, Dekoreinlagen Aluminium Mistral, Einstiegsleisten Aluminium, Elektron. Differentialsperre (EDS), Elektron. Stabilitätskontrolle (ESC), Elektron. Stabilitäts-Programm, Euro 6, Fahrer-Informations-System (FIS), Fensterheber elektrisch vorn und hinten, Frontscheibe Akustikglas, Fußmatten Velours, Getriebe 6-Gang, Heckscheibe heizbar, Interieur Aluminium-Optik, Isofix-Aufnahmen für Kindersitz, Kopfstützen hinten, Multi-Media-Interface MMI, Parkbremse elektro-mechanisch, Polster: Stoff Rallye, Servolenkung elektro-mechanisch, Sitze vorn mit ausziehbarer Oberschenkelauflage, Sitzhöhenverstellung, Sport/Lederlenkrad, Sport-Fahrwerk, Start/Stop-Anlage, Telefon-Vorbereitung mit Bluetooth-Schnittstelle, Wagenheber, Wärmeschutzverglasung, Xenon Plus, ZV mit Fernbedienung,... Änderungen, Zwischenverkauf und Irrtümer vorbehalten., by CG360.de\\n      1\n",
       "\\n,Getriebe,6-Gang,Licht und Sicht,Xenon-Scheinwerfer Plus (Abblend- und Fernlicht),Technik und Sicherheit,Fahrerairbag,Airbag Fahrer-/Beifahrerseite,Seitenairbag vorn,Kopfairbags,Anti-Blockier-System (ABS),Elektron. Stabilitätskontrolle (ESC),Elektron. Differentialsperre (EDS),Zentralverriegelung mit Fernbedienung,Schließ-/Startsystem Advanced Key (Komfortschlüssel),Servolenkung elektro-mechanisch,Geschwindigkeits-Regelanlage (Tempomat),Elektronische Wegfahrsperre,Bordcomputer,Reifendruck-Kontrollsystem,Assistenzsysteme,Fahrassistenz-System: Anfahr-Assistent (hold assist),Multimedia,Multi-Media-Interface MMI Basic Plus / MMI Radio Plus,Audi Smartphone Interface,Komfort,Komfort-Klimaautomatik 2-Zonen,Einparkhilfe hinten (APS),Fensterheber elektrisch,Licht- und Regensensor,Außenspiegel elektr. verstellbar beide,Scheibenwaschdüsen und Außenspiegel beheizt,Wärmeschutzverglasung grün getönt,Innenausstattung,Sitzheizung vorn,Lenkrad (Sport/Leder - 3-Speichen) mit Multifunktion,Mittelarmlehne vorn,Rücksitzlehne geteilt/klappbar,Aussenausstattung,LM-Felgen,Pakete,Komfort-Paket,Sonstiges,Rußpartikelfilter,Scheckheftgepflegt,Nichtraucherfahrzeug,Weitere Informationen,Schadstoffklasse: EURO 6D-TEMP,Connectivity-Paket,Glanz-Paket,LM-Felgen 7.5x17 (5-Speichen Y-Design),Progressivlenkung,Antriebs-Schlupfregelung (ASR),Elektron. Stabilitäts-Programm (ESP),Getriebe 6-Gang,Lenkrad (Sport - 3-Speichen),Parkbremse elektro-mechanisch,Sitze vorn höhenverstellbar,Vorrüstung Mobiltelefon/Handy mit Bluetooth-Schnittstelle,Audi music interface,Außenspiegel elektr. verstell- und heizbar beide,Vorbereitung Navigationssystem,Irrtümer und Änderungen vorbehalten.,Die im Internet angebotene Ausstattung ist kein Vertragsbestandteil.,Die Ausstattung muss vor Ort geprüft werden.,Das angebotene Fahrzeug kann von einer Rückrufaktion betroffen sein. Co2 Angaben können abweichen.,\\n                                                                                                                                                                                                                                                                                                                                                                                                                                                                                                                                                                                                                                                                                                           1\n",
       "\\n,Aluminium-Gussräder im 5-Speichen-Stern-Design Größe 7 J x 16 mit Reifen 205/55 R 16,Dachreling eloxiert,Einparkhilfe hinten,Fahrerinformationssystem mit Farbdisplay,Lederlenkrad im 3-Speichen-Design mit Multifunktion plus,Ablage-/Gepäckraumpaket mit erweitertem USB-Buchsen-Angebot,Lichtpaket,Reifen 16',Anlaufvariante RdW,Vorbereitung für Anhängevorrichtung,Audi sound system,Reifen 205/55 R16 91W,Xenon plus,Allwetterlicht,Kopfstützen hinten (3 Stück),MMI Radio plus,Zentralverriegelung mit Funkschlüssel,Bluetooth-Schnittstelle,Innenspiegel abblendbar,elektronische Stabilisierungskontrolle (ESC),Airbags,6-Gang-Schaltgetriebe,Seitenairbags vorn und Kopfairbagsystem,elektromechanische Servolenkung,Leuchtweitenregulierung automatisch-statisch,Scheibenwaschdüsen beheizbar vorn,Reifendruck-Kontrollanzeige,Tagfahrlicht,Start-Stop-System,AUX-IN-Anschluss,Kindersitzverankerung ISOFIX und Top Tether für die äußeren Fondsitze,Sitzbezüge in Stoff Index,Wärmeschutzverglasung,Akustikfrontscheibe,Außenspiegel links asphärisch,Außen-Sound Standard,Außenspiegel rechts (großes Sichtfeld) konvex,elektromechanische Parkbremse,Dachhimmel in Stoff felsgrau,Kraftstoffsystem Otto-Einspritzer,Linkslenker,Reifenreparaturset,Heckleuchten,Scheibenwaschanlage,Entriegelung Hintersitz Standard,Waschwasserstandsanzeige,Abgaskonzept EU6 AG/H/I,Frontantrieb,A3,Außenspiegelgehäuse in Wagenfarbe,Ohne erweitertem Sicherheitssystem,Geschwindigkeitsbegrenzungsanlage,Dachkantenspoiler,Heckscheibenwischer,Sportback,Kindersicherung manuell,Ohne Kamerasysteme/Umfeldsensorik,4-Zyl. Ottomotor 1 5 L/110KW TSI Grundmotor ist: TJ7/N09/T9F,Nebelschlussleuchten,Nichtraucherausführung,Radstand,Doppeltonfanfare,Serienfahrwerk,4 Türen,Modellbezeichnung gemäß neuer Leistungskennzeichnung,Warnleuchten,Zierleisten schwarz,Nichtraucherfahrzeug,Irrtümer Änderungen und Zwischenverkauf vorbehalten,sehr guter Zustand,Komfortklima,Aussenspiegel heizbar,elektrische Aussenspiegel,geteilte Rückbank,Scheckheft gepflegt,Fahrersitz höhenverstellbar,Beifahrersitz höhenverstellbar,\\n                                                                                                                                                                                                                                                                                                                                                                                                                                                                                                                             1\n",
       "\\nDEK:[2691331],Renault Espace Blue dCi 200CV EDC Business,Nuova da Immatricolare,COLORE: Grigio Titanio,INTERNO: Pelle+Tessuto,TRASMISSIONE: Cambio Automatico EDC,---,ACCESSORI: ,7 Posti,, ,Cerchi in Lega 17, Navigatore con Display 8.7, Clima Automatico, Sensori di Parcheggio Anteriori e Posteriori con Retrocamera, Fari Full LED Pure Vision, Cruise Control, Renault Multisense,---,Listino Nuovo 44.300 Euro,Prezzo Gruppo Carmeli: 39.700 Euro (Esclusa IPT e Messa in Strada),IVA Esposta,In caso di Adesione alla PROMO GRUPPO CARMELI puoi Averla a 36.000 Euro,Contattaci per scoprire tutti i vantaggi della PROMO GRUPPO CARMELI,____________________________________,Gruppo Carmeli S.p.A. è Concessionaria e Service ufficiale dei Marchi Renault, Dacia, Nissan, Mercedes e Smart per la provincia di Brescia e Bergamo ed opera nel mercato dell’auto da più di 40 anni.,Nelle sedi di Brescia (Nissan e Renault-Dacia Autospazio), di Coccaglio (Renault-Dacia e Nissan) e di Bergamo (Nissan) oltre a tutta la gamma di veicoli dei Marchi rappresentati, propone anche 2.000 auto a Km Zero e Aziendali di tutte le marche.,Offriamo Servizi:,-VALUTAZIONE e PERMUTA del tuo USATO,-ACQUISTO con pagamento immediato del tuo USATO,-FINANZIAMENTI e LEASING agevolati,-NOLEGGIO A LUNGO TERMINE di veicoli di tutte le marche,-PACCHETTI ASSICURATIVI su misura con possibilità di garanzia del valore a Nuovo,____________________________________,Sebbene sia stato fatto ogni ragionevole sforzo per assicurare l'esattezza delle informazioni riportate, vi potrebbero essere involontarie incongruenze riguardanti le immagini e la descrizione degli accessori, che pertanto non rappresentano vincolo contrattuale. Per ulteriori informazioni sulle condizioni economiche ti invitiamo a contattarci.,\\n                                                                                                                                                                                                                                                                                                                                                                                                                                                                                                                                                                                                                                                                                                                                                                                                                      1\n",
       "Name: description, Length: 12874, dtype: int64"
      ]
     },
     "execution_count": 36,
     "metadata": {},
     "output_type": "execute_result"
    }
   ],
   "source": [
    "df['description'].value_counts(dropna=False)"
   ]
  },
  {
   "cell_type": "markdown",
   "metadata": {},
   "source": [
    "**The columns of \"short_description\" and \"description\" have detailed information but we do NOT need it. Other columns have this information, we can obtain if needed.\n",
    "Therefore we have decided to drop them.**"
   ]
  },
  {
   "cell_type": "code",
   "execution_count": 37,
   "metadata": {
    "ExecuteTime": {
     "end_time": "2022-08-02T07:28:30.445731Z",
     "start_time": "2022-08-02T07:28:30.310727Z"
    }
   },
   "outputs": [],
   "source": [
    "df.drop(\"short_description\", axis=1, inplace=True)"
   ]
  },
  {
   "cell_type": "code",
   "execution_count": 38,
   "metadata": {
    "ExecuteTime": {
     "end_time": "2022-08-02T07:28:33.007024Z",
     "start_time": "2022-08-02T07:28:32.903024Z"
    }
   },
   "outputs": [],
   "source": [
    "df.drop(\"description\", axis=1, inplace=True)"
   ]
  },
  {
   "cell_type": "markdown",
   "metadata": {},
   "source": [
    "## 'body_type' and 'body'"
   ]
  },
  {
   "cell_type": "code",
   "execution_count": 39,
   "metadata": {
    "ExecuteTime": {
     "end_time": "2022-08-02T07:29:58.453610Z",
     "start_time": "2022-08-02T07:29:58.370609Z"
    },
    "scrolled": true
   },
   "outputs": [
    {
     "data": {
      "text/plain": [
       "body_type      body               \n",
       "Sedans         \\n,Sedans,\\n           7903\n",
       "Station wagon  \\n,Station wagon,\\n    3553\n",
       "Compact        \\n,Compact,\\n          3153\n",
       "Van            \\n,Van,\\n               783\n",
       "Other          \\n,Other,\\n             290\n",
       "Transporter    \\n,Transporter,\\n        88\n",
       "NaN            NaN                      60\n",
       "Off-Road       \\n,Off-Road,\\n           56\n",
       "Coupe          \\n,Coupe,\\n              25\n",
       "Convertible    \\n,Convertible,\\n         8\n",
       "dtype: int64"
      ]
     },
     "execution_count": 39,
     "metadata": {},
     "output_type": "execute_result"
    }
   ],
   "source": [
    "df[['body_type', 'body']].value_counts(dropna=False)"
   ]
  },
  {
   "cell_type": "markdown",
   "metadata": {},
   "source": [
    "**Since we have the same information, decided to drop the \"body\" column.**"
   ]
  },
  {
   "cell_type": "code",
   "execution_count": 40,
   "metadata": {
    "ExecuteTime": {
     "end_time": "2022-08-02T07:31:32.161363Z",
     "start_time": "2022-08-02T07:31:32.032364Z"
    }
   },
   "outputs": [],
   "source": [
    "df.drop([\"body\"], axis=1, inplace=True)"
   ]
  },
  {
   "cell_type": "code",
   "execution_count": 67,
   "metadata": {
    "ExecuteTime": {
     "end_time": "2022-08-02T08:27:22.111752Z",
     "start_time": "2022-08-02T08:27:22.017753Z"
    }
   },
   "outputs": [
    {
     "name": "stdout",
     "output_type": "stream",
     "text": [
      "column name    :  body_type\n",
      "--------------------------------\n",
      "per_of_nulls   :  % 0.38\n",
      "num_of_nulls   :  60\n",
      "num_of_uniques :  9\n",
      "--------------------------------\n",
      "Sedans           7903\n",
      "Station wagon    3553\n",
      "Compact          3153\n",
      "Van               783\n",
      "Other             290\n",
      "Transporter        88\n",
      "NaN                60\n",
      "Off-Road           56\n",
      "Coupe              25\n",
      "Convertible         8\n",
      "Name: body_type, dtype: int64\n"
     ]
    }
   ],
   "source": [
    "first_looking(\"body_type\")"
   ]
  },
  {
   "cell_type": "code",
   "execution_count": 68,
   "metadata": {
    "ExecuteTime": {
     "end_time": "2022-08-02T08:28:58.483950Z",
     "start_time": "2022-08-02T08:28:58.449957Z"
    }
   },
   "outputs": [],
   "source": [
    "# Do NOT have any information about \"other\". \n",
    "#Therefore, assigned them to \"NaN\" to use \"fillna\" function.\n",
    "\n",
    "df.body_type.replace(\"Other\", np.nan, inplace=True) "
   ]
  },
  {
   "cell_type": "code",
   "execution_count": 69,
   "metadata": {
    "ExecuteTime": {
     "end_time": "2022-08-02T08:30:03.930095Z",
     "start_time": "2022-08-02T08:30:03.865094Z"
    }
   },
   "outputs": [
    {
     "name": "stdout",
     "output_type": "stream",
     "text": [
      "column name    :  body_type\n",
      "--------------------------------\n",
      "per_of_nulls   :  % 2.2\n",
      "num_of_nulls   :  350\n",
      "num_of_uniques :  8\n",
      "--------------------------------\n",
      "Sedans           7903\n",
      "Station wagon    3553\n",
      "Compact          3153\n",
      "Van               783\n",
      "NaN               350\n",
      "Transporter        88\n",
      "Off-Road           56\n",
      "Coupe              25\n",
      "Convertible         8\n",
      "Name: body_type, dtype: int64\n"
     ]
    }
   ],
   "source": [
    "first_looking(\"body_type\")"
   ]
  },
  {
   "cell_type": "markdown",
   "metadata": {},
   "source": [
    "## 'type'"
   ]
  },
  {
   "cell_type": "code",
   "execution_count": 57,
   "metadata": {
    "ExecuteTime": {
     "end_time": "2022-08-02T08:10:59.177240Z",
     "start_time": "2022-08-02T08:10:59.129243Z"
    }
   },
   "outputs": [
    {
     "data": {
      "text/plain": [
       "Used,,Diesel (Particulate Filter)                                                                                 3475\n",
       "Used,,Diesel                                                                                                      2516\n",
       "Used,,Gasoline                                                                                                    2367\n",
       "Used,,Super 95                                                                                                    1818\n",
       "Pre-registered,,Super 95                                                                                           500\n",
       "                                                                                                                  ... \n",
       "New,,Regular/Benzine 91 / Super 95 / Super Plus 98 / Regular/Benzine E10 91 / Super Plus E10 98 / Super E10 95       1\n",
       "Used,,Super 95 / Super Plus 98 / Super E10 95 / Super Plus E10 98 (Particulate Filter)                               1\n",
       "Demonstration,,Super Plus 98                                                                                         1\n",
       "New,,Super Plus E10 98                                                                                               1\n",
       "Demonstration,,Regular/Benzine E10 91                                                                                1\n",
       "Name: type, Length: 169, dtype: int64"
      ]
     },
     "execution_count": 57,
     "metadata": {},
     "output_type": "execute_result"
    }
   ],
   "source": [
    "df['type'].value_counts()"
   ]
  },
  {
   "cell_type": "code",
   "execution_count": 62,
   "metadata": {
    "ExecuteTime": {
     "end_time": "2022-08-02T08:16:36.649175Z",
     "start_time": "2022-08-02T08:16:36.559176Z"
    }
   },
   "outputs": [],
   "source": [
    "df[\"type\"] = df[\"type\"].str.split(',').str[0]"
   ]
  },
  {
   "cell_type": "code",
   "execution_count": 63,
   "metadata": {
    "ExecuteTime": {
     "end_time": "2022-08-02T08:16:39.154177Z",
     "start_time": "2022-08-02T08:16:39.106176Z"
    }
   },
   "outputs": [
    {
     "data": {
      "text/plain": [
       "Used              11096\n",
       "New                1650\n",
       "Pre-registered     1364\n",
       "Employee's car     1011\n",
       "Demonstration       796\n",
       "Name: type, dtype: int64"
      ]
     },
     "execution_count": 63,
     "metadata": {},
     "output_type": "execute_result"
    }
   ],
   "source": [
    "df.type.value_counts()"
   ]
  },
  {
   "cell_type": "code",
   "execution_count": 59,
   "metadata": {
    "ExecuteTime": {
     "end_time": "2022-08-02T08:13:11.104991Z",
     "start_time": "2022-08-02T08:13:10.583371Z"
    }
   },
   "outputs": [
    {
     "data": {
      "text/plain": [
       "make_model                0\n",
       "body_type                 0\n",
       "price                     0\n",
       "vat                       0\n",
       "km                        0\n",
       "registration           1597\n",
       "prev_owner                0\n",
       "hp                        0\n",
       "type                      0\n",
       "previous_owners           0\n",
       "next_inspection           0\n",
       "inspection_new            0\n",
       "warranty               1343\n",
       "full_service           1985\n",
       "non_smoking_vehicle    3717\n",
       "offer_number              0\n",
       "first_registration        0\n",
       "body_color                0\n",
       "paint_type                0\n",
       "body_color_original       0\n",
       "upholstery                0\n",
       "nr_of_doors               0\n",
       "nr_of_seats               0\n",
       "model_code                0\n",
       "gearing_type              0\n",
       "displacement              0\n",
       "cylinders                 0\n",
       "weight                    0\n",
       "drive_chain               0\n",
       "fuel                      0\n",
       "consumption               0\n",
       "co_2_emission           628\n",
       "emission_class          607\n",
       "comfort_convenience       0\n",
       "entertainment_media       0\n",
       "extras                    0\n",
       "safety_security           0\n",
       "emission_label           40\n",
       "gears                     0\n",
       "country_version           0\n",
       "dtype: int64"
      ]
     },
     "execution_count": 59,
     "metadata": {},
     "output_type": "execute_result"
    }
   ],
   "source": [
    "df.isin(['']).sum()"
   ]
  },
  {
   "cell_type": "code",
   "execution_count": 60,
   "metadata": {
    "ExecuteTime": {
     "end_time": "2022-08-02T08:13:41.027262Z",
     "start_time": "2022-08-02T08:13:40.610945Z"
    }
   },
   "outputs": [],
   "source": [
    "df[df.isin([''])] = np.NaN"
   ]
  },
  {
   "cell_type": "code",
   "execution_count": 61,
   "metadata": {
    "ExecuteTime": {
     "end_time": "2022-08-02T08:13:56.824524Z",
     "start_time": "2022-08-02T08:13:56.514525Z"
    }
   },
   "outputs": [
    {
     "data": {
      "text/plain": [
       "make_model             0\n",
       "body_type              0\n",
       "price                  0\n",
       "vat                    0\n",
       "km                     0\n",
       "registration           0\n",
       "prev_owner             0\n",
       "hp                     0\n",
       "type                   0\n",
       "previous_owners        0\n",
       "next_inspection        0\n",
       "inspection_new         0\n",
       "warranty               0\n",
       "full_service           0\n",
       "non_smoking_vehicle    0\n",
       "offer_number           0\n",
       "first_registration     0\n",
       "body_color             0\n",
       "paint_type             0\n",
       "body_color_original    0\n",
       "upholstery             0\n",
       "nr_of_doors            0\n",
       "nr_of_seats            0\n",
       "model_code             0\n",
       "gearing_type           0\n",
       "displacement           0\n",
       "cylinders              0\n",
       "weight                 0\n",
       "drive_chain            0\n",
       "fuel                   0\n",
       "consumption            0\n",
       "co_2_emission          0\n",
       "emission_class         0\n",
       "comfort_convenience    0\n",
       "entertainment_media    0\n",
       "extras                 0\n",
       "safety_security        0\n",
       "emission_label         0\n",
       "gears                  0\n",
       "country_version        0\n",
       "dtype: int64"
      ]
     },
     "execution_count": 61,
     "metadata": {},
     "output_type": "execute_result"
    }
   ],
   "source": [
    "df.isin(['']).sum()"
   ]
  },
  {
   "cell_type": "markdown",
   "metadata": {},
   "source": [
    "## 'km'"
   ]
  },
  {
   "cell_type": "code",
   "execution_count": 64,
   "metadata": {
    "ExecuteTime": {
     "end_time": "2022-08-02T08:17:49.011232Z",
     "start_time": "2022-08-02T08:17:48.955237Z"
    }
   },
   "outputs": [
    {
     "data": {
      "text/plain": [
       "10 km        1045\n",
       "km           1024\n",
       "1 km          367\n",
       "5 km          170\n",
       "50 km         148\n",
       "             ... \n",
       "67,469 km       1\n",
       "43,197 km       1\n",
       "10,027 km       1\n",
       "35,882 km       1\n",
       "57 km           1\n",
       "Name: km, Length: 6690, dtype: int64"
      ]
     },
     "execution_count": 64,
     "metadata": {},
     "output_type": "execute_result"
    }
   ],
   "source": [
    "df['km'].value_counts(dropna=False)"
   ]
  },
  {
   "cell_type": "code",
   "execution_count": 92,
   "metadata": {
    "ExecuteTime": {
     "end_time": "2022-08-02T08:45:25.011820Z",
     "start_time": "2022-08-02T08:45:24.964817Z"
    }
   },
   "outputs": [],
   "source": [
    "#df.km = df.km.str.replace(\"km\", \"-\")\n",
    "df.km = df.km.str.replace(\"-\", \"\")"
   ]
  },
  {
   "cell_type": "code",
   "execution_count": 81,
   "metadata": {
    "ExecuteTime": {
     "end_time": "2022-08-02T08:41:45.234818Z",
     "start_time": "2022-08-02T08:41:45.208818Z"
    }
   },
   "outputs": [],
   "source": [
    "df.km.replace(\"km\", np.nan, inplace=True)"
   ]
  },
  {
   "cell_type": "code",
   "execution_count": 94,
   "metadata": {
    "ExecuteTime": {
     "end_time": "2022-08-02T08:45:56.204924Z",
     "start_time": "2022-08-02T08:45:56.166923Z"
    }
   },
   "outputs": [
    {
     "data": {
      "text/plain": [
       "10         1045\n",
       "NaN        1024\n",
       "1           367\n",
       "5           170\n",
       "50          148\n",
       "           ... \n",
       "67,469        1\n",
       "43,197        1\n",
       "10,027        1\n",
       "35,882        1\n",
       "57            1\n",
       "Name: km, Length: 6690, dtype: int64"
      ]
     },
     "execution_count": 94,
     "metadata": {},
     "output_type": "execute_result"
    }
   ],
   "source": [
    "df['km'].value_counts(dropna=False)"
   ]
  },
  {
   "cell_type": "code",
   "execution_count": 348,
   "metadata": {
    "ExecuteTime": {
     "end_time": "2022-08-02T15:25:26.897319Z",
     "start_time": "2022-08-02T15:25:26.684328Z"
    }
   },
   "outputs": [],
   "source": [
    "df['km'] = df['km'].str.replace(',', '').str.extract('(\\d+)').astype(float)"
   ]
  },
  {
   "cell_type": "code",
   "execution_count": null,
   "metadata": {},
   "outputs": [],
   "source": []
  },
  {
   "cell_type": "markdown",
   "metadata": {},
   "source": [
    "## 'registration' and 'first_registration'"
   ]
  },
  {
   "cell_type": "code",
   "execution_count": 99,
   "metadata": {
    "ExecuteTime": {
     "end_time": "2022-08-02T08:53:43.817056Z",
     "start_time": "2022-08-02T08:53:43.747060Z"
    }
   },
   "outputs": [
    {
     "data": {
      "text/plain": [
       "registration  first_registration\n",
       "NaN           NaN                   1597\n",
       "03/2018       2018                   695\n",
       "02/2019       2019                   585\n",
       "05/2018       2018                   572\n",
       "03/2019       2019                   543\n",
       "01/2019       2019                   541\n",
       "04/2018       2018                   541\n",
       "02/2018       2018                   539\n",
       "03/2016       2016                   536\n",
       "06/2018       2018                   532\n",
       "04/2016       2016                   532\n",
       "01/2018       2018                   511\n",
       "04/2019       2019                   506\n",
       "02/2016       2016                   472\n",
       "03/2017       2017                   471\n",
       "05/2016       2016                   459\n",
       "06/2016       2016                   452\n",
       "05/2019       2019                   440\n",
       "06/2017       2017                   409\n",
       "05/2017       2017                   404\n",
       "07/2018       2018                   396\n",
       "04/2017       2017                   380\n",
       "01/2016       2016                   376\n",
       "02/2017       2017                   368\n",
       "01/2017       2017                   306\n",
       "08/2018       2018                   285\n",
       "06/2019       2019                   224\n",
       "07/2017       2017                   215\n",
       "11/2017       2017                   180\n",
       "07/2016       2016                   176\n",
       "10/2016       2016                   160\n",
       "10/2017       2017                   154\n",
       "09/2017       2017                   149\n",
       "11/2016       2016                   142\n",
       "09/2016       2016                   141\n",
       "09/2018       2018                   141\n",
       "12/2016       2016                   134\n",
       "12/2017       2017                   123\n",
       "08/2017       2017                   114\n",
       "11/2018       2018                   110\n",
       "12/2018       2018                   103\n",
       "10/2018       2018                    97\n",
       "08/2016       2016                    94\n",
       "07/2019       2019                     6\n",
       "09/2019       2019                     5\n",
       "08/2019       2019                     1\n",
       "11/2019       2019                     1\n",
       "12/2019       2019                     1\n",
       "dtype: int64"
      ]
     },
     "execution_count": 99,
     "metadata": {},
     "output_type": "execute_result"
    }
   ],
   "source": [
    "df[['registration', 'first_registration']].value_counts(dropna=False)"
   ]
  },
  {
   "cell_type": "code",
   "execution_count": 100,
   "metadata": {
    "ExecuteTime": {
     "end_time": "2022-08-02T08:55:10.907128Z",
     "start_time": "2022-08-02T08:55:10.786128Z"
    }
   },
   "outputs": [],
   "source": [
    "df['first_registration'] = df['first_registration'].astype(float)"
   ]
  },
  {
   "cell_type": "code",
   "execution_count": 102,
   "metadata": {
    "ExecuteTime": {
     "end_time": "2022-08-02T08:58:59.685085Z",
     "start_time": "2022-08-02T08:58:59.649092Z"
    }
   },
   "outputs": [
    {
     "data": {
      "text/plain": [
       "2018.00    4522\n",
       "2016.00    3674\n",
       "2017.00    3273\n",
       "2019.00    2853\n",
       "NaN        1597\n",
       "Name: first_registration, dtype: int64"
      ]
     },
     "execution_count": 102,
     "metadata": {},
     "output_type": "execute_result"
    }
   ],
   "source": [
    "df[\"first_registration\"].value_counts(dropna=False)"
   ]
  },
  {
   "cell_type": "code",
   "execution_count": 103,
   "metadata": {
    "ExecuteTime": {
     "end_time": "2022-08-02T09:01:00.834324Z",
     "start_time": "2022-08-02T09:01:00.805325Z"
    }
   },
   "outputs": [],
   "source": [
    "# The data used for this project were of 2019.\n",
    "\n",
    "df['age'] = 2019 - df['first_registration']"
   ]
  },
  {
   "cell_type": "code",
   "execution_count": 104,
   "metadata": {
    "ExecuteTime": {
     "end_time": "2022-08-02T09:03:24.588098Z",
     "start_time": "2022-08-02T09:03:24.552099Z"
    }
   },
   "outputs": [
    {
     "data": {
      "text/plain": [
       "1.00    4522\n",
       "3.00    3674\n",
       "2.00    3273\n",
       "0.00    2853\n",
       "NaN     1597\n",
       "Name: age, dtype: int64"
      ]
     },
     "execution_count": 104,
     "metadata": {},
     "output_type": "execute_result"
    }
   ],
   "source": [
    "df['age'].value_counts(dropna=False)"
   ]
  },
  {
   "cell_type": "code",
   "execution_count": 105,
   "metadata": {
    "ExecuteTime": {
     "end_time": "2022-08-02T09:03:56.640097Z",
     "start_time": "2022-08-02T09:03:56.601099Z"
    }
   },
   "outputs": [
    {
     "data": {
      "text/plain": [
       "Index(['make_model', 'body_type', 'price', 'vat', 'km', 'prev_owner', 'hp',\n",
       "       'type', 'previous_owners', 'next_inspection', 'inspection_new',\n",
       "       'warranty', 'full_service', 'non_smoking_vehicle', 'offer_number',\n",
       "       'first_registration', 'body_color', 'paint_type', 'body_color_original',\n",
       "       'upholstery', 'nr_of_doors', 'nr_of_seats', 'model_code',\n",
       "       'gearing_type', 'displacement', 'cylinders', 'weight', 'drive_chain',\n",
       "       'fuel', 'consumption', 'co_2_emission', 'emission_class',\n",
       "       'comfort_convenience', 'entertainment_media', 'extras',\n",
       "       'safety_security', 'emission_label', 'gears', 'country_version', 'age'],\n",
       "      dtype='object')"
      ]
     },
     "execution_count": 105,
     "metadata": {},
     "output_type": "execute_result"
    }
   ],
   "source": [
    "df.columns"
   ]
  },
  {
   "cell_type": "markdown",
   "metadata": {},
   "source": [
    "  **'first_registration' and  'registration' dropped , because we have 'age' column**"
   ]
  },
  {
   "cell_type": "code",
   "execution_count": 108,
   "metadata": {
    "ExecuteTime": {
     "end_time": "2022-08-02T09:07:19.424955Z",
     "start_time": "2022-08-02T09:07:19.313961Z"
    }
   },
   "outputs": [],
   "source": [
    "df.drop([\"first_registration\", \"registration\"], axis=1, inplace=True)"
   ]
  },
  {
   "cell_type": "code",
   "execution_count": 109,
   "metadata": {
    "ExecuteTime": {
     "end_time": "2022-08-02T09:08:36.410102Z",
     "start_time": "2022-08-02T09:08:36.384110Z"
    }
   },
   "outputs": [
    {
     "name": "stdout",
     "output_type": "stream",
     "text": [
      "column name    :  age\n",
      "--------------------------------\n",
      "per_of_nulls   :  % 10.03\n",
      "num_of_nulls   :  1597\n",
      "num_of_uniques :  4\n",
      "--------------------------------\n",
      "1.00    4522\n",
      "3.00    3674\n",
      "2.00    3273\n",
      "0.00    2853\n",
      "NaN     1597\n",
      "Name: age, dtype: int64\n"
     ]
    }
   ],
   "source": [
    "first_looking(\"age\")"
   ]
  },
  {
   "cell_type": "markdown",
   "metadata": {},
   "source": [
    "## ''prev_owner'' and ''previous_owners''"
   ]
  },
  {
   "cell_type": "code",
   "execution_count": 111,
   "metadata": {
    "ExecuteTime": {
     "end_time": "2022-08-02T09:12:48.455354Z",
     "start_time": "2022-08-02T09:12:48.388356Z"
    }
   },
   "outputs": [
    {
     "data": {
      "text/plain": [
       "prev_owner         previous_owners                                                          \n",
       "1 previous owner   1                                                                            8103\n",
       "NaN                NaN                                                                          6640\n",
       "2 previous owners  2                                                                             766\n",
       "NaN                0                                                                             163\n",
       "3 previous owners  3                                                                              17\n",
       "                                                                                                ... \n",
       "1 previous owner   1\\n,\\n188 g CO2/km (comb)                                                       1\n",
       "                   1\\n,\\n84 g CO2/km (comb)                                                        1\n",
       "                   1\\n,\\n85 g CO2/km (comb)                                                        1\n",
       "                   1\\n,\\n96 g CO2/km (comb)                                                        1\n",
       "                   1\\n,\\n,4.9 l/100 km (comb),\\n,6 l/100 km (city),\\n,4.2 l/100 km (country)       1\n",
       "Length: 102, dtype: int64"
      ]
     },
     "execution_count": 111,
     "metadata": {},
     "output_type": "execute_result"
    }
   ],
   "source": [
    "df[['prev_owner', 'previous_owners']].value_counts(dropna=False)"
   ]
  },
  {
   "cell_type": "code",
   "execution_count": 112,
   "metadata": {
    "ExecuteTime": {
     "end_time": "2022-08-02T09:14:52.147029Z",
     "start_time": "2022-08-02T09:14:52.120030Z"
    }
   },
   "outputs": [
    {
     "data": {
      "text/plain": [
       "1                                                                              8103\n",
       "NaN                                                                            6640\n",
       "2                                                                               766\n",
       "0                                                                               163\n",
       "3                                                                                17\n",
       "                                                                               ... \n",
       "1\\n,\\n111 g CO2/km (comb)                                                         1\n",
       "1\\n,\\nEuro 6                                                                      1\n",
       "2\\n,\\n119 g CO2/km (comb)                                                         1\n",
       "1\\n,\\n,6.6 l/100 km (comb),\\n,8.1 l/100 km (city),\\n,5.7 l/100 km (country)       1\n",
       "1\\n,\\n142 g CO2/km (comb)                                                         1\n",
       "Name: previous_owners, Length: 102, dtype: int64"
      ]
     },
     "execution_count": 112,
     "metadata": {},
     "output_type": "execute_result"
    }
   ],
   "source": [
    "df[\"previous_owners\"].value_counts(dropna=False)"
   ]
  },
  {
   "cell_type": "code",
   "execution_count": 113,
   "metadata": {
    "ExecuteTime": {
     "end_time": "2022-08-02T09:16:02.214859Z",
     "start_time": "2022-08-02T09:16:02.167860Z"
    }
   },
   "outputs": [
    {
     "data": {
      "text/plain": [
       "1 previous owner     8294\n",
       "NaN                  6828\n",
       "2 previous owners     778\n",
       "3 previous owners      17\n",
       "4 previous owners       2\n",
       "Name: prev_owner, dtype: int64"
      ]
     },
     "execution_count": 113,
     "metadata": {},
     "output_type": "execute_result"
    }
   ],
   "source": [
    "df[\"prev_owner\"].value_counts(dropna=False)"
   ]
  },
  {
   "cell_type": "code",
   "execution_count": 114,
   "metadata": {
    "ExecuteTime": {
     "end_time": "2022-08-02T09:24:05.926009Z",
     "start_time": "2022-08-02T09:24:05.720013Z"
    }
   },
   "outputs": [],
   "source": [
    "df['prev_owner'] = df['prev_owner'].str.extract('(\\d+)').astype(float)"
   ]
  },
  {
   "cell_type": "code",
   "execution_count": 115,
   "metadata": {
    "ExecuteTime": {
     "end_time": "2022-08-02T09:24:13.690009Z",
     "start_time": "2022-08-02T09:24:13.642010Z"
    }
   },
   "outputs": [
    {
     "data": {
      "text/plain": [
       "1.00    8294\n",
       "NaN     6828\n",
       "2.00     778\n",
       "3.00      17\n",
       "4.00       2\n",
       "Name: prev_owner, dtype: int64"
      ]
     },
     "execution_count": 115,
     "metadata": {},
     "output_type": "execute_result"
    }
   ],
   "source": [
    "df[\"prev_owner\"].value_counts(dropna=False)"
   ]
  },
  {
   "cell_type": "code",
   "execution_count": 116,
   "metadata": {
    "ExecuteTime": {
     "end_time": "2022-08-02T09:25:12.175715Z",
     "start_time": "2022-08-02T09:25:12.066720Z"
    }
   },
   "outputs": [],
   "source": [
    "df['previous_owners'] = df['previous_owners'].str.extract('(\\d+)').astype(float)"
   ]
  },
  {
   "cell_type": "code",
   "execution_count": 117,
   "metadata": {
    "ExecuteTime": {
     "end_time": "2022-08-02T09:25:28.616252Z",
     "start_time": "2022-08-02T09:25:28.570256Z"
    }
   },
   "outputs": [
    {
     "data": {
      "text/plain": [
       "1.00    8294\n",
       "NaN     6640\n",
       "2.00     778\n",
       "0.00     188\n",
       "3.00      17\n",
       "4.00       2\n",
       "Name: previous_owners, dtype: int64"
      ]
     },
     "execution_count": 117,
     "metadata": {},
     "output_type": "execute_result"
    }
   ],
   "source": [
    "df[\"previous_owners\"].value_counts(dropna=False)"
   ]
  },
  {
   "cell_type": "code",
   "execution_count": 128,
   "metadata": {
    "ExecuteTime": {
     "end_time": "2022-08-02T10:18:59.315840Z",
     "start_time": "2022-08-02T10:18:59.283838Z"
    }
   },
   "outputs": [
    {
     "data": {
      "text/plain": [
       "Index(['make_model', 'body_type', 'price', 'vat', 'km', 'prev_owner', 'hp',\n",
       "       'type', 'previous_owners', 'next_inspection', 'inspection_new',\n",
       "       'warranty', 'full_service', 'non_smoking_vehicle', 'offer_number',\n",
       "       'body_color', 'paint_type', 'body_color_original', 'upholstery',\n",
       "       'nr_of_doors', 'nr_of_seats', 'model_code', 'gearing_type',\n",
       "       'displacement', 'cylinders', 'weight', 'drive_chain', 'fuel',\n",
       "       'consumption', 'co_2_emission', 'emission_class', 'comfort_convenience',\n",
       "       'entertainment_media', 'extras', 'safety_security', 'emission_label',\n",
       "       'gears', 'country_version', 'age'],\n",
       "      dtype='object')"
      ]
     },
     "execution_count": 128,
     "metadata": {},
     "output_type": "execute_result"
    }
   ],
   "source": [
    "df.columns"
   ]
  },
  {
   "cell_type": "code",
   "execution_count": 127,
   "metadata": {
    "ExecuteTime": {
     "end_time": "2022-08-02T10:17:02.392332Z",
     "start_time": "2022-08-02T10:16:59.172328Z"
    }
   },
   "outputs": [
    {
     "data": {
      "text/plain": [
       "85 kW     2542\n",
       "66 kW     2122\n",
       "81 kW     1402\n",
       "100 kW    1308\n",
       "110 kW    1112\n",
       "70 kW      888\n",
       "125 kW     707\n",
       "51 kW      695\n",
       "55 kW      569\n",
       "118 kW     516\n",
       "92 kW      466\n",
       "121 kW     392\n",
       "147 kW     380\n",
       "77 kW      345\n",
       "56 kW      286\n",
       "54 kW      276\n",
       "103 kW     253\n",
       "87 kW      232\n",
       "165 kW     194\n",
       "88 kW      177\n",
       "60 kW      160\n",
       "162 kW      98\n",
       "kW          88\n",
       "74 kW       81\n",
       "96 kW       72\n",
       "71 kW       59\n",
       "101 kW      47\n",
       "67 kW       40\n",
       "154 kW      39\n",
       "122 kW      35\n",
       "119 kW      30\n",
       "164 kW      27\n",
       "135 kW      24\n",
       "82 kW       22\n",
       "52 kW       22\n",
       "78 kW       20\n",
       "1 kW        20\n",
       "294 kW      18\n",
       "146 kW      18\n",
       "141 kW      16\n",
       "57 kW       10\n",
       "104 kW       8\n",
       "120 kW       8\n",
       "191 kW       7\n",
       "112 kW       7\n",
       "155 kW       6\n",
       "117 kW       6\n",
       "184 kW       5\n",
       "90 kW        4\n",
       "76 kW        4\n",
       "65 kW        4\n",
       "149 kW       3\n",
       "80 kW        3\n",
       "168 kW       3\n",
       "98 kW        3\n",
       "93 kW        3\n",
       "228 kW       2\n",
       "270 kW       2\n",
       "53 kW        2\n",
       "140 kW       2\n",
       "86 kW        2\n",
       "167 kW       2\n",
       "127 kW       2\n",
       "89 kW        2\n",
       "143 kW       2\n",
       "63 kW        2\n",
       "40 kW        2\n",
       "150 kW       2\n",
       "163 kW       1\n",
       "115 kW       1\n",
       "132 kW       1\n",
       "75 kW        1\n",
       "4 kW         1\n",
       "137 kW       1\n",
       "123 kW       1\n",
       "133 kW       1\n",
       "84 kW        1\n",
       "195 kW       1\n",
       "44 kW        1\n",
       "239 kW       1\n",
       "9 kW         1\n",
       "Name: hp, dtype: int64"
      ]
     },
     "execution_count": 127,
     "metadata": {},
     "output_type": "execute_result"
    }
   ],
   "source": [
    "df.hp.value_counts(dropna=False)"
   ]
  },
  {
   "cell_type": "code",
   "execution_count": 129,
   "metadata": {
    "ExecuteTime": {
     "end_time": "2022-08-02T10:21:31.564817Z",
     "start_time": "2022-08-02T10:21:31.263824Z"
    }
   },
   "outputs": [],
   "source": [
    "df.hp = df.hp.str.replace(\"kW\", \"\")"
   ]
  },
  {
   "cell_type": "code",
   "execution_count": 135,
   "metadata": {
    "ExecuteTime": {
     "end_time": "2022-08-02T10:32:22.786148Z",
     "start_time": "2022-08-02T10:32:21.674598Z"
    }
   },
   "outputs": [],
   "source": [
    "df[\"hp\"] = pd.to_numeric(df.hp)"
   ]
  },
  {
   "cell_type": "code",
   "execution_count": 138,
   "metadata": {
    "ExecuteTime": {
     "end_time": "2022-08-02T10:34:06.437095Z",
     "start_time": "2022-08-02T10:34:06.418099Z"
    }
   },
   "outputs": [],
   "source": [
    "df['hp'] = df['hp'].astype(float) "
   ]
  },
  {
   "cell_type": "code",
   "execution_count": 142,
   "metadata": {
    "ExecuteTime": {
     "end_time": "2022-08-02T10:35:45.203419Z",
     "start_time": "2022-08-02T10:35:45.162420Z"
    }
   },
   "outputs": [
    {
     "data": {
      "text/plain": [
       "85.00     2542\n",
       "66.00     2122\n",
       "81.00     1402\n",
       "100.00    1308\n",
       "110.00    1112\n",
       "70.00      888\n",
       "125.00     707\n",
       "51.00      695\n",
       "55.00      569\n",
       "118.00     516\n",
       "92.00      466\n",
       "121.00     392\n",
       "147.00     380\n",
       "77.00      345\n",
       "56.00      286\n",
       "54.00      276\n",
       "103.00     253\n",
       "87.00      232\n",
       "165.00     194\n",
       "88.00      177\n",
       "60.00      160\n",
       "162.00      98\n",
       "NaN         88\n",
       "74.00       81\n",
       "96.00       72\n",
       "71.00       59\n",
       "101.00      47\n",
       "67.00       40\n",
       "154.00      39\n",
       "122.00      35\n",
       "119.00      30\n",
       "164.00      27\n",
       "135.00      24\n",
       "82.00       22\n",
       "52.00       22\n",
       "78.00       20\n",
       "1.00        20\n",
       "294.00      18\n",
       "146.00      18\n",
       "141.00      16\n",
       "57.00       10\n",
       "104.00       8\n",
       "120.00       8\n",
       "191.00       7\n",
       "112.00       7\n",
       "155.00       6\n",
       "117.00       6\n",
       "184.00       5\n",
       "90.00        4\n",
       "76.00        4\n",
       "65.00        4\n",
       "149.00       3\n",
       "80.00        3\n",
       "168.00       3\n",
       "98.00        3\n",
       "93.00        3\n",
       "228.00       2\n",
       "270.00       2\n",
       "53.00        2\n",
       "140.00       2\n",
       "86.00        2\n",
       "167.00       2\n",
       "127.00       2\n",
       "89.00        2\n",
       "143.00       2\n",
       "63.00        2\n",
       "40.00        2\n",
       "150.00       2\n",
       "163.00       1\n",
       "115.00       1\n",
       "132.00       1\n",
       "75.00        1\n",
       "4.00         1\n",
       "137.00       1\n",
       "123.00       1\n",
       "133.00       1\n",
       "84.00        1\n",
       "195.00       1\n",
       "44.00        1\n",
       "239.00       1\n",
       "9.00         1\n",
       "Name: hp, dtype: int64"
      ]
     },
     "execution_count": 142,
     "metadata": {},
     "output_type": "execute_result"
    }
   ],
   "source": [
    "df.hp.value_counts(dropna=False)"
   ]
  },
  {
   "cell_type": "code",
   "execution_count": 141,
   "metadata": {
    "ExecuteTime": {
     "end_time": "2022-08-02T10:35:13.558208Z",
     "start_time": "2022-08-02T10:35:13.513209Z"
    }
   },
   "outputs": [
    {
     "data": {
      "text/plain": [
       "0        66.00\n",
       "1       141.00\n",
       "2        85.00\n",
       "3        66.00\n",
       "4        66.00\n",
       "         ...  \n",
       "15914   147.00\n",
       "15915   165.00\n",
       "15916   146.00\n",
       "15917   147.00\n",
       "15918   165.00\n",
       "Name: hp, Length: 15919, dtype: float64"
      ]
     },
     "execution_count": 141,
     "metadata": {},
     "output_type": "execute_result"
    }
   ],
   "source": [
    "df[\"hp\"] "
   ]
  },
  {
   "cell_type": "markdown",
   "metadata": {},
   "source": [
    "## '''next_inspection''' and ''inspection_new''"
   ]
  },
  {
   "cell_type": "code",
   "execution_count": 144,
   "metadata": {
    "ExecuteTime": {
     "end_time": "2022-08-02T10:44:04.203725Z",
     "start_time": "2022-08-02T10:44:04.131727Z"
    }
   },
   "outputs": [
    {
     "name": "stdout",
     "output_type": "stream",
     "text": [
      "column name    :  next_inspection\n",
      "--------------------------------\n",
      "per_of_nulls   :  % 77.79\n",
      "num_of_nulls   :  12384\n",
      "num_of_uniques :  1384\n",
      "--------------------------------\n",
      "NaN                                12384\n",
      "04/2022                               62\n",
      "06/2021                               47\n",
      "03/2021                               39\n",
      "03/2022                               36\n",
      "                                   ...  \n",
      "06/2021\\n,\\n121 g CO2/km (comb)        1\n",
      "02/2020\\n,\\n139 g CO2/km (comb)        1\n",
      "10/2021\\n,\\n136 g CO2/km (comb)        1\n",
      "06/2019\\n,\\n139 g CO2/km (comb)        1\n",
      "01/2022\\n,\\n168 g CO2/km (comb)        1\n",
      "Name: next_inspection, Length: 1385, dtype: int64\n"
     ]
    }
   ],
   "source": [
    "first_looking(\"next_inspection\")"
   ]
  },
  {
   "cell_type": "code",
   "execution_count": 145,
   "metadata": {
    "ExecuteTime": {
     "end_time": "2022-08-02T10:44:29.971529Z",
     "start_time": "2022-08-02T10:44:29.922528Z"
    }
   },
   "outputs": [
    {
     "name": "stdout",
     "output_type": "stream",
     "text": [
      "column name    :  inspection_new\n",
      "--------------------------------\n",
      "per_of_nulls   :  % 75.3\n",
      "num_of_nulls   :  11987\n",
      "num_of_uniques :  201\n",
      "--------------------------------\n",
      "NaN                                                                              11987\n",
      "Yes\\n,\\nEuro 6                                                                     523\n",
      "Yes                                                                                442\n",
      "Yes\\n,\\n102 g CO2/km (comb)                                                        174\n",
      "Yes\\n,\\n4 (Green)                                                                  166\n",
      "                                                                                 ...  \n",
      "Yes\\n,\\n,5.2 l/100 km (comb),\\n,6.7 l/100 km (city),\\n,4.2 l/100 km (country)        1\n",
      "Yes\\n,\\n100 g CO2/km (comb)                                                          1\n",
      "Yes\\n,\\n,4.9 l/100 km (comb),\\n,5.9 l/100 km (city),\\n,4.3 l/100 km (country)        1\n",
      "Yes\\n,\\n,5.1 l/100 km (comb),\\n,6.4 l/100 km (city),\\n,4.3 l/100 km (country)        1\n",
      "Yes\\n,\\n172 g CO2/km (comb)                                                          1\n",
      "Name: inspection_new, Length: 202, dtype: int64\n"
     ]
    }
   ],
   "source": [
    "first_looking(\"inspection_new\")"
   ]
  },
  {
   "cell_type": "code",
   "execution_count": 152,
   "metadata": {
    "ExecuteTime": {
     "end_time": "2022-08-02T10:57:37.041638Z",
     "start_time": "2022-08-02T10:57:36.820640Z"
    }
   },
   "outputs": [],
   "source": [
    "df.drop([\"inspection_new\", \"next_inspection\"], axis=1, inplace=True)\n",
    "#Both columns have too much nulls"
   ]
  },
  {
   "cell_type": "markdown",
   "metadata": {
    "ExecuteTime": {
     "end_time": "2022-08-02T11:42:14.197067Z",
     "start_time": "2022-08-02T11:42:14.115066Z"
    }
   },
   "source": [
    "## 'warranty'"
   ]
  },
  {
   "cell_type": "code",
   "execution_count": 154,
   "metadata": {
    "ExecuteTime": {
     "end_time": "2022-08-02T11:01:40.613114Z",
     "start_time": "2022-08-02T11:01:40.579117Z"
    }
   },
   "outputs": [
    {
     "data": {
      "text/plain": [
       "NaN                                                                                  6763\n",
       "Euro 6                                                                               1868\n",
       "12 months                                                                            1305\n",
       "24 months                                                                             585\n",
       "4 (Green)                                                                             517\n",
       "                                                                                     ... \n",
       "2 months                                                                                1\n",
       "72 months\\n,\\n125 g CO2/km (comb)                                                       1\n",
       "60 months\\n,\\n14 g CO2/km (comb)                                                        1\n",
       "24 months\\n,\\n121 g CO2/km (comb)                                                       1\n",
       "36 months\\n,\\n,7.4 l/100 km (comb),\\n,9.6 l/100 km (city),\\n,6 l/100 km (country)       1\n",
       "Name: warranty, Length: 506, dtype: int64"
      ]
     },
     "execution_count": 154,
     "metadata": {},
     "output_type": "execute_result"
    }
   ],
   "source": [
    "df['warranty'].value_counts(dropna=False)"
   ]
  },
  {
   "cell_type": "code",
   "execution_count": 159,
   "metadata": {
    "ExecuteTime": {
     "end_time": "2022-08-02T11:07:12.459087Z",
     "start_time": "2022-08-02T11:07:12.371089Z"
    }
   },
   "outputs": [],
   "source": [
    "df['warranty_months'] = df['warranty'].str.extract('(\\d+) months').astype(float)"
   ]
  },
  {
   "cell_type": "code",
   "execution_count": 161,
   "metadata": {
    "ExecuteTime": {
     "end_time": "2022-08-02T11:07:41.727442Z",
     "start_time": "2022-08-02T11:07:41.683448Z"
    }
   },
   "outputs": [
    {
     "data": {
      "text/plain": [
       "NaN      11066\n",
       "12.00     2594\n",
       "24.00     1118\n",
       "60.00      401\n",
       "36.00      279\n",
       "48.00      149\n",
       "6.00       125\n",
       "72.00       59\n",
       "3.00        33\n",
       "23.00       11\n",
       "18.00       10\n",
       "20.00        7\n",
       "25.00        6\n",
       "2.00         5\n",
       "50.00        4\n",
       "26.00        4\n",
       "16.00        4\n",
       "4.00         3\n",
       "1.00         3\n",
       "19.00        3\n",
       "34.00        3\n",
       "13.00        3\n",
       "28.00        2\n",
       "22.00        2\n",
       "14.00        2\n",
       "11.00        2\n",
       "46.00        2\n",
       "21.00        2\n",
       "9.00         2\n",
       "17.00        2\n",
       "45.00        2\n",
       "33.00        1\n",
       "40.00        1\n",
       "65.00        1\n",
       "10.00        1\n",
       "15.00        1\n",
       "7.00         1\n",
       "8.00         1\n",
       "56.00        1\n",
       "49.00        1\n",
       "47.00        1\n",
       "30.00        1\n",
       "Name: warranty_months, dtype: int64"
      ]
     },
     "execution_count": 161,
     "metadata": {},
     "output_type": "execute_result"
    }
   ],
   "source": [
    "df['warranty_months'].value_counts(dropna=False)"
   ]
  },
  {
   "cell_type": "markdown",
   "metadata": {},
   "source": [
    "## 'full_service'"
   ]
  },
  {
   "cell_type": "code",
   "execution_count": 177,
   "metadata": {
    "collapsed": true
   },
   "outputs": [
    {
     "name": "stdout",
     "output_type": "stream",
     "text": [
      "column name    :  full_service\n",
      "--------------------------------\n"
     ]
    },
    {
     "ename": "KeyError",
     "evalue": "'full_service'",
     "output_type": "error",
     "traceback": [
      "\u001b[1;31m---------------------------------------------------------------------------\u001b[0m",
      "\u001b[1;31mKeyError\u001b[0m                                  Traceback (most recent call last)",
      "\u001b[1;32m~\\anaconda3\\lib\\site-packages\\pandas\\core\\indexes\\base.py\u001b[0m in \u001b[0;36mget_loc\u001b[1;34m(self, key, method, tolerance)\u001b[0m\n\u001b[0;32m   3360\u001b[0m             \u001b[1;32mtry\u001b[0m\u001b[1;33m:\u001b[0m\u001b[1;33m\u001b[0m\u001b[1;33m\u001b[0m\u001b[0m\n\u001b[1;32m-> 3361\u001b[1;33m                 \u001b[1;32mreturn\u001b[0m \u001b[0mself\u001b[0m\u001b[1;33m.\u001b[0m\u001b[0m_engine\u001b[0m\u001b[1;33m.\u001b[0m\u001b[0mget_loc\u001b[0m\u001b[1;33m(\u001b[0m\u001b[0mcasted_key\u001b[0m\u001b[1;33m)\u001b[0m\u001b[1;33m\u001b[0m\u001b[1;33m\u001b[0m\u001b[0m\n\u001b[0m\u001b[0;32m   3362\u001b[0m             \u001b[1;32mexcept\u001b[0m \u001b[0mKeyError\u001b[0m \u001b[1;32mas\u001b[0m \u001b[0merr\u001b[0m\u001b[1;33m:\u001b[0m\u001b[1;33m\u001b[0m\u001b[1;33m\u001b[0m\u001b[0m\n",
      "\u001b[1;32m~\\anaconda3\\lib\\site-packages\\pandas\\_libs\\index.pyx\u001b[0m in \u001b[0;36mpandas._libs.index.IndexEngine.get_loc\u001b[1;34m()\u001b[0m\n",
      "\u001b[1;32m~\\anaconda3\\lib\\site-packages\\pandas\\_libs\\index.pyx\u001b[0m in \u001b[0;36mpandas._libs.index.IndexEngine.get_loc\u001b[1;34m()\u001b[0m\n",
      "\u001b[1;32mpandas\\_libs\\hashtable_class_helper.pxi\u001b[0m in \u001b[0;36mpandas._libs.hashtable.PyObjectHashTable.get_item\u001b[1;34m()\u001b[0m\n",
      "\u001b[1;32mpandas\\_libs\\hashtable_class_helper.pxi\u001b[0m in \u001b[0;36mpandas._libs.hashtable.PyObjectHashTable.get_item\u001b[1;34m()\u001b[0m\n",
      "\u001b[1;31mKeyError\u001b[0m: 'full_service'",
      "\nThe above exception was the direct cause of the following exception:\n",
      "\u001b[1;31mKeyError\u001b[0m                                  Traceback (most recent call last)",
      "\u001b[1;32m~\\AppData\\Local\\Temp\\ipykernel_10348\\3859376825.py\u001b[0m in \u001b[0;36m<module>\u001b[1;34m\u001b[0m\n\u001b[1;32m----> 1\u001b[1;33m \u001b[0mfirst_looking\u001b[0m\u001b[1;33m(\u001b[0m\u001b[1;34m'full_service'\u001b[0m\u001b[1;33m)\u001b[0m\u001b[1;33m\u001b[0m\u001b[1;33m\u001b[0m\u001b[0m\n\u001b[0m",
      "\u001b[1;32m~\\AppData\\Local\\Temp\\ipykernel_10348\\1028505345.py\u001b[0m in \u001b[0;36mfirst_looking\u001b[1;34m(col)\u001b[0m\n\u001b[0;32m      2\u001b[0m     \u001b[0mprint\u001b[0m\u001b[1;33m(\u001b[0m\u001b[1;34m\"column name    : \"\u001b[0m\u001b[1;33m,\u001b[0m \u001b[0mcol\u001b[0m\u001b[1;33m)\u001b[0m\u001b[1;33m\u001b[0m\u001b[1;33m\u001b[0m\u001b[0m\n\u001b[0;32m      3\u001b[0m     \u001b[0mprint\u001b[0m\u001b[1;33m(\u001b[0m\u001b[1;34m\"--------------------------------\"\u001b[0m\u001b[1;33m)\u001b[0m\u001b[1;33m\u001b[0m\u001b[1;33m\u001b[0m\u001b[0m\n\u001b[1;32m----> 4\u001b[1;33m     \u001b[0mprint\u001b[0m\u001b[1;33m(\u001b[0m\u001b[1;34m\"per_of_nulls   : \"\u001b[0m\u001b[1;33m,\u001b[0m \u001b[1;34m\"%\"\u001b[0m\u001b[1;33m,\u001b[0m \u001b[0mround\u001b[0m\u001b[1;33m(\u001b[0m\u001b[0mdf\u001b[0m\u001b[1;33m[\u001b[0m\u001b[0mcol\u001b[0m\u001b[1;33m]\u001b[0m\u001b[1;33m.\u001b[0m\u001b[0misnull\u001b[0m\u001b[1;33m(\u001b[0m\u001b[1;33m)\u001b[0m\u001b[1;33m.\u001b[0m\u001b[0msum\u001b[0m\u001b[1;33m(\u001b[0m\u001b[1;33m)\u001b[0m\u001b[1;33m*\u001b[0m\u001b[1;36m100\u001b[0m \u001b[1;33m/\u001b[0m \u001b[0mdf\u001b[0m\u001b[1;33m.\u001b[0m\u001b[0mshape\u001b[0m\u001b[1;33m[\u001b[0m\u001b[1;36m0\u001b[0m\u001b[1;33m]\u001b[0m\u001b[1;33m,\u001b[0m \u001b[1;36m2\u001b[0m\u001b[1;33m)\u001b[0m\u001b[1;33m)\u001b[0m\u001b[1;33m\u001b[0m\u001b[1;33m\u001b[0m\u001b[0m\n\u001b[0m\u001b[0;32m      5\u001b[0m     \u001b[0mprint\u001b[0m\u001b[1;33m(\u001b[0m\u001b[1;34m\"num_of_nulls   : \"\u001b[0m\u001b[1;33m,\u001b[0m \u001b[0mdf\u001b[0m\u001b[1;33m[\u001b[0m\u001b[0mcol\u001b[0m\u001b[1;33m]\u001b[0m\u001b[1;33m.\u001b[0m\u001b[0misnull\u001b[0m\u001b[1;33m(\u001b[0m\u001b[1;33m)\u001b[0m\u001b[1;33m.\u001b[0m\u001b[0msum\u001b[0m\u001b[1;33m(\u001b[0m\u001b[1;33m)\u001b[0m\u001b[1;33m)\u001b[0m\u001b[1;33m\u001b[0m\u001b[1;33m\u001b[0m\u001b[0m\n\u001b[0;32m      6\u001b[0m     \u001b[0mprint\u001b[0m\u001b[1;33m(\u001b[0m\u001b[1;34m\"num_of_uniques : \"\u001b[0m\u001b[1;33m,\u001b[0m \u001b[0mdf\u001b[0m\u001b[1;33m[\u001b[0m\u001b[0mcol\u001b[0m\u001b[1;33m]\u001b[0m\u001b[1;33m.\u001b[0m\u001b[0mnunique\u001b[0m\u001b[1;33m(\u001b[0m\u001b[1;33m)\u001b[0m\u001b[1;33m)\u001b[0m\u001b[1;33m\u001b[0m\u001b[1;33m\u001b[0m\u001b[0m\n",
      "\u001b[1;32m~\\anaconda3\\lib\\site-packages\\pandas\\core\\frame.py\u001b[0m in \u001b[0;36m__getitem__\u001b[1;34m(self, key)\u001b[0m\n\u001b[0;32m   3456\u001b[0m             \u001b[1;32mif\u001b[0m \u001b[0mself\u001b[0m\u001b[1;33m.\u001b[0m\u001b[0mcolumns\u001b[0m\u001b[1;33m.\u001b[0m\u001b[0mnlevels\u001b[0m \u001b[1;33m>\u001b[0m \u001b[1;36m1\u001b[0m\u001b[1;33m:\u001b[0m\u001b[1;33m\u001b[0m\u001b[1;33m\u001b[0m\u001b[0m\n\u001b[0;32m   3457\u001b[0m                 \u001b[1;32mreturn\u001b[0m \u001b[0mself\u001b[0m\u001b[1;33m.\u001b[0m\u001b[0m_getitem_multilevel\u001b[0m\u001b[1;33m(\u001b[0m\u001b[0mkey\u001b[0m\u001b[1;33m)\u001b[0m\u001b[1;33m\u001b[0m\u001b[1;33m\u001b[0m\u001b[0m\n\u001b[1;32m-> 3458\u001b[1;33m             \u001b[0mindexer\u001b[0m \u001b[1;33m=\u001b[0m \u001b[0mself\u001b[0m\u001b[1;33m.\u001b[0m\u001b[0mcolumns\u001b[0m\u001b[1;33m.\u001b[0m\u001b[0mget_loc\u001b[0m\u001b[1;33m(\u001b[0m\u001b[0mkey\u001b[0m\u001b[1;33m)\u001b[0m\u001b[1;33m\u001b[0m\u001b[1;33m\u001b[0m\u001b[0m\n\u001b[0m\u001b[0;32m   3459\u001b[0m             \u001b[1;32mif\u001b[0m \u001b[0mis_integer\u001b[0m\u001b[1;33m(\u001b[0m\u001b[0mindexer\u001b[0m\u001b[1;33m)\u001b[0m\u001b[1;33m:\u001b[0m\u001b[1;33m\u001b[0m\u001b[1;33m\u001b[0m\u001b[0m\n\u001b[0;32m   3460\u001b[0m                 \u001b[0mindexer\u001b[0m \u001b[1;33m=\u001b[0m \u001b[1;33m[\u001b[0m\u001b[0mindexer\u001b[0m\u001b[1;33m]\u001b[0m\u001b[1;33m\u001b[0m\u001b[1;33m\u001b[0m\u001b[0m\n",
      "\u001b[1;32m~\\anaconda3\\lib\\site-packages\\pandas\\core\\indexes\\base.py\u001b[0m in \u001b[0;36mget_loc\u001b[1;34m(self, key, method, tolerance)\u001b[0m\n\u001b[0;32m   3361\u001b[0m                 \u001b[1;32mreturn\u001b[0m \u001b[0mself\u001b[0m\u001b[1;33m.\u001b[0m\u001b[0m_engine\u001b[0m\u001b[1;33m.\u001b[0m\u001b[0mget_loc\u001b[0m\u001b[1;33m(\u001b[0m\u001b[0mcasted_key\u001b[0m\u001b[1;33m)\u001b[0m\u001b[1;33m\u001b[0m\u001b[1;33m\u001b[0m\u001b[0m\n\u001b[0;32m   3362\u001b[0m             \u001b[1;32mexcept\u001b[0m \u001b[0mKeyError\u001b[0m \u001b[1;32mas\u001b[0m \u001b[0merr\u001b[0m\u001b[1;33m:\u001b[0m\u001b[1;33m\u001b[0m\u001b[1;33m\u001b[0m\u001b[0m\n\u001b[1;32m-> 3363\u001b[1;33m                 \u001b[1;32mraise\u001b[0m \u001b[0mKeyError\u001b[0m\u001b[1;33m(\u001b[0m\u001b[0mkey\u001b[0m\u001b[1;33m)\u001b[0m \u001b[1;32mfrom\u001b[0m \u001b[0merr\u001b[0m\u001b[1;33m\u001b[0m\u001b[1;33m\u001b[0m\u001b[0m\n\u001b[0m\u001b[0;32m   3364\u001b[0m \u001b[1;33m\u001b[0m\u001b[0m\n\u001b[0;32m   3365\u001b[0m         \u001b[1;32mif\u001b[0m \u001b[0mis_scalar\u001b[0m\u001b[1;33m(\u001b[0m\u001b[0mkey\u001b[0m\u001b[1;33m)\u001b[0m \u001b[1;32mand\u001b[0m \u001b[0misna\u001b[0m\u001b[1;33m(\u001b[0m\u001b[0mkey\u001b[0m\u001b[1;33m)\u001b[0m \u001b[1;32mand\u001b[0m \u001b[1;32mnot\u001b[0m \u001b[0mself\u001b[0m\u001b[1;33m.\u001b[0m\u001b[0mhasnans\u001b[0m\u001b[1;33m:\u001b[0m\u001b[1;33m\u001b[0m\u001b[1;33m\u001b[0m\u001b[0m\n",
      "\u001b[1;31mKeyError\u001b[0m: 'full_service'"
     ]
    }
   ],
   "source": [
    "first_looking('full_service')"
   ]
  },
  {
   "cell_type": "code",
   "execution_count": 169,
   "metadata": {
    "ExecuteTime": {
     "end_time": "2022-08-02T11:45:06.650893Z",
     "start_time": "2022-08-02T11:45:05.922898Z"
    }
   },
   "outputs": [],
   "source": [
    "df.drop(\"full_service\", axis=1, inplace=True) # per_of_nulls   :  % 60.86"
   ]
  },
  {
   "cell_type": "markdown",
   "metadata": {},
   "source": [
    "## 'non_smoking_vehicle'"
   ]
  },
  {
   "cell_type": "code",
   "execution_count": 171,
   "metadata": {
    "ExecuteTime": {
     "end_time": "2022-08-02T11:47:43.817296Z",
     "start_time": "2022-08-02T11:47:43.759299Z"
    }
   },
   "outputs": [
    {
     "name": "stdout",
     "output_type": "stream",
     "text": [
      "column name    :  non_smoking_vehicle\n",
      "--------------------------------\n",
      "per_of_nulls   :  % 78.26\n",
      "num_of_nulls   :  12459\n",
      "num_of_uniques :  92\n",
      "--------------------------------\n",
      "NaN                                                                     12459\n",
      "4 (Green)                                                                1240\n",
      "Euro 6                                                                   1127\n",
      "Euro 6d-TEMP                                                              345\n",
      "120 g CO2/km (comb)                                                        63\n",
      "85 g CO2/km (comb)                                                         46\n",
      "107 g CO2/km (comb)                                                        36\n",
      "104 g CO2/km (comb)                                                        36\n",
      "153 g CO2/km (comb)                                                        31\n",
      "124 g CO2/km (comb)                                                        29\n",
      "1 (No sticker)                                                             24\n",
      "99 g CO2/km (comb)                                                         23\n",
      "97 g CO2/km (comb)                                                         20\n",
      "106 g CO2/km (comb)                                                        20\n",
      "108 g CO2/km (comb)                                                        19\n",
      "109 g CO2/km (comb)                                                        18\n",
      "113 g CO2/km (comb)                                                        18\n",
      "105 g CO2/km (comb)                                                        18\n",
      "100 g CO2/km (comb)                                                        18\n",
      "Euro 6c                                                                    17\n",
      "98 g CO2/km (comb)                                                         15\n",
      "129 g CO2/km (comb)                                                        14\n",
      "131 g CO2/km (comb)                                                        13\n",
      "133 g CO2/km (comb)                                                        12\n",
      "103 g CO2/km (comb)                                                        12\n",
      "114 g CO2/km (comb)                                                        12\n",
      "135 g CO2/km (comb)                                                        11\n",
      "116 g CO2/km (comb)                                                        11\n",
      "102 g CO2/km (comb)                                                        11\n",
      "143 g CO2/km (comb)                                                        10\n",
      "127 g CO2/km (comb)                                                        10\n",
      "Euro 6d                                                                     9\n",
      "92 g CO2/km (comb)                                                          9\n",
      "112 g CO2/km (comb)                                                         9\n",
      "5 (Blue)                                                                    8\n",
      "118 g CO2/km (comb)                                                         8\n",
      "147 g CO2/km (comb)                                                         7\n",
      "128 g CO2/km (comb)                                                         7\n",
      "139 g CO2/km (comb)                                                         7\n",
      "140 g CO2/km (comb)                                                         6\n",
      "137 g CO2/km (comb)                                                         6\n",
      "117 g CO2/km (comb)                                                         6\n",
      "126 g CO2/km (comb)                                                         6\n",
      "130 g CO2/km (comb)                                                         5\n",
      "115 g CO2/km (comb)                                                         5\n",
      "5.2 l/100 km (comb),\\n,5.8 l/100 km (city),\\n,4.8 l/100 km (country)        4\n",
      "123 g CO2/km (comb)                                                         4\n",
      "Euro 5                                                                      4\n",
      "151 g CO2/km (comb)                                                         4\n",
      "136 g CO2/km (comb)                                                         3\n",
      "110 g CO2/km (comb)                                                         3\n",
      "148 g CO2/km (comb)                                                         3\n",
      "157 g CO2/km (comb)                                                         3\n",
      "95 g CO2/km (comb)                                                          3\n",
      "119 g CO2/km (comb)                                                         3\n",
      "149 g CO2/km (comb)                                                         3\n",
      "166 g CO2/km (comb)                                                         2\n",
      "138 g CO2/km (comb)                                                         2\n",
      "121 g CO2/km (comb)                                                         2\n",
      "111 g CO2/km (comb)                                                         2\n",
      "90 g CO2/km (comb)                                                          2\n",
      "142 g CO2/km (comb)                                                         2\n",
      "125 g CO2/km (comb)                                                         2\n",
      "134 g CO2/km (comb)                                                         2\n",
      "5.2 l/100 km (comb),\\n,6.4 l/100 km (city),\\n,4.4 l/100 km (country)        2\n",
      "6.5 l/100 km (comb),\\n,8.5 l/100 km (city),\\n,5.4 l/100 km (country)        1\n",
      "146 g CO2/km (comb)                                                         1\n",
      "189 g CO2/km (comb)                                                         1\n",
      "6.1 l/100 km (comb),\\n,7.7 l/100 km (city),\\n,5.2 l/100 km (country)        1\n",
      "6.3 l/100 km (comb),\\n,8 l/100 km (city),\\n,5.3 l/100 km (country)          1\n",
      "154 g CO2/km (comb)                                                         1\n",
      "6.5 l/100 km (comb),\\n,7.9 l/100 km (city),\\n,5.6 l/100 km (country)        1\n",
      "6.4 l/100 km (comb),\\n,8.1 l/100 km (city),\\n,5.4 l/100 km (country)        1\n",
      "122 g CO2/km (comb)                                                         1\n",
      "82 g CO2/km (comb)                                                          1\n",
      "1.6 l/100 km (comb)                                                         1\n",
      "172 g CO2/km (comb)                                                         1\n",
      "161 g CO2/km (comb)                                                         1\n",
      "156 g CO2/km (comb)                                                         1\n",
      "169 g CO2/km (comb)                                                         1\n",
      "6.1 l/100 km (comb),\\n,7.8 l/100 km (city),\\n,5.1 l/100 km (country)        1\n",
      "152 g CO2/km (comb)                                                         1\n",
      "144 g CO2/km (comb)                                                         1\n",
      "132 g CO2/km (comb)                                                         1\n",
      "159 g CO2/km (comb)                                                         1\n",
      "5.6 l/100 km (comb),\\n,7.3 l/100 km (city),\\n,4.7 l/100 km (country)        1\n",
      "158 g CO2/km (comb)                                                         1\n",
      "150 g CO2/km (comb)                                                         1\n",
      "6.2 l/100 km (comb),\\n,7.9 l/100 km (city),\\n,5.3 l/100 km (country)        1\n",
      "91 g CO2/km (comb)                                                          1\n",
      "101 g CO2/km (comb)                                                         1\n",
      "5.7 l/100 km (comb),\\n,7.3 l/100 km (city),\\n,4.7 l/100 km (country)        1\n",
      "175 g CO2/km (comb)                                                         1\n",
      "Name: non_smoking_vehicle, dtype: int64\n"
     ]
    }
   ],
   "source": [
    "first_looking(\"non_smoking_vehicle\")"
   ]
  },
  {
   "cell_type": "code",
   "execution_count": 173,
   "metadata": {
    "ExecuteTime": {
     "end_time": "2022-08-02T11:48:50.507563Z",
     "start_time": "2022-08-02T11:48:50.437564Z"
    }
   },
   "outputs": [],
   "source": [
    "df.drop(\"non_smoking_vehicle\", axis=1, inplace=True) # per_of_nulls   :  % 78.26"
   ]
  },
  {
   "cell_type": "markdown",
   "metadata": {},
   "source": [
    "## 'offer_number'"
   ]
  },
  {
   "cell_type": "code",
   "execution_count": 178,
   "metadata": {
    "ExecuteTime": {
     "end_time": "2022-08-02T12:03:08.385708Z",
     "start_time": "2022-08-02T12:03:08.291708Z"
    }
   },
   "outputs": [
    {
     "name": "stdout",
     "output_type": "stream",
     "text": [
      "column name    :  offer_number\n",
      "--------------------------------\n",
      "per_of_nulls   :  % 19.94\n",
      "num_of_nulls   :  3175\n",
      "num_of_uniques :  11438\n",
      "--------------------------------\n",
      "NaN                                         3175\n",
      "LT67679                                       27\n",
      "TA76392                                       27\n",
      "UN89904                                       27\n",
      "XT61649                                       27\n",
      "                                            ... \n",
      "74223                                          1\n",
      "160_dcbb6c3e-a6da-43a3-8754-ccd994cec93b       1\n",
      "6701576                                        1\n",
      "6701569                                        1\n",
      "Re_30000008029                                 1\n",
      "Name: offer_number, Length: 11439, dtype: int64\n"
     ]
    }
   ],
   "source": [
    "first_looking(\"offer_number\")"
   ]
  },
  {
   "cell_type": "code",
   "execution_count": 179,
   "metadata": {
    "ExecuteTime": {
     "end_time": "2022-08-02T12:04:51.464684Z",
     "start_time": "2022-08-02T12:04:51.382681Z"
    }
   },
   "outputs": [],
   "source": [
    "df.drop(\"offer_number\", axis=1, inplace=True) \n",
    "\n",
    "#no relation to target column, therefore dropped"
   ]
  },
  {
   "cell_type": "markdown",
   "metadata": {},
   "source": [
    "## 'body_color' and 'body_color_original'"
   ]
  },
  {
   "cell_type": "code",
   "execution_count": 182,
   "metadata": {
    "ExecuteTime": {
     "end_time": "2022-08-02T12:06:43.785530Z",
     "start_time": "2022-08-02T12:06:43.737534Z"
    }
   },
   "outputs": [
    {
     "name": "stdout",
     "output_type": "stream",
     "text": [
      "column name    :  body_color\n",
      "--------------------------------\n",
      "per_of_nulls   :  % 3.75\n",
      "num_of_nulls   :  597\n",
      "num_of_uniques :  14\n",
      "--------------------------------\n",
      "Black     3745\n",
      "Grey      3505\n",
      "White     3406\n",
      "Silver    1647\n",
      "Blue      1431\n",
      "Red        957\n",
      "NaN        597\n",
      "Brown      289\n",
      "Green      154\n",
      "Beige      108\n",
      "Yellow      51\n",
      "Violet      18\n",
      "Bronze       6\n",
      "Orange       3\n",
      "Gold         2\n",
      "Name: body_color, dtype: int64\n"
     ]
    }
   ],
   "source": [
    "first_looking(\"body_color\")"
   ]
  },
  {
   "cell_type": "code",
   "execution_count": 183,
   "metadata": {
    "ExecuteTime": {
     "end_time": "2022-08-02T12:07:30.055212Z",
     "start_time": "2022-08-02T12:07:30.002209Z"
    }
   },
   "outputs": [
    {
     "name": "stdout",
     "output_type": "stream",
     "text": [
      "column name    :  body_color_original\n",
      "--------------------------------\n",
      "per_of_nulls   :  % 23.61\n",
      "num_of_nulls   :  3759\n",
      "num_of_uniques :  1915\n",
      "--------------------------------\n",
      "NaN                              3759\n",
      "Onyx Schwarz                      338\n",
      "Bianco                            282\n",
      "Mythosschwarz Metallic            240\n",
      "Brillantschwarz                   216\n",
      "                                 ... \n",
      "GRIS NANO                           1\n",
      "Tiefsee-blau                        1\n",
      "LAVAROT                             1\n",
      "BLU COSMO                           1\n",
      "Perlmutt-Weiß Metallic (Weiß)       1\n",
      "Name: body_color_original, Length: 1916, dtype: int64\n"
     ]
    }
   ],
   "source": [
    "first_looking(\"body_color_original\")"
   ]
  },
  {
   "cell_type": "code",
   "execution_count": 184,
   "metadata": {
    "ExecuteTime": {
     "end_time": "2022-08-02T12:09:56.382794Z",
     "start_time": "2022-08-02T12:09:56.238798Z"
    }
   },
   "outputs": [
    {
     "data": {
      "text/plain": [
       "body_color_original         body_color\n",
       "NaN                         White         922\n",
       "                            Black         866\n",
       "                            Grey          787\n",
       "                            Silver        382\n",
       "Onyx Schwarz                Black         338\n",
       "                                         ... \n",
       "GNG Noir Amathyste (zwart   Black           1\n",
       "GNE-Noir Etoile             Black           1\n",
       "ROJO RUBI                   White           1\n",
       "ROSSO                       Red             1\n",
       "(0C0C) Monsungrau Metallic  Grey            1\n",
       "Length: 2021, dtype: int64"
      ]
     },
     "execution_count": 184,
     "metadata": {},
     "output_type": "execute_result"
    }
   ],
   "source": [
    "df[['body_color_original', 'body_color']].value_counts(dropna=False)"
   ]
  },
  {
   "cell_type": "code",
   "execution_count": 185,
   "metadata": {
    "ExecuteTime": {
     "end_time": "2022-08-02T12:12:56.079236Z",
     "start_time": "2022-08-02T12:12:56.014237Z"
    }
   },
   "outputs": [],
   "source": [
    "df.drop(\"body_color_original\", axis=1, inplace=True) \n",
    "\n",
    "# Dropped \"body_color_original\" because we have enough information in \"body_color\""
   ]
  },
  {
   "cell_type": "markdown",
   "metadata": {},
   "source": [
    "## 'paint_type'"
   ]
  },
  {
   "cell_type": "code",
   "execution_count": 186,
   "metadata": {
    "ExecuteTime": {
     "end_time": "2022-08-02T12:14:25.640756Z",
     "start_time": "2022-08-02T12:14:25.590759Z"
    }
   },
   "outputs": [
    {
     "data": {
      "text/plain": [
       "Metallic       9794\n",
       "NaN            5772\n",
       "Uni/basic       347\n",
       "Perl effect       6\n",
       "Name: paint_type, dtype: int64"
      ]
     },
     "execution_count": 186,
     "metadata": {},
     "output_type": "execute_result"
    }
   ],
   "source": [
    "df['paint_type'].value_counts(dropna=False)"
   ]
  },
  {
   "cell_type": "code",
   "execution_count": 191,
   "metadata": {
    "ExecuteTime": {
     "end_time": "2022-08-02T12:28:15.893750Z",
     "start_time": "2022-08-02T12:28:15.784752Z"
    }
   },
   "outputs": [
    {
     "data": {
      "text/plain": [
       "paint_type   body_color\n",
       "Metallic     Grey          2730\n",
       "             Black         2654\n",
       "NaN          White         2393\n",
       "Metallic     Silver        1425\n",
       "NaN          Black         1026\n",
       "Metallic     Blue          1006\n",
       "             White          865\n",
       "NaN          Grey           713\n",
       "Metallic     Red            526\n",
       "NaN          NaN            483\n",
       "             Red            408\n",
       "             Blue           407\n",
       "Metallic     Brown          231\n",
       "NaN          Silver         192\n",
       "Uni/basic    White          145\n",
       "Metallic     Green          115\n",
       "             NaN            114\n",
       "             Beige           74\n",
       "Uni/basic    Black           65\n",
       "             Grey            62\n",
       "NaN          Brown           57\n",
       "Metallic     Yellow          37\n",
       "NaN          Green           37\n",
       "             Beige           32\n",
       "Uni/basic    Silver          30\n",
       "             Red             22\n",
       "             Blue            17\n",
       "Metallic     Violet          13\n",
       "NaN          Yellow          12\n",
       "             Violet           5\n",
       "             Bronze           3\n",
       "Perl effect  White            3\n",
       "Metallic     Bronze           3\n",
       "NaN          Orange           2\n",
       "Uni/basic    Beige            2\n",
       "NaN          Gold             2\n",
       "Uni/basic    Yellow           2\n",
       "             Green            2\n",
       "Perl effect  Blue             1\n",
       "Metallic     Orange           1\n",
       "Perl effect  Brown            1\n",
       "             Red              1\n",
       "dtype: int64"
      ]
     },
     "execution_count": 191,
     "metadata": {},
     "output_type": "execute_result"
    }
   ],
   "source": [
    "df[['paint_type', 'body_color']].value_counts(dropna=False)"
   ]
  },
  {
   "cell_type": "markdown",
   "metadata": {},
   "source": [
    "## 'upholstery'"
   ]
  },
  {
   "cell_type": "code",
   "execution_count": 189,
   "metadata": {
    "ExecuteTime": {
     "end_time": "2022-08-02T12:16:56.287945Z",
     "start_time": "2022-08-02T12:16:56.202946Z"
    }
   },
   "outputs": [
    {
     "name": "stdout",
     "output_type": "stream",
     "text": [
      "column name    :  upholstery\n",
      "--------------------------------\n",
      "per_of_nulls   :  % 23.37\n",
      "num_of_nulls   :  3720\n",
      "num_of_uniques :  46\n",
      "--------------------------------\n",
      "Cloth, Black           5821\n",
      "NaN                    3720\n",
      "Part leather, Black    1121\n",
      "Cloth                  1005\n",
      "Cloth, Grey             891\n",
      "Cloth, Other            639\n",
      "Full leather, Black     575\n",
      "Black                   491\n",
      "Grey                    273\n",
      "Other, Other            182\n",
      "Part leather            140\n",
      "Full leather            139\n",
      "Full leather, Brown     116\n",
      "Part leather, Grey      116\n",
      "Other, Black            110\n",
      "Full leather, Other      72\n",
      "Full leather, Grey       67\n",
      "Part leather, Other      65\n",
      "Other                    56\n",
      "Part leather, Brown      50\n",
      "alcantara, Black         47\n",
      "Velour, Black            36\n",
      "Full leather, Beige      36\n",
      "Cloth, Brown             28\n",
      "Velour                   16\n",
      "Other, Grey              15\n",
      "Cloth, Beige             13\n",
      "Brown                    12\n",
      "Cloth, Blue              12\n",
      "Velour, Grey              8\n",
      "Cloth, White              8\n",
      "alcantara, Grey           6\n",
      "Cloth, Red                5\n",
      "Other, Yellow             4\n",
      "Part leather, Red         3\n",
      "Beige                     3\n",
      "Part leather, White       2\n",
      "Full leather, Blue        2\n",
      "alcantara, Other          2\n",
      "alcantara                 2\n",
      "White                     2\n",
      "Part leather, Beige       2\n",
      "Blue                      2\n",
      "Cloth, Orange             1\n",
      "Full leather, Red         1\n",
      "Other, Brown              1\n",
      "Full leather, White       1\n",
      "Name: upholstery, dtype: int64\n"
     ]
    }
   ],
   "source": [
    "first_looking(\"upholstery\")"
   ]
  },
  {
   "cell_type": "code",
   "execution_count": 192,
   "metadata": {
    "ExecuteTime": {
     "end_time": "2022-08-02T12:31:32.526883Z",
     "start_time": "2022-08-02T12:31:32.481888Z"
    }
   },
   "outputs": [
    {
     "data": {
      "text/plain": [
       "Cloth, Black           5821\n",
       "NaN                    3720\n",
       "Part leather, Black    1121\n",
       "Cloth                  1005\n",
       "Cloth, Grey             891\n",
       "Cloth, Other            639\n",
       "Full leather, Black     575\n",
       "Black                   491\n",
       "Grey                    273\n",
       "Other, Other            182\n",
       "Part leather            140\n",
       "Full leather            139\n",
       "Full leather, Brown     116\n",
       "Part leather, Grey      116\n",
       "Other, Black            110\n",
       "Full leather, Other      72\n",
       "Full leather, Grey       67\n",
       "Part leather, Other      65\n",
       "Other                    56\n",
       "Part leather, Brown      50\n",
       "alcantara, Black         47\n",
       "Velour, Black            36\n",
       "Full leather, Beige      36\n",
       "Cloth, Brown             28\n",
       "Velour                   16\n",
       "Other, Grey              15\n",
       "Cloth, Beige             13\n",
       "Brown                    12\n",
       "Cloth, Blue              12\n",
       "Velour, Grey              8\n",
       "Cloth, White              8\n",
       "alcantara, Grey           6\n",
       "Cloth, Red                5\n",
       "Other, Yellow             4\n",
       "Part leather, Red         3\n",
       "Beige                     3\n",
       "Part leather, White       2\n",
       "Full leather, Blue        2\n",
       "alcantara, Other          2\n",
       "alcantara                 2\n",
       "White                     2\n",
       "Part leather, Beige       2\n",
       "Blue                      2\n",
       "Cloth, Orange             1\n",
       "Full leather, Red         1\n",
       "Other, Brown              1\n",
       "Full leather, White       1\n",
       "Name: upholstery, dtype: int64"
      ]
     },
     "execution_count": 192,
     "metadata": {},
     "output_type": "execute_result"
    }
   ],
   "source": [
    "df[\"upholstery\"].value_counts(dropna=False)"
   ]
  },
  {
   "cell_type": "code",
   "execution_count": 193,
   "metadata": {
    "ExecuteTime": {
     "end_time": "2022-08-02T12:38:06.872323Z",
     "start_time": "2022-08-02T12:38:06.842327Z"
    }
   },
   "outputs": [],
   "source": [
    "df[\"upholstery\"]"
   ]
  },
  {
   "cell_type": "code",
   "execution_count": 207,
   "metadata": {
    "ExecuteTime": {
     "end_time": "2022-08-02T12:52:32.674005Z",
     "start_time": "2022-08-02T12:52:32.517008Z"
    }
   },
   "outputs": [],
   "source": [
    "df[\"upholstery\"] = df[\"upholstery\"].str.split(\",\")   \n",
    "df[\"upholstery\"] = df[\"upholstery\"].apply(lambda x: x[0] if type(x) == list else x)"
   ]
  },
  {
   "cell_type": "code",
   "execution_count": 208,
   "metadata": {
    "ExecuteTime": {
     "end_time": "2022-08-02T12:52:37.410913Z",
     "start_time": "2022-08-02T12:52:37.378916Z"
    }
   },
   "outputs": [
    {
     "data": {
      "text/plain": [
       "Cloth           8423\n",
       "NaN             3720\n",
       "Part leather    1499\n",
       "Full leather    1009\n",
       "Black            491\n",
       "Other            368\n",
       "Grey             273\n",
       "Velour            60\n",
       "alcantara         57\n",
       "Brown             12\n",
       "Beige              3\n",
       "Blue               2\n",
       "White              2\n",
       "Name: upholstery, dtype: int64"
      ]
     },
     "execution_count": 208,
     "metadata": {},
     "output_type": "execute_result"
    }
   ],
   "source": [
    "df[\"upholstery\"].value_counts(dropna=False)"
   ]
  },
  {
   "cell_type": "code",
   "execution_count": 290,
   "metadata": {
    "ExecuteTime": {
     "end_time": "2022-08-02T14:25:06.275621Z",
     "start_time": "2022-08-02T14:25:05.808627Z"
    }
   },
   "outputs": [
    {
     "data": {
      "text/html": [
       "<div>\n",
       "<style scoped>\n",
       "    .dataframe tbody tr th:only-of-type {\n",
       "        vertical-align: middle;\n",
       "    }\n",
       "\n",
       "    .dataframe tbody tr th {\n",
       "        vertical-align: top;\n",
       "    }\n",
       "\n",
       "    .dataframe thead th {\n",
       "        text-align: right;\n",
       "    }\n",
       "</style>\n",
       "<table border=\"1\" class=\"dataframe\">\n",
       "  <thead>\n",
       "    <tr style=\"text-align: right;\">\n",
       "      <th></th>\n",
       "      <th>upholstery</th>\n",
       "      <th>upholstery_type</th>\n",
       "      <th>upholstery_color</th>\n",
       "    </tr>\n",
       "  </thead>\n",
       "  <tbody>\n",
       "    <tr>\n",
       "      <th>0</th>\n",
       "      <td>Cloth</td>\n",
       "      <td>Cloth</td>\n",
       "      <td>NaN</td>\n",
       "    </tr>\n",
       "    <tr>\n",
       "      <th>1</th>\n",
       "      <td>Cloth</td>\n",
       "      <td>Cloth</td>\n",
       "      <td>NaN</td>\n",
       "    </tr>\n",
       "    <tr>\n",
       "      <th>2</th>\n",
       "      <td>Cloth</td>\n",
       "      <td>Cloth</td>\n",
       "      <td>NaN</td>\n",
       "    </tr>\n",
       "    <tr>\n",
       "      <th>3</th>\n",
       "      <td>NaN</td>\n",
       "      <td>NaN</td>\n",
       "      <td>NaN</td>\n",
       "    </tr>\n",
       "    <tr>\n",
       "      <th>4</th>\n",
       "      <td>Cloth</td>\n",
       "      <td>Cloth</td>\n",
       "      <td>NaN</td>\n",
       "    </tr>\n",
       "    <tr>\n",
       "      <th>5</th>\n",
       "      <td>Part leather</td>\n",
       "      <td>Part leather</td>\n",
       "      <td>NaN</td>\n",
       "    </tr>\n",
       "    <tr>\n",
       "      <th>6</th>\n",
       "      <td>Part leather</td>\n",
       "      <td>Part leather</td>\n",
       "      <td>NaN</td>\n",
       "    </tr>\n",
       "    <tr>\n",
       "      <th>7</th>\n",
       "      <td>Cloth</td>\n",
       "      <td>Cloth</td>\n",
       "      <td>NaN</td>\n",
       "    </tr>\n",
       "    <tr>\n",
       "      <th>8</th>\n",
       "      <td>Cloth</td>\n",
       "      <td>Cloth</td>\n",
       "      <td>NaN</td>\n",
       "    </tr>\n",
       "    <tr>\n",
       "      <th>9</th>\n",
       "      <td>NaN</td>\n",
       "      <td>NaN</td>\n",
       "      <td>NaN</td>\n",
       "    </tr>\n",
       "  </tbody>\n",
       "</table>\n",
       "</div>"
      ],
      "text/plain": [
       "     upholstery upholstery_type upholstery_color\n",
       "0         Cloth           Cloth              NaN\n",
       "1         Cloth           Cloth              NaN\n",
       "2         Cloth           Cloth              NaN\n",
       "3           NaN             NaN              NaN\n",
       "4         Cloth           Cloth              NaN\n",
       "5  Part leather    Part leather              NaN\n",
       "6  Part leather    Part leather              NaN\n",
       "7         Cloth           Cloth              NaN\n",
       "8         Cloth           Cloth              NaN\n",
       "9           NaN             NaN              NaN"
      ]
     },
     "execution_count": 290,
     "metadata": {},
     "output_type": "execute_result"
    }
   ],
   "source": [
    "up_type = [\"Cloth\", \"Part leather\", \"Full leather\", \"alcantara\", \"Velour\", \"Other\"]\n",
    "up_color = ['Black', 'Grey', 'Brown', 'Beige', 'White', 'Blue', 'Red', 'Yellow', 'Orange']\n",
    "\n",
    "a_type = df['upholstery'].str.split(', ').str[0]\n",
    "b_color = df['upholstery'].str.split(', ').str[1]\n",
    "\n",
    "a_color = a_type[a_type.isin(up_color)]\n",
    "b_color.fillna(a_color, inplace=True)\n",
    "\n",
    "a_type[a_type.isin(up_color)] = np.NaN\n",
    "\n",
    "df['upholstery_type'] = a_type\n",
    "df['upholstery_color'] = b_color\n",
    "df[['upholstery', 'upholstery_type', 'upholstery_color']].head(10)"
   ]
  },
  {
   "cell_type": "code",
   "execution_count": 291,
   "metadata": {
    "ExecuteTime": {
     "end_time": "2022-08-02T14:25:15.803621Z",
     "start_time": "2022-08-02T14:25:15.739621Z"
    }
   },
   "outputs": [
    {
     "data": {
      "text/plain": [
       "upholstery_type\n",
       "Cloth              8423\n",
       "Part leather       1499\n",
       "Full leather       1009\n",
       "Other               368\n",
       "Velour               60\n",
       "alcantara            57\n",
       "dtype: int64"
      ]
     },
     "execution_count": 291,
     "metadata": {},
     "output_type": "execute_result"
    }
   ],
   "source": [
    "df[['upholstery_type']].value_counts()"
   ]
  },
  {
   "cell_type": "code",
   "execution_count": 294,
   "metadata": {
    "ExecuteTime": {
     "end_time": "2022-08-02T14:30:08.966725Z",
     "start_time": "2022-08-02T14:30:08.892733Z"
    }
   },
   "outputs": [],
   "source": [
    "df.drop([\"upholstery\", \"upholstery_color\"], axis=1, inplace=True)\n",
    "\n",
    "# We have produced \"upholstery_type\" which is enough to analyze, therefore dropped \"upholstery\", \"upholstery_color\"."
   ]
  },
  {
   "cell_type": "code",
   "execution_count": null,
   "metadata": {},
   "outputs": [],
   "source": []
  },
  {
   "cell_type": "code",
   "execution_count": 231,
   "metadata": {
    "ExecuteTime": {
     "end_time": "2022-08-02T13:23:37.234103Z",
     "start_time": "2022-08-02T13:23:37.170107Z"
    }
   },
   "outputs": [],
   "source": [
    "df['nr_of_doors'] = df['nr_of_doors'].astype(float)"
   ]
  },
  {
   "cell_type": "code",
   "execution_count": 235,
   "metadata": {
    "ExecuteTime": {
     "end_time": "2022-08-02T13:24:46.879269Z",
     "start_time": "2022-08-02T13:24:46.849270Z"
    }
   },
   "outputs": [
    {
     "name": "stdout",
     "output_type": "stream",
     "text": [
      "column name    :  nr_of_doors\n",
      "--------------------------------\n",
      "per_of_nulls   :  % 1.33\n",
      "num_of_nulls   :  212\n",
      "num_of_uniques :  6\n",
      "--------------------------------\n",
      "5.00    11575\n",
      "4.00     3079\n",
      "3.00      832\n",
      "2.00      219\n",
      "NaN       212\n",
      "1.00        1\n",
      "7.00        1\n",
      "Name: nr_of_doors, dtype: int64\n"
     ]
    }
   ],
   "source": [
    "first_looking(\"nr_of_doors\")"
   ]
  },
  {
   "cell_type": "code",
   "execution_count": 237,
   "metadata": {
    "ExecuteTime": {
     "end_time": "2022-08-02T13:25:59.875177Z",
     "start_time": "2022-08-02T13:25:59.802185Z"
    }
   },
   "outputs": [],
   "source": [
    "df['nr_of_seats'] = df['nr_of_seats'].astype(float)"
   ]
  },
  {
   "cell_type": "code",
   "execution_count": 238,
   "metadata": {
    "ExecuteTime": {
     "end_time": "2022-08-02T13:26:03.580678Z",
     "start_time": "2022-08-02T13:26:03.546681Z"
    }
   },
   "outputs": [
    {
     "name": "stdout",
     "output_type": "stream",
     "text": [
      "column name    :  nr_of_seats\n",
      "--------------------------------\n",
      "per_of_nulls   :  % 6.14\n",
      "num_of_nulls   :  977\n",
      "num_of_uniques :  6\n",
      "--------------------------------\n",
      "5.00    13336\n",
      "4.00     1125\n",
      "NaN       977\n",
      "7.00      362\n",
      "2.00      116\n",
      "6.00        2\n",
      "3.00        1\n",
      "Name: nr_of_seats, dtype: int64\n"
     ]
    }
   ],
   "source": [
    "first_looking(\"nr_of_seats\")"
   ]
  },
  {
   "cell_type": "code",
   "execution_count": null,
   "metadata": {},
   "outputs": [],
   "source": []
  },
  {
   "cell_type": "code",
   "execution_count": 239,
   "metadata": {
    "ExecuteTime": {
     "end_time": "2022-08-02T13:27:07.748387Z",
     "start_time": "2022-08-02T13:27:07.676390Z"
    }
   },
   "outputs": [
    {
     "name": "stdout",
     "output_type": "stream",
     "text": [
      "column name    :  model_code\n",
      "--------------------------------\n",
      "per_of_nulls   :  % 68.73\n",
      "num_of_nulls   :  10941\n",
      "num_of_uniques :  232\n",
      "--------------------------------\n",
      "NaN         10941\n",
      "0035/BCB      268\n",
      "0588/BNO      245\n",
      "0588/BDB      206\n",
      "0588/BHX      188\n",
      "            ...  \n",
      "0035/AVN        1\n",
      "0035/BEM        1\n",
      "0035/BAG        1\n",
      "0035/BAA        1\n",
      "3333/BKG        1\n",
      "Name: model_code, Length: 233, dtype: int64\n"
     ]
    }
   ],
   "source": [
    "first_looking(\"model_code\")"
   ]
  },
  {
   "cell_type": "code",
   "execution_count": 240,
   "metadata": {
    "ExecuteTime": {
     "end_time": "2022-08-02T13:28:51.091813Z",
     "start_time": "2022-08-02T13:28:51.019808Z"
    }
   },
   "outputs": [],
   "source": [
    "df.drop(\"model_code\", axis=1, inplace=True) \n",
    "\n",
    "# Since this data is useless and  percentage of nulls is % 68.73, dropped it. "
   ]
  },
  {
   "cell_type": "code",
   "execution_count": null,
   "metadata": {},
   "outputs": [],
   "source": []
  },
  {
   "cell_type": "code",
   "execution_count": 244,
   "metadata": {
    "ExecuteTime": {
     "end_time": "2022-08-02T13:30:04.531684Z",
     "start_time": "2022-08-02T13:30:04.490683Z"
    }
   },
   "outputs": [
    {
     "data": {
      "text/plain": [
       "Manual            8153\n",
       "Automatic         7297\n",
       "Semi-automatic     469\n",
       "Name: gearing_type, dtype: int64"
      ]
     },
     "execution_count": 244,
     "metadata": {},
     "output_type": "execute_result"
    }
   ],
   "source": [
    "df[\"gearing_type\"].value_counts(dropna=False)"
   ]
  },
  {
   "cell_type": "code",
   "execution_count": null,
   "metadata": {},
   "outputs": [],
   "source": []
  },
  {
   "cell_type": "code",
   "execution_count": 247,
   "metadata": {
    "ExecuteTime": {
     "end_time": "2022-08-02T13:31:30.654094Z",
     "start_time": "2022-08-02T13:31:30.609092Z"
    }
   },
   "outputs": [
    {
     "name": "stdout",
     "output_type": "stream",
     "text": [
      "column name    :  displacement\n",
      "--------------------------------\n",
      "per_of_nulls   :  % 3.12\n",
      "num_of_nulls   :  496\n",
      "num_of_uniques :  77\n",
      "--------------------------------\n",
      "1,598 cc     4761\n",
      "999 cc       2438\n",
      "1,398 cc     1314\n",
      "1,399 cc      749\n",
      "1,229 cc      677\n",
      "1,956 cc      670\n",
      "1,461 cc      595\n",
      "1,490 cc      559\n",
      "NaN           496\n",
      "1,422 cc      467\n",
      "1,197 cc      353\n",
      "898 cc        351\n",
      "1,395 cc      320\n",
      "1,968 cc      301\n",
      "1,149 cc      288\n",
      "1,618 cc      212\n",
      "1,798 cc      210\n",
      "1,498 cc      196\n",
      "1,600 cc      130\n",
      "1,248 cc      110\n",
      "1,997 cc      103\n",
      "1,364 cc      102\n",
      "1,400 cc       90\n",
      "998 cc         72\n",
      "1,500 cc       50\n",
      "2,000 cc       46\n",
      "1,000 cc       40\n",
      "1 cc           36\n",
      "1,998 cc       25\n",
      "2,480 cc       20\n",
      "1,200 cc       18\n",
      "1,984 cc       18\n",
      "1,397 cc       11\n",
      "899 cc         11\n",
      "160 cc          6\n",
      "929 cc          5\n",
      "1,499 cc        5\n",
      "997 cc          4\n",
      "1,596 cc        4\n",
      "139 cc          4\n",
      "900 cc          4\n",
      "1,599 cc        3\n",
      "1,199 cc        3\n",
      "1,396 cc        3\n",
      "1,495 cc        2\n",
      "1,589 cc        2\n",
      "1,300 cc        2\n",
      "2 cc            2\n",
      "995 cc          2\n",
      "1,496 cc        1\n",
      "890 cc          1\n",
      "1,580 cc        1\n",
      "1,995 cc        1\n",
      "1,333 cc        1\n",
      "54 cc           1\n",
      "1,533 cc        1\n",
      "1,100 cc        1\n",
      "1,350 cc        1\n",
      "16,000 cc       1\n",
      "1,856 cc        1\n",
      "1,568 cc        1\n",
      "1,896 cc        1\n",
      "1,584 cc        1\n",
      "996 cc          1\n",
      "1,696 cc        1\n",
      "1,686 cc        1\n",
      "15,898 cc       1\n",
      "1,368 cc        1\n",
      "140 cc          1\n",
      "973 cc          1\n",
      "1,239 cc        1\n",
      "1,369 cc        1\n",
      "1,390 cc        1\n",
      "122 cc          1\n",
      "1,198 cc        1\n",
      "1,195 cc        1\n",
      "2,967 cc        1\n",
      "1,800 cc        1\n",
      "Name: displacement, dtype: int64\n"
     ]
    }
   ],
   "source": [
    "first_looking(\"displacement\")"
   ]
  },
  {
   "cell_type": "code",
   "execution_count": 255,
   "metadata": {
    "ExecuteTime": {
     "end_time": "2022-08-02T13:41:59.818174Z",
     "start_time": "2022-08-02T13:41:59.752171Z"
    }
   },
   "outputs": [],
   "source": [
    "df.displacement_cc = df.displacement.str.replace(\"cc\", \"\")"
   ]
  },
  {
   "cell_type": "code",
   "execution_count": null,
   "metadata": {},
   "outputs": [],
   "source": [
    "df['displacement_cc'] = df['displacement'].str.replace(',', '').str.extract('(\\d+)').astype(float)"
   ]
  },
  {
   "cell_type": "code",
   "execution_count": 257,
   "metadata": {
    "ExecuteTime": {
     "end_time": "2022-08-02T13:44:00.926795Z",
     "start_time": "2022-08-02T13:44:00.868795Z"
    }
   },
   "outputs": [],
   "source": [
    "df.drop(\"displacement\", axis=1, inplace=True)\n",
    "# Since we have \"displacement_cc\" , dropped \"displacement\""
   ]
  },
  {
   "cell_type": "code",
   "execution_count": 269,
   "metadata": {
    "ExecuteTime": {
     "end_time": "2022-08-02T13:55:26.931682Z",
     "start_time": "2022-08-02T13:55:26.889680Z"
    }
   },
   "outputs": [
    {
     "data": {
      "text/plain": [
       "1598.00     4761\n",
       "999.00      2438\n",
       "1398.00     1314\n",
       "1399.00      749\n",
       "1229.00      677\n",
       "1956.00      670\n",
       "1461.00      595\n",
       "1490.00      559\n",
       "NaN          496\n",
       "1422.00      467\n",
       "1197.00      353\n",
       "898.00       351\n",
       "1395.00      320\n",
       "1968.00      301\n",
       "1149.00      288\n",
       "1618.00      212\n",
       "1798.00      210\n",
       "1498.00      196\n",
       "1600.00      130\n",
       "1248.00      110\n",
       "1997.00      103\n",
       "1364.00      102\n",
       "1400.00       90\n",
       "998.00        72\n",
       "1500.00       50\n",
       "2000.00       46\n",
       "1000.00       40\n",
       "1.00          36\n",
       "1998.00       25\n",
       "2480.00       20\n",
       "1200.00       18\n",
       "1984.00       18\n",
       "1397.00       11\n",
       "899.00        11\n",
       "160.00         6\n",
       "929.00         5\n",
       "1499.00        5\n",
       "997.00         4\n",
       "1596.00        4\n",
       "139.00         4\n",
       "900.00         4\n",
       "1599.00        3\n",
       "1199.00        3\n",
       "1396.00        3\n",
       "1495.00        2\n",
       "1589.00        2\n",
       "1300.00        2\n",
       "2.00           2\n",
       "995.00         2\n",
       "1496.00        1\n",
       "890.00         1\n",
       "1580.00        1\n",
       "1995.00        1\n",
       "1333.00        1\n",
       "54.00          1\n",
       "1533.00        1\n",
       "1100.00        1\n",
       "1350.00        1\n",
       "16000.00       1\n",
       "1856.00        1\n",
       "1568.00        1\n",
       "1896.00        1\n",
       "1584.00        1\n",
       "996.00         1\n",
       "1696.00        1\n",
       "1686.00        1\n",
       "15898.00       1\n",
       "1368.00        1\n",
       "140.00         1\n",
       "973.00         1\n",
       "1239.00        1\n",
       "1369.00        1\n",
       "1390.00        1\n",
       "122.00         1\n",
       "1198.00        1\n",
       "1195.00        1\n",
       "2967.00        1\n",
       "1800.00        1\n",
       "Name: displacement_cc, dtype: int64"
      ]
     },
     "execution_count": 269,
     "metadata": {},
     "output_type": "execute_result"
    }
   ],
   "source": [
    "df[\"displacement_cc\"].value_counts(dropna=False)"
   ]
  },
  {
   "cell_type": "code",
   "execution_count": null,
   "metadata": {},
   "outputs": [],
   "source": []
  },
  {
   "cell_type": "code",
   "execution_count": 260,
   "metadata": {
    "ExecuteTime": {
     "end_time": "2022-08-02T13:45:46.220625Z",
     "start_time": "2022-08-02T13:45:46.177620Z"
    }
   },
   "outputs": [
    {
     "name": "stdout",
     "output_type": "stream",
     "text": [
      "column name    :  cylinders\n",
      "--------------------------------\n",
      "per_of_nulls   :  % 35.68\n",
      "num_of_nulls   :  5680\n",
      "num_of_uniques :  7\n",
      "--------------------------------\n",
      "4      8105\n",
      "NaN    5680\n",
      "3      2104\n",
      "5        22\n",
      "6         3\n",
      "8         2\n",
      "2         2\n",
      "1         1\n",
      "Name: cylinders, dtype: int64\n"
     ]
    }
   ],
   "source": [
    "first_looking(\"cylinders\")"
   ]
  },
  {
   "cell_type": "code",
   "execution_count": null,
   "metadata": {},
   "outputs": [],
   "source": []
  },
  {
   "cell_type": "code",
   "execution_count": 261,
   "metadata": {
    "ExecuteTime": {
     "end_time": "2022-08-02T13:46:19.090513Z",
     "start_time": "2022-08-02T13:46:19.027511Z"
    }
   },
   "outputs": [
    {
     "name": "stdout",
     "output_type": "stream",
     "text": [
      "column name    :  weight\n",
      "--------------------------------\n",
      "per_of_nulls   :  % 43.81\n",
      "num_of_nulls   :  6974\n",
      "num_of_uniques :  434\n",
      "--------------------------------\n",
      "NaN         6974\n",
      "1,163 kg     574\n",
      "1,360 kg     356\n",
      "1,165 kg     301\n",
      "1,335 kg     242\n",
      "            ... \n",
      "1,960 kg       1\n",
      "1,258 kg       1\n",
      "1,167 kg       1\n",
      "1,331 kg       1\n",
      "2,037 kg       1\n",
      "Name: weight, Length: 435, dtype: int64\n"
     ]
    }
   ],
   "source": [
    "first_looking(\"weight\")"
   ]
  },
  {
   "cell_type": "code",
   "execution_count": 264,
   "metadata": {
    "ExecuteTime": {
     "end_time": "2022-08-02T13:49:38.751437Z",
     "start_time": "2022-08-02T13:49:32.504448Z"
    }
   },
   "outputs": [],
   "source": [
    "df['weight_kg'] = df['weight'].str.replace(',', '').str.extract('(\\d+)').astype(float)"
   ]
  },
  {
   "cell_type": "code",
   "execution_count": 296,
   "metadata": {
    "ExecuteTime": {
     "end_time": "2022-08-02T14:35:18.156403Z",
     "start_time": "2022-08-02T14:35:18.085408Z"
    }
   },
   "outputs": [],
   "source": [
    "df.drop(\"weight\", axis=1, inplace=True)\n",
    "\n",
    "# Since we have \"weight_kg\" , dropped \"weight\""
   ]
  },
  {
   "cell_type": "code",
   "execution_count": 265,
   "metadata": {
    "ExecuteTime": {
     "end_time": "2022-08-02T13:49:41.617439Z",
     "start_time": "2022-08-02T13:49:41.584441Z"
    }
   },
   "outputs": [
    {
     "name": "stdout",
     "output_type": "stream",
     "text": [
      "column name    :  weight_kg\n",
      "--------------------------------\n",
      "per_of_nulls   :  % 43.81\n",
      "num_of_nulls   :  6974\n",
      "num_of_uniques :  434\n",
      "--------------------------------\n",
      "NaN        6974\n",
      "1163.00     574\n",
      "1360.00     356\n",
      "1165.00     301\n",
      "1335.00     242\n",
      "           ... \n",
      "1960.00       1\n",
      "1258.00       1\n",
      "1167.00       1\n",
      "1331.00       1\n",
      "2037.00       1\n",
      "Name: weight_kg, Length: 435, dtype: int64\n"
     ]
    }
   ],
   "source": [
    "first_looking(\"weight_kg\")"
   ]
  },
  {
   "cell_type": "code",
   "execution_count": null,
   "metadata": {},
   "outputs": [],
   "source": []
  },
  {
   "cell_type": "code",
   "execution_count": 273,
   "metadata": {
    "ExecuteTime": {
     "end_time": "2022-08-02T14:00:27.870042Z",
     "start_time": "2022-08-02T14:00:27.831046Z"
    }
   },
   "outputs": [
    {
     "name": "stdout",
     "output_type": "stream",
     "text": [
      "column name    :  drive_chain\n",
      "--------------------------------\n",
      "per_of_nulls   :  % 43.08\n",
      "num_of_nulls   :  6858\n",
      "num_of_uniques :  3\n",
      "--------------------------------\n",
      "front    8886\n",
      "NaN      6858\n",
      "4WD       171\n",
      "rear        4\n",
      "Name: drive_chain, dtype: int64\n"
     ]
    }
   ],
   "source": [
    "first_looking(\"drive_chain\")"
   ]
  },
  {
   "cell_type": "code",
   "execution_count": null,
   "metadata": {},
   "outputs": [],
   "source": []
  },
  {
   "cell_type": "code",
   "execution_count": 274,
   "metadata": {
    "ExecuteTime": {
     "end_time": "2022-08-02T14:01:06.162900Z",
     "start_time": "2022-08-02T14:01:06.087901Z"
    }
   },
   "outputs": [
    {
     "name": "stdout",
     "output_type": "stream",
     "text": [
      "column name    :  fuel\n",
      "--------------------------------\n",
      "per_of_nulls   :  % 0.0\n",
      "num_of_nulls   :  0\n",
      "num_of_uniques :  77\n",
      "--------------------------------\n",
      "Diesel (Particulate Filter)                                                                                                       4315\n",
      "Super 95                                                                                                                          3338\n",
      "Gasoline                                                                                                                          3175\n",
      "Diesel                                                                                                                            2984\n",
      "Super 95 / Regular/Benzine 91                                                                                                      424\n",
      "Regular/Benzine 91                                                                                                                 354\n",
      "Super E10 95                                                                                                                       331\n",
      "Super 95 (Particulate Filter)                                                                                                      268\n",
      "Super 95 / Super E10 95                                                                                                            131\n",
      "Regular/Benzine 91 (Particulate Filter)                                                                                            100\n",
      "Super 95 / Super Plus 98                                                                                                            85\n",
      "Gasoline (Particulate Filter)                                                                                                       77\n",
      "Super 95 / Super Plus 98 / Super E10 95 / Super Plus E10 98                                                                         40\n",
      "Super E10 95 / Super 95                                                                                                             38\n",
      "CNG                                                                                                                                 33\n",
      "Super 95 / Super E10 95 (Particulate Filter)                                                                                        25\n",
      "Super E10 95 / Super 95 / Super Plus 98 / Super Plus E10 98                                                                         19\n",
      "LPG                                                                                                                                 16\n",
      "Super 95 / Super Plus 98 (Particulate Filter)                                                                                       14\n",
      "Regular/Benzine 91 / Super 95 / Super Plus 98 / Regular/Benzine E10 91 / Super E10 95 / Super Plus E10 98                           13\n",
      "Regular/Benzine E10 91                                                                                                              11\n",
      "Liquid petroleum gas (LPG)                                                                                                          10\n",
      "Super 95 / Super Plus 98 / Super E10 95                                                                                              8\n",
      "Regular/Benzine 91 / Regular/Benzine E10 91                                                                                          7\n",
      "Super 95 / Regular/Benzine 91 / Super Plus 98 / Regular/Benzine E10 91 / Super E10 95 / Super Plus E10 98                            7\n",
      "Super Plus 98                                                                                                                        7\n",
      "Super E10 95 (Particulate Filter)                                                                                                    7\n",
      "Super 95 / Super Plus 98 / Super Plus E10 98 / Super E10 95                                                                          5\n",
      "Others                                                                                                                               5\n",
      "Super E10 95 / Super Plus E10 98                                                                                                     4\n",
      "Electric/Gasoline                                                                                                                    4\n",
      "Super 95 / Super Plus 98 / Super E10 95 / Super Plus E10 98 (Particulate Filter)                                                     4\n",
      "Super 95 / Super E10 95 / Super Plus E10 98 / Super Plus 98                                                                          4\n",
      "Regular/Benzine 91 / Super 95 / Super Plus 98 / Regular/Benzine E10 91 / Super Plus E10 98 / Super E10 95                            4\n",
      "CNG (Particulate Filter)                                                                                                             3\n",
      "Super E10 95 / Super 95 / Super Plus 98 / Super Plus E10 98 (Particulate Filter)                                                     3\n",
      "Super E10 95 / Super 95 / Super Plus 98                                                                                              3\n",
      "Super E10 95 / Regular/Benzine 91                                                                                                    2\n",
      "Super 95 / Regular/Benzine 91 / Super Plus 98                                                                                        2\n",
      "Regular/Benzine 91 / Super 95 / Super Plus 98 / Super Plus E10 98 / Super E10 95 / Regular/Benzine E10 91                            2\n",
      "Regular/Benzine 91 / Super 95 / Super E10 95                                                                                         1\n",
      "Electric                                                                                                                             1\n",
      "Regular/Benzine 91 / Super 95 / Super E10 95 / Super Plus E10 98 / Super Plus 98 / Regular/Benzine E10 91                            1\n",
      "Super 95 / Super E10 95 / Super Plus E10 98                                                                                          1\n",
      "Super 95 / Super E10 95 / Super Plus 98                                                                                              1\n",
      "Regular/Benzine 91 / Super 95 / Super Plus E10 98 / Super E10 95 / Regular/Benzine E10 91 / Super Plus 98                            1\n",
      "Super 95 / Super Plus 98 / Regular/Benzine E10 91 / Super Plus E10 98 / Super E10 95 / Regular/Benzine 91                            1\n",
      "Super 95 / Regular/Benzine E10 91                                                                                                    1\n",
      "Super E10 95 / Regular/Benzine 91 / Regular/Benzine E10 91 / Super 95                                                                1\n",
      "Super Plus 98 / Regular/Benzine 91                                                                                                   1\n",
      "Super 95 / Regular/Benzine 91 / Super E10 95 / Super Plus 98 / Super Plus E10 98 / Regular/Benzine E10 91                            1\n",
      "Super 95 / Super Plus 98 / Super Plus E10 98                                                                                         1\n",
      "Super 95 / Regular/Benzine 91 (Particulate Filter)                                                                                   1\n",
      "Super 95 / Super E10 95 / Regular/Benzine 91                                                                                         1\n",
      "Regular/Benzine 91 / Super 95 / Super E10 95 / Regular/Benzine E10 91                                                                1\n",
      "Super 95 / Regular/Benzine E10 91 / Super E10 95                                                                                     1\n",
      "Super 95 / Regular/Benzine 91 / Super Plus 98 / Regular/Benzine E10 91 / Super Plus E10 98 / Super E10 95                            1\n",
      "Regular/Benzine E10 91 / Super E10 95 / Super Plus E10 98 / Super Plus 98 / Super 95 / Regular/Benzine 91                            1\n",
      "Super 95 / Regular/Benzine 91 / Super E10 95 / Super Plus E10 98 / Super Plus 98                                                     1\n",
      "Others (Particulate Filter)                                                                                                          1\n",
      "Biogas                                                                                                                               1\n",
      "Super 95 / Biodiesel                                                                                                                 1\n",
      "Regular/Benzine 91 / Super 95 / Super Plus 98 / Super Plus E10 98 / Super E10 95 / Regular/Benzine E10 91 (Particulate Filter)       1\n",
      "Regular/Benzine 91 / Super 95 / Super Plus 98                                                                                        1\n",
      "Regular/Benzine 91 / Super 95                                                                                                        1\n",
      "Regular/Benzine E10 91 / Regular/Benzine 91 / Super 95 / Super Plus 98 / Super E10 95 / Super Plus E10 98                            1\n",
      "Domestic gas H                                                                                                                       1\n",
      "Super E10 95 / Regular/Benzine 91 / Super 95 / Super Plus 98 / Regular/Benzine E10 91 / Super Plus E10 98                            1\n",
      "Super Plus E10 98 / Super 95 / Super Plus 98 / Super E10 95                                                                          1\n",
      "Super 95 / Regular/Benzine 91 / Super E10 95 / Super Plus E10 98 / Super Plus 98 / Regular/Benzine E10 91                            1\n",
      "Super Plus 98 / Super 95 / Super E10 95                                                                                              1\n",
      "Super Plus E10 98                                                                                                                    1\n",
      "Regular/Benzine 91 / Super 95 / Regular/Benzine E10 91                                                                               1\n",
      "Super Plus 98 / Super E10 95                                                                                                         1\n",
      "Regular/Benzine 91 / Super 95 / Regular/Benzine E10 91 / Super E10 95 / Super Plus 98 / Super Plus E10 98                            1\n",
      "Regular/Benzine 91 / Super Plus 98 / Regular/Benzine E10 91 / Super 95 / Super E10 95 / Super Plus E10 98                            1\n",
      "Super Plus 98 / Super 95 / Super Plus E10 98                                                                                         1\n",
      "Name: fuel, dtype: int64\n"
     ]
    }
   ],
   "source": [
    "first_looking(\"fuel\")"
   ]
  },
  {
   "cell_type": "code",
   "execution_count": 277,
   "metadata": {
    "ExecuteTime": {
     "end_time": "2022-08-02T14:03:59.282215Z",
     "start_time": "2022-08-02T14:03:58.919226Z"
    }
   },
   "outputs": [
    {
     "data": {
      "text/plain": [
       "{0: 'Biodiesel',\n",
       " 1: 'Biogas',\n",
       " 2: 'CNG',\n",
       " 3: 'CNG (Particulate Filter)',\n",
       " 4: 'Diesel',\n",
       " 5: 'Diesel (Particulate Filter)',\n",
       " 6: 'Domestic gas H',\n",
       " 7: 'Electric',\n",
       " 8: 'Electric/Gasoline',\n",
       " 9: 'Gasoline',\n",
       " 10: 'Gasoline (Particulate Filter)',\n",
       " 11: 'LPG',\n",
       " 12: 'Liquid petroleum gas (LPG)',\n",
       " 13: 'Others',\n",
       " 14: 'Others (Particulate Filter)',\n",
       " 15: 'Regular/Benzine 91',\n",
       " 16: 'Regular/Benzine 91 (Particulate Filter)',\n",
       " 17: 'Regular/Benzine E10 91',\n",
       " 18: 'Regular/Benzine E10 91 (Particulate Filter)',\n",
       " 19: 'Super 95',\n",
       " 20: 'Super 95 (Particulate Filter)',\n",
       " 21: 'Super E10 95',\n",
       " 22: 'Super E10 95 (Particulate Filter)',\n",
       " 23: 'Super Plus 98',\n",
       " 24: 'Super Plus 98 (Particulate Filter)',\n",
       " 25: 'Super Plus E10 98',\n",
       " 26: 'Super Plus E10 98 (Particulate Filter)'}"
      ]
     },
     "execution_count": 277,
     "metadata": {},
     "output_type": "execute_result"
    }
   ],
   "source": [
    "get_diff_category_column(df['fuel'])"
   ]
  },
  {
   "cell_type": "code",
   "execution_count": 278,
   "metadata": {
    "ExecuteTime": {
     "end_time": "2022-08-02T14:04:35.006296Z",
     "start_time": "2022-08-02T14:04:34.967294Z"
    }
   },
   "outputs": [],
   "source": [
    "benzine = [\"Gasoline\", \"Regular\", \"Others\", \"Super\"]\n",
    "diesel  = [\"Biodiesel\", \"Diesel\"]\n",
    "lpg     = [\"Biogas\", \"CNG\", \"Domestic gas H\", \"LPG\"]\n",
    "hibrit  = ['Electric', 'Electric/Gasoline']\n",
    "\n",
    "def fueltype(x):\n",
    "    if any(i in x for i in hibrit):\n",
    "        return \"Hybrit\"\n",
    "    elif any(i in x for i in lpg):\n",
    "        return \"LPG/CNG\"\n",
    "    elif any(i in x for i in benzine):\n",
    "        return \"Benzine\"\n",
    "    elif any(i in x for i in diesel):\n",
    "        return \"Diesel\"\n",
    "    else:\n",
    "        return x "
   ]
  },
  {
   "cell_type": "code",
   "execution_count": 279,
   "metadata": {
    "ExecuteTime": {
     "end_time": "2022-08-02T14:05:03.732296Z",
     "start_time": "2022-08-02T14:05:03.506295Z"
    }
   },
   "outputs": [
    {
     "data": {
      "text/plain": [
       "Benzine    8551\n",
       "Diesel     7299\n",
       "LPG/CNG      64\n",
       "Hybrit        5\n",
       "Name: fuel, dtype: int64"
      ]
     },
     "execution_count": 279,
     "metadata": {},
     "output_type": "execute_result"
    }
   ],
   "source": [
    "df[\"fuel\"].apply(fueltype).value_counts()"
   ]
  },
  {
   "cell_type": "code",
   "execution_count": null,
   "metadata": {},
   "outputs": [],
   "source": []
  },
  {
   "cell_type": "code",
   "execution_count": 299,
   "metadata": {
    "ExecuteTime": {
     "end_time": "2022-08-02T14:37:22.012810Z",
     "start_time": "2022-08-02T14:37:21.963809Z"
    }
   },
   "outputs": [
    {
     "data": {
      "text/plain": [
       "NaN                                                                       1906\n",
       "3.9 l/100 km (comb)'],['4.1 l/100 km (city)'],['3.7 l/100 km (country)     304\n",
       "4.2 l/100 km (comb)'],['5 l/100 km (city)'],['3.7 l/100 km (country)       276\n",
       "5.4 l/100 km (comb)'],['6.8 l/100 km (city)'],['4.5 l/100 km (country)     257\n",
       "3.8 l/100 km (comb)'],['4.3 l/100 km (city)'],['3.5 l/100 km (country)     253\n",
       "                                                                          ... \n",
       "6.8 l/100 km (comb)'],['8.2 l/100 km (city)'],['5.8 l/100 km (country)       1\n",
       "3.9 l/100 km (comb)'],['4.8 l/100 km (city)'],['3.4 l/100 km (country)       1\n",
       "3.7 l/100 km (comb)'],['4.5 l/100 km (city)'],['3.3 l/100 km (country)       1\n",
       "4.2 l/100 km (comb)'],['5.3 l/100 km (city)'],['3.6 l/100 km (country)       1\n",
       "7.4 l/100 km (comb),\\n,9.6 l/100 km (city),\\n,6 l/100 km (country)           1\n",
       "Name: consumption, Length: 876, dtype: int64"
      ]
     },
     "execution_count": 299,
     "metadata": {},
     "output_type": "execute_result"
    }
   ],
   "source": [
    "df['consumption'].value_counts(dropna=False)"
   ]
  },
  {
   "cell_type": "code",
   "execution_count": 300,
   "metadata": {
    "ExecuteTime": {
     "end_time": "2022-08-02T14:42:38.656252Z",
     "start_time": "2022-08-02T14:42:37.919253Z"
    }
   },
   "outputs": [],
   "source": [
    "# Divide consumption and assign new Column - 'cons_comb', 'cons_city', 'cons_country'\n",
    "df['cons_comb'] = df['consumption'].str.extract('(\\d+\\.\\d+|\\d+).{0,13}comb').astype(float)\n",
    "df['cons_city'] = df['consumption'].str.extract('(\\d+\\.\\d+|\\d+).{0,13}city').astype(float)\n",
    "df['cons_country'] = df['consumption'].str.extract('(\\d+\\.\\d+|\\d+).{0,13}country').astype(float)"
   ]
  },
  {
   "cell_type": "code",
   "execution_count": 301,
   "metadata": {
    "ExecuteTime": {
     "end_time": "2022-08-02T14:43:21.182957Z",
     "start_time": "2022-08-02T14:43:21.120962Z"
    }
   },
   "outputs": [
    {
     "data": {
      "text/html": [
       "<div>\n",
       "<style scoped>\n",
       "    .dataframe tbody tr th:only-of-type {\n",
       "        vertical-align: middle;\n",
       "    }\n",
       "\n",
       "    .dataframe tbody tr th {\n",
       "        vertical-align: top;\n",
       "    }\n",
       "\n",
       "    .dataframe thead th {\n",
       "        text-align: right;\n",
       "    }\n",
       "</style>\n",
       "<table border=\"1\" class=\"dataframe\">\n",
       "  <thead>\n",
       "    <tr style=\"text-align: right;\">\n",
       "      <th></th>\n",
       "      <th>consumption</th>\n",
       "      <th>cons_comb</th>\n",
       "      <th>cons_city</th>\n",
       "      <th>cons_country</th>\n",
       "    </tr>\n",
       "  </thead>\n",
       "  <tbody>\n",
       "    <tr>\n",
       "      <th>2347</th>\n",
       "      <td>6 l/100 km (comb)'],['8.2 l/100 km (city)'],['...</td>\n",
       "      <td>6.00</td>\n",
       "      <td>8.20</td>\n",
       "      <td>4.70</td>\n",
       "    </tr>\n",
       "    <tr>\n",
       "      <th>10259</th>\n",
       "      <td>5.6 l/100 km (comb),\\n,7.2 l/100 km (city),\\n,...</td>\n",
       "      <td>5.60</td>\n",
       "      <td>7.20</td>\n",
       "      <td>4.70</td>\n",
       "    </tr>\n",
       "    <tr>\n",
       "      <th>12841</th>\n",
       "      <td>6.3 l/100 km (comb),\\n,7.9 l/100 km (city),\\n,...</td>\n",
       "      <td>6.30</td>\n",
       "      <td>7.90</td>\n",
       "      <td>5.40</td>\n",
       "    </tr>\n",
       "    <tr>\n",
       "      <th>15298</th>\n",
       "      <td>5.3 l/100 km (comb)'],['6.2 l/100 km (city)'],...</td>\n",
       "      <td>5.30</td>\n",
       "      <td>6.20</td>\n",
       "      <td>4.70</td>\n",
       "    </tr>\n",
       "    <tr>\n",
       "      <th>15055</th>\n",
       "      <td>NaN</td>\n",
       "      <td>NaN</td>\n",
       "      <td>NaN</td>\n",
       "      <td>NaN</td>\n",
       "    </tr>\n",
       "    <tr>\n",
       "      <th>2614</th>\n",
       "      <td>4.9 l/100 km (comb)'],['5.6 l/100 km (city)'],...</td>\n",
       "      <td>4.90</td>\n",
       "      <td>5.60</td>\n",
       "      <td>4.50</td>\n",
       "    </tr>\n",
       "    <tr>\n",
       "      <th>13346</th>\n",
       "      <td>3.5 l/100 km (comb)'],['3.9 l/100 km (city)'],...</td>\n",
       "      <td>3.50</td>\n",
       "      <td>3.90</td>\n",
       "      <td>3.30</td>\n",
       "    </tr>\n",
       "    <tr>\n",
       "      <th>12932</th>\n",
       "      <td>4.6 l/100 km (comb)'],['5.4 l/100 km (city)'],...</td>\n",
       "      <td>4.60</td>\n",
       "      <td>5.40</td>\n",
       "      <td>4.20</td>\n",
       "    </tr>\n",
       "    <tr>\n",
       "      <th>662</th>\n",
       "      <td>3.7 l/100 km (comb)'],['4.3 l/100 km (city)'],...</td>\n",
       "      <td>3.70</td>\n",
       "      <td>4.30</td>\n",
       "      <td>3.10</td>\n",
       "    </tr>\n",
       "    <tr>\n",
       "      <th>3139</th>\n",
       "      <td>3.8 l/100 km (comb)'],['4.5 l/100 km (city)'],...</td>\n",
       "      <td>3.80</td>\n",
       "      <td>4.50</td>\n",
       "      <td>3.40</td>\n",
       "    </tr>\n",
       "  </tbody>\n",
       "</table>\n",
       "</div>"
      ],
      "text/plain": [
       "                                             consumption  cons_comb  \\\n",
       "2347   6 l/100 km (comb)'],['8.2 l/100 km (city)'],['...       6.00   \n",
       "10259  5.6 l/100 km (comb),\\n,7.2 l/100 km (city),\\n,...       5.60   \n",
       "12841  6.3 l/100 km (comb),\\n,7.9 l/100 km (city),\\n,...       6.30   \n",
       "15298  5.3 l/100 km (comb)'],['6.2 l/100 km (city)'],...       5.30   \n",
       "15055                                                NaN        NaN   \n",
       "2614   4.9 l/100 km (comb)'],['5.6 l/100 km (city)'],...       4.90   \n",
       "13346  3.5 l/100 km (comb)'],['3.9 l/100 km (city)'],...       3.50   \n",
       "12932  4.6 l/100 km (comb)'],['5.4 l/100 km (city)'],...       4.60   \n",
       "662    3.7 l/100 km (comb)'],['4.3 l/100 km (city)'],...       3.70   \n",
       "3139   3.8 l/100 km (comb)'],['4.5 l/100 km (city)'],...       3.80   \n",
       "\n",
       "       cons_city  cons_country  \n",
       "2347        8.20          4.70  \n",
       "10259       7.20          4.70  \n",
       "12841       7.90          5.40  \n",
       "15298       6.20          4.70  \n",
       "15055        NaN           NaN  \n",
       "2614        5.60          4.50  \n",
       "13346       3.90          3.30  \n",
       "12932       5.40          4.20  \n",
       "662         4.30          3.10  \n",
       "3139        4.50          3.40  "
      ]
     },
     "execution_count": 301,
     "metadata": {},
     "output_type": "execute_result"
    }
   ],
   "source": [
    "df[['consumption', 'cons_comb', 'cons_city', 'cons_country']].sample(10)"
   ]
  },
  {
   "cell_type": "code",
   "execution_count": 303,
   "metadata": {
    "ExecuteTime": {
     "end_time": "2022-08-02T14:45:05.447752Z",
     "start_time": "2022-08-02T14:45:05.429753Z"
    }
   },
   "outputs": [],
   "source": [
    "df[\"consumption_comb\"] = df[\"cons_comb\"]"
   ]
  },
  {
   "cell_type": "code",
   "execution_count": 306,
   "metadata": {
    "ExecuteTime": {
     "end_time": "2022-08-02T14:51:26.448197Z",
     "start_time": "2022-08-02T14:51:26.384195Z"
    }
   },
   "outputs": [],
   "source": [
    "df.drop([\"consumption\", \"cons_comb\", \"cons_city\", \"cons_country\" ], axis=1, inplace=True)\n",
    "\n",
    "# We have \"consumption_comb\" column and good to analyze,\n",
    "#therefore, dropped \"consumption\", \"cons_comb\", \"cons_city\", \"cons_country\" columns"
   ]
  },
  {
   "cell_type": "code",
   "execution_count": 311,
   "metadata": {
    "ExecuteTime": {
     "end_time": "2022-08-02T14:53:05.703893Z",
     "start_time": "2022-08-02T14:53:05.669900Z"
    }
   },
   "outputs": [
    {
     "name": "stdout",
     "output_type": "stream",
     "text": [
      "column name    :  consumption_comb\n",
      "--------------------------------\n",
      "per_of_nulls   :  % 12.77\n",
      "num_of_nulls   :  2033\n",
      "num_of_uniques :  72\n",
      "--------------------------------\n",
      "NaN      2033\n",
      "5.40      770\n",
      "3.90      733\n",
      "4.00      713\n",
      "5.10      657\n",
      "4.40      623\n",
      "5.60      618\n",
      "4.70      602\n",
      "3.80      585\n",
      "4.80      546\n",
      "5.00      545\n",
      "4.50      523\n",
      "5.20      454\n",
      "4.20      435\n",
      "4.60      426\n",
      "4.90      393\n",
      "5.50      380\n",
      "5.30      380\n",
      "3.70      369\n",
      "5.90      369\n",
      "4.10      342\n",
      "5.70      342\n",
      "6.00      331\n",
      "4.30      307\n",
      "3.30      307\n",
      "3.50      288\n",
      "6.20      216\n",
      "3.60      194\n",
      "6.30      181\n",
      "6.10      175\n",
      "5.80      164\n",
      "6.60      148\n",
      "6.80      136\n",
      "3.40      106\n",
      "6.40       75\n",
      "3.00       69\n",
      "7.40       66\n",
      "6.50       43\n",
      "6.70       43\n",
      "7.10       38\n",
      "10.00      34\n",
      "6.90       27\n",
      "3.20       25\n",
      "8.30       20\n",
      "7.60       14\n",
      "7.00       10\n",
      "3.10        7\n",
      "7.20        6\n",
      "7.80        6\n",
      "8.00        5\n",
      "51.00       4\n",
      "8.60        4\n",
      "7.90        3\n",
      "8.70        3\n",
      "1.60        3\n",
      "7.30        2\n",
      "8.10        2\n",
      "40.00       2\n",
      "38.00       2\n",
      "0.00        2\n",
      "9.10        1\n",
      "43.00       1\n",
      "7.50        1\n",
      "13.80       1\n",
      "55.00       1\n",
      "54.00       1\n",
      "1.20        1\n",
      "32.00       1\n",
      "33.00       1\n",
      "50.00       1\n",
      "1.00        1\n",
      "46.00       1\n",
      "11.00       1\n",
      "Name: consumption_comb, dtype: int64\n"
     ]
    }
   ],
   "source": [
    "first_looking('consumption_comb')"
   ]
  },
  {
   "cell_type": "code",
   "execution_count": null,
   "metadata": {},
   "outputs": [],
   "source": []
  },
  {
   "cell_type": "code",
   "execution_count": 312,
   "metadata": {
    "ExecuteTime": {
     "end_time": "2022-08-02T14:54:26.616896Z",
     "start_time": "2022-08-02T14:54:26.557896Z"
    }
   },
   "outputs": [
    {
     "name": "stdout",
     "output_type": "stream",
     "text": [
      "column name    :  co_2_emission\n",
      "--------------------------------\n",
      "per_of_nulls   :  % 15.3\n",
      "num_of_nulls   :  2436\n",
      "num_of_uniques :  122\n",
      "--------------------------------\n",
      "NaN                      2436\n",
      "120 g CO2/km (comb)       740\n",
      "99 g CO2/km (comb)        545\n",
      "97 g CO2/km (comb)        537\n",
      "104 g CO2/km (comb)       501\n",
      "                         ... \n",
      "14 g CO2/km (comb)          1\n",
      "1,060 g CO2/km (comb)       1\n",
      "51 g CO2/km (comb)          1\n",
      "165 g CO2/km (comb)         1\n",
      "193 g CO2/km (comb)         1\n",
      "Name: co_2_emission, Length: 123, dtype: int64\n"
     ]
    }
   ],
   "source": [
    "first_looking('co_2_emission')"
   ]
  },
  {
   "cell_type": "code",
   "execution_count": 316,
   "metadata": {
    "ExecuteTime": {
     "end_time": "2022-08-02T14:58:16.400135Z",
     "start_time": "2022-08-02T14:58:16.270137Z"
    }
   },
   "outputs": [],
   "source": [
    "df['co_2_emission_g_by_km'] = df['co_2_emission'].str.replace(',', '').str.extract('(\\d+)').astype(float)"
   ]
  },
  {
   "cell_type": "code",
   "execution_count": 317,
   "metadata": {
    "ExecuteTime": {
     "end_time": "2022-08-02T14:58:26.588688Z",
     "start_time": "2022-08-02T14:58:26.551688Z"
    }
   },
   "outputs": [
    {
     "name": "stdout",
     "output_type": "stream",
     "text": [
      "column name    :  co_2_emission_g_by_km\n",
      "--------------------------------\n",
      "per_of_nulls   :  % 15.3\n",
      "num_of_nulls   :  2436\n",
      "num_of_uniques :  122\n",
      "--------------------------------\n",
      "NaN        2436\n",
      "120.00      740\n",
      "99.00       545\n",
      "97.00       537\n",
      "104.00      501\n",
      "           ... \n",
      "14.00         1\n",
      "1060.00       1\n",
      "51.00         1\n",
      "165.00        1\n",
      "193.00        1\n",
      "Name: co_2_emission_g_by_km, Length: 123, dtype: int64\n"
     ]
    }
   ],
   "source": [
    "first_looking('co_2_emission_g_by_km')"
   ]
  },
  {
   "cell_type": "code",
   "execution_count": 320,
   "metadata": {
    "ExecuteTime": {
     "end_time": "2022-08-02T14:59:24.151937Z",
     "start_time": "2022-08-02T14:59:24.083941Z"
    }
   },
   "outputs": [],
   "source": [
    "df.drop(\"co_2_emission\", axis=1, inplace=True) "
   ]
  },
  {
   "cell_type": "code",
   "execution_count": null,
   "metadata": {},
   "outputs": [],
   "source": []
  },
  {
   "cell_type": "code",
   "execution_count": 323,
   "metadata": {
    "ExecuteTime": {
     "end_time": "2022-08-02T15:00:15.194117Z",
     "start_time": "2022-08-02T15:00:15.119121Z"
    }
   },
   "outputs": [
    {
     "name": "stdout",
     "output_type": "stream",
     "text": [
      "column name    :  emission_class\n",
      "--------------------------------\n",
      "per_of_nulls   :  % 22.79\n",
      "num_of_nulls   :  3628\n",
      "num_of_uniques :  6\n",
      "--------------------------------\n",
      "Euro 6          10139\n",
      "NaN              3628\n",
      "Euro 6d-TEMP     1845\n",
      "Euro 6c           127\n",
      "Euro 5             78\n",
      "Euro 6d            62\n",
      "Euro 4             40\n",
      "Name: emission_class, dtype: int64\n"
     ]
    }
   ],
   "source": [
    "first_looking(\"emission_class\")"
   ]
  },
  {
   "cell_type": "code",
   "execution_count": 324,
   "metadata": {
    "ExecuteTime": {
     "end_time": "2022-08-02T15:02:44.446588Z",
     "start_time": "2022-08-02T15:02:44.238590Z"
    }
   },
   "outputs": [],
   "source": [
    "df.replace({\"emission_class\" : {\"Euro 6d-TEMP\": \"Euro 6\", \"Euro 6c\": \"Euro 6\", \"Euro 6d\": \"Euro 6\"}}, regex=True, inplace=True)\n",
    "\n",
    "#grouping the similars "
   ]
  },
  {
   "cell_type": "code",
   "execution_count": 325,
   "metadata": {
    "ExecuteTime": {
     "end_time": "2022-08-02T15:03:16.741382Z",
     "start_time": "2022-08-02T15:03:16.705388Z"
    }
   },
   "outputs": [
    {
     "name": "stdout",
     "output_type": "stream",
     "text": [
      "column name    :  emission_class\n",
      "--------------------------------\n",
      "per_of_nulls   :  % 22.79\n",
      "num_of_nulls   :  3628\n",
      "num_of_uniques :  3\n",
      "--------------------------------\n",
      "Euro 6    12173\n",
      "NaN        3628\n",
      "Euro 5       78\n",
      "Euro 4       40\n",
      "Name: emission_class, dtype: int64\n"
     ]
    }
   ],
   "source": [
    "first_looking(\"emission_class\")"
   ]
  },
  {
   "cell_type": "code",
   "execution_count": null,
   "metadata": {},
   "outputs": [],
   "source": []
  },
  {
   "cell_type": "code",
   "execution_count": 326,
   "metadata": {
    "ExecuteTime": {
     "end_time": "2022-08-02T15:06:00.214842Z",
     "start_time": "2022-08-02T15:06:00.167845Z"
    }
   },
   "outputs": [
    {
     "name": "stdout",
     "output_type": "stream",
     "text": [
      "column name    :  emission_label\n",
      "--------------------------------\n",
      "per_of_nulls   :  % 75.22\n",
      "num_of_nulls   :  11974\n",
      "num_of_uniques :  5\n",
      "--------------------------------\n",
      "NaN               11974\n",
      "4 (Green)          3553\n",
      "1 (No sticker)      381\n",
      "5 (Blue)              8\n",
      "3 (Yellow)            2\n",
      "2 (Red)               1\n",
      "Name: emission_label, dtype: int64\n"
     ]
    }
   ],
   "source": [
    "first_looking(\"emission_label\")"
   ]
  },
  {
   "cell_type": "code",
   "execution_count": 327,
   "metadata": {
    "ExecuteTime": {
     "end_time": "2022-08-02T15:06:45.622844Z",
     "start_time": "2022-08-02T15:06:45.557846Z"
    }
   },
   "outputs": [],
   "source": [
    "df.drop(\"emission_label\", axis=1, inplace=True) \n"
   ]
  },
  {
   "cell_type": "code",
   "execution_count": null,
   "metadata": {},
   "outputs": [],
   "source": []
  },
  {
   "cell_type": "code",
   "execution_count": 330,
   "metadata": {
    "ExecuteTime": {
     "end_time": "2022-08-02T15:07:44.398215Z",
     "start_time": "2022-08-02T15:07:44.367219Z"
    }
   },
   "outputs": [
    {
     "name": "stdout",
     "output_type": "stream",
     "text": [
      "column name    :  gears\n",
      "--------------------------------\n",
      "per_of_nulls   :  % 29.6\n",
      "num_of_nulls   :  4712\n",
      "num_of_uniques :  10\n",
      "--------------------------------\n",
      "6      5822\n",
      "NaN    4712\n",
      "5      3239\n",
      "7      1908\n",
      "8       224\n",
      "9         6\n",
      "1         2\n",
      "3         2\n",
      "4         2\n",
      "2         1\n",
      "50        1\n",
      "Name: gears, dtype: int64\n"
     ]
    }
   ],
   "source": [
    "first_looking(\"gears\")"
   ]
  },
  {
   "cell_type": "code",
   "execution_count": null,
   "metadata": {},
   "outputs": [],
   "source": []
  },
  {
   "cell_type": "code",
   "execution_count": null,
   "metadata": {},
   "outputs": [],
   "source": []
  },
  {
   "cell_type": "code",
   "execution_count": 331,
   "metadata": {
    "ExecuteTime": {
     "end_time": "2022-08-02T15:08:38.753785Z",
     "start_time": "2022-08-02T15:08:38.707784Z"
    }
   },
   "outputs": [
    {
     "name": "stdout",
     "output_type": "stream",
     "text": [
      "column name    :  country_version\n",
      "--------------------------------\n",
      "per_of_nulls   :  % 52.35\n",
      "num_of_nulls   :  8333\n",
      "num_of_uniques :  23\n",
      "--------------------------------\n",
      "NaN               8333\n",
      "Germany           4502\n",
      "Italy             1038\n",
      "European Union     507\n",
      "Netherlands        464\n",
      "Spain              325\n",
      "Belgium            314\n",
      "Austria            208\n",
      "Czech Republic      52\n",
      "Poland              49\n",
      "France              38\n",
      "Denmark             33\n",
      "Hungary             28\n",
      "Japan                8\n",
      "Slovakia             4\n",
      "Croatia              4\n",
      "Sweden               3\n",
      "Romania              2\n",
      "Bulgaria             2\n",
      "Luxembourg           1\n",
      "Switzerland          1\n",
      "Slovenia             1\n",
      "Egypt                1\n",
      "Serbia               1\n",
      "Name: country_version, dtype: int64\n"
     ]
    }
   ],
   "source": [
    "first_looking(\"country_version\")"
   ]
  },
  {
   "cell_type": "code",
   "execution_count": 332,
   "metadata": {
    "ExecuteTime": {
     "end_time": "2022-08-02T15:09:29.251809Z",
     "start_time": "2022-08-02T15:09:29.175815Z"
    }
   },
   "outputs": [],
   "source": [
    "df.drop(\"country_version\", axis=1, inplace=True) "
   ]
  },
  {
   "cell_type": "code",
   "execution_count": null,
   "metadata": {},
   "outputs": [],
   "source": []
  },
  {
   "cell_type": "code",
   "execution_count": 334,
   "metadata": {
    "ExecuteTime": {
     "end_time": "2022-08-02T15:11:27.269537Z",
     "start_time": "2022-08-02T15:11:27.155532Z"
    }
   },
   "outputs": [
    {
     "name": "stdout",
     "output_type": "stream",
     "text": [
      "column name    :  comfort_convenience\n",
      "--------------------------------\n",
      "per_of_nulls   :  % 5.78\n",
      "num_of_nulls   :  920\n",
      "num_of_uniques :  6198\n",
      "--------------------------------\n",
      "NaN                                                                                                                                                                                                                                                                                                                                                                                                                                                                                                  920\n",
      "Air conditioning,Electrical side mirrors,Hill Holder,Power windows                                                                                                                                                                                                                                                                                                                                                                                                                                   216\n",
      "Air conditioning,Electrical side mirrors,Power windows                                                                                                                                                                                                                                                                                                                                                                                                                                               134\n",
      "Air conditioning,Power windows                                                                                                                                                                                                                                                                                                                                                                                                                                                                       130\n",
      "Air conditioning,Armrest,Automatic climate control,Cruise control,Electrical side mirrors,Leather steering wheel,Light sensor,Lumbar support,Multi-function steering wheel,Navigation system,Park Distance Control,Parking assist system sensors front,Parking assist system sensors rear,Power windows,Rain sensor,Seat heating,Start-stop system                                                                                                                                                   105\n",
      "                                                                                                                                                                                                                                                                                                                                                                                                                                                                                                    ... \n",
      "Air conditioning,Cruise control,Electrical side mirrors,Hill Holder,Leather steering wheel,Light sensor,Multi-function steering wheel,Navigation system,Park Distance Control,Parking assist system sensors rear,Power windows,Rain sensor,Split rear seats,Start-stop system,Tinted windows                                                                                                                                                                                                           1\n",
      "Air conditioning,Armrest,Automatic climate control,Cruise control,Electrical side mirrors,Heated steering wheel,Hill Holder,Leather steering wheel,Light sensor,Lumbar support,Multi-function steering wheel,Navigation system,Park Distance Control,Parking assist system camera,Parking assist system sensors front,Parking assist system sensors rear,Power windows,Rain sensor,Seat heating,Sunroof                                                                                                1\n",
      "Air conditioning,Armrest,Cruise control,Electrical side mirrors,Heated steering wheel,Hill Holder,Leather steering wheel,Light sensor,Multi-function steering wheel,Park Distance Control,Parking assist system camera,Parking assist system sensors front,Parking assist system sensors rear,Power windows,Rain sensor,Seat heating,Split rear seats,Start-stop system,Tinted windows                                                                                                                 1\n",
      "Air conditioning,Automatic climate control,Cruise control,Electrical side mirrors,Leather steering wheel,Light sensor,Multi-function steering wheel,Park Distance Control,Parking assist system sensors front,Parking assist system sensors rear,Power windows,Rain sensor,Seat heating                                                                                                                                                                                                                1\n",
      "Air conditioning,Automatic climate control,Cruise control,Electrically heated windshield,Electrical side mirrors,Electric tailgate,Heads-up display,Heated steering wheel,Hill Holder,Keyless central door lock,Leather steering wheel,Light sensor,Lumbar support,Navigation system,Park Distance Control,Parking assist system camera,Parking assist system self-steering,Parking assist system sensors front,Parking assist system sensors rear,Power windows,Rain sensor,Seat heating,Sunroof      1\n",
      "Name: comfort_convenience, Length: 6199, dtype: int64\n"
     ]
    }
   ],
   "source": [
    "first_looking(\"comfort_convenience\")"
   ]
  },
  {
   "cell_type": "code",
   "execution_count": 335,
   "metadata": {
    "ExecuteTime": {
     "end_time": "2022-08-02T15:14:43.935552Z",
     "start_time": "2022-08-02T15:14:42.858557Z"
    }
   },
   "outputs": [
    {
     "data": {
      "text/plain": [
       "{0: 'Air conditioning',\n",
       " 1: 'Air suspension',\n",
       " 2: 'Armrest',\n",
       " 3: 'Automatic climate control',\n",
       " 4: 'Auxiliary heating',\n",
       " 5: 'Cruise control',\n",
       " 6: 'Electric Starter',\n",
       " 7: 'Electric tailgate',\n",
       " 8: 'Electrical side mirrors',\n",
       " 9: 'Electrically adjustable seats',\n",
       " 10: 'Electrically heated windshield',\n",
       " 11: 'Heads-up display',\n",
       " 12: 'Heated steering wheel',\n",
       " 13: 'Hill Holder',\n",
       " 14: 'Keyless central door lock',\n",
       " 15: 'Leather seats',\n",
       " 16: 'Leather steering wheel',\n",
       " 17: 'Light sensor',\n",
       " 18: 'Lumbar support',\n",
       " 19: 'Massage seats',\n",
       " 20: 'Multi-function steering wheel',\n",
       " 21: 'Navigation system',\n",
       " 22: 'Panorama roof',\n",
       " 23: 'Park Distance Control',\n",
       " 24: 'Parking assist system camera',\n",
       " 25: 'Parking assist system self-steering',\n",
       " 26: 'Parking assist system sensors front',\n",
       " 27: 'Parking assist system sensors rear',\n",
       " 28: 'Power windows',\n",
       " 29: 'Rain sensor',\n",
       " 30: 'Seat heating',\n",
       " 31: 'Seat ventilation',\n",
       " 32: 'Split rear seats',\n",
       " 33: 'Start-stop system',\n",
       " 34: 'Sunroof',\n",
       " 35: 'Tinted windows',\n",
       " 36: 'Wind deflector',\n",
       " 37: 'Windshield'}"
      ]
     },
     "execution_count": 335,
     "metadata": {},
     "output_type": "execute_result"
    }
   ],
   "source": [
    "get_diff_category_column(df['comfort_convenience'])"
   ]
  },
  {
   "cell_type": "code",
   "execution_count": null,
   "metadata": {},
   "outputs": [],
   "source": []
  },
  {
   "cell_type": "code",
   "execution_count": 336,
   "metadata": {
    "ExecuteTime": {
     "end_time": "2022-08-02T15:15:48.312039Z",
     "start_time": "2022-08-02T15:15:48.258045Z"
    }
   },
   "outputs": [
    {
     "name": "stdout",
     "output_type": "stream",
     "text": [
      "column name    :  entertainment_media\n",
      "--------------------------------\n",
      "per_of_nulls   :  % 8.63\n",
      "num_of_nulls   :  1374\n",
      "num_of_uniques :  346\n",
      "--------------------------------\n",
      "NaN                                                                                                 1374\n",
      "Bluetooth,Hands-free equipment,On-board computer,Radio,USB                                          1282\n",
      "Bluetooth,Hands-free equipment,MP3,On-board computer,Radio,USB                                       982\n",
      "Bluetooth,CD player,Hands-free equipment,MP3,On-board computer,Radio,USB                             783\n",
      "On-board computer,Radio                                                                              487\n",
      "                                                                                                    ... \n",
      "Bluetooth,CD player,Digital radio,Hands-free equipment,Radio                                           1\n",
      "CD player,Hands-free equipment,MP3,Radio,USB                                                           1\n",
      "MP3,Radio,Sound system,USB                                                                             1\n",
      "Bluetooth,MP3,On-board computer,Radio,Television,USB                                                   1\n",
      "Bluetooth,CD player,Hands-free equipment,MP3,On-board computer,Radio,Sound system,Television,USB       1\n",
      "Name: entertainment_media, Length: 347, dtype: int64\n"
     ]
    }
   ],
   "source": [
    "first_looking(\"entertainment_media\")"
   ]
  },
  {
   "cell_type": "code",
   "execution_count": 338,
   "metadata": {
    "ExecuteTime": {
     "end_time": "2022-08-02T15:16:18.758183Z",
     "start_time": "2022-08-02T15:16:17.796639Z"
    }
   },
   "outputs": [
    {
     "data": {
      "text/plain": [
       "{0: 'Bluetooth',\n",
       " 1: 'CD player',\n",
       " 2: 'Digital radio',\n",
       " 3: 'Hands-free equipment',\n",
       " 4: 'MP3',\n",
       " 5: 'On-board computer',\n",
       " 6: 'Radio',\n",
       " 7: 'Sound system',\n",
       " 8: 'Television',\n",
       " 9: 'USB'}"
      ]
     },
     "execution_count": 338,
     "metadata": {},
     "output_type": "execute_result"
    }
   ],
   "source": [
    "get_diff_category_column(df['entertainment_media'])"
   ]
  },
  {
   "cell_type": "code",
   "execution_count": null,
   "metadata": {},
   "outputs": [],
   "source": []
  },
  {
   "cell_type": "code",
   "execution_count": 339,
   "metadata": {
    "ExecuteTime": {
     "end_time": "2022-08-02T15:17:06.437390Z",
     "start_time": "2022-08-02T15:17:06.358392Z"
    }
   },
   "outputs": [
    {
     "name": "stdout",
     "output_type": "stream",
     "text": [
      "column name    :  extras\n",
      "--------------------------------\n",
      "per_of_nulls   :  % 18.61\n",
      "num_of_nulls   :  2962\n",
      "num_of_uniques :  659\n",
      "--------------------------------\n",
      "Alloy wheels                                                                                               3245\n",
      "NaN                                                                                                        2962\n",
      "Alloy wheels,Touch screen                                                                                   697\n",
      "Alloy wheels,Voice Control                                                                                  577\n",
      "Alloy wheels,Touch screen,Voice Control                                                                     541\n",
      "                                                                                                           ... \n",
      "Alloy wheels,Catalytic Converter,Shift paddles,Sport package,Sport seats,Sport suspension,Voice Control       1\n",
      "Alloy wheels,Catalytic Converter,Roof rack,Sport package,Sport seats,Trailer hitch                            1\n",
      "Alloy wheels,Catalytic Converter,Ski bag,Sport package,Voice Control                                          1\n",
      "Catalytic Converter,Roof rack,Sport seats,Sport suspension                                                    1\n",
      "Alloy wheels,Shift paddles,Ski bag,Sport seats,Sport suspension,Touch screen,Voice Control                    1\n",
      "Name: extras, Length: 660, dtype: int64\n"
     ]
    }
   ],
   "source": [
    "first_looking(\"extras\")"
   ]
  },
  {
   "cell_type": "code",
   "execution_count": 340,
   "metadata": {
    "ExecuteTime": {
     "end_time": "2022-08-02T15:17:12.636953Z",
     "start_time": "2022-08-02T15:17:12.141952Z"
    }
   },
   "outputs": [
    {
     "data": {
      "text/plain": [
       "{0: 'Alloy wheels',\n",
       " 1: 'Cab or rented Car',\n",
       " 2: 'Catalytic Converter',\n",
       " 3: 'Handicapped enabled',\n",
       " 4: 'Right hand drive',\n",
       " 5: 'Roof rack',\n",
       " 6: 'Shift paddles',\n",
       " 7: 'Ski bag',\n",
       " 8: 'Sliding door',\n",
       " 9: 'Sport package',\n",
       " 10: 'Sport seats',\n",
       " 11: 'Sport suspension',\n",
       " 12: 'Touch screen',\n",
       " 13: 'Trailer hitch',\n",
       " 14: 'Tuned car',\n",
       " 15: 'Voice Control',\n",
       " 16: 'Winter tyres'}"
      ]
     },
     "execution_count": 340,
     "metadata": {},
     "output_type": "execute_result"
    }
   ],
   "source": [
    "get_diff_category_column(df['extras'])"
   ]
  },
  {
   "cell_type": "code",
   "execution_count": null,
   "metadata": {},
   "outputs": [],
   "source": []
  },
  {
   "cell_type": "code",
   "execution_count": 341,
   "metadata": {
    "ExecuteTime": {
     "end_time": "2022-08-02T15:18:42.815127Z",
     "start_time": "2022-08-02T15:18:42.756130Z"
    }
   },
   "outputs": [
    {
     "name": "stdout",
     "output_type": "stream",
     "text": [
      "column name    :  safety_security\n",
      "--------------------------------\n",
      "per_of_nulls   :  % 6.17\n",
      "num_of_nulls   :  982\n",
      "num_of_uniques :  4443\n",
      "--------------------------------\n",
      "NaN                                                                                                                                                                                                                                                                                                                                                               982\n",
      "ABS,Central door lock,Daytime running lights,Driver-side airbag,Electronic stability control,Fog lights,Immobilizer,Isofix,Passenger-side airbag,Power steering,Side airbag,Tire pressure monitoring system,Traction control                                                                                                                                      538\n",
      "ABS,Central door lock,Daytime running lights,Driver-side airbag,Electronic stability control,Immobilizer,Isofix,Passenger-side airbag,Power steering,Side airbag,Tire pressure monitoring system,Traction control                                                                                                                                                 480\n",
      "ABS,Central door lock,Daytime running lights,Driver-side airbag,Electronic stability control,Immobilizer,Isofix,Passenger-side airbag,Power steering,Side airbag,Tire pressure monitoring system,Traction control,Xenon headlights                                                                                                                                275\n",
      "ABS,Central door lock,Daytime running lights,Driver-side airbag,Electronic stability control,Fog lights,Immobilizer,Isofix,LED Daytime Running Lights,Passenger-side airbag,Power steering,Side airbag,Tire pressure monitoring system,Traction control                                                                                                           272\n",
      "                                                                                                                                                                                                                                                                                                                                                                 ... \n",
      "ABS,Central door lock,Electronic stability control,Immobilizer,Isofix,Passenger-side airbag,Power steering,Side airbag                                                                                                                                                                                                                                              1\n",
      "ABS,Adaptive Cruise Control,Central door lock,Daytime running lights,Driver-side airbag,Electronic stability control,Emergency brake assistant,Immobilizer,Isofix,Passenger-side airbag,Power steering,Side airbag,Tire pressure monitoring system,Traction control                                                                                                 1\n",
      "ABS,Adaptive Cruise Control,Alarm system,Central door lock,Driver-side airbag,Electronic stability control,Fog lights,Immobilizer,Isofix,Lane departure warning system,LED Daytime Running Lights,Passenger-side airbag,Power steering,Side airbag,Tire pressure monitoring system,Traction control,Xenon headlights                                                1\n",
      "ABS,Adaptive Cruise Control,Central door lock,Daytime running lights,Driver-side airbag,Electronic stability control,Fog lights,Immobilizer,Isofix,Power steering,Tire pressure monitoring system,Traction control                                                                                                                                                  1\n",
      "ABS,Adaptive Cruise Control,Central door lock,Daytime running lights,Driver-side airbag,Electronic stability control,Emergency brake assistant,Fog lights,Immobilizer,Isofix,Lane departure warning system,LED Daytime Running Lights,LED Headlights,Passenger-side airbag,Power steering,Side airbag,Tire pressure monitoring system,Traffic sign recognition      1\n",
      "Name: safety_security, Length: 4444, dtype: int64\n"
     ]
    }
   ],
   "source": [
    "first_looking(\"safety_security\")"
   ]
  },
  {
   "cell_type": "code",
   "execution_count": 342,
   "metadata": {
    "ExecuteTime": {
     "end_time": "2022-08-02T15:19:20.927904Z",
     "start_time": "2022-08-02T15:19:19.924899Z"
    }
   },
   "outputs": [
    {
     "data": {
      "text/plain": [
       "{0: 'ABS',\n",
       " 1: 'Adaptive Cruise Control',\n",
       " 2: 'Adaptive headlights',\n",
       " 3: 'Alarm system',\n",
       " 4: 'Blind spot monitor',\n",
       " 5: 'Central door lock',\n",
       " 6: 'Central door lock with remote control',\n",
       " 7: 'Daytime running lights',\n",
       " 8: 'Driver drowsiness detection',\n",
       " 9: 'Driver-side airbag',\n",
       " 10: 'Electronic stability control',\n",
       " 11: 'Emergency brake assistant',\n",
       " 12: 'Emergency system',\n",
       " 13: 'Fog lights',\n",
       " 14: 'Head airbag',\n",
       " 15: 'Immobilizer',\n",
       " 16: 'Isofix',\n",
       " 17: 'LED Daytime Running Lights',\n",
       " 18: 'LED Headlights',\n",
       " 19: 'Lane departure warning system',\n",
       " 20: 'Night view assist',\n",
       " 21: 'Passenger-side airbag',\n",
       " 22: 'Power steering',\n",
       " 23: 'Rear airbag',\n",
       " 24: 'Side airbag',\n",
       " 25: 'Tire pressure monitoring system',\n",
       " 26: 'Traction control',\n",
       " 27: 'Traffic sign recognition',\n",
       " 28: 'Xenon headlights'}"
      ]
     },
     "execution_count": 342,
     "metadata": {},
     "output_type": "execute_result"
    }
   ],
   "source": [
    "get_diff_category_column(df['safety_security'])"
   ]
  },
  {
   "cell_type": "code",
   "execution_count": null,
   "metadata": {},
   "outputs": [],
   "source": []
  },
  {
   "cell_type": "markdown",
   "metadata": {},
   "source": [
    "## price (target column)"
   ]
  },
  {
   "cell_type": "code",
   "execution_count": 41,
   "metadata": {
    "ExecuteTime": {
     "end_time": "2022-08-02T07:32:19.700372Z",
     "start_time": "2022-08-02T07:32:19.650364Z"
    }
   },
   "outputs": [
    {
     "data": {
      "text/plain": [
       "14990    154\n",
       "15990    151\n",
       "10990    139\n",
       "15900    106\n",
       "17990    102\n",
       "        ... \n",
       "17559      1\n",
       "17560      1\n",
       "17570      1\n",
       "17575      1\n",
       "39875      1\n",
       "Name: price, Length: 2956, dtype: int64"
      ]
     },
     "execution_count": 41,
     "metadata": {},
     "output_type": "execute_result"
    }
   ],
   "source": [
    "df.price.value_counts(dropna=False)"
   ]
  },
  {
   "cell_type": "code",
   "execution_count": 42,
   "metadata": {
    "ExecuteTime": {
     "end_time": "2022-08-02T07:32:33.605841Z",
     "start_time": "2022-08-02T07:32:33.576843Z"
    }
   },
   "outputs": [
    {
     "data": {
      "text/plain": [
       "0"
      ]
     },
     "execution_count": 42,
     "metadata": {},
     "output_type": "execute_result"
    }
   ],
   "source": [
    "df.price.isnull().sum()"
   ]
  },
  {
   "cell_type": "code",
   "execution_count": 47,
   "metadata": {
    "ExecuteTime": {
     "end_time": "2022-08-02T07:40:57.098620Z",
     "start_time": "2022-08-02T07:40:57.021627Z"
    }
   },
   "outputs": [
    {
     "data": {
      "text/html": [
       "<div>\n",
       "<style scoped>\n",
       "    .dataframe tbody tr th:only-of-type {\n",
       "        vertical-align: middle;\n",
       "    }\n",
       "\n",
       "    .dataframe tbody tr th {\n",
       "        vertical-align: top;\n",
       "    }\n",
       "\n",
       "    .dataframe thead th {\n",
       "        text-align: right;\n",
       "    }\n",
       "</style>\n",
       "<table border=\"1\" class=\"dataframe\">\n",
       "  <thead>\n",
       "    <tr style=\"text-align: right;\">\n",
       "      <th></th>\n",
       "      <th>count</th>\n",
       "      <th>mean</th>\n",
       "      <th>std</th>\n",
       "      <th>min</th>\n",
       "      <th>25%</th>\n",
       "      <th>50%</th>\n",
       "      <th>75%</th>\n",
       "      <th>max</th>\n",
       "    </tr>\n",
       "  </thead>\n",
       "  <tbody>\n",
       "    <tr>\n",
       "      <th>price</th>\n",
       "      <td>15919.00</td>\n",
       "      <td>18019.90</td>\n",
       "      <td>7386.17</td>\n",
       "      <td>13.00</td>\n",
       "      <td>12850.00</td>\n",
       "      <td>16900.00</td>\n",
       "      <td>21900.00</td>\n",
       "      <td>74600.00</td>\n",
       "    </tr>\n",
       "  </tbody>\n",
       "</table>\n",
       "</div>"
      ],
      "text/plain": [
       "         count     mean     std   min      25%      50%      75%      max\n",
       "price 15919.00 18019.90 7386.17 13.00 12850.00 16900.00 21900.00 74600.00"
      ]
     },
     "execution_count": 47,
     "metadata": {},
     "output_type": "execute_result"
    }
   ],
   "source": [
    "df.describe().T"
   ]
  },
  {
   "cell_type": "code",
   "execution_count": 43,
   "metadata": {
    "ExecuteTime": {
     "end_time": "2022-08-02T07:32:45.832022Z",
     "start_time": "2022-08-02T07:32:44.962821Z"
    },
    "scrolled": true
   },
   "outputs": [
    {
     "data": {
      "image/png": "[encoded data removed]",
      "text/plain": [
       "<Figure size 720x432 with 1 Axes>"
      ]
     },
     "metadata": {},
     "output_type": "display_data"
    }
   ],
   "source": [
    "sns.boxplot(df.price);"
   ]
  },
  {
   "cell_type": "code",
   "execution_count": 44,
   "metadata": {
    "ExecuteTime": {
     "end_time": "2022-08-02T07:33:04.088344Z",
     "start_time": "2022-08-02T07:33:02.099353Z"
    }
   },
   "outputs": [
    {
     "data": {
      "image/png": "[encoded data removed]",
      "text/plain": [
       "<Figure size 720x432 with 1 Axes>"
      ]
     },
     "metadata": {},
     "output_type": "display_data"
    }
   ],
   "source": [
    "sns.distplot(df.price);"
   ]
  },
  {
   "cell_type": "markdown",
   "metadata": {},
   "source": [
    "## At the end of part 1, after working on the data, we have 31 columns below"
   ]
  },
  {
   "cell_type": "code",
   "execution_count": 357,
   "metadata": {
    "ExecuteTime": {
     "end_time": "2022-08-02T15:35:13.947854Z",
     "start_time": "2022-08-02T15:35:13.927865Z"
    }
   },
   "outputs": [
    {
     "data": {
      "text/plain": [
       "(15919, 31)"
      ]
     },
     "execution_count": 357,
     "metadata": {},
     "output_type": "execute_result"
    }
   ],
   "source": [
    "df.shape"
   ]
  },
  {
   "cell_type": "code",
   "execution_count": 355,
   "metadata": {
    "ExecuteTime": {
     "end_time": "2022-08-02T15:32:06.435061Z",
     "start_time": "2022-08-02T15:32:06.365061Z"
    }
   },
   "outputs": [
    {
     "data": {
      "text/html": [
       "<div>\n",
       "<style scoped>\n",
       "    .dataframe tbody tr th:only-of-type {\n",
       "        vertical-align: middle;\n",
       "    }\n",
       "\n",
       "    .dataframe tbody tr th {\n",
       "        vertical-align: top;\n",
       "    }\n",
       "\n",
       "    .dataframe thead th {\n",
       "        text-align: right;\n",
       "    }\n",
       "</style>\n",
       "<table border=\"1\" class=\"dataframe\">\n",
       "  <thead>\n",
       "    <tr style=\"text-align: right;\">\n",
       "      <th></th>\n",
       "      <th>0</th>\n",
       "      <th>1</th>\n",
       "      <th>2</th>\n",
       "    </tr>\n",
       "  </thead>\n",
       "  <tbody>\n",
       "    <tr>\n",
       "      <th>make_model</th>\n",
       "      <td>Audi A1</td>\n",
       "      <td>Audi A1</td>\n",
       "      <td>Audi A1</td>\n",
       "    </tr>\n",
       "    <tr>\n",
       "      <th>body_type</th>\n",
       "      <td>Sedans</td>\n",
       "      <td>Sedans</td>\n",
       "      <td>Sedans</td>\n",
       "    </tr>\n",
       "    <tr>\n",
       "      <th>price</th>\n",
       "      <td>15770</td>\n",
       "      <td>14500</td>\n",
       "      <td>14640</td>\n",
       "    </tr>\n",
       "    <tr>\n",
       "      <th>vat</th>\n",
       "      <td>VAT deductible</td>\n",
       "      <td>Price negotiable</td>\n",
       "      <td>VAT deductible</td>\n",
       "    </tr>\n",
       "    <tr>\n",
       "      <th>km</th>\n",
       "      <td>56013.00</td>\n",
       "      <td>80000.00</td>\n",
       "      <td>83450.00</td>\n",
       "    </tr>\n",
       "    <tr>\n",
       "      <th>prev_owner</th>\n",
       "      <td>2.00</td>\n",
       "      <td>NaN</td>\n",
       "      <td>1.00</td>\n",
       "    </tr>\n",
       "    <tr>\n",
       "      <th>hp</th>\n",
       "      <td>66.00</td>\n",
       "      <td>141.00</td>\n",
       "      <td>85.00</td>\n",
       "    </tr>\n",
       "    <tr>\n",
       "      <th>type</th>\n",
       "      <td>Used</td>\n",
       "      <td>Used</td>\n",
       "      <td>Used</td>\n",
       "    </tr>\n",
       "    <tr>\n",
       "      <th>previous_owners</th>\n",
       "      <td>2.00</td>\n",
       "      <td>NaN</td>\n",
       "      <td>1.00</td>\n",
       "    </tr>\n",
       "    <tr>\n",
       "      <th>warranty</th>\n",
       "      <td>4 (Green)</td>\n",
       "      <td>NaN</td>\n",
       "      <td>99 g CO2/km (comb)</td>\n",
       "    </tr>\n",
       "    <tr>\n",
       "      <th>body_color</th>\n",
       "      <td>Black</td>\n",
       "      <td>Red</td>\n",
       "      <td>Black</td>\n",
       "    </tr>\n",
       "    <tr>\n",
       "      <th>paint_type</th>\n",
       "      <td>Metallic</td>\n",
       "      <td>NaN</td>\n",
       "      <td>Metallic</td>\n",
       "    </tr>\n",
       "    <tr>\n",
       "      <th>nr_of_doors</th>\n",
       "      <td>5.00</td>\n",
       "      <td>3.00</td>\n",
       "      <td>4.00</td>\n",
       "    </tr>\n",
       "    <tr>\n",
       "      <th>nr_of_seats</th>\n",
       "      <td>5.00</td>\n",
       "      <td>4.00</td>\n",
       "      <td>4.00</td>\n",
       "    </tr>\n",
       "    <tr>\n",
       "      <th>gearing_type</th>\n",
       "      <td>Automatic</td>\n",
       "      <td>Automatic</td>\n",
       "      <td>Automatic</td>\n",
       "    </tr>\n",
       "    <tr>\n",
       "      <th>cylinders</th>\n",
       "      <td>3</td>\n",
       "      <td>4</td>\n",
       "      <td>NaN</td>\n",
       "    </tr>\n",
       "    <tr>\n",
       "      <th>drive_chain</th>\n",
       "      <td>front</td>\n",
       "      <td>front</td>\n",
       "      <td>front</td>\n",
       "    </tr>\n",
       "    <tr>\n",
       "      <th>fuel</th>\n",
       "      <td>Diesel (Particulate Filter)</td>\n",
       "      <td>Gasoline</td>\n",
       "      <td>Diesel (Particulate Filter)</td>\n",
       "    </tr>\n",
       "    <tr>\n",
       "      <th>emission_class</th>\n",
       "      <td>Euro 6</td>\n",
       "      <td>Euro 6</td>\n",
       "      <td>Euro 6</td>\n",
       "    </tr>\n",
       "    <tr>\n",
       "      <th>comfort_convenience</th>\n",
       "      <td>Air conditioning,Armrest,Automatic climate con...</td>\n",
       "      <td>Air conditioning,Automatic climate control,Hil...</td>\n",
       "      <td>Air conditioning,Cruise control,Electrical sid...</td>\n",
       "    </tr>\n",
       "    <tr>\n",
       "      <th>entertainment_media</th>\n",
       "      <td>Bluetooth,Hands-free equipment,On-board comput...</td>\n",
       "      <td>Bluetooth,Hands-free equipment,On-board comput...</td>\n",
       "      <td>MP3,On-board computer</td>\n",
       "    </tr>\n",
       "    <tr>\n",
       "      <th>extras</th>\n",
       "      <td>Alloy wheels,Catalytic Converter,Voice Control</td>\n",
       "      <td>Alloy wheels,Sport seats,Sport suspension,Voic...</td>\n",
       "      <td>Alloy wheels,Voice Control</td>\n",
       "    </tr>\n",
       "    <tr>\n",
       "      <th>safety_security</th>\n",
       "      <td>ABS,Central door lock,Daytime running lights,D...</td>\n",
       "      <td>ABS,Central door lock,Central door lock with r...</td>\n",
       "      <td>ABS,Central door lock,Daytime running lights,D...</td>\n",
       "    </tr>\n",
       "    <tr>\n",
       "      <th>gears</th>\n",
       "      <td>NaN</td>\n",
       "      <td>7</td>\n",
       "      <td>NaN</td>\n",
       "    </tr>\n",
       "    <tr>\n",
       "      <th>age</th>\n",
       "      <td>3.00</td>\n",
       "      <td>2.00</td>\n",
       "      <td>3.00</td>\n",
       "    </tr>\n",
       "    <tr>\n",
       "      <th>warranty_months</th>\n",
       "      <td>NaN</td>\n",
       "      <td>NaN</td>\n",
       "      <td>NaN</td>\n",
       "    </tr>\n",
       "    <tr>\n",
       "      <th>displacement_cc</th>\n",
       "      <td>1422.00</td>\n",
       "      <td>1798.00</td>\n",
       "      <td>1598.00</td>\n",
       "    </tr>\n",
       "    <tr>\n",
       "      <th>weight_kg</th>\n",
       "      <td>1220.00</td>\n",
       "      <td>1255.00</td>\n",
       "      <td>NaN</td>\n",
       "    </tr>\n",
       "    <tr>\n",
       "      <th>upholstery_type</th>\n",
       "      <td>Cloth</td>\n",
       "      <td>Cloth</td>\n",
       "      <td>Cloth</td>\n",
       "    </tr>\n",
       "    <tr>\n",
       "      <th>consumption_comb</th>\n",
       "      <td>3.80</td>\n",
       "      <td>5.60</td>\n",
       "      <td>3.80</td>\n",
       "    </tr>\n",
       "    <tr>\n",
       "      <th>co_2_emission_g_by_km</th>\n",
       "      <td>99.00</td>\n",
       "      <td>129.00</td>\n",
       "      <td>99.00</td>\n",
       "    </tr>\n",
       "  </tbody>\n",
       "</table>\n",
       "</div>"
      ],
      "text/plain": [
       "                                                                       0  \\\n",
       "make_model                                                       Audi A1   \n",
       "body_type                                                         Sedans   \n",
       "price                                                              15770   \n",
       "vat                                                       VAT deductible   \n",
       "km                                                              56013.00   \n",
       "prev_owner                                                          2.00   \n",
       "hp                                                                 66.00   \n",
       "type                                                                Used   \n",
       "previous_owners                                                     2.00   \n",
       "warranty                                                       4 (Green)   \n",
       "body_color                                                         Black   \n",
       "paint_type                                                      Metallic   \n",
       "nr_of_doors                                                         5.00   \n",
       "nr_of_seats                                                         5.00   \n",
       "gearing_type                                                   Automatic   \n",
       "cylinders                                                              3   \n",
       "drive_chain                                                        front   \n",
       "fuel                                         Diesel (Particulate Filter)   \n",
       "emission_class                                                    Euro 6   \n",
       "comfort_convenience    Air conditioning,Armrest,Automatic climate con...   \n",
       "entertainment_media    Bluetooth,Hands-free equipment,On-board comput...   \n",
       "extras                    Alloy wheels,Catalytic Converter,Voice Control   \n",
       "safety_security        ABS,Central door lock,Daytime running lights,D...   \n",
       "gears                                                                NaN   \n",
       "age                                                                 3.00   \n",
       "warranty_months                                                      NaN   \n",
       "displacement_cc                                                  1422.00   \n",
       "weight_kg                                                        1220.00   \n",
       "upholstery_type                                                    Cloth   \n",
       "consumption_comb                                                    3.80   \n",
       "co_2_emission_g_by_km                                              99.00   \n",
       "\n",
       "                                                                       1  \\\n",
       "make_model                                                       Audi A1   \n",
       "body_type                                                         Sedans   \n",
       "price                                                              14500   \n",
       "vat                                                     Price negotiable   \n",
       "km                                                              80000.00   \n",
       "prev_owner                                                           NaN   \n",
       "hp                                                                141.00   \n",
       "type                                                                Used   \n",
       "previous_owners                                                      NaN   \n",
       "warranty                                                             NaN   \n",
       "body_color                                                           Red   \n",
       "paint_type                                                           NaN   \n",
       "nr_of_doors                                                         3.00   \n",
       "nr_of_seats                                                         4.00   \n",
       "gearing_type                                                   Automatic   \n",
       "cylinders                                                              4   \n",
       "drive_chain                                                        front   \n",
       "fuel                                                            Gasoline   \n",
       "emission_class                                                    Euro 6   \n",
       "comfort_convenience    Air conditioning,Automatic climate control,Hil...   \n",
       "entertainment_media    Bluetooth,Hands-free equipment,On-board comput...   \n",
       "extras                 Alloy wheels,Sport seats,Sport suspension,Voic...   \n",
       "safety_security        ABS,Central door lock,Central door lock with r...   \n",
       "gears                                                                  7   \n",
       "age                                                                 2.00   \n",
       "warranty_months                                                      NaN   \n",
       "displacement_cc                                                  1798.00   \n",
       "weight_kg                                                        1255.00   \n",
       "upholstery_type                                                    Cloth   \n",
       "consumption_comb                                                    5.60   \n",
       "co_2_emission_g_by_km                                             129.00   \n",
       "\n",
       "                                                                       2  \n",
       "make_model                                                       Audi A1  \n",
       "body_type                                                         Sedans  \n",
       "price                                                              14640  \n",
       "vat                                                       VAT deductible  \n",
       "km                                                              83450.00  \n",
       "prev_owner                                                          1.00  \n",
       "hp                                                                 85.00  \n",
       "type                                                                Used  \n",
       "previous_owners                                                     1.00  \n",
       "warranty                                              99 g CO2/km (comb)  \n",
       "body_color                                                         Black  \n",
       "paint_type                                                      Metallic  \n",
       "nr_of_doors                                                         4.00  \n",
       "nr_of_seats                                                         4.00  \n",
       "gearing_type                                                   Automatic  \n",
       "cylinders                                                            NaN  \n",
       "drive_chain                                                        front  \n",
       "fuel                                         Diesel (Particulate Filter)  \n",
       "emission_class                                                    Euro 6  \n",
       "comfort_convenience    Air conditioning,Cruise control,Electrical sid...  \n",
       "entertainment_media                                MP3,On-board computer  \n",
       "extras                                        Alloy wheels,Voice Control  \n",
       "safety_security        ABS,Central door lock,Daytime running lights,D...  \n",
       "gears                                                                NaN  \n",
       "age                                                                 3.00  \n",
       "warranty_months                                                      NaN  \n",
       "displacement_cc                                                  1598.00  \n",
       "weight_kg                                                            NaN  \n",
       "upholstery_type                                                    Cloth  \n",
       "consumption_comb                                                    3.80  \n",
       "co_2_emission_g_by_km                                              99.00  "
      ]
     },
     "execution_count": 355,
     "metadata": {},
     "output_type": "execute_result"
    }
   ],
   "source": [
    "df.head(3).T"
   ]
  },
  {
   "cell_type": "code",
   "execution_count": null,
   "metadata": {},
   "outputs": [],
   "source": []
  },
  {
   "cell_type": "code",
   "execution_count": 358,
   "metadata": {
    "ExecuteTime": {
     "end_time": "2022-08-02T15:36:45.961640Z",
     "start_time": "2022-08-02T15:36:43.977644Z"
    }
   },
   "outputs": [],
   "source": [
    "df.to_csv(\"cleaned_scout_car.csv\", index=False)\n",
    "\n",
    "# saving the cleaned data as csv file."
   ]
  },
  {
   "cell_type": "code",
   "execution_count": null,
   "metadata": {},
   "outputs": [],
   "source": []
  },
  {
   "cell_type": "markdown",
   "metadata": {
    "ExecuteTime": {
     "end_time": "2022-08-02T15:42:09.138129Z",
     "start_time": "2022-08-02T15:42:09.110139Z"
    }
   },
   "source": [
    "## <p style=\"background-color:#FDFEFE; font-family:newtimeroman; color:#9d4f8c; font-size:150%; text-align:center; border-radius:10px 10px;\">The End of Data Cleaning (Part - 01)</p>\n",
    "\n",
    "<a id=\"4\"></a>\n",
    "<a href=\"#toc\" class=\"btn btn-primary btn-sm\" role=\"button\" aria-pressed=\"true\" \n",
    "style=\"color:blue; background-color:#dfa8e4\" data-toggle=\"popover\"></a>"
   ]
  },
  {
   "cell_type": "code",
   "execution_count": null,
   "metadata": {},
   "outputs": [],
   "source": []
  },
  {
   "cell_type": "code",
   "execution_count": null,
   "metadata": {},
   "outputs": [],
   "source": []
  },
  {
   "cell_type": "markdown",
   "metadata": {
    "id": "uGeKSdYds1MD"
   },
   "source": [
    "# PART- 2 `( Handling With Missing Values )`"
   ]
  },
  {
   "cell_type": "code",
   "execution_count": null,
   "metadata": {
    "id": "WDZnqBhbs1ME"
   },
   "outputs": [],
   "source": []
  },
  {
   "cell_type": "markdown",
   "metadata": {
    "id": "gPPdPAu5s1ME"
   },
   "source": [
    "# PART- 3 `( Handling With Outliers )`"
   ]
  },
  {
   "cell_type": "code",
   "execution_count": null,
   "metadata": {
    "id": "Is4HLjHWs1MF"
   },
   "outputs": [],
   "source": []
  },
  {
   "cell_type": "markdown",
   "metadata": {
    "id": "EKxmsgfts1MG"
   },
   "source": [
    "# Final Step (Checking final situation of data via graphs)"
   ]
  },
  {
   "cell_type": "code",
   "execution_count": null,
   "metadata": {
    "id": "8mgL_Bd0s1MG"
   },
   "outputs": [],
   "source": []
  },
  {
   "cell_type": "markdown",
   "metadata": {
    "id": "2PgUVPoes1MH"
   },
   "source": [
    "## Export dataframe to csv file (without dummy)"
   ]
  },
  {
   "cell_type": "code",
   "execution_count": null,
   "metadata": {
    "id": "Byg_o2ZMs1MI"
   },
   "outputs": [],
   "source": [
    "df.to_csv(\"final_scout_not_dummy.csv\", index=False)"
   ]
  },
  {
   "cell_type": "markdown",
   "metadata": {
    "id": "hrw9hr-3s1MJ"
   },
   "source": [
    "# Dummy Operation"
   ]
  },
  {
   "cell_type": "code",
   "execution_count": null,
   "metadata": {
    "id": "faDyWTC9s1MJ"
   },
   "outputs": [],
   "source": []
  },
  {
   "cell_type": "markdown",
   "metadata": {
    "id": "DUOdihlqs1MJ"
   },
   "source": [
    "## Export dataframe to csv file (dummy)"
   ]
  },
  {
   "cell_type": "code",
   "execution_count": null,
   "metadata": {
    "id": "IJT7Yl1Us1MK"
   },
   "outputs": [],
   "source": [
    "df_dummied.to_csv(\"final_scout_dummy.csv\", index=False)"
   ]
  }
 ],
 "metadata": {
  "colab": {
   "name": "DAwPy-Capstone_Project_(AutoScout)_Student.ipynb",
   "provenance": []
  },
  "kernelspec": {
   "display_name": "Python 3 (ipykernel)",
   "language": "python",
   "name": "python3"
  },
  "language_info": {
   "codemirror_mode": {
    "name": "ipython",
    "version": 3
   },
   "file_extension": ".py",
   "mimetype": "text/x-python",
   "name": "python",
   "nbconvert_exporter": "python",
   "pygments_lexer": "ipython3",
   "version": "3.9.7"
  },
  "toc": {
   "base_numbering": 1,
   "nav_menu": {},
   "number_sections": false,
   "sideBar": true,
   "skip_h1_title": false,
   "title_cell": "Table of Contents",
   "title_sidebar": "Contents",
   "toc_cell": false,
   "toc_position": {},
   "toc_section_display": true,
   "toc_window_display": false
  }
 },
 "nbformat": 4,
 "nbformat_minor": 1
}
