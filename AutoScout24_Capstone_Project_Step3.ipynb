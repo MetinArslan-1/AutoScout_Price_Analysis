{
 "cells": [
  {
   "cell_type": "markdown",
   "metadata": {
    "id": "Bv1I7_aas1L3"
   },
   "source": [
    "___\n",
    "\n",
    "<p style=\"text-align: center;\"><img src=\"https://docs.google.com/uc?id=1lY0Uj5R04yMY3-ZppPWxqCr5pvBLYPnV\" class=\"img-fluid\" \n",
    "alt=\"CLRSWY\"></p>\n",
    "\n",
    "## <p style=\"background-color:#FDFEFE; font-family:newtimeroman; color:#9d4f8c; font-size:100%; text-align:center; border-radius:10px 10px;\">WAY TO REINVENT YOURSELF</p>"
   ]
  },
  {
   "cell_type": "markdown",
   "metadata": {
    "id": "Bkw3_pB0s1L-"
   },
   "source": [
    "<img src=https://i.ibb.co/wJW61Y2/Used-cars.jpg width=\"700\" height=\"200\">\n",
    "\n",
    "## <p style=\"background-color:#FDFEFE; font-family:newtimeroman; color:#060108; font-size:200%; text-align:center; border-radius:10px 10px;\">The Capstone Project of Data Analytics Module</p>\n",
    "\n",
    "## <p style=\"background-color:#FDFEFE; font-family:newtimeroman; color:#060108; font-size:150%; text-align:center; border-radius:10px 10px;\">Car Price Prediction EDA</p>"
   ]
  },
  {
   "cell_type": "markdown",
   "metadata": {
    "id": "Z_oWczxZs1MA"
   },
   "source": [
    "## Introduction\n",
    "Welcome to \"***AutoScout Data Analysis Project***\". This is the capstone project of ***Data Analysis*** Module. **Auto Scout** data which using for this project, scraped from the on-line car trading company in 2019, contains many features of 9 different car models. In this project, you will have the opportunity to apply many commonly used algorithms for Data Cleaning and Exploratory Data Analysis by using many Python libraries such as Numpy, Pandas, Matplotlib, Seaborn, Scipy you will analyze clean dataset.\n",
    "\n",
    "### Some Reminders on Exploratory data analysis (EDA)\n",
    "\n",
    "Exploratory data analysis (EDA) is an especially important activity in the routine of a data analyst or scientist. It enables an in depth understanding of the dataset, define or discard hypotheses and create predictive models on a solid basis. It uses data manipulation techniques and several statistical tools to describe and understand the relationship between variables and how these can impact business. By means of EDA, we can obtain meaningful insights that can impact analysis under the following questions (If a checklist is good enough for pilots to use every flight, it’s good enough for data scientists to use with every dataset).\n",
    "1. What question are you trying to solve (or prove wrong)?\n",
    "2. What kind of data do you have?\n",
    "3. What’s missing from the data?\n",
    "4. Where are the outliers?\n",
    "5. How can you add, change or remove features to get more out of your data?\n",
    "\n",
    "**``Exploratory data analysis (EDA)``** is often an **iterative brainstorming process** where you pose a question, review the data, and develop further questions to investigate before beginning model development work. The image below shows how the brainstorming phase is connected with that of understanding the variables and how this in turn is connected again with the brainstorming phase.<br>\n",
    "\n",
    "<img src=https://i.ibb.co/k0MC950/EDA-Process.png width=\"300\" height=\"100\">\n",
    "\n",
    "[Image Credit: Andrew D.](https://towardsdatascience.com/exploratory-data-analysis-in-python-a-step-by-step-process-d0dfa6bf94ee)\n",
    "\n",
    "**``In this context, the project consists of 3 parts in general:``**\n",
    "* **The first part** is related to 'Data Cleaning'. It deals with Incorrect Headers, Incorrect Format, Anomalies, and Dropping useless columns.\n",
    "* **The second part** is related to 'Filling Data', in other words 'Imputation'. It deals with Missing Values. Categorical to numeric transformation is done as well.\n",
    "* **The third part** is related to 'Handling Outliers of Data' via Visualization libraries. So, some insights will be extracted.\n",
    "\n",
    "**``NOTE:``**  However, you are free to create your own style. You do NOT have to stick to the steps above. We, the DA & DV instructors, recommend you study each part separately to create a source notebook for each part title for your further studies. "
   ]
  },
  {
   "cell_type": "markdown",
   "metadata": {
    "id": "vvgJ5KWTs1MB"
   },
   "source": [
    "# PART- 3 `( Handling With Outliers )`"
   ]
  },
  {
   "cell_type": "code",
   "execution_count": 16,
   "metadata": {
    "ExecuteTime": {
     "end_time": "2022-08-03T08:42:14.456114Z",
     "start_time": "2022-08-03T08:42:13.817115Z"
    },
    "id": "Y13_gId7s1MC"
   },
   "outputs": [],
   "source": [
    "import numpy as np\n",
    "import pandas as pd\n",
    "import seaborn as sns \n",
    "import matplotlib.pyplot as plt\n",
    "from skimpy import clean_columns\n",
    "\n",
    "import warnings\n",
    "warnings.filterwarnings(\"ignore\")\n",
    "warnings.warn(\"this will not show\")\n",
    "\n",
    "%matplotlib inline\n",
    "# %matplotlib notebook\n",
    "\n",
    "plt.rcParams[\"figure.figsize\"] = (10,6)\n",
    "# plt.rcParams['figure.dpi'] = 100\n",
    "\n",
    "sns.set_style(\"whitegrid\")\n",
    "pd.set_option('display.float_format', lambda x: '%.2f' % x)\n",
    "\n",
    "pd.options.display.max_rows = 100\n",
    "pd.options.display.max_columns = 100"
   ]
  },
  {
   "cell_type": "code",
   "execution_count": 17,
   "metadata": {
    "ExecuteTime": {
     "end_time": "2022-08-03T08:42:50.041113Z",
     "start_time": "2022-08-03T08:42:49.261115Z"
    }
   },
   "outputs": [],
   "source": [
    "df = pd.read_csv(\"cleaned_scout_car_2_2.csv\")"
   ]
  },
  {
   "cell_type": "code",
   "execution_count": 18,
   "metadata": {
    "ExecuteTime": {
     "end_time": "2022-08-03T08:42:57.454117Z",
     "start_time": "2022-08-03T08:42:57.418118Z"
    }
   },
   "outputs": [
    {
     "data": {
      "text/plain": [
       "(15919, 25)"
      ]
     },
     "execution_count": 18,
     "metadata": {},
     "output_type": "execute_result"
    }
   ],
   "source": [
    "df.shape"
   ]
  },
  {
   "cell_type": "code",
   "execution_count": 19,
   "metadata": {
    "ExecuteTime": {
     "end_time": "2022-08-03T08:43:04.347274Z",
     "start_time": "2022-08-03T08:43:04.124284Z"
    }
   },
   "outputs": [
    {
     "data": {
      "text/html": [
       "<div>\n",
       "<style scoped>\n",
       "    .dataframe tbody tr th:only-of-type {\n",
       "        vertical-align: middle;\n",
       "    }\n",
       "\n",
       "    .dataframe tbody tr th {\n",
       "        vertical-align: top;\n",
       "    }\n",
       "\n",
       "    .dataframe thead th {\n",
       "        text-align: right;\n",
       "    }\n",
       "</style>\n",
       "<table border=\"1\" class=\"dataframe\">\n",
       "  <thead>\n",
       "    <tr style=\"text-align: right;\">\n",
       "      <th></th>\n",
       "      <th>0</th>\n",
       "      <th>1</th>\n",
       "      <th>2</th>\n",
       "    </tr>\n",
       "  </thead>\n",
       "  <tbody>\n",
       "    <tr>\n",
       "      <th>make_model</th>\n",
       "      <td>Audi A1</td>\n",
       "      <td>Audi A1</td>\n",
       "      <td>Audi A1</td>\n",
       "    </tr>\n",
       "    <tr>\n",
       "      <th>body_type</th>\n",
       "      <td>Sedans</td>\n",
       "      <td>Sedans</td>\n",
       "      <td>Sedans</td>\n",
       "    </tr>\n",
       "    <tr>\n",
       "      <th>price</th>\n",
       "      <td>15770</td>\n",
       "      <td>14500</td>\n",
       "      <td>14640</td>\n",
       "    </tr>\n",
       "    <tr>\n",
       "      <th>vat</th>\n",
       "      <td>VAT deductible</td>\n",
       "      <td>Price negotiable</td>\n",
       "      <td>VAT deductible</td>\n",
       "    </tr>\n",
       "    <tr>\n",
       "      <th>km</th>\n",
       "      <td>56013.00</td>\n",
       "      <td>80000.00</td>\n",
       "      <td>83450.00</td>\n",
       "    </tr>\n",
       "    <tr>\n",
       "      <th>hp</th>\n",
       "      <td>66.00</td>\n",
       "      <td>141.00</td>\n",
       "      <td>85.00</td>\n",
       "    </tr>\n",
       "    <tr>\n",
       "      <th>type</th>\n",
       "      <td>Used</td>\n",
       "      <td>Used</td>\n",
       "      <td>Used</td>\n",
       "    </tr>\n",
       "    <tr>\n",
       "      <th>paint_type</th>\n",
       "      <td>Metallic</td>\n",
       "      <td>Metallic</td>\n",
       "      <td>Metallic</td>\n",
       "    </tr>\n",
       "    <tr>\n",
       "      <th>nr_of_doors</th>\n",
       "      <td>5.00</td>\n",
       "      <td>3.00</td>\n",
       "      <td>4.00</td>\n",
       "    </tr>\n",
       "    <tr>\n",
       "      <th>nr_of_seats</th>\n",
       "      <td>5.00</td>\n",
       "      <td>4.00</td>\n",
       "      <td>4.00</td>\n",
       "    </tr>\n",
       "    <tr>\n",
       "      <th>gearing_type</th>\n",
       "      <td>Automatic</td>\n",
       "      <td>Automatic</td>\n",
       "      <td>Automatic</td>\n",
       "    </tr>\n",
       "    <tr>\n",
       "      <th>drive_chain</th>\n",
       "      <td>front</td>\n",
       "      <td>front</td>\n",
       "      <td>front</td>\n",
       "    </tr>\n",
       "    <tr>\n",
       "      <th>fuel</th>\n",
       "      <td>Diesel</td>\n",
       "      <td>Benzine</td>\n",
       "      <td>Diesel</td>\n",
       "    </tr>\n",
       "    <tr>\n",
       "      <th>emission_class</th>\n",
       "      <td>Euro 6</td>\n",
       "      <td>Euro 6</td>\n",
       "      <td>Euro 6</td>\n",
       "    </tr>\n",
       "    <tr>\n",
       "      <th>comfort_convenience</th>\n",
       "      <td>Air conditioning,Armrest,Automatic climate con...</td>\n",
       "      <td>Air conditioning,Automatic climate control,Hil...</td>\n",
       "      <td>Air conditioning,Cruise control,Electrical sid...</td>\n",
       "    </tr>\n",
       "    <tr>\n",
       "      <th>entertainment_media</th>\n",
       "      <td>Bluetooth,Hands-free equipment,On-board comput...</td>\n",
       "      <td>Bluetooth,Hands-free equipment,On-board comput...</td>\n",
       "      <td>MP3,On-board computer</td>\n",
       "    </tr>\n",
       "    <tr>\n",
       "      <th>extras</th>\n",
       "      <td>Alloy wheels,Catalytic Converter,Voice Control</td>\n",
       "      <td>Alloy wheels,Sport seats,Sport suspension,Voic...</td>\n",
       "      <td>Alloy wheels,Voice Control</td>\n",
       "    </tr>\n",
       "    <tr>\n",
       "      <th>safety_security</th>\n",
       "      <td>ABS,Central door lock,Daytime running lights,D...</td>\n",
       "      <td>ABS,Central door lock,Central door lock with r...</td>\n",
       "      <td>ABS,Central door lock,Daytime running lights,D...</td>\n",
       "    </tr>\n",
       "    <tr>\n",
       "      <th>gears</th>\n",
       "      <td>5.00</td>\n",
       "      <td>7.00</td>\n",
       "      <td>5.00</td>\n",
       "    </tr>\n",
       "    <tr>\n",
       "      <th>age</th>\n",
       "      <td>3.00</td>\n",
       "      <td>2.00</td>\n",
       "      <td>3.00</td>\n",
       "    </tr>\n",
       "    <tr>\n",
       "      <th>displacement_cc</th>\n",
       "      <td>1422.00</td>\n",
       "      <td>1798.00</td>\n",
       "      <td>1598.00</td>\n",
       "    </tr>\n",
       "    <tr>\n",
       "      <th>weight_kg</th>\n",
       "      <td>1220.00</td>\n",
       "      <td>1255.00</td>\n",
       "      <td>1135.00</td>\n",
       "    </tr>\n",
       "    <tr>\n",
       "      <th>upholstery_type</th>\n",
       "      <td>Cloth</td>\n",
       "      <td>Cloth</td>\n",
       "      <td>Cloth</td>\n",
       "    </tr>\n",
       "    <tr>\n",
       "      <th>consumption_comb</th>\n",
       "      <td>3.80</td>\n",
       "      <td>5.60</td>\n",
       "      <td>3.80</td>\n",
       "    </tr>\n",
       "    <tr>\n",
       "      <th>co_2_emission_g_by_km</th>\n",
       "      <td>99.00</td>\n",
       "      <td>129.00</td>\n",
       "      <td>99.00</td>\n",
       "    </tr>\n",
       "  </tbody>\n",
       "</table>\n",
       "</div>"
      ],
      "text/plain": [
       "                                                                       0  \\\n",
       "make_model                                                       Audi A1   \n",
       "body_type                                                         Sedans   \n",
       "price                                                              15770   \n",
       "vat                                                       VAT deductible   \n",
       "km                                                              56013.00   \n",
       "hp                                                                 66.00   \n",
       "type                                                                Used   \n",
       "paint_type                                                      Metallic   \n",
       "nr_of_doors                                                         5.00   \n",
       "nr_of_seats                                                         5.00   \n",
       "gearing_type                                                   Automatic   \n",
       "drive_chain                                                        front   \n",
       "fuel                                                              Diesel   \n",
       "emission_class                                                    Euro 6   \n",
       "comfort_convenience    Air conditioning,Armrest,Automatic climate con...   \n",
       "entertainment_media    Bluetooth,Hands-free equipment,On-board comput...   \n",
       "extras                    Alloy wheels,Catalytic Converter,Voice Control   \n",
       "safety_security        ABS,Central door lock,Daytime running lights,D...   \n",
       "gears                                                               5.00   \n",
       "age                                                                 3.00   \n",
       "displacement_cc                                                  1422.00   \n",
       "weight_kg                                                        1220.00   \n",
       "upholstery_type                                                    Cloth   \n",
       "consumption_comb                                                    3.80   \n",
       "co_2_emission_g_by_km                                              99.00   \n",
       "\n",
       "                                                                       1  \\\n",
       "make_model                                                       Audi A1   \n",
       "body_type                                                         Sedans   \n",
       "price                                                              14500   \n",
       "vat                                                     Price negotiable   \n",
       "km                                                              80000.00   \n",
       "hp                                                                141.00   \n",
       "type                                                                Used   \n",
       "paint_type                                                      Metallic   \n",
       "nr_of_doors                                                         3.00   \n",
       "nr_of_seats                                                         4.00   \n",
       "gearing_type                                                   Automatic   \n",
       "drive_chain                                                        front   \n",
       "fuel                                                             Benzine   \n",
       "emission_class                                                    Euro 6   \n",
       "comfort_convenience    Air conditioning,Automatic climate control,Hil...   \n",
       "entertainment_media    Bluetooth,Hands-free equipment,On-board comput...   \n",
       "extras                 Alloy wheels,Sport seats,Sport suspension,Voic...   \n",
       "safety_security        ABS,Central door lock,Central door lock with r...   \n",
       "gears                                                               7.00   \n",
       "age                                                                 2.00   \n",
       "displacement_cc                                                  1798.00   \n",
       "weight_kg                                                        1255.00   \n",
       "upholstery_type                                                    Cloth   \n",
       "consumption_comb                                                    5.60   \n",
       "co_2_emission_g_by_km                                             129.00   \n",
       "\n",
       "                                                                       2  \n",
       "make_model                                                       Audi A1  \n",
       "body_type                                                         Sedans  \n",
       "price                                                              14640  \n",
       "vat                                                       VAT deductible  \n",
       "km                                                              83450.00  \n",
       "hp                                                                 85.00  \n",
       "type                                                                Used  \n",
       "paint_type                                                      Metallic  \n",
       "nr_of_doors                                                         4.00  \n",
       "nr_of_seats                                                         4.00  \n",
       "gearing_type                                                   Automatic  \n",
       "drive_chain                                                        front  \n",
       "fuel                                                              Diesel  \n",
       "emission_class                                                    Euro 6  \n",
       "comfort_convenience    Air conditioning,Cruise control,Electrical sid...  \n",
       "entertainment_media                                MP3,On-board computer  \n",
       "extras                                        Alloy wheels,Voice Control  \n",
       "safety_security        ABS,Central door lock,Daytime running lights,D...  \n",
       "gears                                                               5.00  \n",
       "age                                                                 3.00  \n",
       "displacement_cc                                                  1598.00  \n",
       "weight_kg                                                        1135.00  \n",
       "upholstery_type                                                    Cloth  \n",
       "consumption_comb                                                    3.80  \n",
       "co_2_emission_g_by_km                                              99.00  "
      ]
     },
     "execution_count": 19,
     "metadata": {},
     "output_type": "execute_result"
    }
   ],
   "source": [
    "df.head(3).T"
   ]
  },
  {
   "cell_type": "code",
   "execution_count": 20,
   "metadata": {
    "ExecuteTime": {
     "end_time": "2022-08-03T08:43:16.576284Z",
     "start_time": "2022-08-03T08:43:16.431287Z"
    }
   },
   "outputs": [
    {
     "name": "stdout",
     "output_type": "stream",
     "text": [
      "<class 'pandas.core.frame.DataFrame'>\n",
      "RangeIndex: 15919 entries, 0 to 15918\n",
      "Data columns (total 25 columns):\n",
      " #   Column                 Non-Null Count  Dtype  \n",
      "---  ------                 --------------  -----  \n",
      " 0   make_model             15919 non-null  object \n",
      " 1   body_type              15919 non-null  object \n",
      " 2   price                  15919 non-null  int64  \n",
      " 3   vat                    15919 non-null  object \n",
      " 4   km                     15919 non-null  float64\n",
      " 5   hp                     15919 non-null  float64\n",
      " 6   type                   15919 non-null  object \n",
      " 7   paint_type             15919 non-null  object \n",
      " 8   nr_of_doors            15919 non-null  float64\n",
      " 9   nr_of_seats            15919 non-null  float64\n",
      " 10  gearing_type           15919 non-null  object \n",
      " 11  drive_chain            15919 non-null  object \n",
      " 12  fuel                   15919 non-null  object \n",
      " 13  emission_class         15919 non-null  object \n",
      " 14  comfort_convenience    15919 non-null  object \n",
      " 15  entertainment_media    15919 non-null  object \n",
      " 16  extras                 15919 non-null  object \n",
      " 17  safety_security        15919 non-null  object \n",
      " 18  gears                  15919 non-null  float64\n",
      " 19  age                    15919 non-null  float64\n",
      " 20  displacement_cc        15919 non-null  float64\n",
      " 21  weight_kg              15919 non-null  float64\n",
      " 22  upholstery_type        15919 non-null  object \n",
      " 23  consumption_comb       15919 non-null  float64\n",
      " 24  co_2_emission_g_by_km  15919 non-null  float64\n",
      "dtypes: float64(10), int64(1), object(14)\n",
      "memory usage: 3.0+ MB\n"
     ]
    }
   ],
   "source": [
    "df.info()"
   ]
  },
  {
   "cell_type": "code",
   "execution_count": 21,
   "metadata": {
    "ExecuteTime": {
     "end_time": "2022-08-03T08:43:30.638059Z",
     "start_time": "2022-08-03T08:43:30.619062Z"
    }
   },
   "outputs": [
    {
     "data": {
      "text/plain": [
       "Index(['make_model', 'body_type', 'price', 'vat', 'km', 'hp', 'type',\n",
       "       'paint_type', 'nr_of_doors', 'nr_of_seats', 'gearing_type',\n",
       "       'drive_chain', 'fuel', 'emission_class', 'comfort_convenience',\n",
       "       'entertainment_media', 'extras', 'safety_security', 'gears', 'age',\n",
       "       'displacement_cc', 'weight_kg', 'upholstery_type', 'consumption_comb',\n",
       "       'co_2_emission_g_by_km'],\n",
       "      dtype='object')"
      ]
     },
     "execution_count": 21,
     "metadata": {},
     "output_type": "execute_result"
    }
   ],
   "source": [
    "df.columns"
   ]
  },
  {
   "cell_type": "code",
   "execution_count": 22,
   "metadata": {
    "ExecuteTime": {
     "end_time": "2022-08-03T08:43:35.069460Z",
     "start_time": "2022-08-03T08:43:35.006458Z"
    }
   },
   "outputs": [
    {
     "data": {
      "text/plain": [
       "make_model               0\n",
       "body_type                0\n",
       "price                    0\n",
       "vat                      0\n",
       "km                       0\n",
       "hp                       0\n",
       "type                     0\n",
       "paint_type               0\n",
       "nr_of_doors              0\n",
       "nr_of_seats              0\n",
       "gearing_type             0\n",
       "drive_chain              0\n",
       "fuel                     0\n",
       "emission_class           0\n",
       "comfort_convenience      0\n",
       "entertainment_media      0\n",
       "extras                   0\n",
       "safety_security          0\n",
       "gears                    0\n",
       "age                      0\n",
       "displacement_cc          0\n",
       "weight_kg                0\n",
       "upholstery_type          0\n",
       "consumption_comb         0\n",
       "co_2_emission_g_by_km    0\n",
       "dtype: int64"
      ]
     },
     "execution_count": 22,
     "metadata": {},
     "output_type": "execute_result"
    }
   ],
   "source": [
    "df.isnull().sum()"
   ]
  },
  {
   "cell_type": "code",
   "execution_count": 23,
   "metadata": {
    "ExecuteTime": {
     "end_time": "2022-08-03T08:43:42.059818Z",
     "start_time": "2022-08-03T08:43:41.981818Z"
    }
   },
   "outputs": [
    {
     "data": {
      "text/plain": [
       "make_model              0.00\n",
       "body_type               0.00\n",
       "price                   0.00\n",
       "vat                     0.00\n",
       "km                      0.00\n",
       "hp                      0.00\n",
       "type                    0.00\n",
       "paint_type              0.00\n",
       "nr_of_doors             0.00\n",
       "nr_of_seats             0.00\n",
       "gearing_type            0.00\n",
       "drive_chain             0.00\n",
       "fuel                    0.00\n",
       "emission_class          0.00\n",
       "comfort_convenience     0.00\n",
       "entertainment_media     0.00\n",
       "extras                  0.00\n",
       "safety_security         0.00\n",
       "gears                   0.00\n",
       "age                     0.00\n",
       "displacement_cc         0.00\n",
       "weight_kg               0.00\n",
       "upholstery_type         0.00\n",
       "consumption_comb        0.00\n",
       "co_2_emission_g_by_km   0.00\n",
       "dtype: float64"
      ]
     },
     "execution_count": 23,
     "metadata": {},
     "output_type": "execute_result"
    }
   ],
   "source": [
    "df.isnull().sum()*100 / df.shape[0]"
   ]
  },
  {
   "cell_type": "code",
   "execution_count": 24,
   "metadata": {
    "ExecuteTime": {
     "end_time": "2022-08-03T08:43:48.163817Z",
     "start_time": "2022-08-03T08:43:48.106814Z"
    }
   },
   "outputs": [
    {
     "data": {
      "text/plain": [
       "make_model              0.00\n",
       "emission_class          0.00\n",
       "consumption_comb        0.00\n",
       "upholstery_type         0.00\n",
       "weight_kg               0.00\n",
       "displacement_cc         0.00\n",
       "age                     0.00\n",
       "gears                   0.00\n",
       "safety_security         0.00\n",
       "extras                  0.00\n",
       "entertainment_media     0.00\n",
       "comfort_convenience     0.00\n",
       "fuel                    0.00\n",
       "body_type               0.00\n",
       "drive_chain             0.00\n",
       "gearing_type            0.00\n",
       "nr_of_seats             0.00\n",
       "nr_of_doors             0.00\n",
       "paint_type              0.00\n",
       "type                    0.00\n",
       "hp                      0.00\n",
       "km                      0.00\n",
       "vat                     0.00\n",
       "price                   0.00\n",
       "co_2_emission_g_by_km   0.00\n",
       "dtype: float64"
      ]
     },
     "execution_count": 24,
     "metadata": {},
     "output_type": "execute_result"
    }
   ],
   "source": [
    "(df.isna().sum()*100 / len(df)).sort_values(ascending=False)"
   ]
  },
  {
   "cell_type": "code",
   "execution_count": 25,
   "metadata": {
    "ExecuteTime": {
     "end_time": "2022-08-03T08:45:03.505510Z",
     "start_time": "2022-08-03T08:45:03.477511Z"
    }
   },
   "outputs": [],
   "source": [
    "def first_look(col):\n",
    "    print('column name : ', col)\n",
    "    print('--------------------------------')\n",
    "    print('Per_of_Nulls   : ', '%', round(df[col].isnull().sum() / df.shape[0]*100, 2))\n",
    "    print('Num_of_Nulls   : ', df[col].isnull().sum())\n",
    "    print('Num_of_Uniques : ', df[col].nunique())\n",
    "    print('Duplicates     : ', df.duplicated(subset = None, keep = 'first').sum(), end='\\n\\n')\n",
    "    print(df[col].value_counts(dropna = False).sort_index())\n",
    "    print('END*****************************', end='\\n\\n')"
   ]
  },
  {
   "cell_type": "code",
   "execution_count": null,
   "metadata": {},
   "outputs": [],
   "source": []
  },
  {
   "cell_type": "code",
   "execution_count": 23,
   "metadata": {
    "ExecuteTime": {
     "end_time": "2022-08-02T06:46:42.956344Z",
     "start_time": "2022-08-02T06:46:42.639351Z"
    },
    "scrolled": true
   },
   "outputs": [
    {
     "name": "stdout",
     "output_type": "stream",
     "text": [
      "<class 'pandas.core.frame.DataFrame'>\n",
      "RangeIndex: 15919 entries, 0 to 15918\n",
      "Data columns (total 46 columns):\n",
      " #   Column                 Non-Null Count  Dtype \n",
      "---  ------                 --------------  ----- \n",
      " 0   url                    15919 non-null  object\n",
      " 1   make_model             15919 non-null  object\n",
      " 2   short_description      15873 non-null  object\n",
      " 3   body_type              15859 non-null  object\n",
      " 4   price                  15919 non-null  int64 \n",
      " 5   vat                    11406 non-null  object\n",
      " 6   km                     15919 non-null  object\n",
      " 7   registration           15919 non-null  object\n",
      " 8   prev_owner             9091 non-null   object\n",
      " 9   hp                     15919 non-null  object\n",
      " 10  type                   15917 non-null  object\n",
      " 11  previous_owners        9279 non-null   object\n",
      " 12  next_inspection        3535 non-null   object\n",
      " 13  inspection_new         3932 non-null   object\n",
      " 14  warranty               10499 non-null  object\n",
      " 15  full_service           8215 non-null   object\n",
      " 16  non_smoking_vehicle    7177 non-null   object\n",
      " 17  make                   15919 non-null  object\n",
      " 18  model                  15919 non-null  object\n",
      " 19  offer_number           12744 non-null  object\n",
      " 20  first_registration     14322 non-null  object\n",
      " 21  body_color             15322 non-null  object\n",
      " 22  paint_type             10147 non-null  object\n",
      " 23  body_color_original    12160 non-null  object\n",
      " 24  upholstery             12199 non-null  object\n",
      " 25  body                   15859 non-null  object\n",
      " 26  nr_of_doors            15707 non-null  object\n",
      " 27  nr_of_seats            14942 non-null  object\n",
      " 28  model_code             4978 non-null   object\n",
      " 29  gearing_type           15919 non-null  object\n",
      " 30  displacement           15423 non-null  object\n",
      " 31  cylinders              10239 non-null  object\n",
      " 32  weight                 8945 non-null   object\n",
      " 33  drive_chain            9061 non-null   object\n",
      " 34  fuel                   15919 non-null  object\n",
      " 35  consumption            14013 non-null  object\n",
      " 36  co_2_emission          14111 non-null  object\n",
      " 37  emission_class         12898 non-null  object\n",
      " 38  comfort_&_convenience  14999 non-null  object\n",
      " 39  entertainment_&_media  14545 non-null  object\n",
      " 40  extras                 12957 non-null  object\n",
      " 41  safety_&_security      14937 non-null  object\n",
      " 42  description            15919 non-null  object\n",
      " 43  emission_label         3985 non-null   object\n",
      " 44  gears                  11207 non-null  object\n",
      " 45  country_version        7586 non-null   object\n",
      "dtypes: int64(1), object(45)\n",
      "memory usage: 5.6+ MB\n"
     ]
    }
   ],
   "source": [
    "df.info()"
   ]
  },
  {
   "cell_type": "code",
   "execution_count": 27,
   "metadata": {
    "ExecuteTime": {
     "end_time": "2022-08-02T07:07:45.692666Z",
     "start_time": "2022-08-02T07:07:45.669672Z"
    }
   },
   "outputs": [
    {
     "data": {
      "text/plain": [
       "(15919, 45)"
      ]
     },
     "execution_count": 27,
     "metadata": {},
     "output_type": "execute_result"
    }
   ],
   "source": [
    "df.shape"
   ]
  },
  {
   "cell_type": "code",
   "execution_count": 26,
   "metadata": {
    "ExecuteTime": {
     "end_time": "2022-08-03T08:45:24.691812Z",
     "start_time": "2022-08-03T08:45:24.673814Z"
    }
   },
   "outputs": [],
   "source": [
    "def first_looking(col): # function for checking the columns\n",
    "    print(\"column name    : \", col)\n",
    "    print(\"--------------------------------\")\n",
    "    print(\"per_of_nulls   : \", \"%\", round(df[col].isnull().sum()*100 / df.shape[0], 2))\n",
    "    print(\"num_of_nulls   : \", df[col].isnull().sum())\n",
    "    print(\"num_of_uniques : \", df[col].nunique())\n",
    "    print(\"--------------------------------\")\n",
    "    print(df[col].value_counts(dropna = False))"
   ]
  },
  {
   "cell_type": "code",
   "execution_count": 78,
   "metadata": {
    "ExecuteTime": {
     "end_time": "2022-08-03T09:50:07.321102Z",
     "start_time": "2022-08-03T09:50:07.257105Z"
    }
   },
   "outputs": [],
   "source": [
    "def fill(df, group_col1, group_col2, col_name, method): # method can be either \"mode\" or \"mean\" or \"median\" or \"ffill\"\n",
    "    \n",
    "    '''Fills the missing values with \"mode/mean/median/ffill/bfill method\" according to double-stage grouping'''\n",
    "    \n",
    "    if method == \"mode\":\n",
    "        for group1 in list(df[group_col1].unique()):\n",
    "            for group2 in list(df[group_col2].unique()):\n",
    "                cond1 = df[group_col1]==group1\n",
    "                cond2 = (df[group_col1]==group1) & (df[group_col2]==group2)\n",
    "                mode1 = list(df[cond1][col_name].mode())\n",
    "                mode2 = list(df[cond2][col_name].mode())\n",
    "                if mode2 != []:\n",
    "                    df.loc[cond2, col_name] = df.loc[cond2, col_name].fillna(df[cond2][col_name].mode()[0])\n",
    "                elif mode1 != []:\n",
    "                    df.loc[cond2, col_name] = df.loc[cond2, col_name].fillna(df[cond1][col_name].mode()[0])\n",
    "                else:\n",
    "                    df.loc[cond2, col_name] = df.loc[cond2, col_name].fillna(df[col_name].mode()[0])\n",
    "\n",
    "    elif method == \"mean\":\n",
    "        df[col_name].fillna(df.groupby([group_col1, group_col2])[col_name].transform(\"mean\"), inplace = True)\n",
    "        df[col_name].fillna(df.groupby(group_col1)[col_name].transform(\"mean\"), inplace = True)\n",
    "        df[col_name].fillna(df[col_name].mean(), inplace = True)\n",
    "        \n",
    "    elif method == \"median\":\n",
    "        df[col_name].fillna(df.groupby([group_col1, group_col2])[col_name].transform(\"median\"), inplace = True)\n",
    "        df[col_name].fillna(df.groupby(group_col1)[col_name].transform(\"median\"), inplace = True)\n",
    "        df[col_name].fillna(df[col_name].median(), inplace = True)\n",
    "        \n",
    "    elif method == \"ffill\":           \n",
    "        for group1 in list(df[group_col1].unique()):\n",
    "            for group2 in list(df[group_col2].unique()):\n",
    "                cond2 = (df[group_col1]==group1) & (df[group_col2]==group2)\n",
    "                df.loc[cond2, col_name] = df.loc[cond2, col_name].fillna(method=\"ffill\").fillna(method=\"bfill\")\n",
    "                \n",
    "        for group1 in list(df[group_col1].unique()):\n",
    "            cond1 = df[group_col1]==group1\n",
    "            df.loc[cond1, col_name] = df.loc[cond1, col_name].fillna(method=\"ffill\").fillna(method=\"bfill\")            \n",
    "           \n",
    "        df[col_name] = df[col_name].fillna(method=\"ffill\").fillna(method=\"bfill\")\n",
    "    \n",
    "    print(\"Number of NaN : \",df[col_name].isnull().sum())\n",
    "    print(\"------------------\")\n",
    "    print(df[col_name].value_counts(dropna=False))"
   ]
  },
  {
   "cell_type": "code",
   "execution_count": 29,
   "metadata": {
    "ExecuteTime": {
     "end_time": "2022-08-02T07:10:10.911796Z",
     "start_time": "2022-08-02T07:10:03.308965Z"
    }
   },
   "outputs": [],
   "source": [
    "# Convert List type object to str type all Column\n",
    "df = df.applymap(lambda x: ','.join(map(str, x)) if isinstance(x, list) else x)"
   ]
  },
  {
   "cell_type": "code",
   "execution_count": null,
   "metadata": {},
   "outputs": [],
   "source": []
  },
  {
   "cell_type": "markdown",
   "metadata": {},
   "source": [
    "##  'price'"
   ]
  },
  {
   "cell_type": "code",
   "execution_count": 27,
   "metadata": {
    "ExecuteTime": {
     "end_time": "2022-08-03T08:50:44.091754Z",
     "start_time": "2022-08-03T08:50:42.870452Z"
    }
   },
   "outputs": [
    {
     "data": {
      "image/png": "[encoded data removed]",
      "text/plain": [
       "<Figure size 720x432 with 1 Axes>"
      ]
     },
     "metadata": {},
     "output_type": "display_data"
    }
   ],
   "source": [
    "sns.set_theme(style=\"whitegrid\")\n",
    "ax = sns.boxplot(x=df[\"price\"])"
   ]
  },
  {
   "cell_type": "code",
   "execution_count": 29,
   "metadata": {
    "ExecuteTime": {
     "end_time": "2022-08-03T08:51:31.199177Z",
     "start_time": "2022-08-03T08:51:26.739182Z"
    }
   },
   "outputs": [
    {
     "data": {
      "image/png": "[encoded data removed]",
      "text/plain": [
       "<Figure size 1080x432 with 1 Axes>"
      ]
     },
     "metadata": {},
     "output_type": "display_data"
    }
   ],
   "source": [
    "plt.figure(figsize=(15,6))\n",
    "sns.boxplot(y='price',data=df, x='make_model', hue='age');"
   ]
  },
  {
   "cell_type": "code",
   "execution_count": 109,
   "metadata": {
    "ExecuteTime": {
     "end_time": "2022-08-03T10:34:03.684182Z",
     "start_time": "2022-08-03T10:34:02.547186Z"
    }
   },
   "outputs": [
    {
     "data": {
      "image/png": "[encoded data removed]",
      "text/plain": [
       "<Figure size 720x432 with 1 Axes>"
      ]
     },
     "metadata": {},
     "output_type": "display_data"
    }
   ],
   "source": [
    "sns.scatterplot(data=df, x=\"hp\", y=\"price\");"
   ]
  },
  {
   "cell_type": "markdown",
   "metadata": {},
   "source": [
    "##  'make_model'"
   ]
  },
  {
   "cell_type": "code",
   "execution_count": 38,
   "metadata": {
    "ExecuteTime": {
     "end_time": "2022-08-03T08:58:46.688497Z",
     "start_time": "2022-08-03T08:58:45.049495Z"
    }
   },
   "outputs": [
    {
     "data": {
      "image/png": "[encoded data removed]",
      "text/plain": [
       "<Figure size 1080x432 with 1 Axes>"
      ]
     },
     "metadata": {},
     "output_type": "display_data"
    }
   ],
   "source": [
    "plt.figure(figsize=(15,6))\n",
    "sns.boxplot(y='price',data=df, x='make_model');"
   ]
  },
  {
   "cell_type": "markdown",
   "metadata": {},
   "source": [
    "##  'body_type'"
   ]
  },
  {
   "cell_type": "code",
   "execution_count": 39,
   "metadata": {
    "ExecuteTime": {
     "end_time": "2022-08-03T09:00:59.801991Z",
     "start_time": "2022-08-03T09:00:58.468987Z"
    }
   },
   "outputs": [
    {
     "data": {
      "image/png": "[encoded data removed]",
      "text/plain": [
       "<Figure size 1080x432 with 1 Axes>"
      ]
     },
     "metadata": {},
     "output_type": "display_data"
    }
   ],
   "source": [
    "plt.figure(figsize=(15,6))\n",
    "sns.boxplot(y='price',data=df, x='body_type');"
   ]
  },
  {
   "cell_type": "code",
   "execution_count": null,
   "metadata": {},
   "outputs": [],
   "source": []
  },
  {
   "cell_type": "markdown",
   "metadata": {},
   "source": [
    "##  'km'"
   ]
  },
  {
   "cell_type": "code",
   "execution_count": 33,
   "metadata": {
    "ExecuteTime": {
     "end_time": "2022-08-03T08:53:48.450407Z",
     "start_time": "2022-08-03T08:53:47.545415Z"
    }
   },
   "outputs": [
    {
     "data": {
      "image/png": "[encoded data removed]",
      "text/plain": [
       "<Figure size 720x432 with 1 Axes>"
      ]
     },
     "metadata": {},
     "output_type": "display_data"
    }
   ],
   "source": [
    "sns.scatterplot(data=df, x=\"km\", y=\"age\");"
   ]
  },
  {
   "cell_type": "markdown",
   "metadata": {},
   "source": [
    "## hp"
   ]
  },
  {
   "cell_type": "code",
   "execution_count": 35,
   "metadata": {
    "ExecuteTime": {
     "end_time": "2022-08-03T08:55:15.676359Z",
     "start_time": "2022-08-03T08:55:14.515360Z"
    }
   },
   "outputs": [
    {
     "data": {
      "image/png": "[encoded data removed]",
      "text/plain": [
       "<Figure size 720x432 with 1 Axes>"
      ]
     },
     "metadata": {},
     "output_type": "display_data"
    }
   ],
   "source": [
    "sns.scatterplot(data=df, x=\"hp\", y=\"price\");"
   ]
  },
  {
   "cell_type": "code",
   "execution_count": 84,
   "metadata": {
    "ExecuteTime": {
     "end_time": "2022-08-03T09:58:28.304555Z",
     "start_time": "2022-08-03T09:58:26.062005Z"
    }
   },
   "outputs": [
    {
     "data": {
      "image/png": "[encoded data removed]",
      "text/plain": [
       "<Figure size 1080x432 with 1 Axes>"
      ]
     },
     "metadata": {},
     "output_type": "display_data"
    }
   ],
   "source": [
    "plt.figure(figsize=(15,6))\n",
    "sns.boxplot(data=df, y='hp',x='make_model');"
   ]
  },
  {
   "cell_type": "code",
   "execution_count": 41,
   "metadata": {
    "ExecuteTime": {
     "end_time": "2022-08-03T09:07:33.675007Z",
     "start_time": "2022-08-03T09:07:33.650004Z"
    }
   },
   "outputs": [
    {
     "data": {
      "text/plain": [
       "1.00     20\n",
       "40.00     2\n",
       "9.00      1\n",
       "44.00     1\n",
       "4.00      1\n",
       "Name: hp, dtype: int64"
      ]
     },
     "execution_count": 41,
     "metadata": {},
     "output_type": "execute_result"
    }
   ],
   "source": [
    "df[df['hp'] < 50].hp.value_counts(dropna=False)"
   ]
  },
  {
   "cell_type": "code",
   "execution_count": null,
   "metadata": {},
   "outputs": [],
   "source": [
    "df.loc[df['hp']< 50,'hp'] = np.nan # converted the values which are less than 50 to null values"
   ]
  },
  {
   "cell_type": "code",
   "execution_count": 118,
   "metadata": {
    "ExecuteTime": {
     "end_time": "2022-08-03T11:06:00.025430Z",
     "start_time": "2022-08-03T11:05:59.999431Z"
    }
   },
   "outputs": [],
   "source": [
    "df.hp.loc[df.hp < 50] = np.nan"
   ]
  },
  {
   "cell_type": "code",
   "execution_count": 119,
   "metadata": {
    "ExecuteTime": {
     "end_time": "2022-08-03T11:06:15.588943Z",
     "start_time": "2022-08-03T11:06:15.565947Z"
    }
   },
   "outputs": [
    {
     "data": {
      "text/plain": [
       "25"
      ]
     },
     "execution_count": 119,
     "metadata": {},
     "output_type": "execute_result"
    }
   ],
   "source": [
    "df.hp.isnull().sum()"
   ]
  },
  {
   "cell_type": "code",
   "execution_count": 120,
   "metadata": {
    "ExecuteTime": {
     "end_time": "2022-08-03T11:07:08.326943Z",
     "start_time": "2022-08-03T11:07:08.287943Z"
    }
   },
   "outputs": [],
   "source": [
    "df[\"hp\"] = df[\"hp\"].fillna(df.groupby(\"make_model\")[\"hp\"].transform(\"median\"))"
   ]
  },
  {
   "cell_type": "code",
   "execution_count": 121,
   "metadata": {
    "ExecuteTime": {
     "end_time": "2022-08-03T11:07:23.822940Z",
     "start_time": "2022-08-03T11:07:23.797942Z"
    }
   },
   "outputs": [
    {
     "data": {
      "text/plain": [
       "0"
      ]
     },
     "execution_count": 121,
     "metadata": {},
     "output_type": "execute_result"
    }
   ],
   "source": [
    "df.hp.isnull().sum()"
   ]
  },
  {
   "cell_type": "code",
   "execution_count": 122,
   "metadata": {
    "ExecuteTime": {
     "end_time": "2022-08-03T11:07:48.623698Z",
     "start_time": "2022-08-03T11:07:48.599697Z"
    }
   },
   "outputs": [
    {
     "data": {
      "text/plain": [
       "9781    51.00\n",
       "10289   51.00\n",
       "9376    51.00\n",
       "10290   51.00\n",
       "10291   51.00\n",
       "10292   51.00\n",
       "10294   51.00\n",
       "10295   51.00\n",
       "10296   51.00\n",
       "10297   51.00\n",
       "10298   51.00\n",
       "10288   51.00\n",
       "9624    51.00\n",
       "10301   51.00\n",
       "10302   51.00\n",
       "10303   51.00\n",
       "10304   51.00\n",
       "10305   51.00\n",
       "10306   51.00\n",
       "10307   51.00\n",
       "10308   51.00\n",
       "10309   51.00\n",
       "10310   51.00\n",
       "10300   51.00\n",
       "10311   51.00\n",
       "10287   51.00\n",
       "10285   51.00\n",
       "10268   51.00\n",
       "10269   51.00\n",
       "10270   51.00\n",
       "10271   51.00\n",
       "10272   51.00\n",
       "10273   51.00\n",
       "9161    51.00\n",
       "10274   51.00\n",
       "10275   51.00\n",
       "10276   51.00\n",
       "10286   51.00\n",
       "10277   51.00\n",
       "9371    51.00\n",
       "10279   51.00\n",
       "9160    51.00\n",
       "10280   51.00\n",
       "10281   51.00\n",
       "10282   51.00\n",
       "10283   51.00\n",
       "10284   51.00\n",
       "9159    51.00\n",
       "9158    51.00\n",
       "10278   51.00\n",
       "Name: hp, dtype: float64"
      ]
     },
     "execution_count": 122,
     "metadata": {},
     "output_type": "execute_result"
    }
   ],
   "source": [
    "df.hp.sort_values().head(50)"
   ]
  },
  {
   "cell_type": "code",
   "execution_count": 123,
   "metadata": {
    "ExecuteTime": {
     "end_time": "2022-08-03T11:09:21.784089Z",
     "start_time": "2022-08-03T11:09:21.755099Z"
    },
    "scrolled": true
   },
   "outputs": [
    {
     "data": {
      "text/plain": [
       "Series([], Name: hp, dtype: int64)"
      ]
     },
     "execution_count": 123,
     "metadata": {},
     "output_type": "execute_result"
    }
   ],
   "source": [
    "df[df['hp'] < 50].hp.value_counts(dropna=False)"
   ]
  },
  {
   "cell_type": "code",
   "execution_count": null,
   "metadata": {},
   "outputs": [],
   "source": []
  },
  {
   "cell_type": "markdown",
   "metadata": {},
   "source": [
    "## nr_of_doors"
   ]
  },
  {
   "cell_type": "code",
   "execution_count": 45,
   "metadata": {
    "ExecuteTime": {
     "end_time": "2022-08-03T09:17:29.258767Z",
     "start_time": "2022-08-03T09:17:29.223771Z"
    }
   },
   "outputs": [
    {
     "name": "stdout",
     "output_type": "stream",
     "text": [
      "column name    :  nr_of_doors\n",
      "--------------------------------\n",
      "per_of_nulls   :  % 0.0\n",
      "num_of_nulls   :  0\n",
      "num_of_uniques :  6\n",
      "--------------------------------\n",
      "5.00    11787\n",
      "4.00     3079\n",
      "3.00      832\n",
      "2.00      219\n",
      "1.00        1\n",
      "7.00        1\n",
      "Name: nr_of_doors, dtype: int64\n"
     ]
    }
   ],
   "source": [
    "first_looking(\"nr_of_doors\")"
   ]
  },
  {
   "cell_type": "code",
   "execution_count": 46,
   "metadata": {
    "ExecuteTime": {
     "end_time": "2022-08-03T09:18:44.293281Z",
     "start_time": "2022-08-03T09:18:44.209279Z"
    }
   },
   "outputs": [
    {
     "data": {
      "text/html": [
       "<div>\n",
       "<style scoped>\n",
       "    .dataframe tbody tr th:only-of-type {\n",
       "        vertical-align: middle;\n",
       "    }\n",
       "\n",
       "    .dataframe tbody tr th {\n",
       "        vertical-align: top;\n",
       "    }\n",
       "\n",
       "    .dataframe thead th {\n",
       "        text-align: right;\n",
       "    }\n",
       "</style>\n",
       "<table border=\"1\" class=\"dataframe\">\n",
       "  <thead>\n",
       "    <tr style=\"text-align: right;\">\n",
       "      <th></th>\n",
       "      <th>make_model</th>\n",
       "      <th>body_type</th>\n",
       "      <th>price</th>\n",
       "      <th>vat</th>\n",
       "      <th>km</th>\n",
       "      <th>hp</th>\n",
       "      <th>type</th>\n",
       "      <th>paint_type</th>\n",
       "      <th>nr_of_doors</th>\n",
       "      <th>nr_of_seats</th>\n",
       "      <th>gearing_type</th>\n",
       "      <th>drive_chain</th>\n",
       "      <th>fuel</th>\n",
       "      <th>emission_class</th>\n",
       "      <th>comfort_convenience</th>\n",
       "      <th>entertainment_media</th>\n",
       "      <th>extras</th>\n",
       "      <th>safety_security</th>\n",
       "      <th>gears</th>\n",
       "      <th>age</th>\n",
       "      <th>displacement_cc</th>\n",
       "      <th>weight_kg</th>\n",
       "      <th>upholstery_type</th>\n",
       "      <th>consumption_comb</th>\n",
       "      <th>co_2_emission_g_by_km</th>\n",
       "    </tr>\n",
       "  </thead>\n",
       "  <tbody>\n",
       "    <tr>\n",
       "      <th>15202</th>\n",
       "      <td>Renault Espace</td>\n",
       "      <td>Van</td>\n",
       "      <td>21600</td>\n",
       "      <td>Price negotiable</td>\n",
       "      <td>78000.00</td>\n",
       "      <td>118.00</td>\n",
       "      <td>Used</td>\n",
       "      <td>Metallic</td>\n",
       "      <td>7.00</td>\n",
       "      <td>5.00</td>\n",
       "      <td>Automatic</td>\n",
       "      <td>front</td>\n",
       "      <td>Diesel</td>\n",
       "      <td>Euro 6</td>\n",
       "      <td>Air conditioning,Armrest,Automatic climate con...</td>\n",
       "      <td>Bluetooth,Digital radio,MP3,On-board computer,...</td>\n",
       "      <td>Alloy wheels,Touch screen</td>\n",
       "      <td>ABS,Blind spot monitor,Central door lock,Dayti...</td>\n",
       "      <td>6.00</td>\n",
       "      <td>3.00</td>\n",
       "      <td>1598.00</td>\n",
       "      <td>1734.00</td>\n",
       "      <td>Full/Part leather</td>\n",
       "      <td>4.60</td>\n",
       "      <td>120.00</td>\n",
       "    </tr>\n",
       "  </tbody>\n",
       "</table>\n",
       "</div>"
      ],
      "text/plain": [
       "           make_model body_type  price               vat       km     hp  \\\n",
       "15202  Renault Espace       Van  21600  Price negotiable 78000.00 118.00   \n",
       "\n",
       "       type paint_type  nr_of_doors  nr_of_seats gearing_type drive_chain  \\\n",
       "15202  Used   Metallic         7.00         5.00    Automatic       front   \n",
       "\n",
       "         fuel emission_class  \\\n",
       "15202  Diesel         Euro 6   \n",
       "\n",
       "                                     comfort_convenience  \\\n",
       "15202  Air conditioning,Armrest,Automatic climate con...   \n",
       "\n",
       "                                     entertainment_media  \\\n",
       "15202  Bluetooth,Digital radio,MP3,On-board computer,...   \n",
       "\n",
       "                          extras  \\\n",
       "15202  Alloy wheels,Touch screen   \n",
       "\n",
       "                                         safety_security  gears  age  \\\n",
       "15202  ABS,Blind spot monitor,Central door lock,Dayti...   6.00 3.00   \n",
       "\n",
       "       displacement_cc  weight_kg    upholstery_type  consumption_comb  \\\n",
       "15202          1598.00    1734.00  Full/Part leather              4.60   \n",
       "\n",
       "       co_2_emission_g_by_km  \n",
       "15202                 120.00  "
      ]
     },
     "execution_count": 46,
     "metadata": {},
     "output_type": "execute_result"
    }
   ],
   "source": [
    "df[df['nr_of_doors'] == 7.0]"
   ]
  },
  {
   "cell_type": "code",
   "execution_count": 47,
   "metadata": {
    "ExecuteTime": {
     "end_time": "2022-08-03T09:19:32.858797Z",
     "start_time": "2022-08-03T09:19:32.815796Z"
    }
   },
   "outputs": [
    {
     "data": {
      "text/plain": [
       "nr_of_doors\n",
       "5.00           720\n",
       "4.00            90\n",
       "7.00             1\n",
       "dtype: int64"
      ]
     },
     "execution_count": 47,
     "metadata": {},
     "output_type": "execute_result"
    }
   ],
   "source": [
    "df.loc[(df['make_model'] == 'Renault Espace') & (df['body_type'] == 'Van'), ['nr_of_doors']].value_counts()"
   ]
  },
  {
   "cell_type": "code",
   "execution_count": 48,
   "metadata": {
    "ExecuteTime": {
     "end_time": "2022-08-03T09:20:14.726716Z",
     "start_time": "2022-08-03T09:20:14.708721Z"
    }
   },
   "outputs": [],
   "source": [
    "df.loc[df['nr_of_doors']==1,'nr_of_doors'] = 5"
   ]
  },
  {
   "cell_type": "code",
   "execution_count": 49,
   "metadata": {
    "ExecuteTime": {
     "end_time": "2022-08-03T09:20:45.005686Z",
     "start_time": "2022-08-03T09:20:44.979693Z"
    }
   },
   "outputs": [],
   "source": [
    "df.loc[df['nr_of_doors']==7,'nr_of_doors'] = 5"
   ]
  },
  {
   "cell_type": "code",
   "execution_count": 50,
   "metadata": {
    "ExecuteTime": {
     "end_time": "2022-08-03T09:21:04.590822Z",
     "start_time": "2022-08-03T09:21:04.561827Z"
    }
   },
   "outputs": [
    {
     "name": "stdout",
     "output_type": "stream",
     "text": [
      "column name    :  nr_of_doors\n",
      "--------------------------------\n",
      "per_of_nulls   :  % 0.0\n",
      "num_of_nulls   :  0\n",
      "num_of_uniques :  4\n",
      "--------------------------------\n",
      "5.00    11789\n",
      "4.00     3079\n",
      "3.00      832\n",
      "2.00      219\n",
      "Name: nr_of_doors, dtype: int64\n"
     ]
    }
   ],
   "source": [
    "first_looking(\"nr_of_doors\")"
   ]
  },
  {
   "cell_type": "code",
   "execution_count": null,
   "metadata": {},
   "outputs": [],
   "source": []
  },
  {
   "cell_type": "markdown",
   "metadata": {},
   "source": [
    "## nr_of_seats"
   ]
  },
  {
   "cell_type": "code",
   "execution_count": 51,
   "metadata": {
    "ExecuteTime": {
     "end_time": "2022-08-03T09:22:31.208858Z",
     "start_time": "2022-08-03T09:22:31.181861Z"
    }
   },
   "outputs": [
    {
     "name": "stdout",
     "output_type": "stream",
     "text": [
      "column name    :  nr_of_seats\n",
      "--------------------------------\n",
      "per_of_nulls   :  % 0.0\n",
      "num_of_nulls   :  0\n",
      "num_of_uniques :  6\n",
      "--------------------------------\n",
      "5.00    14308\n",
      "4.00     1127\n",
      "7.00      362\n",
      "2.00      119\n",
      "6.00        2\n",
      "3.00        1\n",
      "Name: nr_of_seats, dtype: int64\n"
     ]
    }
   ],
   "source": [
    "first_looking(\"nr_of_seats\")"
   ]
  },
  {
   "cell_type": "code",
   "execution_count": 59,
   "metadata": {
    "ExecuteTime": {
     "end_time": "2022-08-03T09:31:26.353689Z",
     "start_time": "2022-08-03T09:31:26.304691Z"
    }
   },
   "outputs": [
    {
     "data": {
      "text/html": [
       "<div>\n",
       "<style scoped>\n",
       "    .dataframe tbody tr th:only-of-type {\n",
       "        vertical-align: middle;\n",
       "    }\n",
       "\n",
       "    .dataframe tbody tr th {\n",
       "        vertical-align: top;\n",
       "    }\n",
       "\n",
       "    .dataframe thead th {\n",
       "        text-align: right;\n",
       "    }\n",
       "</style>\n",
       "<table border=\"1\" class=\"dataframe\">\n",
       "  <thead>\n",
       "    <tr style=\"text-align: right;\">\n",
       "      <th></th>\n",
       "      <th>make_model</th>\n",
       "      <th>body_type</th>\n",
       "      <th>price</th>\n",
       "      <th>vat</th>\n",
       "      <th>km</th>\n",
       "      <th>hp</th>\n",
       "      <th>type</th>\n",
       "      <th>paint_type</th>\n",
       "      <th>nr_of_doors</th>\n",
       "      <th>nr_of_seats</th>\n",
       "      <th>gearing_type</th>\n",
       "      <th>drive_chain</th>\n",
       "      <th>fuel</th>\n",
       "      <th>emission_class</th>\n",
       "      <th>comfort_convenience</th>\n",
       "      <th>entertainment_media</th>\n",
       "      <th>extras</th>\n",
       "      <th>safety_security</th>\n",
       "      <th>gears</th>\n",
       "      <th>age</th>\n",
       "      <th>displacement_cc</th>\n",
       "      <th>weight_kg</th>\n",
       "      <th>upholstery_type</th>\n",
       "      <th>consumption_comb</th>\n",
       "      <th>co_2_emission_g_by_km</th>\n",
       "    </tr>\n",
       "  </thead>\n",
       "  <tbody>\n",
       "  </tbody>\n",
       "</table>\n",
       "</div>"
      ],
      "text/plain": [
       "Empty DataFrame\n",
       "Columns: [make_model, body_type, price, vat, km, hp, type, paint_type, nr_of_doors, nr_of_seats, gearing_type, drive_chain, fuel, emission_class, comfort_convenience, entertainment_media, extras, safety_security, gears, age, displacement_cc, weight_kg, upholstery_type, consumption_comb, co_2_emission_g_by_km]\n",
       "Index: []"
      ]
     },
     "execution_count": 59,
     "metadata": {},
     "output_type": "execute_result"
    }
   ],
   "source": [
    "df[df['nr_of_seats'] == 6]"
   ]
  },
  {
   "cell_type": "code",
   "execution_count": 61,
   "metadata": {
    "ExecuteTime": {
     "end_time": "2022-08-03T09:32:25.269225Z",
     "start_time": "2022-08-03T09:32:25.227229Z"
    }
   },
   "outputs": [
    {
     "data": {
      "text/plain": [
       "Series([], dtype: int64)"
      ]
     },
     "execution_count": 61,
     "metadata": {},
     "output_type": "execute_result"
    }
   ],
   "source": [
    "df.loc[(df['make_model'] == 'AudiA1') & (df['body_type'] == 'Compact'), ['nr_of_seats']].value_counts()\n"
   ]
  },
  {
   "cell_type": "code",
   "execution_count": 56,
   "metadata": {
    "ExecuteTime": {
     "end_time": "2022-08-03T09:28:30.012389Z",
     "start_time": "2022-08-03T09:28:29.967399Z"
    }
   },
   "outputs": [
    {
     "data": {
      "text/plain": [
       "nr_of_seats\n",
       "5.00           71\n",
       "7.00           19\n",
       "6.00            1\n",
       "dtype: int64"
      ]
     },
     "execution_count": 56,
     "metadata": {},
     "output_type": "execute_result"
    }
   ],
   "source": [
    "df.loc[(df['make_model'] == 'Renault Espace') & (df['body_type'] == 'Station wagon'), ['nr_of_seats']].value_counts()"
   ]
  },
  {
   "cell_type": "code",
   "execution_count": 62,
   "metadata": {
    "ExecuteTime": {
     "end_time": "2022-08-03T09:33:31.826971Z",
     "start_time": "2022-08-03T09:33:31.761972Z"
    }
   },
   "outputs": [
    {
     "data": {
      "text/plain": [
       "nr_of_seats\n",
       "5.00           2795\n",
       "4.00            437\n",
       "2.00              8\n",
       "7.00              2\n",
       "dtype: int64"
      ]
     },
     "execution_count": 62,
     "metadata": {},
     "output_type": "execute_result"
    }
   ],
   "source": [
    "df.loc[(df['body_type'] == 'Compact'), ['nr_of_seats']].value_counts()"
   ]
  },
  {
   "cell_type": "code",
   "execution_count": 57,
   "metadata": {
    "ExecuteTime": {
     "end_time": "2022-08-03T09:29:41.031947Z",
     "start_time": "2022-08-03T09:29:41.006949Z"
    }
   },
   "outputs": [],
   "source": [
    "df.loc[df['nr_of_seats']==3,'nr_of_seats'] = 4"
   ]
  },
  {
   "cell_type": "code",
   "execution_count": 58,
   "metadata": {
    "ExecuteTime": {
     "end_time": "2022-08-03T09:30:47.169574Z",
     "start_time": "2022-08-03T09:30:47.153580Z"
    }
   },
   "outputs": [],
   "source": [
    "df.loc[df['nr_of_seats']==6,'nr_of_seats'] = 5"
   ]
  },
  {
   "cell_type": "code",
   "execution_count": 60,
   "metadata": {
    "ExecuteTime": {
     "end_time": "2022-08-03T09:31:47.213689Z",
     "start_time": "2022-08-03T09:31:47.172694Z"
    }
   },
   "outputs": [
    {
     "name": "stdout",
     "output_type": "stream",
     "text": [
      "column name    :  nr_of_seats\n",
      "--------------------------------\n",
      "per_of_nulls   :  % 0.0\n",
      "num_of_nulls   :  0\n",
      "num_of_uniques :  4\n",
      "--------------------------------\n",
      "5.00    14310\n",
      "4.00     1128\n",
      "7.00      362\n",
      "2.00      119\n",
      "Name: nr_of_seats, dtype: int64\n"
     ]
    }
   ],
   "source": [
    "first_looking(\"nr_of_seats\")"
   ]
  },
  {
   "cell_type": "code",
   "execution_count": null,
   "metadata": {},
   "outputs": [],
   "source": []
  },
  {
   "cell_type": "markdown",
   "metadata": {},
   "source": [
    "##  'displacement_cc'"
   ]
  },
  {
   "cell_type": "code",
   "execution_count": 64,
   "metadata": {
    "ExecuteTime": {
     "end_time": "2022-08-03T09:35:26.709986Z",
     "start_time": "2022-08-03T09:35:26.678992Z"
    }
   },
   "outputs": [
    {
     "name": "stdout",
     "output_type": "stream",
     "text": [
      "column name    :  displacement_cc\n",
      "--------------------------------\n",
      "per_of_nulls   :  % 0.0\n",
      "num_of_nulls   :  0\n",
      "num_of_uniques :  77\n",
      "--------------------------------\n",
      "1598.00     5044\n",
      "999.00      2467\n",
      "1398.00     1387\n",
      "1399.00      768\n",
      "1229.00      678\n",
      "1956.00      670\n",
      "1461.00      667\n",
      "1490.00      559\n",
      "1422.00      467\n",
      "1197.00      372\n",
      "898.00       351\n",
      "1395.00      320\n",
      "1968.00      301\n",
      "1149.00      288\n",
      "1618.00      212\n",
      "1798.00      210\n",
      "1498.00      196\n",
      "1600.00      130\n",
      "1248.00      110\n",
      "1997.00      103\n",
      "1364.00      102\n",
      "1400.00       90\n",
      "998.00        72\n",
      "1500.00       50\n",
      "2000.00       46\n",
      "1000.00       40\n",
      "1.00          36\n",
      "1998.00       25\n",
      "2480.00       20\n",
      "1200.00       18\n",
      "1984.00       18\n",
      "1397.00       11\n",
      "899.00        11\n",
      "160.00         6\n",
      "929.00         5\n",
      "1499.00        5\n",
      "997.00         4\n",
      "1596.00        4\n",
      "139.00         4\n",
      "900.00         4\n",
      "1599.00        3\n",
      "1199.00        3\n",
      "1396.00        3\n",
      "1495.00        2\n",
      "1589.00        2\n",
      "1300.00        2\n",
      "2.00           2\n",
      "995.00         2\n",
      "1496.00        1\n",
      "890.00         1\n",
      "1580.00        1\n",
      "1995.00        1\n",
      "1333.00        1\n",
      "54.00          1\n",
      "1533.00        1\n",
      "1100.00        1\n",
      "1350.00        1\n",
      "16000.00       1\n",
      "1856.00        1\n",
      "1568.00        1\n",
      "1896.00        1\n",
      "1584.00        1\n",
      "996.00         1\n",
      "1696.00        1\n",
      "1686.00        1\n",
      "15898.00       1\n",
      "1368.00        1\n",
      "140.00         1\n",
      "973.00         1\n",
      "1239.00        1\n",
      "1369.00        1\n",
      "1390.00        1\n",
      "122.00         1\n",
      "1198.00        1\n",
      "1195.00        1\n",
      "2967.00        1\n",
      "1800.00        1\n",
      "Name: displacement_cc, dtype: int64\n"
     ]
    }
   ],
   "source": [
    "first_looking(\"displacement_cc\")"
   ]
  },
  {
   "cell_type": "code",
   "execution_count": 106,
   "metadata": {
    "ExecuteTime": {
     "end_time": "2022-08-03T10:33:04.358218Z",
     "start_time": "2022-08-03T10:33:03.103226Z"
    }
   },
   "outputs": [
    {
     "data": {
      "image/png": "[encoded data removed]",
      "text/plain": [
       "<Figure size 1080x432 with 1 Axes>"
      ]
     },
     "metadata": {},
     "output_type": "display_data"
    }
   ],
   "source": [
    "plt.figure(figsize=(15,6))\n",
    "sns.boxplot(data=df, y='displacement_cc', x='make_model');"
   ]
  },
  {
   "cell_type": "code",
   "execution_count": 67,
   "metadata": {
    "ExecuteTime": {
     "end_time": "2022-08-03T09:38:20.893723Z",
     "start_time": "2022-08-03T09:38:20.832723Z"
    }
   },
   "outputs": [],
   "source": [
    "df[df.displacement_cc > 5000].displacement_cc = 1600"
   ]
  },
  {
   "cell_type": "code",
   "execution_count": 68,
   "metadata": {
    "ExecuteTime": {
     "end_time": "2022-08-03T09:39:04.957719Z",
     "start_time": "2022-08-03T09:39:04.930726Z"
    }
   },
   "outputs": [],
   "source": [
    "df[df.displacement_cc < 500].displacement_cc = np.nan"
   ]
  },
  {
   "cell_type": "code",
   "execution_count": 71,
   "metadata": {
    "ExecuteTime": {
     "end_time": "2022-08-03T09:43:08.888016Z",
     "start_time": "2022-08-03T09:43:08.843024Z"
    }
   },
   "outputs": [
    {
     "data": {
      "text/plain": [
       "10932   16000.00\n",
       "7169    15898.00\n",
       "10771    2967.00\n",
       "3595     2480.00\n",
       "3587     2480.00\n",
       "3649     2480.00\n",
       "3590     2480.00\n",
       "3599     2480.00\n",
       "3598     2480.00\n",
       "3596     2480.00\n",
       "Name: displacement_cc, dtype: float64"
      ]
     },
     "execution_count": 71,
     "metadata": {},
     "output_type": "execute_result"
    }
   ],
   "source": [
    "df.sort_values(by=[\"displacement_cc\"], ascending=False)[\"displacement_cc\"].head(10)"
   ]
  },
  {
   "cell_type": "code",
   "execution_count": 73,
   "metadata": {
    "ExecuteTime": {
     "end_time": "2022-08-03T09:46:01.461520Z",
     "start_time": "2022-08-03T09:46:01.405525Z"
    }
   },
   "outputs": [
    {
     "data": {
      "text/plain": [
       "12790     1.00\n",
       "14319     1.00\n",
       "14315     1.00\n",
       "12849     1.00\n",
       "12848     1.00\n",
       "12835     1.00\n",
       "12823     1.00\n",
       "12815     1.00\n",
       "12800     1.00\n",
       "12798     1.00\n",
       "12796     1.00\n",
       "12786     1.00\n",
       "12783     1.00\n",
       "12781     1.00\n",
       "12769     1.00\n",
       "12768     1.00\n",
       "12750     1.00\n",
       "12670     1.00\n",
       "12604     1.00\n",
       "12554     1.00\n",
       "12501     1.00\n",
       "12499     1.00\n",
       "12484     1.00\n",
       "12473     1.00\n",
       "12467     1.00\n",
       "14284     1.00\n",
       "14320     1.00\n",
       "14321     1.00\n",
       "14314     1.00\n",
       "14322     1.00\n",
       "14328     1.00\n",
       "14327     1.00\n",
       "13904     1.00\n",
       "14325     1.00\n",
       "14326     1.00\n",
       "14324     1.00\n",
       "10559     2.00\n",
       "14198     2.00\n",
       "13912    54.00\n",
       "10194   122.00\n",
       "7810    139.00\n",
       "7812    139.00\n",
       "7811    139.00\n",
       "7809    139.00\n",
       "8128    140.00\n",
       "15578   160.00\n",
       "15576   160.00\n",
       "15574   160.00\n",
       "15575   160.00\n",
       "15577   160.00\n",
       "15579   160.00\n",
       "13653   890.00\n",
       "14694   898.00\n",
       "14342   898.00\n",
       "14695   898.00\n",
       "14706   898.00\n",
       "14707   898.00\n",
       "14696   898.00\n",
       "14705   898.00\n",
       "14234   898.00\n",
       "Name: displacement_cc, dtype: float64"
      ]
     },
     "execution_count": 73,
     "metadata": {},
     "output_type": "execute_result"
    }
   ],
   "source": [
    "df.sort_values(by=[\"displacement_cc\"], ascending=True)[\"displacement_cc\"].head(60)"
   ]
  },
  {
   "cell_type": "code",
   "execution_count": 74,
   "metadata": {
    "ExecuteTime": {
     "end_time": "2022-08-03T09:47:13.779050Z",
     "start_time": "2022-08-03T09:47:13.759044Z"
    }
   },
   "outputs": [],
   "source": [
    "disp_cc_list = df.displacement_cc.isin([1, 2, 54, 122, 139, 140, 160, 16000, 15898])"
   ]
  },
  {
   "cell_type": "code",
   "execution_count": 75,
   "metadata": {
    "ExecuteTime": {
     "end_time": "2022-08-03T09:48:07.243463Z",
     "start_time": "2022-08-03T09:48:07.228464Z"
    }
   },
   "outputs": [],
   "source": [
    "df.loc[disp_cc_list, \"displacement_cc\"] = np.nan"
   ]
  },
  {
   "cell_type": "code",
   "execution_count": 76,
   "metadata": {
    "ExecuteTime": {
     "end_time": "2022-08-03T09:48:29.421533Z",
     "start_time": "2022-08-03T09:48:29.399535Z"
    }
   },
   "outputs": [
    {
     "data": {
      "text/plain": [
       "53"
      ]
     },
     "execution_count": 76,
     "metadata": {},
     "output_type": "execute_result"
    }
   ],
   "source": [
    "df.displacement_cc.isnull().sum()"
   ]
  },
  {
   "cell_type": "code",
   "execution_count": 79,
   "metadata": {
    "ExecuteTime": {
     "end_time": "2022-08-03T09:50:31.805229Z",
     "start_time": "2022-08-03T09:50:29.308136Z"
    }
   },
   "outputs": [
    {
     "name": "stdout",
     "output_type": "stream",
     "text": [
      "Number of NaN :  0\n",
      "------------------\n",
      "1598.00    5077\n",
      "999.00     2467\n",
      "1398.00    1388\n",
      "1399.00     772\n",
      "1461.00     682\n",
      "1229.00     678\n",
      "1956.00     670\n",
      "1490.00     559\n",
      "1422.00     467\n",
      "1197.00     372\n",
      "898.00      351\n",
      "1395.00     320\n",
      "1968.00     301\n",
      "1149.00     288\n",
      "1618.00     212\n",
      "1798.00     210\n",
      "1498.00     196\n",
      "1600.00     130\n",
      "1248.00     110\n",
      "1997.00     103\n",
      "1364.00     102\n",
      "1400.00      90\n",
      "998.00       72\n",
      "1500.00      50\n",
      "2000.00      46\n",
      "1000.00      40\n",
      "1998.00      25\n",
      "2480.00      20\n",
      "1984.00      18\n",
      "1200.00      18\n",
      "1397.00      11\n",
      "899.00       11\n",
      "929.00        5\n",
      "1499.00       5\n",
      "997.00        4\n",
      "900.00        4\n",
      "1596.00       4\n",
      "1599.00       3\n",
      "1396.00       3\n",
      "1199.00       3\n",
      "1589.00       2\n",
      "1300.00       2\n",
      "1495.00       2\n",
      "995.00        2\n",
      "890.00        1\n",
      "1333.00       1\n",
      "1580.00       1\n",
      "1995.00       1\n",
      "1533.00       1\n",
      "1100.00       1\n",
      "1198.00       1\n",
      "1496.00       1\n",
      "1368.00       1\n",
      "1896.00       1\n",
      "1584.00       1\n",
      "1568.00       1\n",
      "996.00        1\n",
      "1696.00       1\n",
      "1686.00       1\n",
      "973.00        1\n",
      "1856.00       1\n",
      "1239.00       1\n",
      "1350.00       1\n",
      "1369.00       1\n",
      "1390.00       1\n",
      "1195.00       1\n",
      "2967.00       1\n",
      "1800.00       1\n",
      "Name: displacement_cc, dtype: int64\n"
     ]
    }
   ],
   "source": [
    "fill(df, \"make_model\", \"body_type\", \"displacement_cc\", \"mode\")"
   ]
  },
  {
   "cell_type": "code",
   "execution_count": 80,
   "metadata": {
    "ExecuteTime": {
     "end_time": "2022-08-03T09:50:54.325330Z",
     "start_time": "2022-08-03T09:50:54.300335Z"
    }
   },
   "outputs": [
    {
     "data": {
      "text/plain": [
       "0"
      ]
     },
     "execution_count": 80,
     "metadata": {},
     "output_type": "execute_result"
    }
   ],
   "source": [
    "df.displacement_cc.isnull().sum()"
   ]
  },
  {
   "cell_type": "code",
   "execution_count": 107,
   "metadata": {
    "ExecuteTime": {
     "end_time": "2022-08-03T10:33:17.816401Z",
     "start_time": "2022-08-03T10:33:16.747402Z"
    }
   },
   "outputs": [
    {
     "data": {
      "image/png": "[encoded data removed]",
      "text/plain": [
       "<Figure size 1080x432 with 1 Axes>"
      ]
     },
     "metadata": {},
     "output_type": "display_data"
    }
   ],
   "source": [
    "plt.figure(figsize=(15,6))\n",
    "sns.boxplot(data=df, y='displacement_cc', x='make_model');"
   ]
  },
  {
   "cell_type": "code",
   "execution_count": null,
   "metadata": {},
   "outputs": [],
   "source": []
  },
  {
   "cell_type": "markdown",
   "metadata": {},
   "source": [
    "## weight_kg"
   ]
  },
  {
   "cell_type": "code",
   "execution_count": 81,
   "metadata": {
    "ExecuteTime": {
     "end_time": "2022-08-03T09:53:13.089075Z",
     "start_time": "2022-08-03T09:53:13.069072Z"
    }
   },
   "outputs": [
    {
     "name": "stdout",
     "output_type": "stream",
     "text": [
      "column name    :  weight_kg\n",
      "--------------------------------\n",
      "per_of_nulls   :  % 0.0\n",
      "num_of_nulls   :  0\n",
      "num_of_uniques :  434\n",
      "--------------------------------\n",
      "1163.00    1582\n",
      "1360.00    1419\n",
      "1487.00     966\n",
      "1135.00     837\n",
      "1425.00     744\n",
      "           ... \n",
      "1331.00       1\n",
      "1132.00       1\n",
      "1252.00       1\n",
      "1792.00       1\n",
      "2037.00       1\n",
      "Name: weight_kg, Length: 434, dtype: int64\n"
     ]
    }
   ],
   "source": [
    "first_looking(\"weight_kg\")"
   ]
  },
  {
   "cell_type": "code",
   "execution_count": 85,
   "metadata": {
    "ExecuteTime": {
     "end_time": "2022-08-03T10:00:03.858799Z",
     "start_time": "2022-08-03T10:00:03.195806Z"
    }
   },
   "outputs": [
    {
     "data": {
      "image/png": "[encoded data removed]",
      "text/plain": [
       "<Figure size 720x432 with 1 Axes>"
      ]
     },
     "metadata": {},
     "output_type": "display_data"
    }
   ],
   "source": [
    "ax = sns.boxplot(x=df[\"weight_kg\"])"
   ]
  },
  {
   "cell_type": "code",
   "execution_count": 86,
   "metadata": {
    "ExecuteTime": {
     "end_time": "2022-08-03T10:02:14.548965Z",
     "start_time": "2022-08-03T10:02:14.507972Z"
    }
   },
   "outputs": [
    {
     "data": {
      "text/plain": [
       "count   15919.00\n",
       "mean     1337.43\n",
       "std       200.47\n",
       "min         1.00\n",
       "25%      1165.00\n",
       "50%      1295.00\n",
       "75%      1472.00\n",
       "max      2471.00\n",
       "Name: weight_kg, dtype: float64"
      ]
     },
     "execution_count": 86,
     "metadata": {},
     "output_type": "execute_result"
    }
   ],
   "source": [
    "df.weight_kg.describe()"
   ]
  },
  {
   "cell_type": "code",
   "execution_count": 87,
   "metadata": {
    "ExecuteTime": {
     "end_time": "2022-08-03T10:02:38.430246Z",
     "start_time": "2022-08-03T10:02:38.398252Z"
    }
   },
   "outputs": [
    {
     "data": {
      "text/plain": [
       "8355      1.00\n",
       "12779     1.00\n",
       "1143    102.00\n",
       "8857    840.00\n",
       "14313   900.00\n",
       "13513   977.00\n",
       "13555   977.00\n",
       "14654   980.00\n",
       "14105   980.00\n",
       "13999   980.00\n",
       "Name: weight_kg, dtype: float64"
      ]
     },
     "execution_count": 87,
     "metadata": {},
     "output_type": "execute_result"
    }
   ],
   "source": [
    "df[\"weight_kg\"].sort_values().head(10)"
   ]
  },
  {
   "cell_type": "code",
   "execution_count": 88,
   "metadata": {
    "ExecuteTime": {
     "end_time": "2022-08-03T10:03:14.318728Z",
     "start_time": "2022-08-03T10:03:14.306727Z"
    }
   },
   "outputs": [],
   "source": [
    "df[\"weight_kg\"].replace([1, 102], np.nan, inplace = True)"
   ]
  },
  {
   "cell_type": "code",
   "execution_count": 89,
   "metadata": {
    "ExecuteTime": {
     "end_time": "2022-08-03T10:03:40.006758Z",
     "start_time": "2022-08-03T10:03:39.975763Z"
    }
   },
   "outputs": [
    {
     "data": {
      "text/plain": [
       "3"
      ]
     },
     "execution_count": 89,
     "metadata": {},
     "output_type": "execute_result"
    }
   ],
   "source": [
    "df[\"weight_kg\"].isnull().sum()"
   ]
  },
  {
   "cell_type": "code",
   "execution_count": 90,
   "metadata": {
    "ExecuteTime": {
     "end_time": "2022-08-03T10:04:12.889877Z",
     "start_time": "2022-08-03T10:04:10.931880Z"
    }
   },
   "outputs": [
    {
     "name": "stdout",
     "output_type": "stream",
     "text": [
      "Number of NaN :  0\n",
      "------------------\n",
      "1163.00    1583\n",
      "1360.00    1419\n",
      "1487.00     967\n",
      "1135.00     837\n",
      "1425.00     744\n",
      "           ... \n",
      "1331.00       1\n",
      "1132.00       1\n",
      "1252.00       1\n",
      "1792.00       1\n",
      "2037.00       1\n",
      "Name: weight_kg, Length: 432, dtype: int64\n"
     ]
    }
   ],
   "source": [
    "fill(df, \"make_model\", \"body_type\", \"weight_kg\", \"mode\")"
   ]
  },
  {
   "cell_type": "code",
   "execution_count": 91,
   "metadata": {
    "ExecuteTime": {
     "end_time": "2022-08-03T10:04:57.573879Z",
     "start_time": "2022-08-03T10:04:57.558879Z"
    }
   },
   "outputs": [
    {
     "data": {
      "text/plain": [
       "0"
      ]
     },
     "execution_count": 91,
     "metadata": {},
     "output_type": "execute_result"
    }
   ],
   "source": [
    "df[\"weight_kg\"].isnull().sum()"
   ]
  },
  {
   "cell_type": "code",
   "execution_count": 95,
   "metadata": {
    "ExecuteTime": {
     "end_time": "2022-08-03T10:21:07.753327Z",
     "start_time": "2022-08-03T10:21:07.709333Z"
    }
   },
   "outputs": [
    {
     "data": {
      "text/plain": [
       "8857    840.00\n",
       "14313   900.00\n",
       "13555   977.00\n",
       "13513   977.00\n",
       "13732   980.00\n",
       "14233   980.00\n",
       "14479   980.00\n",
       "14158   980.00\n",
       "14105   980.00\n",
       "13609   980.00\n",
       "Name: weight_kg, dtype: float64"
      ]
     },
     "execution_count": 95,
     "metadata": {},
     "output_type": "execute_result"
    }
   ],
   "source": [
    "df.sort_values(by=[\"weight_kg\"], ascending=True)[\"weight_kg\"].head(10)"
   ]
  },
  {
   "cell_type": "code",
   "execution_count": 96,
   "metadata": {
    "ExecuteTime": {
     "end_time": "2022-08-03T10:21:21.712468Z",
     "start_time": "2022-08-03T10:21:21.675476Z"
    }
   },
   "outputs": [
    {
     "data": {
      "text/plain": [
       "14975   2471.00\n",
       "15231   2471.00\n",
       "15678   2471.00\n",
       "15185   2471.00\n",
       "15280   2471.00\n",
       "10638   2450.00\n",
       "10646   2450.00\n",
       "15143   2410.00\n",
       "15133   2410.00\n",
       "15136   2410.00\n",
       "Name: weight_kg, dtype: float64"
      ]
     },
     "execution_count": 96,
     "metadata": {},
     "output_type": "execute_result"
    }
   ],
   "source": [
    "df.sort_values(by=[\"weight_kg\"], ascending=False)[\"weight_kg\"].head(10)"
   ]
  },
  {
   "cell_type": "code",
   "execution_count": 98,
   "metadata": {
    "ExecuteTime": {
     "end_time": "2022-08-03T10:22:07.977128Z",
     "start_time": "2022-08-03T10:22:07.014129Z"
    }
   },
   "outputs": [
    {
     "data": {
      "image/png": "[encoded data removed]",
      "text/plain": [
       "<Figure size 720x432 with 1 Axes>"
      ]
     },
     "metadata": {},
     "output_type": "display_data"
    }
   ],
   "source": [
    "ax = sns.boxplot(x=df[\"weight_kg\"])"
   ]
  },
  {
   "cell_type": "code",
   "execution_count": null,
   "metadata": {},
   "outputs": [],
   "source": []
  },
  {
   "cell_type": "markdown",
   "metadata": {},
   "source": [
    "## gears"
   ]
  },
  {
   "cell_type": "code",
   "execution_count": 127,
   "metadata": {
    "ExecuteTime": {
     "end_time": "2022-08-03T11:19:33.543477Z",
     "start_time": "2022-08-03T11:19:33.515484Z"
    }
   },
   "outputs": [
    {
     "name": "stdout",
     "output_type": "stream",
     "text": [
      "column name    :  gears\n",
      "--------------------------------\n",
      "per_of_nulls   :  % 0.0\n",
      "num_of_nulls   :  0\n",
      "num_of_uniques :  10\n",
      "--------------------------------\n",
      "6.00     8410\n",
      "5.00     5363\n",
      "7.00     1908\n",
      "8.00      224\n",
      "9.00        6\n",
      "1.00        2\n",
      "3.00        2\n",
      "4.00        2\n",
      "2.00        1\n",
      "50.00       1\n",
      "Name: gears, dtype: int64\n"
     ]
    }
   ],
   "source": [
    "first_looking(\"gears\")"
   ]
  },
  {
   "cell_type": "code",
   "execution_count": 128,
   "metadata": {
    "ExecuteTime": {
     "end_time": "2022-08-03T11:19:40.454002Z",
     "start_time": "2022-08-03T11:19:39.814005Z"
    }
   },
   "outputs": [
    {
     "data": {
      "image/png": "[encoded data removed]",
      "text/plain": [
       "<Figure size 720x432 with 1 Axes>"
      ]
     },
     "metadata": {},
     "output_type": "display_data"
    }
   ],
   "source": [
    "ax = sns.boxplot(x=df[\"gears\"])"
   ]
  },
  {
   "cell_type": "code",
   "execution_count": 129,
   "metadata": {
    "ExecuteTime": {
     "end_time": "2022-08-03T11:19:52.834707Z",
     "start_time": "2022-08-03T11:19:52.809707Z"
    }
   },
   "outputs": [
    {
     "data": {
      "text/plain": [
       "count   15919.00\n",
       "mean        5.81\n",
       "std         0.78\n",
       "min         1.00\n",
       "25%         5.00\n",
       "50%         6.00\n",
       "75%         6.00\n",
       "max        50.00\n",
       "Name: gears, dtype: float64"
      ]
     },
     "execution_count": 129,
     "metadata": {},
     "output_type": "execute_result"
    }
   ],
   "source": [
    "df.gears.describe()"
   ]
  },
  {
   "cell_type": "code",
   "execution_count": 131,
   "metadata": {
    "ExecuteTime": {
     "end_time": "2022-08-03T11:20:58.751976Z",
     "start_time": "2022-08-03T11:20:58.674977Z"
    }
   },
   "outputs": [
    {
     "data": {
      "text/plain": [
       "14375   1.00\n",
       "8921    1.00\n",
       "9812    2.00\n",
       "15845   3.00\n",
       "15817   3.00\n",
       "15823   4.00\n",
       "15822   4.00\n",
       "9242    5.00\n",
       "9243    5.00\n",
       "9244    5.00\n",
       "Name: gears, dtype: float64"
      ]
     },
     "execution_count": 131,
     "metadata": {},
     "output_type": "execute_result"
    }
   ],
   "source": [
    "df.sort_values(by=[\"gears\"], ascending=True)[\"gears\"].head(10)"
   ]
  },
  {
   "cell_type": "code",
   "execution_count": 132,
   "metadata": {
    "ExecuteTime": {
     "end_time": "2022-08-03T11:22:23.384761Z",
     "start_time": "2022-08-03T11:22:23.274766Z"
    }
   },
   "outputs": [
    {
     "data": {
      "text/html": [
       "<div>\n",
       "<style scoped>\n",
       "    .dataframe tbody tr th:only-of-type {\n",
       "        vertical-align: middle;\n",
       "    }\n",
       "\n",
       "    .dataframe tbody tr th {\n",
       "        vertical-align: top;\n",
       "    }\n",
       "\n",
       "    .dataframe thead th {\n",
       "        text-align: right;\n",
       "    }\n",
       "</style>\n",
       "<table border=\"1\" class=\"dataframe\">\n",
       "  <thead>\n",
       "    <tr style=\"text-align: right;\">\n",
       "      <th></th>\n",
       "      <th>make_model</th>\n",
       "      <th>body_type</th>\n",
       "      <th>price</th>\n",
       "      <th>vat</th>\n",
       "      <th>km</th>\n",
       "      <th>hp</th>\n",
       "      <th>type</th>\n",
       "      <th>paint_type</th>\n",
       "      <th>nr_of_doors</th>\n",
       "      <th>nr_of_seats</th>\n",
       "      <th>gearing_type</th>\n",
       "      <th>drive_chain</th>\n",
       "      <th>fuel</th>\n",
       "      <th>emission_class</th>\n",
       "      <th>comfort_convenience</th>\n",
       "      <th>entertainment_media</th>\n",
       "      <th>extras</th>\n",
       "      <th>safety_security</th>\n",
       "      <th>gears</th>\n",
       "      <th>age</th>\n",
       "      <th>displacement_cc</th>\n",
       "      <th>weight_kg</th>\n",
       "      <th>upholstery_type</th>\n",
       "      <th>consumption_comb</th>\n",
       "      <th>co_2_emission_g_by_km</th>\n",
       "    </tr>\n",
       "  </thead>\n",
       "  <tbody>\n",
       "    <tr>\n",
       "      <th>8921</th>\n",
       "      <td>Opel Corsa</td>\n",
       "      <td>Compact</td>\n",
       "      <td>11000</td>\n",
       "      <td>VAT deductible</td>\n",
       "      <td>24000.00</td>\n",
       "      <td>66.00</td>\n",
       "      <td>Used</td>\n",
       "      <td>Metallic</td>\n",
       "      <td>5.00</td>\n",
       "      <td>5.00</td>\n",
       "      <td>Semi-automatic</td>\n",
       "      <td>front</td>\n",
       "      <td>Benzine</td>\n",
       "      <td>Euro 6</td>\n",
       "      <td>Air conditioning,Light sensor,Multi-function s...</td>\n",
       "      <td>Bluetooth,On-board computer,Radio,USB</td>\n",
       "      <td>Alloy wheels,Touch screen</td>\n",
       "      <td>ABS,Central door lock,Central door lock with r...</td>\n",
       "      <td>1.00</td>\n",
       "      <td>1.00</td>\n",
       "      <td>1398.00</td>\n",
       "      <td>1163.00</td>\n",
       "      <td>Cloth</td>\n",
       "      <td>4.80</td>\n",
       "      <td>112.00</td>\n",
       "    </tr>\n",
       "    <tr>\n",
       "      <th>14375</th>\n",
       "      <td>Renault Clio</td>\n",
       "      <td>Compact</td>\n",
       "      <td>23990</td>\n",
       "      <td>VAT deductible</td>\n",
       "      <td>10.00</td>\n",
       "      <td>147.00</td>\n",
       "      <td>Used</td>\n",
       "      <td>Metallic</td>\n",
       "      <td>4.00</td>\n",
       "      <td>5.00</td>\n",
       "      <td>Automatic</td>\n",
       "      <td>front</td>\n",
       "      <td>Benzine</td>\n",
       "      <td>Euro 6</td>\n",
       "      <td>Air conditioning,Automatic climate control,Cru...</td>\n",
       "      <td>Bluetooth,Hands-free equipment,On-board computer</td>\n",
       "      <td>Alloy wheels,Sport package,Sport seats,Sport s...</td>\n",
       "      <td>ABS,Central door lock,Daytime running lights,D...</td>\n",
       "      <td>1.00</td>\n",
       "      <td>1.00</td>\n",
       "      <td>1618.00</td>\n",
       "      <td>1288.00</td>\n",
       "      <td>Cloth</td>\n",
       "      <td>5.40</td>\n",
       "      <td>120.00</td>\n",
       "    </tr>\n",
       "  </tbody>\n",
       "</table>\n",
       "</div>"
      ],
      "text/plain": [
       "         make_model body_type  price             vat       km     hp  type  \\\n",
       "8921     Opel Corsa   Compact  11000  VAT deductible 24000.00  66.00  Used   \n",
       "14375  Renault Clio   Compact  23990  VAT deductible    10.00 147.00  Used   \n",
       "\n",
       "      paint_type  nr_of_doors  nr_of_seats    gearing_type drive_chain  \\\n",
       "8921    Metallic         5.00         5.00  Semi-automatic       front   \n",
       "14375   Metallic         4.00         5.00       Automatic       front   \n",
       "\n",
       "          fuel emission_class  \\\n",
       "8921   Benzine         Euro 6   \n",
       "14375  Benzine         Euro 6   \n",
       "\n",
       "                                     comfort_convenience  \\\n",
       "8921   Air conditioning,Light sensor,Multi-function s...   \n",
       "14375  Air conditioning,Automatic climate control,Cru...   \n",
       "\n",
       "                                    entertainment_media  \\\n",
       "8921              Bluetooth,On-board computer,Radio,USB   \n",
       "14375  Bluetooth,Hands-free equipment,On-board computer   \n",
       "\n",
       "                                                  extras  \\\n",
       "8921                           Alloy wheels,Touch screen   \n",
       "14375  Alloy wheels,Sport package,Sport seats,Sport s...   \n",
       "\n",
       "                                         safety_security  gears  age  \\\n",
       "8921   ABS,Central door lock,Central door lock with r...   1.00 1.00   \n",
       "14375  ABS,Central door lock,Daytime running lights,D...   1.00 1.00   \n",
       "\n",
       "       displacement_cc  weight_kg upholstery_type  consumption_comb  \\\n",
       "8921           1398.00    1163.00           Cloth              4.80   \n",
       "14375          1618.00    1288.00           Cloth              5.40   \n",
       "\n",
       "       co_2_emission_g_by_km  \n",
       "8921                  112.00  \n",
       "14375                 120.00  "
      ]
     },
     "execution_count": 132,
     "metadata": {},
     "output_type": "execute_result"
    }
   ],
   "source": [
    "df[df['gears'] == 1]"
   ]
  },
  {
   "cell_type": "code",
   "execution_count": 133,
   "metadata": {
    "ExecuteTime": {
     "end_time": "2022-08-03T11:23:44.650970Z",
     "start_time": "2022-08-03T11:23:44.609976Z"
    },
    "scrolled": true
   },
   "outputs": [
    {
     "data": {
      "text/plain": [
       "gears\n",
       "5.00     1024\n",
       "6.00      293\n",
       "1.00        1\n",
       "8.00        1\n",
       "dtype: int64"
      ]
     },
     "execution_count": 133,
     "metadata": {},
     "output_type": "execute_result"
    }
   ],
   "source": [
    "df.loc[(df['make_model'] == 'Opel Corsa') & (df['body_type'] == 'Compact'), ['gears']].value_counts()"
   ]
  },
  {
   "cell_type": "code",
   "execution_count": 134,
   "metadata": {
    "ExecuteTime": {
     "end_time": "2022-08-03T11:25:28.279322Z",
     "start_time": "2022-08-03T11:25:28.261324Z"
    }
   },
   "outputs": [],
   "source": [
    "df.loc[df['gears']==1,'gears'] = 5"
   ]
  },
  {
   "cell_type": "code",
   "execution_count": 135,
   "metadata": {
    "ExecuteTime": {
     "end_time": "2022-08-03T11:25:45.274719Z",
     "start_time": "2022-08-03T11:25:45.261718Z"
    }
   },
   "outputs": [],
   "source": [
    "df.loc[df['gears']==8,'gears'] = 5"
   ]
  },
  {
   "cell_type": "code",
   "execution_count": 138,
   "metadata": {
    "ExecuteTime": {
     "end_time": "2022-08-03T11:27:53.860236Z",
     "start_time": "2022-08-03T11:27:53.817240Z"
    }
   },
   "outputs": [
    {
     "data": {
      "text/plain": [
       "14495   50.00\n",
       "15869    9.00\n",
       "15827    9.00\n",
       "15814    9.00\n",
       "15824    9.00\n",
       "15812    9.00\n",
       "15876    9.00\n",
       "14361    7.00\n",
       "5040     7.00\n",
       "5039     7.00\n",
       "Name: gears, dtype: float64"
      ]
     },
     "execution_count": 138,
     "metadata": {},
     "output_type": "execute_result"
    }
   ],
   "source": [
    "df.sort_values(by=[\"gears\"], ascending=False)[\"gears\"].head(10)"
   ]
  },
  {
   "cell_type": "code",
   "execution_count": 139,
   "metadata": {
    "ExecuteTime": {
     "end_time": "2022-08-03T11:28:31.442792Z",
     "start_time": "2022-08-03T11:28:31.336797Z"
    }
   },
   "outputs": [
    {
     "data": {
      "text/html": [
       "<div>\n",
       "<style scoped>\n",
       "    .dataframe tbody tr th:only-of-type {\n",
       "        vertical-align: middle;\n",
       "    }\n",
       "\n",
       "    .dataframe tbody tr th {\n",
       "        vertical-align: top;\n",
       "    }\n",
       "\n",
       "    .dataframe thead th {\n",
       "        text-align: right;\n",
       "    }\n",
       "</style>\n",
       "<table border=\"1\" class=\"dataframe\">\n",
       "  <thead>\n",
       "    <tr style=\"text-align: right;\">\n",
       "      <th></th>\n",
       "      <th>make_model</th>\n",
       "      <th>body_type</th>\n",
       "      <th>price</th>\n",
       "      <th>vat</th>\n",
       "      <th>km</th>\n",
       "      <th>hp</th>\n",
       "      <th>type</th>\n",
       "      <th>paint_type</th>\n",
       "      <th>nr_of_doors</th>\n",
       "      <th>nr_of_seats</th>\n",
       "      <th>gearing_type</th>\n",
       "      <th>drive_chain</th>\n",
       "      <th>fuel</th>\n",
       "      <th>emission_class</th>\n",
       "      <th>comfort_convenience</th>\n",
       "      <th>entertainment_media</th>\n",
       "      <th>extras</th>\n",
       "      <th>safety_security</th>\n",
       "      <th>gears</th>\n",
       "      <th>age</th>\n",
       "      <th>displacement_cc</th>\n",
       "      <th>weight_kg</th>\n",
       "      <th>upholstery_type</th>\n",
       "      <th>consumption_comb</th>\n",
       "      <th>co_2_emission_g_by_km</th>\n",
       "    </tr>\n",
       "  </thead>\n",
       "  <tbody>\n",
       "    <tr>\n",
       "      <th>14495</th>\n",
       "      <td>Renault Clio</td>\n",
       "      <td>Sedans</td>\n",
       "      <td>10798</td>\n",
       "      <td>VAT deductible</td>\n",
       "      <td>10.00</td>\n",
       "      <td>56.00</td>\n",
       "      <td>Used</td>\n",
       "      <td>Metallic</td>\n",
       "      <td>5.00</td>\n",
       "      <td>5.00</td>\n",
       "      <td>Manual</td>\n",
       "      <td>front</td>\n",
       "      <td>Benzine</td>\n",
       "      <td>Euro 6</td>\n",
       "      <td>Air conditioning,Cruise control,Electrical sid...</td>\n",
       "      <td>USB</td>\n",
       "      <td>Alloy wheels</td>\n",
       "      <td>ABS,Central door lock,Daytime running lights,D...</td>\n",
       "      <td>50.00</td>\n",
       "      <td>0.00</td>\n",
       "      <td>898.00</td>\n",
       "      <td>1165.00</td>\n",
       "      <td>Cloth</td>\n",
       "      <td>5.20</td>\n",
       "      <td>118.00</td>\n",
       "    </tr>\n",
       "  </tbody>\n",
       "</table>\n",
       "</div>"
      ],
      "text/plain": [
       "         make_model body_type  price             vat    km    hp  type  \\\n",
       "14495  Renault Clio    Sedans  10798  VAT deductible 10.00 56.00  Used   \n",
       "\n",
       "      paint_type  nr_of_doors  nr_of_seats gearing_type drive_chain     fuel  \\\n",
       "14495   Metallic         5.00         5.00       Manual       front  Benzine   \n",
       "\n",
       "      emission_class                                comfort_convenience  \\\n",
       "14495         Euro 6  Air conditioning,Cruise control,Electrical sid...   \n",
       "\n",
       "      entertainment_media        extras  \\\n",
       "14495                 USB  Alloy wheels   \n",
       "\n",
       "                                         safety_security  gears  age  \\\n",
       "14495  ABS,Central door lock,Daytime running lights,D...  50.00 0.00   \n",
       "\n",
       "       displacement_cc  weight_kg upholstery_type  consumption_comb  \\\n",
       "14495           898.00    1165.00           Cloth              5.20   \n",
       "\n",
       "       co_2_emission_g_by_km  \n",
       "14495                 118.00  "
      ]
     },
     "execution_count": 139,
     "metadata": {},
     "output_type": "execute_result"
    }
   ],
   "source": [
    "df[df['gears'] == 50]"
   ]
  },
  {
   "cell_type": "code",
   "execution_count": 140,
   "metadata": {
    "ExecuteTime": {
     "end_time": "2022-08-03T11:29:12.300796Z",
     "start_time": "2022-08-03T11:29:12.241799Z"
    }
   },
   "outputs": [
    {
     "data": {
      "text/plain": [
       "gears\n",
       "5.00     744\n",
       "6.00     239\n",
       "50.00      1\n",
       "dtype: int64"
      ]
     },
     "execution_count": 140,
     "metadata": {},
     "output_type": "execute_result"
    }
   ],
   "source": [
    "df.loc[(df['make_model'] == 'Renault Clio') & (df['body_type'] == 'Sedans'), ['gears']].value_counts()"
   ]
  },
  {
   "cell_type": "code",
   "execution_count": 141,
   "metadata": {
    "ExecuteTime": {
     "end_time": "2022-08-03T11:29:36.571427Z",
     "start_time": "2022-08-03T11:29:36.545431Z"
    }
   },
   "outputs": [],
   "source": [
    "df.loc[df['gears']==50,'gears'] = 5"
   ]
  },
  {
   "cell_type": "code",
   "execution_count": 142,
   "metadata": {
    "ExecuteTime": {
     "end_time": "2022-08-03T11:30:11.954738Z",
     "start_time": "2022-08-03T11:30:11.050742Z"
    }
   },
   "outputs": [
    {
     "data": {
      "image/png": "[encoded data removed]",
      "text/plain": [
       "<Figure size 720x432 with 1 Axes>"
      ]
     },
     "metadata": {},
     "output_type": "display_data"
    }
   ],
   "source": [
    "ax = sns.boxplot(x=df[\"gears\"])"
   ]
  },
  {
   "cell_type": "code",
   "execution_count": null,
   "metadata": {},
   "outputs": [],
   "source": []
  },
  {
   "cell_type": "markdown",
   "metadata": {},
   "source": [
    "## age"
   ]
  },
  {
   "cell_type": "code",
   "execution_count": 143,
   "metadata": {
    "ExecuteTime": {
     "end_time": "2022-08-03T11:31:05.123742Z",
     "start_time": "2022-08-03T11:31:05.095746Z"
    }
   },
   "outputs": [
    {
     "name": "stdout",
     "output_type": "stream",
     "text": [
      "column name    :  age\n",
      "--------------------------------\n",
      "per_of_nulls   :  % 0.0\n",
      "num_of_nulls   :  0\n",
      "num_of_uniques :  4\n",
      "--------------------------------\n",
      "1.00    4528\n",
      "0.00    4435\n",
      "3.00    3679\n",
      "2.00    3277\n",
      "Name: age, dtype: int64\n"
     ]
    }
   ],
   "source": [
    "first_looking(\"age\")"
   ]
  },
  {
   "cell_type": "code",
   "execution_count": 147,
   "metadata": {
    "ExecuteTime": {
     "end_time": "2022-08-03T11:32:11.307731Z",
     "start_time": "2022-08-03T11:32:09.963735Z"
    }
   },
   "outputs": [
    {
     "data": {
      "image/png": "[encoded data removed]",
      "text/plain": [
       "<Figure size 720x432 with 1 Axes>"
      ]
     },
     "metadata": {},
     "output_type": "display_data"
    }
   ],
   "source": [
    "ax = sns.histplot(x=df[\"age\"])"
   ]
  },
  {
   "cell_type": "code",
   "execution_count": null,
   "metadata": {},
   "outputs": [],
   "source": [
    "\n",
    "\n",
    "\n"
   ]
  },
  {
   "cell_type": "markdown",
   "metadata": {},
   "source": [
    "## consumption_comb"
   ]
  },
  {
   "cell_type": "code",
   "execution_count": 148,
   "metadata": {
    "ExecuteTime": {
     "end_time": "2022-08-03T11:33:34.922930Z",
     "start_time": "2022-08-03T11:33:34.888935Z"
    }
   },
   "outputs": [
    {
     "name": "stdout",
     "output_type": "stream",
     "text": [
      "column name    :  consumption_comb\n",
      "--------------------------------\n",
      "per_of_nulls   :  % 0.0\n",
      "num_of_nulls   :  0\n",
      "num_of_uniques :  74\n",
      "--------------------------------\n",
      "5.40     986\n",
      "4.00     960\n",
      "3.90     847\n",
      "4.70     783\n",
      "5.60     783\n",
      "5.10     769\n",
      "5.20     685\n",
      "3.80     678\n",
      "4.40     624\n",
      "5.00     554\n",
      "4.80     546\n",
      "4.60     535\n",
      "4.50     523\n",
      "4.90     494\n",
      "3.30     463\n",
      "3.70     442\n",
      "4.20     436\n",
      "5.90     395\n",
      "5.30     390\n",
      "5.50     382\n",
      "5.70     342\n",
      "4.10     342\n",
      "6.00     331\n",
      "4.30     308\n",
      "3.50     288\n",
      "6.20     259\n",
      "3.60     195\n",
      "6.10     182\n",
      "6.30     181\n",
      "5.80     164\n",
      "6.80     156\n",
      "6.60     148\n",
      "3.40     111\n",
      "5.35     101\n",
      "6.40      75\n",
      "3.00      69\n",
      "7.40      66\n",
      "6.70      43\n",
      "6.50      43\n",
      "7.10      38\n",
      "10.00     35\n",
      "6.90      27\n",
      "3.20      25\n",
      "8.30      20\n",
      "7.60      14\n",
      "7.00      10\n",
      "5.85       7\n",
      "3.10       7\n",
      "7.20       6\n",
      "7.80       6\n",
      "8.00       5\n",
      "51.00      4\n",
      "8.60       4\n",
      "1.60       3\n",
      "7.90       3\n",
      "8.70       3\n",
      "38.00      2\n",
      "7.30       2\n",
      "0.00       2\n",
      "8.10       2\n",
      "40.00      2\n",
      "43.00      1\n",
      "13.80      1\n",
      "9.10       1\n",
      "7.50       1\n",
      "55.00      1\n",
      "54.00      1\n",
      "1.20       1\n",
      "32.00      1\n",
      "33.00      1\n",
      "50.00      1\n",
      "1.00       1\n",
      "46.00      1\n",
      "11.00      1\n",
      "Name: consumption_comb, dtype: int64\n"
     ]
    }
   ],
   "source": [
    "first_looking(\"consumption_comb\")"
   ]
  },
  {
   "cell_type": "code",
   "execution_count": 149,
   "metadata": {
    "ExecuteTime": {
     "end_time": "2022-08-03T11:34:34.671049Z",
     "start_time": "2022-08-03T11:34:34.630055Z"
    }
   },
   "outputs": [
    {
     "data": {
      "text/plain": [
       "count   15919.00\n",
       "mean        4.87\n",
       "std         1.55\n",
       "min         0.00\n",
       "25%         4.00\n",
       "50%         4.80\n",
       "75%         5.40\n",
       "max        55.00\n",
       "Name: consumption_comb, dtype: float64"
      ]
     },
     "execution_count": 149,
     "metadata": {},
     "output_type": "execute_result"
    }
   ],
   "source": [
    "df.consumption_comb.describe()"
   ]
  },
  {
   "cell_type": "code",
   "execution_count": 152,
   "metadata": {
    "ExecuteTime": {
     "end_time": "2022-08-03T11:36:29.025936Z",
     "start_time": "2022-08-03T11:36:28.134946Z"
    }
   },
   "outputs": [
    {
     "data": {
      "image/png": "[encoded data removed]",
      "text/plain": [
       "<Figure size 720x432 with 1 Axes>"
      ]
     },
     "metadata": {},
     "output_type": "display_data"
    }
   ],
   "source": [
    "ax = sns.boxplot(x=df[\"consumption_comb\"])"
   ]
  },
  {
   "cell_type": "code",
   "execution_count": 151,
   "metadata": {
    "ExecuteTime": {
     "end_time": "2022-08-03T11:35:26.981167Z",
     "start_time": "2022-08-03T11:35:26.922168Z"
    }
   },
   "outputs": [
    {
     "data": {
      "text/plain": [
       "11954   55.00\n",
       "13179   54.00\n",
       "2237    51.00\n",
       "2210    51.00\n",
       "2196    51.00\n",
       "2194    51.00\n",
       "14584   50.00\n",
       "15067   46.00\n",
       "500     43.00\n",
       "4089    40.00\n",
       "4102    40.00\n",
       "4558    38.00\n",
       "4556    38.00\n",
       "14530   33.00\n",
       "14131   32.00\n",
       "535     13.80\n",
       "10513   11.00\n",
       "2801    10.00\n",
       "14907   10.00\n",
       "14906   10.00\n",
       "14905   10.00\n",
       "14926   10.00\n",
       "13894   10.00\n",
       "14922   10.00\n",
       "14924   10.00\n",
       "14904   10.00\n",
       "14925   10.00\n",
       "14923   10.00\n",
       "14918   10.00\n",
       "14908   10.00\n",
       "14921   10.00\n",
       "14917   10.00\n",
       "14920   10.00\n",
       "14909   10.00\n",
       "14919   10.00\n",
       "14903   10.00\n",
       "14911   10.00\n",
       "14912   10.00\n",
       "14913   10.00\n",
       "14914   10.00\n",
       "Name: consumption_comb, dtype: float64"
      ]
     },
     "execution_count": 151,
     "metadata": {},
     "output_type": "execute_result"
    }
   ],
   "source": [
    "df.sort_values(by=[\"consumption_comb\"], ascending=False)[\"consumption_comb\"].head(40)"
   ]
  },
  {
   "cell_type": "code",
   "execution_count": 155,
   "metadata": {
    "ExecuteTime": {
     "end_time": "2022-08-03T11:45:51.679949Z",
     "start_time": "2022-08-03T11:45:51.643955Z"
    }
   },
   "outputs": [
    {
     "data": {
      "text/plain": [
       "51.00    4\n",
       "40.00    2\n",
       "38.00    2\n",
       "43.00    1\n",
       "55.00    1\n",
       "54.00    1\n",
       "32.00    1\n",
       "33.00    1\n",
       "50.00    1\n",
       "46.00    1\n",
       "Name: consumption_comb, dtype: int64"
      ]
     },
     "execution_count": 155,
     "metadata": {},
     "output_type": "execute_result"
    }
   ],
   "source": [
    "df[df['consumption_comb'] > 14].consumption_comb.value_counts(dropna=False)"
   ]
  },
  {
   "cell_type": "code",
   "execution_count": 172,
   "metadata": {
    "ExecuteTime": {
     "end_time": "2022-08-03T11:55:56.121750Z",
     "start_time": "2022-08-03T11:55:56.097756Z"
    }
   },
   "outputs": [],
   "source": [
    "df.consumption_comb.loc[df.consumption_comb > 10] = np.nan"
   ]
  },
  {
   "cell_type": "code",
   "execution_count": 173,
   "metadata": {
    "ExecuteTime": {
     "end_time": "2022-08-03T11:56:00.089679Z",
     "start_time": "2022-08-03T11:56:00.062680Z"
    }
   },
   "outputs": [
    {
     "data": {
      "text/plain": [
       "2"
      ]
     },
     "execution_count": 173,
     "metadata": {},
     "output_type": "execute_result"
    }
   ],
   "source": [
    "df.consumption_comb.isnull().sum()"
   ]
  },
  {
   "cell_type": "code",
   "execution_count": 174,
   "metadata": {
    "ExecuteTime": {
     "end_time": "2022-08-03T11:56:07.795304Z",
     "start_time": "2022-08-03T11:56:07.772313Z"
    }
   },
   "outputs": [],
   "source": [
    "df[\"consumption_comb\"] = df[\"consumption_comb\"].fillna(df.groupby(\"make_model\")[\"consumption_comb\"].transform(\"median\"))"
   ]
  },
  {
   "cell_type": "code",
   "execution_count": 175,
   "metadata": {
    "ExecuteTime": {
     "end_time": "2022-08-03T11:56:12.590657Z",
     "start_time": "2022-08-03T11:56:12.570656Z"
    }
   },
   "outputs": [
    {
     "data": {
      "text/plain": [
       "0"
      ]
     },
     "execution_count": 175,
     "metadata": {},
     "output_type": "execute_result"
    }
   ],
   "source": [
    "df.consumption_comb.isnull().sum()"
   ]
  },
  {
   "cell_type": "code",
   "execution_count": 165,
   "metadata": {
    "ExecuteTime": {
     "end_time": "2022-08-03T11:51:33.941104Z",
     "start_time": "2022-08-03T11:51:33.896110Z"
    }
   },
   "outputs": [
    {
     "data": {
      "text/plain": [
       "8217    0.00\n",
       "10566   0.00\n",
       "14902   1.00\n",
       "13678   1.20\n",
       "3615    1.60\n",
       "3612    1.60\n",
       "3617    1.60\n",
       "6746    3.00\n",
       "53      3.00\n",
       "2620    3.00\n",
       "13577   3.00\n",
       "13256   3.00\n",
       "13257   3.00\n",
       "4281    3.00\n",
       "6873    3.00\n",
       "6874    3.00\n",
       "13511   3.00\n",
       "8762    3.00\n",
       "6778    3.00\n",
       "13154   3.00\n",
       "412     3.00\n",
       "13251   3.00\n",
       "8048    3.00\n",
       "8044    3.00\n",
       "8731    3.00\n",
       "3850    3.00\n",
       "8805    3.00\n",
       "3873    3.00\n",
       "3186    3.00\n",
       "13482   3.00\n",
       "8822    3.00\n",
       "13493   3.00\n",
       "13494   3.00\n",
       "7544    3.00\n",
       "4362    3.00\n",
       "8020    3.00\n",
       "8024    3.00\n",
       "8036    3.00\n",
       "8039    3.00\n",
       "1025    3.00\n",
       "13147   3.00\n",
       "6906    3.00\n",
       "13954   3.00\n",
       "10918   3.00\n",
       "13956   3.00\n",
       "6173    3.00\n",
       "6200    3.00\n",
       "6204    3.00\n",
       "6205    3.00\n",
       "811     3.00\n",
       "6240    3.00\n",
       "5939    3.00\n",
       "6241    3.00\n",
       "6319    3.00\n",
       "10740   3.00\n",
       "10322   3.00\n",
       "13928   3.00\n",
       "6403    3.00\n",
       "6404    3.00\n",
       "13545   3.00\n",
       "6440    3.00\n",
       "2862    3.00\n",
       "10960   3.00\n",
       "6136    3.00\n",
       "11015   3.00\n",
       "11044   3.00\n",
       "13947   3.00\n",
       "13558   3.00\n",
       "11053   3.00\n",
       "11092   3.00\n",
       "30      3.00\n",
       "11004   3.00\n",
       "11106   3.00\n",
       "11157   3.00\n",
       "11179   3.00\n",
       "2863    3.00\n",
       "13679   3.10\n",
       "8911    3.10\n",
       "8912    3.10\n",
       "8874    3.10\n",
       "8872    3.10\n",
       "8566    3.10\n",
       "8904    3.10\n",
       "3268    3.20\n",
       "13740   3.20\n",
       "13417   3.20\n",
       "13743   3.20\n",
       "14151   3.20\n",
       "14150   3.20\n",
       "13518   3.20\n",
       "13963   3.20\n",
       "13861   3.20\n",
       "13442   3.20\n",
       "13566   3.20\n",
       "13579   3.20\n",
       "14149   3.20\n",
       "13488   3.20\n",
       "13721   3.20\n",
       "13716   3.20\n",
       "8827    3.20\n",
       "Name: consumption_comb, dtype: float64"
      ]
     },
     "execution_count": 165,
     "metadata": {},
     "output_type": "execute_result"
    }
   ],
   "source": [
    "df.sort_values(by=[\"consumption_comb\"], ascending=True)[\"consumption_comb\"].head(100)"
   ]
  },
  {
   "cell_type": "code",
   "execution_count": 166,
   "metadata": {
    "ExecuteTime": {
     "end_time": "2022-08-03T11:52:25.790062Z",
     "start_time": "2022-08-03T11:52:25.758069Z"
    }
   },
   "outputs": [
    {
     "data": {
      "text/plain": [
       "1.60    3\n",
       "0.00    2\n",
       "1.20    1\n",
       "1.00    1\n",
       "Name: consumption_comb, dtype: int64"
      ]
     },
     "execution_count": 166,
     "metadata": {},
     "output_type": "execute_result"
    }
   ],
   "source": [
    "df[df['consumption_comb'] < 3].consumption_comb.value_counts(dropna=False)"
   ]
  },
  {
   "cell_type": "code",
   "execution_count": 167,
   "metadata": {
    "ExecuteTime": {
     "end_time": "2022-08-03T11:53:12.087444Z",
     "start_time": "2022-08-03T11:53:12.063447Z"
    }
   },
   "outputs": [],
   "source": [
    "df.consumption_comb.loc[df.consumption_comb < 3] = np.nan"
   ]
  },
  {
   "cell_type": "code",
   "execution_count": 168,
   "metadata": {
    "ExecuteTime": {
     "end_time": "2022-08-03T11:53:55.317655Z",
     "start_time": "2022-08-03T11:53:55.294661Z"
    }
   },
   "outputs": [],
   "source": [
    "df[\"consumption_comb\"] = df[\"consumption_comb\"].fillna(df.groupby(\"make_model\")[\"consumption_comb\"].transform(\"median\"))"
   ]
  },
  {
   "cell_type": "code",
   "execution_count": 169,
   "metadata": {
    "ExecuteTime": {
     "end_time": "2022-08-03T11:54:07.083050Z",
     "start_time": "2022-08-03T11:54:07.056053Z"
    }
   },
   "outputs": [
    {
     "data": {
      "text/plain": [
       "Series([], Name: consumption_comb, dtype: int64)"
      ]
     },
     "execution_count": 169,
     "metadata": {},
     "output_type": "execute_result"
    }
   ],
   "source": [
    "df[df['consumption_comb'] < 3].consumption_comb.value_counts(dropna=False)"
   ]
  },
  {
   "cell_type": "code",
   "execution_count": 176,
   "metadata": {
    "ExecuteTime": {
     "end_time": "2022-08-03T11:56:22.818108Z",
     "start_time": "2022-08-03T11:56:21.830110Z"
    }
   },
   "outputs": [
    {
     "data": {
      "image/png": "[encoded data removed]",
      "text/plain": [
       "<Figure size 720x432 with 1 Axes>"
      ]
     },
     "metadata": {},
     "output_type": "display_data"
    }
   ],
   "source": [
    "ax = sns.boxplot(x=df[\"consumption_comb\"])"
   ]
  },
  {
   "cell_type": "code",
   "execution_count": null,
   "metadata": {},
   "outputs": [],
   "source": [
    "\n",
    "\n",
    "\n"
   ]
  },
  {
   "cell_type": "markdown",
   "metadata": {},
   "source": [
    "## co_2_emission_g_by_km"
   ]
  },
  {
   "cell_type": "code",
   "execution_count": 180,
   "metadata": {
    "ExecuteTime": {
     "end_time": "2022-08-03T11:58:30.193942Z",
     "start_time": "2022-08-03T11:58:30.127944Z"
    }
   },
   "outputs": [
    {
     "name": "stdout",
     "output_type": "stream",
     "text": [
      "column name    :  co_2_emission_g_by_km\n",
      "--------------------------------\n",
      "per_of_nulls   :  % 0.0\n",
      "num_of_nulls   :  0\n",
      "num_of_uniques :  124\n",
      "--------------------------------\n",
      "120.00      1000\n",
      "104.00       782\n",
      "97.00        631\n",
      "99.00        593\n",
      "124.00       574\n",
      "            ... \n",
      "80.00          1\n",
      "51.00          1\n",
      "165.00         1\n",
      "12324.00       1\n",
      "193.00         1\n",
      "Name: co_2_emission_g_by_km, Length: 124, dtype: int64\n"
     ]
    }
   ],
   "source": [
    "first_looking(\"co_2_emission_g_by_km\")"
   ]
  },
  {
   "cell_type": "code",
   "execution_count": 181,
   "metadata": {
    "ExecuteTime": {
     "end_time": "2022-08-03T11:59:11.049084Z",
     "start_time": "2022-08-03T11:59:11.021088Z"
    }
   },
   "outputs": [
    {
     "data": {
      "text/plain": [
       "count   15919.00\n",
       "mean      122.63\n",
       "std       248.53\n",
       "min         0.00\n",
       "25%       104.00\n",
       "50%       117.00\n",
       "75%       129.00\n",
       "max     14457.00\n",
       "Name: co_2_emission_g_by_km, dtype: float64"
      ]
     },
     "execution_count": 181,
     "metadata": {},
     "output_type": "execute_result"
    }
   ],
   "source": [
    "df.co_2_emission_g_by_km.describe()"
   ]
  },
  {
   "cell_type": "code",
   "execution_count": 184,
   "metadata": {
    "ExecuteTime": {
     "end_time": "2022-08-03T12:01:10.818196Z",
     "start_time": "2022-08-03T12:01:10.772197Z"
    }
   },
   "outputs": [
    {
     "data": {
      "text/plain": [
       "8217     0.00\n",
       "10566    0.00\n",
       "14902    1.00\n",
       "6397     5.00\n",
       "13008    5.00\n",
       "11553    5.00\n",
       "8110    14.00\n",
       "3615    36.00\n",
       "3617    36.00\n",
       "3612    36.00\n",
       "12547   45.00\n",
       "9798    51.00\n",
       "7857    80.00\n",
       "14131   82.00\n",
       "13716   82.00\n",
       "13668   82.00\n",
       "13518   82.00\n",
       "13417   82.00\n",
       "8904    82.00\n",
       "8874    82.00\n",
       "Name: co_2_emission_g_by_km, dtype: float64"
      ]
     },
     "execution_count": 184,
     "metadata": {},
     "output_type": "execute_result"
    }
   ],
   "source": [
    "df.sort_values(by=[\"co_2_emission_g_by_km\"], ascending=True)[\"co_2_emission_g_by_km\"].head(20)"
   ]
  },
  {
   "cell_type": "code",
   "execution_count": 185,
   "metadata": {
    "ExecuteTime": {
     "end_time": "2022-08-03T12:01:27.456833Z",
     "start_time": "2022-08-03T12:01:26.696178Z"
    }
   },
   "outputs": [
    {
     "data": {
      "image/png": "[encoded data removed]",
      "text/plain": [
       "<Figure size 720x432 with 1 Axes>"
      ]
     },
     "metadata": {},
     "output_type": "display_data"
    }
   ],
   "source": [
    "ax = sns.boxplot(x=df[\"co_2_emission_g_by_km\"])"
   ]
  },
  {
   "cell_type": "code",
   "execution_count": 187,
   "metadata": {
    "ExecuteTime": {
     "end_time": "2022-08-03T12:02:59.707387Z",
     "start_time": "2022-08-03T12:02:59.677393Z"
    }
   },
   "outputs": [
    {
     "data": {
      "text/plain": [
       "36.00    3\n",
       "5.00     3\n",
       "0.00     2\n",
       "14.00    1\n",
       "51.00    1\n",
       "45.00    1\n",
       "1.00     1\n",
       "Name: co_2_emission_g_by_km, dtype: int64"
      ]
     },
     "execution_count": 187,
     "metadata": {},
     "output_type": "execute_result"
    }
   ],
   "source": [
    "df[df['co_2_emission_g_by_km'] < 80].co_2_emission_g_by_km.value_counts(dropna=False)"
   ]
  },
  {
   "cell_type": "code",
   "execution_count": 188,
   "metadata": {
    "ExecuteTime": {
     "end_time": "2022-08-03T12:04:05.191037Z",
     "start_time": "2022-08-03T12:04:05.168047Z"
    }
   },
   "outputs": [],
   "source": [
    "df.co_2_emission_g_by_km.loc[df.co_2_emission_g_by_km < 80] = np.nan"
   ]
  },
  {
   "cell_type": "code",
   "execution_count": 189,
   "metadata": {
    "ExecuteTime": {
     "end_time": "2022-08-03T12:04:30.268870Z",
     "start_time": "2022-08-03T12:04:30.210873Z"
    }
   },
   "outputs": [
    {
     "data": {
      "text/plain": [
       "11888   14457.00\n",
       "12343   13983.00\n",
       "8542    12324.00\n",
       "5818    12087.00\n",
       "6578    12087.00\n",
       "6579    12087.00\n",
       "4089     1060.00\n",
       "4556      990.00\n",
       "535       331.00\n",
       "10513     253.00\n",
       "10771     239.00\n",
       "12054     199.00\n",
       "12529     199.00\n",
       "10789     197.00\n",
       "12422     197.00\n",
       "12553     197.00\n",
       "12530     197.00\n",
       "3590      194.00\n",
       "15846     194.00\n",
       "10515     194.00\n",
       "Name: co_2_emission_g_by_km, dtype: float64"
      ]
     },
     "execution_count": 189,
     "metadata": {},
     "output_type": "execute_result"
    }
   ],
   "source": [
    "df.sort_values(by=[\"co_2_emission_g_by_km\"], ascending=False)[\"co_2_emission_g_by_km\"].head(20)"
   ]
  },
  {
   "cell_type": "code",
   "execution_count": 195,
   "metadata": {
    "ExecuteTime": {
     "end_time": "2022-08-03T12:08:14.744105Z",
     "start_time": "2022-08-03T12:08:14.723112Z"
    }
   },
   "outputs": [],
   "source": [
    "df.co_2_emission_g_by_km.loc[df.co_2_emission_g_by_km > 200] = np.nan"
   ]
  },
  {
   "cell_type": "code",
   "execution_count": 192,
   "metadata": {
    "ExecuteTime": {
     "end_time": "2022-08-03T12:06:36.341654Z",
     "start_time": "2022-08-03T12:06:36.318656Z"
    }
   },
   "outputs": [
    {
     "data": {
      "text/plain": [
       "21"
      ]
     },
     "execution_count": 192,
     "metadata": {},
     "output_type": "execute_result"
    }
   ],
   "source": [
    "df.co_2_emission_g_by_km.isnull().sum()"
   ]
  },
  {
   "cell_type": "code",
   "execution_count": 196,
   "metadata": {
    "ExecuteTime": {
     "end_time": "2022-08-03T12:08:23.361662Z",
     "start_time": "2022-08-03T12:08:23.341666Z"
    }
   },
   "outputs": [],
   "source": [
    "df[\"co_2_emission_g_by_km\"] = df[\"co_2_emission_g_by_km\"].fillna(df.groupby(\"make_model\")[\"co_2_emission_g_by_km\"].transform(\"median\"))"
   ]
  },
  {
   "cell_type": "code",
   "execution_count": 197,
   "metadata": {
    "ExecuteTime": {
     "end_time": "2022-08-03T12:08:28.222190Z",
     "start_time": "2022-08-03T12:08:27.392191Z"
    }
   },
   "outputs": [
    {
     "data": {
      "image/png": "[encoded data removed]",
      "text/plain": [
       "<Figure size 720x432 with 1 Axes>"
      ]
     },
     "metadata": {},
     "output_type": "display_data"
    }
   ],
   "source": [
    "ax = sns.boxplot(x=df[\"co_2_emission_g_by_km\"])"
   ]
  },
  {
   "cell_type": "code",
   "execution_count": null,
   "metadata": {},
   "outputs": [],
   "source": []
  },
  {
   "cell_type": "code",
   "execution_count": null,
   "metadata": {},
   "outputs": [],
   "source": []
  },
  {
   "cell_type": "code",
   "execution_count": null,
   "metadata": {},
   "outputs": [],
   "source": []
  },
  {
   "cell_type": "code",
   "execution_count": null,
   "metadata": {},
   "outputs": [],
   "source": []
  },
  {
   "cell_type": "code",
   "execution_count": 200,
   "metadata": {
    "ExecuteTime": {
     "end_time": "2022-08-03T12:24:38.579880Z",
     "start_time": "2022-08-03T12:24:38.561884Z"
    }
   },
   "outputs": [
    {
     "data": {
      "text/plain": [
       "(15919, 25)"
      ]
     },
     "execution_count": 200,
     "metadata": {},
     "output_type": "execute_result"
    }
   ],
   "source": [
    "df.shape"
   ]
  },
  {
   "cell_type": "code",
   "execution_count": 199,
   "metadata": {
    "ExecuteTime": {
     "end_time": "2022-08-03T12:24:27.026945Z",
     "start_time": "2022-08-03T12:24:26.976942Z"
    }
   },
   "outputs": [
    {
     "data": {
      "text/html": [
       "<div>\n",
       "<style scoped>\n",
       "    .dataframe tbody tr th:only-of-type {\n",
       "        vertical-align: middle;\n",
       "    }\n",
       "\n",
       "    .dataframe tbody tr th {\n",
       "        vertical-align: top;\n",
       "    }\n",
       "\n",
       "    .dataframe thead th {\n",
       "        text-align: right;\n",
       "    }\n",
       "</style>\n",
       "<table border=\"1\" class=\"dataframe\">\n",
       "  <thead>\n",
       "    <tr style=\"text-align: right;\">\n",
       "      <th></th>\n",
       "      <th>0</th>\n",
       "      <th>1</th>\n",
       "      <th>2</th>\n",
       "    </tr>\n",
       "  </thead>\n",
       "  <tbody>\n",
       "    <tr>\n",
       "      <th>make_model</th>\n",
       "      <td>Audi A1</td>\n",
       "      <td>Audi A1</td>\n",
       "      <td>Audi A1</td>\n",
       "    </tr>\n",
       "    <tr>\n",
       "      <th>body_type</th>\n",
       "      <td>Sedans</td>\n",
       "      <td>Sedans</td>\n",
       "      <td>Sedans</td>\n",
       "    </tr>\n",
       "    <tr>\n",
       "      <th>price</th>\n",
       "      <td>15770</td>\n",
       "      <td>14500</td>\n",
       "      <td>14640</td>\n",
       "    </tr>\n",
       "    <tr>\n",
       "      <th>vat</th>\n",
       "      <td>VAT deductible</td>\n",
       "      <td>Price negotiable</td>\n",
       "      <td>VAT deductible</td>\n",
       "    </tr>\n",
       "    <tr>\n",
       "      <th>km</th>\n",
       "      <td>56013.00</td>\n",
       "      <td>80000.00</td>\n",
       "      <td>83450.00</td>\n",
       "    </tr>\n",
       "    <tr>\n",
       "      <th>hp</th>\n",
       "      <td>66.00</td>\n",
       "      <td>141.00</td>\n",
       "      <td>85.00</td>\n",
       "    </tr>\n",
       "    <tr>\n",
       "      <th>type</th>\n",
       "      <td>Used</td>\n",
       "      <td>Used</td>\n",
       "      <td>Used</td>\n",
       "    </tr>\n",
       "    <tr>\n",
       "      <th>paint_type</th>\n",
       "      <td>Metallic</td>\n",
       "      <td>Metallic</td>\n",
       "      <td>Metallic</td>\n",
       "    </tr>\n",
       "    <tr>\n",
       "      <th>nr_of_doors</th>\n",
       "      <td>5.00</td>\n",
       "      <td>3.00</td>\n",
       "      <td>4.00</td>\n",
       "    </tr>\n",
       "    <tr>\n",
       "      <th>nr_of_seats</th>\n",
       "      <td>5.00</td>\n",
       "      <td>4.00</td>\n",
       "      <td>4.00</td>\n",
       "    </tr>\n",
       "    <tr>\n",
       "      <th>gearing_type</th>\n",
       "      <td>Automatic</td>\n",
       "      <td>Automatic</td>\n",
       "      <td>Automatic</td>\n",
       "    </tr>\n",
       "    <tr>\n",
       "      <th>drive_chain</th>\n",
       "      <td>front</td>\n",
       "      <td>front</td>\n",
       "      <td>front</td>\n",
       "    </tr>\n",
       "    <tr>\n",
       "      <th>fuel</th>\n",
       "      <td>Diesel</td>\n",
       "      <td>Benzine</td>\n",
       "      <td>Diesel</td>\n",
       "    </tr>\n",
       "    <tr>\n",
       "      <th>emission_class</th>\n",
       "      <td>Euro 6</td>\n",
       "      <td>Euro 6</td>\n",
       "      <td>Euro 6</td>\n",
       "    </tr>\n",
       "    <tr>\n",
       "      <th>comfort_convenience</th>\n",
       "      <td>Air conditioning,Armrest,Automatic climate con...</td>\n",
       "      <td>Air conditioning,Automatic climate control,Hil...</td>\n",
       "      <td>Air conditioning,Cruise control,Electrical sid...</td>\n",
       "    </tr>\n",
       "    <tr>\n",
       "      <th>entertainment_media</th>\n",
       "      <td>Bluetooth,Hands-free equipment,On-board comput...</td>\n",
       "      <td>Bluetooth,Hands-free equipment,On-board comput...</td>\n",
       "      <td>MP3,On-board computer</td>\n",
       "    </tr>\n",
       "    <tr>\n",
       "      <th>extras</th>\n",
       "      <td>Alloy wheels,Catalytic Converter,Voice Control</td>\n",
       "      <td>Alloy wheels,Sport seats,Sport suspension,Voic...</td>\n",
       "      <td>Alloy wheels,Voice Control</td>\n",
       "    </tr>\n",
       "    <tr>\n",
       "      <th>safety_security</th>\n",
       "      <td>ABS,Central door lock,Daytime running lights,D...</td>\n",
       "      <td>ABS,Central door lock,Central door lock with r...</td>\n",
       "      <td>ABS,Central door lock,Daytime running lights,D...</td>\n",
       "    </tr>\n",
       "    <tr>\n",
       "      <th>gears</th>\n",
       "      <td>5.00</td>\n",
       "      <td>7.00</td>\n",
       "      <td>5.00</td>\n",
       "    </tr>\n",
       "    <tr>\n",
       "      <th>age</th>\n",
       "      <td>3.00</td>\n",
       "      <td>2.00</td>\n",
       "      <td>3.00</td>\n",
       "    </tr>\n",
       "    <tr>\n",
       "      <th>displacement_cc</th>\n",
       "      <td>1422.00</td>\n",
       "      <td>1798.00</td>\n",
       "      <td>1598.00</td>\n",
       "    </tr>\n",
       "    <tr>\n",
       "      <th>weight_kg</th>\n",
       "      <td>1220.00</td>\n",
       "      <td>1255.00</td>\n",
       "      <td>1135.00</td>\n",
       "    </tr>\n",
       "    <tr>\n",
       "      <th>upholstery_type</th>\n",
       "      <td>Cloth</td>\n",
       "      <td>Cloth</td>\n",
       "      <td>Cloth</td>\n",
       "    </tr>\n",
       "    <tr>\n",
       "      <th>consumption_comb</th>\n",
       "      <td>3.80</td>\n",
       "      <td>5.60</td>\n",
       "      <td>3.80</td>\n",
       "    </tr>\n",
       "    <tr>\n",
       "      <th>co_2_emission_g_by_km</th>\n",
       "      <td>99.00</td>\n",
       "      <td>129.00</td>\n",
       "      <td>99.00</td>\n",
       "    </tr>\n",
       "  </tbody>\n",
       "</table>\n",
       "</div>"
      ],
      "text/plain": [
       "                                                                       0  \\\n",
       "make_model                                                       Audi A1   \n",
       "body_type                                                         Sedans   \n",
       "price                                                              15770   \n",
       "vat                                                       VAT deductible   \n",
       "km                                                              56013.00   \n",
       "hp                                                                 66.00   \n",
       "type                                                                Used   \n",
       "paint_type                                                      Metallic   \n",
       "nr_of_doors                                                         5.00   \n",
       "nr_of_seats                                                         5.00   \n",
       "gearing_type                                                   Automatic   \n",
       "drive_chain                                                        front   \n",
       "fuel                                                              Diesel   \n",
       "emission_class                                                    Euro 6   \n",
       "comfort_convenience    Air conditioning,Armrest,Automatic climate con...   \n",
       "entertainment_media    Bluetooth,Hands-free equipment,On-board comput...   \n",
       "extras                    Alloy wheels,Catalytic Converter,Voice Control   \n",
       "safety_security        ABS,Central door lock,Daytime running lights,D...   \n",
       "gears                                                               5.00   \n",
       "age                                                                 3.00   \n",
       "displacement_cc                                                  1422.00   \n",
       "weight_kg                                                        1220.00   \n",
       "upholstery_type                                                    Cloth   \n",
       "consumption_comb                                                    3.80   \n",
       "co_2_emission_g_by_km                                              99.00   \n",
       "\n",
       "                                                                       1  \\\n",
       "make_model                                                       Audi A1   \n",
       "body_type                                                         Sedans   \n",
       "price                                                              14500   \n",
       "vat                                                     Price negotiable   \n",
       "km                                                              80000.00   \n",
       "hp                                                                141.00   \n",
       "type                                                                Used   \n",
       "paint_type                                                      Metallic   \n",
       "nr_of_doors                                                         3.00   \n",
       "nr_of_seats                                                         4.00   \n",
       "gearing_type                                                   Automatic   \n",
       "drive_chain                                                        front   \n",
       "fuel                                                             Benzine   \n",
       "emission_class                                                    Euro 6   \n",
       "comfort_convenience    Air conditioning,Automatic climate control,Hil...   \n",
       "entertainment_media    Bluetooth,Hands-free equipment,On-board comput...   \n",
       "extras                 Alloy wheels,Sport seats,Sport suspension,Voic...   \n",
       "safety_security        ABS,Central door lock,Central door lock with r...   \n",
       "gears                                                               7.00   \n",
       "age                                                                 2.00   \n",
       "displacement_cc                                                  1798.00   \n",
       "weight_kg                                                        1255.00   \n",
       "upholstery_type                                                    Cloth   \n",
       "consumption_comb                                                    5.60   \n",
       "co_2_emission_g_by_km                                             129.00   \n",
       "\n",
       "                                                                       2  \n",
       "make_model                                                       Audi A1  \n",
       "body_type                                                         Sedans  \n",
       "price                                                              14640  \n",
       "vat                                                       VAT deductible  \n",
       "km                                                              83450.00  \n",
       "hp                                                                 85.00  \n",
       "type                                                                Used  \n",
       "paint_type                                                      Metallic  \n",
       "nr_of_doors                                                         4.00  \n",
       "nr_of_seats                                                         4.00  \n",
       "gearing_type                                                   Automatic  \n",
       "drive_chain                                                        front  \n",
       "fuel                                                              Diesel  \n",
       "emission_class                                                    Euro 6  \n",
       "comfort_convenience    Air conditioning,Cruise control,Electrical sid...  \n",
       "entertainment_media                                MP3,On-board computer  \n",
       "extras                                        Alloy wheels,Voice Control  \n",
       "safety_security        ABS,Central door lock,Daytime running lights,D...  \n",
       "gears                                                               5.00  \n",
       "age                                                                 3.00  \n",
       "displacement_cc                                                  1598.00  \n",
       "weight_kg                                                        1135.00  \n",
       "upholstery_type                                                    Cloth  \n",
       "consumption_comb                                                    3.80  \n",
       "co_2_emission_g_by_km                                              99.00  "
      ]
     },
     "execution_count": 199,
     "metadata": {},
     "output_type": "execute_result"
    }
   ],
   "source": [
    "df.head(3).T"
   ]
  },
  {
   "cell_type": "code",
   "execution_count": null,
   "metadata": {},
   "outputs": [],
   "source": [
    "\n",
    "\n",
    "\n",
    "\n",
    "\n"
   ]
  },
  {
   "cell_type": "code",
   "execution_count": null,
   "metadata": {},
   "outputs": [],
   "source": []
  },
  {
   "cell_type": "code",
   "execution_count": null,
   "metadata": {},
   "outputs": [],
   "source": []
  },
  {
   "cell_type": "code",
   "execution_count": null,
   "metadata": {},
   "outputs": [],
   "source": []
  },
  {
   "cell_type": "code",
   "execution_count": 201,
   "metadata": {
    "ExecuteTime": {
     "end_time": "2022-08-03T12:38:57.405100Z",
     "start_time": "2022-08-03T12:38:56.093628Z"
    }
   },
   "outputs": [],
   "source": [
    "df.to_csv(\"cleaned_scout_car_3.csv\", index=False)\n",
    "\n",
    "# saving the cleaned data as csv file."
   ]
  },
  {
   "cell_type": "code",
   "execution_count": null,
   "metadata": {},
   "outputs": [],
   "source": []
  },
  {
   "cell_type": "markdown",
   "metadata": {
    "ExecuteTime": {
     "end_time": "2022-08-02T15:42:09.138129Z",
     "start_time": "2022-08-02T15:42:09.110139Z"
    }
   },
   "source": [
    "## <p style=\"background-color:#FDFEFE; font-family:newtimeroman; color:#9d4f8c; font-size:150%; text-align:center; border-radius:10px 10px;\">The End of Handling With Outliers (Part - 03)</p>\n",
    "\n",
    "<a id=\"4\"></a>\n",
    "<a href=\"#toc\" class=\"btn btn-primary btn-sm\" role=\"button\" aria-pressed=\"true\" \n",
    "style=\"color:blue; background-color:#dfa8e4\" data-toggle=\"popover\"></a>"
   ]
  },
  {
   "cell_type": "code",
   "execution_count": null,
   "metadata": {},
   "outputs": [],
   "source": []
  },
  {
   "cell_type": "code",
   "execution_count": 203,
   "metadata": {
    "ExecuteTime": {
     "end_time": "2022-08-03T12:43:04.802804Z",
     "start_time": "2022-08-03T12:43:01.032769Z"
    }
   },
   "outputs": [
    {
     "data": {
      "image/png": "[encoded data removed]",
      "text/plain": [
       "<Figure size 1152x864 with 2 Axes>"
      ]
     },
     "metadata": {},
     "output_type": "display_data"
    }
   ],
   "source": [
    "plt.figure(figsize=(16, 12))\n",
    "\n",
    "sns.heatmap(df.corr(), annot=True, cmap=\"Blues\", linewidths=0.2, annot_kws={\"size\": 16});"
   ]
  },
  {
   "cell_type": "code",
   "execution_count": null,
   "metadata": {
    "id": "WDZnqBhbs1ME"
   },
   "outputs": [],
   "source": []
  },
  {
   "cell_type": "markdown",
   "metadata": {
    "id": "EKxmsgfts1MG"
   },
   "source": [
    "# Final Step (Checking final situation of data via graphs)"
   ]
  },
  {
   "cell_type": "code",
   "execution_count": null,
   "metadata": {
    "id": "8mgL_Bd0s1MG"
   },
   "outputs": [],
   "source": []
  },
  {
   "cell_type": "markdown",
   "metadata": {
    "id": "2PgUVPoes1MH"
   },
   "source": [
    "## Export dataframe to csv file (without dummy)"
   ]
  },
  {
   "cell_type": "code",
   "execution_count": null,
   "metadata": {
    "id": "Byg_o2ZMs1MI"
   },
   "outputs": [],
   "source": [
    "df.to_csv(\"final_scout_not_dummy.csv\", index=False)"
   ]
  },
  {
   "cell_type": "markdown",
   "metadata": {
    "id": "hrw9hr-3s1MJ"
   },
   "source": [
    "# Dummy Operation"
   ]
  },
  {
   "cell_type": "code",
   "execution_count": null,
   "metadata": {
    "id": "faDyWTC9s1MJ"
   },
   "outputs": [],
   "source": []
  },
  {
   "cell_type": "markdown",
   "metadata": {
    "id": "DUOdihlqs1MJ"
   },
   "source": [
    "## Export dataframe to csv file (dummy)"
   ]
  },
  {
   "cell_type": "code",
   "execution_count": null,
   "metadata": {
    "id": "IJT7Yl1Us1MK"
   },
   "outputs": [],
   "source": [
    "df_dummied.to_csv(\"final_scout_dummy.csv\", index=False)"
   ]
  }
 ],
 "metadata": {
  "colab": {
   "name": "DAwPy-Capstone_Project_(AutoScout)_Student.ipynb",
   "provenance": []
  },
  "kernelspec": {
   "display_name": "Python 3 (ipykernel)",
   "language": "python",
   "name": "python3"
  },
  "language_info": {
   "codemirror_mode": {
    "name": "ipython",
    "version": 3
   },
   "file_extension": ".py",
   "mimetype": "text/x-python",
   "name": "python",
   "nbconvert_exporter": "python",
   "pygments_lexer": "ipython3",
   "version": "3.9.7"
  },
  "toc": {
   "base_numbering": 1,
   "nav_menu": {},
   "number_sections": false,
   "sideBar": true,
   "skip_h1_title": false,
   "title_cell": "Table of Contents",
   "title_sidebar": "Contents",
   "toc_cell": false,
   "toc_position": {},
   "toc_section_display": true,
   "toc_window_display": false
  }
 },
 "nbformat": 4,
 "nbformat_minor": 1
}
